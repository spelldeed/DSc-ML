{
 "cells": [
  {
   "cell_type": "markdown",
   "metadata": {
    "toc": true
   },
   "source": [
    "<h1>Table of Contents<span class=\"tocSkip\"></span></h1>\n",
    "<div class=\"toc\"><ul class=\"toc-item\"><li><span><a href=\"#Data-Analysis\" data-toc-modified-id=\"Data-Analysis-1\"><span class=\"toc-item-num\">1&nbsp;&nbsp;</span>Data Analysis</a></span></li><li><span><a href=\"#Check-for-outliers\" data-toc-modified-id=\"Check-for-outliers-2\"><span class=\"toc-item-num\">2&nbsp;&nbsp;</span>Check for outliers</a></span></li><li><span><a href=\"#FEATURE-IMPORTANCE\" data-toc-modified-id=\"FEATURE-IMPORTANCE-3\"><span class=\"toc-item-num\">3&nbsp;&nbsp;</span>FEATURE IMPORTANCE</a></span></li><li><span><a href=\"#MODEL-SELECTION-AND-TRAINING\" data-toc-modified-id=\"MODEL-SELECTION-AND-TRAINING-4\"><span class=\"toc-item-num\">4&nbsp;&nbsp;</span>MODEL SELECTION AND TRAINING</a></span></li><li><span><a href=\"#TEST-DATA-RESULTS\" data-toc-modified-id=\"TEST-DATA-RESULTS-5\"><span class=\"toc-item-num\">5&nbsp;&nbsp;</span>TEST DATA RESULTS</a></span></li><li><span><a href=\"#REPORT\" data-toc-modified-id=\"REPORT-6\"><span class=\"toc-item-num\">6&nbsp;&nbsp;</span>REPORT</a></span></li></ul></div>"
   ]
  },
  {
   "cell_type": "code",
   "execution_count": 1,
   "metadata": {},
   "outputs": [],
   "source": [
    "import pandas as pd\n",
    "import numpy as np"
   ]
  },
  {
   "cell_type": "code",
   "execution_count": 2,
   "metadata": {},
   "outputs": [],
   "source": [
    "df=pd.read_csv('https://archive.ics.uci.edu/ml/machine-learning-databases/iris/iris.data')"
   ]
  },
  {
   "cell_type": "code",
   "execution_count": 3,
   "metadata": {},
   "outputs": [
    {
     "data": {
      "text/html": [
       "<div>\n",
       "<style scoped>\n",
       "    .dataframe tbody tr th:only-of-type {\n",
       "        vertical-align: middle;\n",
       "    }\n",
       "\n",
       "    .dataframe tbody tr th {\n",
       "        vertical-align: top;\n",
       "    }\n",
       "\n",
       "    .dataframe thead th {\n",
       "        text-align: right;\n",
       "    }\n",
       "</style>\n",
       "<table border=\"1\" class=\"dataframe\">\n",
       "  <thead>\n",
       "    <tr style=\"text-align: right;\">\n",
       "      <th></th>\n",
       "      <th>5.1</th>\n",
       "      <th>3.5</th>\n",
       "      <th>1.4</th>\n",
       "      <th>0.2</th>\n",
       "      <th>Iris-setosa</th>\n",
       "    </tr>\n",
       "  </thead>\n",
       "  <tbody>\n",
       "    <tr>\n",
       "      <th>0</th>\n",
       "      <td>4.9</td>\n",
       "      <td>3.0</td>\n",
       "      <td>1.4</td>\n",
       "      <td>0.2</td>\n",
       "      <td>Iris-setosa</td>\n",
       "    </tr>\n",
       "    <tr>\n",
       "      <th>1</th>\n",
       "      <td>4.7</td>\n",
       "      <td>3.2</td>\n",
       "      <td>1.3</td>\n",
       "      <td>0.2</td>\n",
       "      <td>Iris-setosa</td>\n",
       "    </tr>\n",
       "    <tr>\n",
       "      <th>2</th>\n",
       "      <td>4.6</td>\n",
       "      <td>3.1</td>\n",
       "      <td>1.5</td>\n",
       "      <td>0.2</td>\n",
       "      <td>Iris-setosa</td>\n",
       "    </tr>\n",
       "    <tr>\n",
       "      <th>3</th>\n",
       "      <td>5.0</td>\n",
       "      <td>3.6</td>\n",
       "      <td>1.4</td>\n",
       "      <td>0.2</td>\n",
       "      <td>Iris-setosa</td>\n",
       "    </tr>\n",
       "    <tr>\n",
       "      <th>4</th>\n",
       "      <td>5.4</td>\n",
       "      <td>3.9</td>\n",
       "      <td>1.7</td>\n",
       "      <td>0.4</td>\n",
       "      <td>Iris-setosa</td>\n",
       "    </tr>\n",
       "    <tr>\n",
       "      <th>...</th>\n",
       "      <td>...</td>\n",
       "      <td>...</td>\n",
       "      <td>...</td>\n",
       "      <td>...</td>\n",
       "      <td>...</td>\n",
       "    </tr>\n",
       "    <tr>\n",
       "      <th>144</th>\n",
       "      <td>6.7</td>\n",
       "      <td>3.0</td>\n",
       "      <td>5.2</td>\n",
       "      <td>2.3</td>\n",
       "      <td>Iris-virginica</td>\n",
       "    </tr>\n",
       "    <tr>\n",
       "      <th>145</th>\n",
       "      <td>6.3</td>\n",
       "      <td>2.5</td>\n",
       "      <td>5.0</td>\n",
       "      <td>1.9</td>\n",
       "      <td>Iris-virginica</td>\n",
       "    </tr>\n",
       "    <tr>\n",
       "      <th>146</th>\n",
       "      <td>6.5</td>\n",
       "      <td>3.0</td>\n",
       "      <td>5.2</td>\n",
       "      <td>2.0</td>\n",
       "      <td>Iris-virginica</td>\n",
       "    </tr>\n",
       "    <tr>\n",
       "      <th>147</th>\n",
       "      <td>6.2</td>\n",
       "      <td>3.4</td>\n",
       "      <td>5.4</td>\n",
       "      <td>2.3</td>\n",
       "      <td>Iris-virginica</td>\n",
       "    </tr>\n",
       "    <tr>\n",
       "      <th>148</th>\n",
       "      <td>5.9</td>\n",
       "      <td>3.0</td>\n",
       "      <td>5.1</td>\n",
       "      <td>1.8</td>\n",
       "      <td>Iris-virginica</td>\n",
       "    </tr>\n",
       "  </tbody>\n",
       "</table>\n",
       "<p>149 rows × 5 columns</p>\n",
       "</div>"
      ],
      "text/plain": [
       "     5.1  3.5  1.4  0.2     Iris-setosa\n",
       "0    4.9  3.0  1.4  0.2     Iris-setosa\n",
       "1    4.7  3.2  1.3  0.2     Iris-setosa\n",
       "2    4.6  3.1  1.5  0.2     Iris-setosa\n",
       "3    5.0  3.6  1.4  0.2     Iris-setosa\n",
       "4    5.4  3.9  1.7  0.4     Iris-setosa\n",
       "..   ...  ...  ...  ...             ...\n",
       "144  6.7  3.0  5.2  2.3  Iris-virginica\n",
       "145  6.3  2.5  5.0  1.9  Iris-virginica\n",
       "146  6.5  3.0  5.2  2.0  Iris-virginica\n",
       "147  6.2  3.4  5.4  2.3  Iris-virginica\n",
       "148  5.9  3.0  5.1  1.8  Iris-virginica\n",
       "\n",
       "[149 rows x 5 columns]"
      ]
     },
     "execution_count": 3,
     "metadata": {},
     "output_type": "execute_result"
    }
   ],
   "source": [
    "df"
   ]
  },
  {
   "cell_type": "code",
   "execution_count": 4,
   "metadata": {},
   "outputs": [
    {
     "data": {
      "text/html": [
       "<div>\n",
       "<style scoped>\n",
       "    .dataframe tbody tr th:only-of-type {\n",
       "        vertical-align: middle;\n",
       "    }\n",
       "\n",
       "    .dataframe tbody tr th {\n",
       "        vertical-align: top;\n",
       "    }\n",
       "\n",
       "    .dataframe thead th {\n",
       "        text-align: right;\n",
       "    }\n",
       "</style>\n",
       "<table border=\"1\" class=\"dataframe\">\n",
       "  <thead>\n",
       "    <tr style=\"text-align: right;\">\n",
       "      <th></th>\n",
       "      <th>sepal_l</th>\n",
       "      <th>sepal_w</th>\n",
       "      <th>petal_l</th>\n",
       "      <th>petal_w</th>\n",
       "      <th>class</th>\n",
       "    </tr>\n",
       "  </thead>\n",
       "  <tbody>\n",
       "    <tr>\n",
       "      <th>0</th>\n",
       "      <td>4.9</td>\n",
       "      <td>3.0</td>\n",
       "      <td>1.4</td>\n",
       "      <td>0.2</td>\n",
       "      <td>Iris-setosa</td>\n",
       "    </tr>\n",
       "    <tr>\n",
       "      <th>1</th>\n",
       "      <td>4.7</td>\n",
       "      <td>3.2</td>\n",
       "      <td>1.3</td>\n",
       "      <td>0.2</td>\n",
       "      <td>Iris-setosa</td>\n",
       "    </tr>\n",
       "    <tr>\n",
       "      <th>2</th>\n",
       "      <td>4.6</td>\n",
       "      <td>3.1</td>\n",
       "      <td>1.5</td>\n",
       "      <td>0.2</td>\n",
       "      <td>Iris-setosa</td>\n",
       "    </tr>\n",
       "    <tr>\n",
       "      <th>3</th>\n",
       "      <td>5.0</td>\n",
       "      <td>3.6</td>\n",
       "      <td>1.4</td>\n",
       "      <td>0.2</td>\n",
       "      <td>Iris-setosa</td>\n",
       "    </tr>\n",
       "    <tr>\n",
       "      <th>4</th>\n",
       "      <td>5.4</td>\n",
       "      <td>3.9</td>\n",
       "      <td>1.7</td>\n",
       "      <td>0.4</td>\n",
       "      <td>Iris-setosa</td>\n",
       "    </tr>\n",
       "    <tr>\n",
       "      <th>...</th>\n",
       "      <td>...</td>\n",
       "      <td>...</td>\n",
       "      <td>...</td>\n",
       "      <td>...</td>\n",
       "      <td>...</td>\n",
       "    </tr>\n",
       "    <tr>\n",
       "      <th>145</th>\n",
       "      <td>6.3</td>\n",
       "      <td>2.5</td>\n",
       "      <td>5.0</td>\n",
       "      <td>1.9</td>\n",
       "      <td>Iris-virginica</td>\n",
       "    </tr>\n",
       "    <tr>\n",
       "      <th>146</th>\n",
       "      <td>6.5</td>\n",
       "      <td>3.0</td>\n",
       "      <td>5.2</td>\n",
       "      <td>2.0</td>\n",
       "      <td>Iris-virginica</td>\n",
       "    </tr>\n",
       "    <tr>\n",
       "      <th>147</th>\n",
       "      <td>6.2</td>\n",
       "      <td>3.4</td>\n",
       "      <td>5.4</td>\n",
       "      <td>2.3</td>\n",
       "      <td>Iris-virginica</td>\n",
       "    </tr>\n",
       "    <tr>\n",
       "      <th>148</th>\n",
       "      <td>5.9</td>\n",
       "      <td>3.0</td>\n",
       "      <td>5.1</td>\n",
       "      <td>1.8</td>\n",
       "      <td>Iris-virginica</td>\n",
       "    </tr>\n",
       "    <tr>\n",
       "      <th>149</th>\n",
       "      <td>5.1</td>\n",
       "      <td>3.5</td>\n",
       "      <td>1.4</td>\n",
       "      <td>0.2</td>\n",
       "      <td>Iris-setosa</td>\n",
       "    </tr>\n",
       "  </tbody>\n",
       "</table>\n",
       "<p>150 rows × 5 columns</p>\n",
       "</div>"
      ],
      "text/plain": [
       "     sepal_l  sepal_w  petal_l  petal_w           class\n",
       "0        4.9      3.0      1.4      0.2     Iris-setosa\n",
       "1        4.7      3.2      1.3      0.2     Iris-setosa\n",
       "2        4.6      3.1      1.5      0.2     Iris-setosa\n",
       "3        5.0      3.6      1.4      0.2     Iris-setosa\n",
       "4        5.4      3.9      1.7      0.4     Iris-setosa\n",
       "..       ...      ...      ...      ...             ...\n",
       "145      6.3      2.5      5.0      1.9  Iris-virginica\n",
       "146      6.5      3.0      5.2      2.0  Iris-virginica\n",
       "147      6.2      3.4      5.4      2.3  Iris-virginica\n",
       "148      5.9      3.0      5.1      1.8  Iris-virginica\n",
       "149      5.1      3.5      1.4      0.2     Iris-setosa\n",
       "\n",
       "[150 rows x 5 columns]"
      ]
     },
     "execution_count": 4,
     "metadata": {},
     "output_type": "execute_result"
    }
   ],
   "source": [
    "df.columns=['sepal_l','sepal_w','petal_l','petal_w','class']\n",
    "df.loc[len(df.index)]=[5.1,3.5,1.4,0.2,'Iris-setosa']\n",
    "df"
   ]
  },
  {
   "cell_type": "markdown",
   "metadata": {},
   "source": [
    "# Data Analysis"
   ]
  },
  {
   "cell_type": "code",
   "execution_count": 5,
   "metadata": {},
   "outputs": [
    {
     "data": {
      "text/html": [
       "<div>\n",
       "<style scoped>\n",
       "    .dataframe tbody tr th:only-of-type {\n",
       "        vertical-align: middle;\n",
       "    }\n",
       "\n",
       "    .dataframe tbody tr th {\n",
       "        vertical-align: top;\n",
       "    }\n",
       "\n",
       "    .dataframe thead th {\n",
       "        text-align: right;\n",
       "    }\n",
       "</style>\n",
       "<table border=\"1\" class=\"dataframe\">\n",
       "  <thead>\n",
       "    <tr style=\"text-align: right;\">\n",
       "      <th></th>\n",
       "      <th>sepal_l</th>\n",
       "      <th>sepal_w</th>\n",
       "      <th>petal_l</th>\n",
       "      <th>petal_w</th>\n",
       "    </tr>\n",
       "  </thead>\n",
       "  <tbody>\n",
       "    <tr>\n",
       "      <th>count</th>\n",
       "      <td>150.000000</td>\n",
       "      <td>150.000000</td>\n",
       "      <td>150.000000</td>\n",
       "      <td>150.000000</td>\n",
       "    </tr>\n",
       "    <tr>\n",
       "      <th>mean</th>\n",
       "      <td>5.843333</td>\n",
       "      <td>3.054000</td>\n",
       "      <td>3.758667</td>\n",
       "      <td>1.198667</td>\n",
       "    </tr>\n",
       "    <tr>\n",
       "      <th>std</th>\n",
       "      <td>0.828066</td>\n",
       "      <td>0.433594</td>\n",
       "      <td>1.764420</td>\n",
       "      <td>0.763161</td>\n",
       "    </tr>\n",
       "    <tr>\n",
       "      <th>min</th>\n",
       "      <td>4.300000</td>\n",
       "      <td>2.000000</td>\n",
       "      <td>1.000000</td>\n",
       "      <td>0.100000</td>\n",
       "    </tr>\n",
       "    <tr>\n",
       "      <th>25%</th>\n",
       "      <td>5.100000</td>\n",
       "      <td>2.800000</td>\n",
       "      <td>1.600000</td>\n",
       "      <td>0.300000</td>\n",
       "    </tr>\n",
       "    <tr>\n",
       "      <th>50%</th>\n",
       "      <td>5.800000</td>\n",
       "      <td>3.000000</td>\n",
       "      <td>4.350000</td>\n",
       "      <td>1.300000</td>\n",
       "    </tr>\n",
       "    <tr>\n",
       "      <th>75%</th>\n",
       "      <td>6.400000</td>\n",
       "      <td>3.300000</td>\n",
       "      <td>5.100000</td>\n",
       "      <td>1.800000</td>\n",
       "    </tr>\n",
       "    <tr>\n",
       "      <th>max</th>\n",
       "      <td>7.900000</td>\n",
       "      <td>4.400000</td>\n",
       "      <td>6.900000</td>\n",
       "      <td>2.500000</td>\n",
       "    </tr>\n",
       "  </tbody>\n",
       "</table>\n",
       "</div>"
      ],
      "text/plain": [
       "          sepal_l     sepal_w     petal_l     petal_w\n",
       "count  150.000000  150.000000  150.000000  150.000000\n",
       "mean     5.843333    3.054000    3.758667    1.198667\n",
       "std      0.828066    0.433594    1.764420    0.763161\n",
       "min      4.300000    2.000000    1.000000    0.100000\n",
       "25%      5.100000    2.800000    1.600000    0.300000\n",
       "50%      5.800000    3.000000    4.350000    1.300000\n",
       "75%      6.400000    3.300000    5.100000    1.800000\n",
       "max      7.900000    4.400000    6.900000    2.500000"
      ]
     },
     "execution_count": 5,
     "metadata": {},
     "output_type": "execute_result"
    }
   ],
   "source": [
    "df.describe()"
   ]
  },
  {
   "cell_type": "code",
   "execution_count": 6,
   "metadata": {},
   "outputs": [
    {
     "data": {
      "text/plain": [
       "array(['Iris-setosa', 'Iris-versicolor', 'Iris-virginica'], dtype=object)"
      ]
     },
     "execution_count": 6,
     "metadata": {},
     "output_type": "execute_result"
    }
   ],
   "source": [
    "df['class'].unique()"
   ]
  },
  {
   "cell_type": "code",
   "execution_count": 7,
   "metadata": {},
   "outputs": [],
   "source": [
    "import sklearn\n",
    "from sklearn.model_selection import train_test_split"
   ]
  },
  {
   "cell_type": "code",
   "execution_count": 8,
   "metadata": {},
   "outputs": [],
   "source": [
    "species=['Iris-setosa','Iris-versicolor','Iris-virginica']"
   ]
  },
  {
   "cell_type": "code",
   "execution_count": 9,
   "metadata": {},
   "outputs": [],
   "source": [
    "import matplotlib.pyplot as plt\n",
    "import seaborn as sns\n"
   ]
  },
  {
   "cell_type": "markdown",
   "metadata": {},
   "source": [
    "# Check for outliers"
   ]
  },
  {
   "cell_type": "raw",
   "metadata": {},
   "source": [
    "Using Box plot to check outliers."
   ]
  },
  {
   "cell_type": "code",
   "execution_count": 10,
   "metadata": {
    "scrolled": true
   },
   "outputs": [
    {
     "data": {
      "image/png": "[encoded data removed]",
      "text/plain": [
       "<Figure size 720x720 with 4 Axes>"
      ]
     },
     "metadata": {
      "needs_background": "light"
     },
     "output_type": "display_data"
    }
   ],
   "source": [
    "fig,axis=plt.subplots(2,2,figsize=(10,10))\n",
    "sns.boxplot(x='class',y='sepal_l',data=df,order=species,ax=axis[0,0]);\n",
    "sns.boxplot(x='class',y='sepal_w',data=df,order=species,ax=axis[0,1]);\n",
    "sns.boxplot(x='class',y='petal_l',data=df,order=species,ax=axis[1,0]);\n",
    "sns.boxplot(x='class',y='petal_w',data=df,order=species,ax=axis[1,1]);\n",
    "fig.tight_layout(pad=1.0)"
   ]
  },
  {
   "cell_type": "code",
   "execution_count": 11,
   "metadata": {},
   "outputs": [],
   "source": [
    "df[\"petal_w\"] = np.where(df[\"petal_w\"] <df['petal_w'].quantile(0.10), df['petal_w'].quantile(0.10),df['petal_w'])\n",
    "df[\"sepal_w\"] = np.where(df[\"sepal_w\"] <df['sepal_w'].quantile(0.10), df['sepal_w'].quantile(0.10),df['sepal_w'])\n",
    "df[\"sepal_l\"] = np.where(df[\"sepal_l\"] >df['sepal_l'].quantile(0.90), df['sepal_l'].quantile(0.90),df['sepal_l'])\n",
    "df[\"sepal_w\"] = np.where(df[\"sepal_w\"] >df['sepal_w'].quantile(0.90), df['sepal_w'].quantile(0.90),df['sepal_w'])\n",
    "df[\"petal_w\"] = np.where(df[\"petal_w\"] >df['petal_w'].quantile(0.90), df['petal_w'].quantile(0.90),df['petal_w'])\n",
    "df[\"petal_l\"] = np.where(df[\"petal_l\"] >df['petal_l'].quantile(0.90), df['petal_l'].quantile(0.90),df['petal_l'])\n",
    "\n",
    "df[\"sepal_l\"] = np.where(df[\"sepal_l\"] <df['sepal_l'].quantile(0.10), df['sepal_l'].quantile(0.10),df['sepal_l'])\n",
    "df[\"petal_l\"] = np.where(df[\"petal_l\"] <df['petal_l'].quantile(0.10), df['petal_l'].quantile(0.10),df['petal_l'])"
   ]
  },
  {
   "cell_type": "code",
   "execution_count": 12,
   "metadata": {},
   "outputs": [
    {
     "data": {
      "text/html": [
       "<div>\n",
       "<style scoped>\n",
       "    .dataframe tbody tr th:only-of-type {\n",
       "        vertical-align: middle;\n",
       "    }\n",
       "\n",
       "    .dataframe tbody tr th {\n",
       "        vertical-align: top;\n",
       "    }\n",
       "\n",
       "    .dataframe thead th {\n",
       "        text-align: right;\n",
       "    }\n",
       "</style>\n",
       "<table border=\"1\" class=\"dataframe\">\n",
       "  <thead>\n",
       "    <tr style=\"text-align: right;\">\n",
       "      <th></th>\n",
       "      <th>sepal_l</th>\n",
       "      <th>sepal_w</th>\n",
       "      <th>petal_l</th>\n",
       "      <th>petal_w</th>\n",
       "      <th>class</th>\n",
       "    </tr>\n",
       "  </thead>\n",
       "  <tbody>\n",
       "  </tbody>\n",
       "</table>\n",
       "</div>"
      ],
      "text/plain": [
       "Empty DataFrame\n",
       "Columns: [sepal_l, sepal_w, petal_l, petal_w, class]\n",
       "Index: []"
      ]
     },
     "execution_count": 12,
     "metadata": {},
     "output_type": "execute_result"
    }
   ],
   "source": [
    "Q1=df.quantile(0.25)\n",
    "Q3=df.quantile(0.75)\n",
    "IQR=Q3-Q1\n",
    "df[((df < (Q1 - 1.5 * IQR)) |(df > (Q3 + 1.5 * IQR))).any(axis=1)]"
   ]
  },
  {
   "cell_type": "markdown",
   "metadata": {},
   "source": [
    "# FEATURE IMPORTANCE"
   ]
  },
  {
   "cell_type": "code",
   "execution_count": 13,
   "metadata": {},
   "outputs": [
    {
     "data": {
      "text/plain": [
       "<matplotlib.axes._subplots.AxesSubplot at 0x2122cc04eb0>"
      ]
     },
     "execution_count": 13,
     "metadata": {},
     "output_type": "execute_result"
    },
    {
     "data": {
      "image/png": "[encoded data removed]",
      "text/plain": [
       "<Figure size 432x288 with 1 Axes>"
      ]
     },
     "metadata": {
      "needs_background": "light"
     },
     "output_type": "display_data"
    }
   ],
   "source": [
    "from pandas.plotting import parallel_coordinates\n",
    "parallel_coordinates(df,'class',color=['lightseagreen','navy','slategray'])"
   ]
  },
  {
   "cell_type": "raw",
   "metadata": {},
   "source": [
    "The above graph shows that sepal_w ans sepal_l are extremely poor in dividing the classes!"
   ]
  },
  {
   "cell_type": "code",
   "execution_count": 14,
   "metadata": {},
   "outputs": [
    {
     "data": {
      "text/plain": [
       "<matplotlib.axes._subplots.AxesSubplot at 0x2122cdcc2e0>"
      ]
     },
     "execution_count": 14,
     "metadata": {},
     "output_type": "execute_result"
    },
    {
     "data": {
      "image/png": "[encoded data removed]",
      "text/plain": [
       "<Figure size 432x288 with 2 Axes>"
      ]
     },
     "metadata": {
      "needs_background": "light"
     },
     "output_type": "display_data"
    }
   ],
   "source": [
    "correlation=df.corr()\n",
    "sns.heatmap(correlation,annot=True,square=True,cmap=\"YlGnBu\")"
   ]
  },
  {
   "cell_type": "code",
   "execution_count": 15,
   "metadata": {},
   "outputs": [],
   "source": [
    "x=np.array(df.drop(['class','sepal_w'],1))\n",
    "y=np.array(df['class'])\n",
    "x_train,x_test,y_train,y_test = sklearn.model_selection.train_test_split(x,y,test_size=0.2,random_state=42)"
   ]
  },
  {
   "cell_type": "markdown",
   "metadata": {},
   "source": [
    "# MODEL SELECTION AND TRAINING"
   ]
  },
  {
   "cell_type": "code",
   "execution_count": 16,
   "metadata": {},
   "outputs": [],
   "source": [
    "from sklearn.tree import DecisionTreeClassifier\n",
    "from sklearn.ensemble import RandomForestClassifier\n",
    "from sklearn.neighbors import KNeighborsClassifier\n",
    "from sklearn.discriminant_analysis import LinearDiscriminantAnalysis\n",
    "from sklearn.svm import SVC\n",
    "from sklearn.model_selection import StratifiedKFold\n",
    "from sklearn.metrics import classification_report\n",
    "from sklearn.metrics import confusion_matrix\n",
    "from sklearn.metrics import accuracy_score\n",
    "from sklearn.model_selection import cross_val_score"
   ]
  },
  {
   "cell_type": "code",
   "execution_count": 17,
   "metadata": {},
   "outputs": [
    {
     "name": "stdout",
     "output_type": "stream",
     "text": [
      "Model and Accuracy:-\n"
     ]
    },
    {
     "data": {
      "text/plain": [
       "{'KNN': 0.9583333333333334,\n",
       " 'CART': 0.6749999999999999,\n",
       " 'RFC': 0.9000000000000001,\n",
       " 'SVM': 0.9500000000000001}"
      ]
     },
     "execution_count": 17,
     "metadata": {},
     "output_type": "execute_result"
    }
   ],
   "source": [
    "result={}\n",
    "models = {}\n",
    "#models['LDA']=LinearDiscriminantAnalysis()\n",
    "models['KNN']=KNeighborsClassifier(n_neighbors=25)\n",
    "models['CART']=DecisionTreeClassifier(max_depth=3,min_samples_split=70)\n",
    "models['RFC']=RandomForestClassifier(max_depth=2,n_estimators=5)\n",
    "models['SVM']=SVC(gamma='auto',C=0.06)\n",
    "for key in models:\n",
    "    kfold = StratifiedKFold(n_splits=4,shuffle=True)\n",
    "    cv_results = cross_val_score(models[key], x_train, y_train, cv=kfold, scoring='accuracy')\n",
    "    result[key]=cv_results.mean()\n",
    "print(\"Model and Accuracy:-\")\n",
    "chosen_one = max(result, key=result.get)     \n",
    "result\n"
   ]
  },
  {
   "cell_type": "code",
   "execution_count": 18,
   "metadata": {},
   "outputs": [],
   "source": [
    "import pickle"
   ]
  },
  {
   "cell_type": "code",
   "execution_count": 19,
   "metadata": {},
   "outputs": [],
   "source": [
    "with open(\"chosen_model.pickle\",'wb') as f:\n",
    "    pickle.dump(models[chosen_one],f)"
   ]
  },
  {
   "cell_type": "code",
   "execution_count": 20,
   "metadata": {},
   "outputs": [],
   "source": [
    "pickle_in = open(\"chosen_model.pickle\", \"rb\")\n",
    "final_model = pickle.load(pickle_in)"
   ]
  },
  {
   "cell_type": "code",
   "execution_count": 21,
   "metadata": {},
   "outputs": [],
   "source": [
    "final_model.fit(x_train,y_train)\n",
    "predictions = final_model.predict(x_test)"
   ]
  },
  {
   "cell_type": "markdown",
   "metadata": {},
   "source": [
    "# TEST DATA RESULTS"
   ]
  },
  {
   "cell_type": "code",
   "execution_count": 22,
   "metadata": {},
   "outputs": [
    {
     "name": "stdout",
     "output_type": "stream",
     "text": [
      "+-----------------+---------+---------+---------+-----------------+\n",
      "|      Actual     | sepal_l | petal_l | petal_w |    Prediction   |\n",
      "+-----------------+---------+---------+---------+-----------------+\n",
      "| Iris-versicolor |   6.4   |   4.3   |   1.3   | \u001b[1;34mIris-versicolor\u001b[0m |\n",
      "|   Iris-setosa   |   5.1   |   1.5   |   0.3   |   \u001b[1;34mIris-setosa\u001b[0m   |\n",
      "|  Iris-virginica |   6.0   |   5.0   |   1.5   |  \u001b[1;34mIris-virginica\u001b[0m |\n",
      "| Iris-versicolor |   5.7   |   3.5   |   1.0   | \u001b[1;34mIris-versicolor\u001b[0m |\n",
      "| \u001b[1;31mIris-versicolor\u001b[0m |   \u001b[1;31m6.7\u001b[0m   |   \u001b[1;31m5.0\u001b[0m   |   \u001b[1;31m1.7\u001b[0m   |  \u001b[1;31mIris-virginica\u001b[0m |\n",
      "|   Iris-setosa   |   5.2   |   1.5   |   0.2   |   \u001b[1;34mIris-setosa\u001b[0m   |\n",
      "| Iris-versicolor |   6.7   |   4.4   |   1.4   | \u001b[1;34mIris-versicolor\u001b[0m |\n",
      "|  Iris-virginica |   5.8   |   5.1   |   1.9   |  \u001b[1;34mIris-virginica\u001b[0m |\n",
      "| Iris-versicolor |   5.6   |   3.9   |   1.1   | \u001b[1;34mIris-versicolor\u001b[0m |\n",
      "| \u001b[1;31mIris-versicolor\u001b[0m |   \u001b[1;31m6.0\u001b[0m   |   \u001b[1;31m5.1\u001b[0m   |   \u001b[1;31m1.6\u001b[0m   |  \u001b[1;31mIris-virginica\u001b[0m |\n",
      "|  Iris-virginica |   6.4   |   5.3   |   1.9   |  \u001b[1;34mIris-virginica\u001b[0m |\n",
      "|   Iris-setosa   |   4.8   |   1.4   |   0.2   |   \u001b[1;34mIris-setosa\u001b[0m   |\n",
      "|   Iris-setosa   |   4.9   |   1.5   |   0.2   |   \u001b[1;34mIris-setosa\u001b[0m   |\n",
      "|   Iris-setosa   |   5.4   |   1.5   |   0.2   |   \u001b[1;34mIris-setosa\u001b[0m   |\n",
      "|   Iris-setosa   |   5.4   |   1.7   |   0.2   |   \u001b[1;34mIris-setosa\u001b[0m   |\n",
      "| Iris-versicolor |   4.9   |   3.3   |   1.0   | \u001b[1;34mIris-versicolor\u001b[0m |\n",
      "|  Iris-virginica |   6.9   |   5.8   |   2.1   |  \u001b[1;34mIris-virginica\u001b[0m |\n",
      "| Iris-versicolor |   5.9   |   4.8   |   1.8   | \u001b[1;34mIris-versicolor\u001b[0m |\n",
      "| Iris-versicolor |   6.3   |   4.7   |   1.6   | \u001b[1;34mIris-versicolor\u001b[0m |\n",
      "|  \u001b[1;31mIris-virginica\u001b[0m |   \u001b[1;31m6.3\u001b[0m   |   \u001b[1;31m5.1\u001b[0m   |   \u001b[1;31m1.5\u001b[0m   | \u001b[1;31mIris-versicolor\u001b[0m |\n",
      "|   Iris-setosa   |   4.8   |   1.6   |   0.2   |   \u001b[1;34mIris-setosa\u001b[0m   |\n",
      "|  Iris-virginica |   6.4   |   5.6   |   2.1   |  \u001b[1;34mIris-virginica\u001b[0m |\n",
      "|   Iris-setosa   |   5.2   |   1.5   |   0.2   |   \u001b[1;34mIris-setosa\u001b[0m   |\n",
      "|  Iris-virginica |   6.9   |   5.8   |   1.6   |  \u001b[1;34mIris-virginica\u001b[0m |\n",
      "|  Iris-virginica |   6.4   |   5.6   |   2.2   |  \u001b[1;34mIris-virginica\u001b[0m |\n",
      "|  Iris-virginica |   6.3   |   5.0   |   1.9   |  \u001b[1;34mIris-virginica\u001b[0m |\n",
      "|  Iris-virginica |   6.9   |   5.8   |   2.2   |  \u001b[1;34mIris-virginica\u001b[0m |\n",
      "|  Iris-virginica |   6.7   |   5.7   |   2.2   |  \u001b[1;34mIris-virginica\u001b[0m |\n",
      "|   Iris-setosa   |   5.1   |   1.6   |   0.2   |   \u001b[1;34mIris-setosa\u001b[0m   |\n",
      "|   Iris-setosa   |   5.4   |   1.5   |   0.4   |   \u001b[1;34mIris-setosa\u001b[0m   |\n",
      "+-----------------+---------+---------+---------+-----------------+\n"
     ]
    }
   ],
   "source": [
    "from prettytable import PrettyTable\n",
    "myTable=PrettyTable([\"Actual\",\"sepal_l\",\"petal_l\",\"petal_w\",\"Prediction\"])\n",
    "for x in range(len(predictions)):\n",
    "    if(y_test[x]==predictions[x]):\n",
    "         myTable.add_row([y_test[x],x_test[x][0],x_test[x][1],x_test[x][2],\"\\033[1;34m%s\\033[0m\" %predictions[x]])\n",
    "    else:\n",
    "         myTable.add_row([\"\\033[1;31m%s\\033[0m\" %y_test[x],\"\\033[1;31m%s\\033[0m\" %x_test[x][0],\"\\033[1;31m%s\\033[0m\" %x_test[x][1],\"\\033[1;31m%s\\033[0m\" %x_test[x][2],\"\\033[1;31m%s\\033[0m\" %predictions[x]])\n",
    "print(myTable)"
   ]
  },
  {
   "cell_type": "code",
   "execution_count": 23,
   "metadata": {},
   "outputs": [
    {
     "name": "stdout",
     "output_type": "stream",
     "text": [
      "KNeighborsClassifier(n_neighbors=25) 0.9\n"
     ]
    }
   ],
   "source": [
    "print(models[chosen_one],accuracy_score(y_test,predictions))"
   ]
  },
  {
   "cell_type": "markdown",
   "metadata": {},
   "source": [
    "# REPORT"
   ]
  },
  {
   "cell_type": "raw",
   "metadata": {},
   "source": [
    "This project is based on the famous \"IRIS DATASET\" from UCI repository.The dataset has 150 enteries --> 4 features and 1 label. By looking into data by using data.describe() following points are quite clear:-\n",
    "-> Missing Values are absent , we can say this by looking at count. \n",
    "-> The features have somewhat Gaussian distribution as difference of mean and median is not much.\n",
    "-> We have some Outliers as there is comparatively larger difference between min and 25 th percentile values of features and also in 75th - max percentile\n",
    "\n",
    "I confirmed the presence of outliers using Box plot and tried to fix it using IQR method.\n",
    "\n",
    "Then I tried to get some ideas over importance of each feature, say feature scaling or feature engineering.\n",
    "Firstly I used parallel coordinates plot , from where I get the idea that sepal width and sepal length are poor in classifying the flower compared to the same done by petal length and petal width\n",
    "Then i used heatmap to check the correlation among features and saw that sepal width has opposite values.\n",
    "Due to above reasons I dropped the sepal width column from the training as well as testing dataset.\n",
    "I used Four models and provided each of them with optimum optimizers to avoid overfitting and underfitting as much as possible, Then the model with best accuracy was selected.\n",
    "I used Pickle to save my best model and used pretty table to display the results on test data \n",
    "\n",
    "\n",
    "To get a better  model we need more Data!"
   ]
  },
  {
   "cell_type": "code",
   "execution_count": null,
   "metadata": {},
   "outputs": [],
   "source": []
  }
 ],
 "metadata": {
  "kernelspec": {
   "display_name": "Python 3",
   "language": "python",
   "name": "python3"
  },
  "language_info": {
   "codemirror_mode": {
    "name": "ipython",
    "version": 3
   },
   "file_extension": ".py",
   "mimetype": "text/x-python",
   "name": "python",
   "nbconvert_exporter": "python",
   "pygments_lexer": "ipython3",
   "version": "3.8.3"
  },
  "latex_envs": {
   "LaTeX_envs_menu_present": true,
   "autoclose": false,
   "autocomplete": true,
   "bibliofile": "biblio.bib",
   "cite_by": "apalike",
   "current_citInitial": 1,
   "eqLabelWithNumbers": true,
   "eqNumInitial": 1,
   "hotkeys": {
    "equation": "Ctrl-E",
    "itemize": "Ctrl-I"
   },
   "labels_anchors": false,
   "latex_user_defs": false,
   "report_style_numbering": false,
   "user_envs_cfg": false
  },
  "toc": {
   "base_numbering": 1,
   "nav_menu": {},
   "number_sections": true,
   "sideBar": true,
   "skip_h1_title": false,
   "title_cell": "Table of Contents",
   "title_sidebar": "Contents",
   "toc_cell": true,
   "toc_position": {},
   "toc_section_display": true,
   "toc_window_display": false
  }
 },
 "nbformat": 4,
 "nbformat_minor": 4
}
