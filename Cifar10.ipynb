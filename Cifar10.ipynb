{
  "nbformat": 4,
  "nbformat_minor": 0,
  "metadata": {
    "colab": {
      "name": "Untitled1.ipynb",
      "provenance": [],
      "collapsed_sections": []
    },
    "kernelspec": {
      "name": "python3",
      "display_name": "Python 3"
    }
  },
  "cells": [
    {
      "cell_type": "code",
      "metadata": {
        "id": "ubhTvhcAZq8Z"
      },
      "source": [
        "import tensorflow as tf\r\n",
        "from tensorflow import keras"
      ],
      "execution_count": 1,
      "outputs": []
    },
    {
      "cell_type": "code",
      "metadata": {
        "id": "r5UB22bGafa0"
      },
      "source": [
        "import numpy as np\r\n",
        "import matplotlib.pyplot as plt\r\n"
      ],
      "execution_count": 2,
      "outputs": []
    },
    {
      "cell_type": "code",
      "metadata": {
        "id": "orf8Ed1-aysB"
      },
      "source": [
        "ds = keras.datasets.cifar10\r\n",
        "(train_images,train_labels),(test_images,test_labels)=ds.load_data()"
      ],
      "execution_count": 3,
      "outputs": []
    },
    {
      "cell_type": "code",
      "metadata": {
        "colab": {
          "base_uri": "https://localhost:8080/"
        },
        "id": "Jn0xEPTdbcta",
        "outputId": "dad71342-e9dd-4b4a-988b-408fdc0500c1"
      },
      "source": [
        "train_images.shape"
      ],
      "execution_count": 4,
      "outputs": [
        {
          "output_type": "execute_result",
          "data": {
            "text/plain": [
              "(50000, 32, 32, 3)"
            ]
          },
          "metadata": {
            "tags": []
          },
          "execution_count": 4
        }
      ]
    },
    {
      "cell_type": "code",
      "metadata": {
        "id": "1UtQItb7cHqK"
      },
      "source": [
        "classification = np.array(['airplane', 'automobile', 'bird', 'cat', 'deer', 'dog', 'frog', 'horse', 'ship', 'truck'])"
      ],
      "execution_count": 5,
      "outputs": []
    },
    {
      "cell_type": "code",
      "metadata": {
        "colab": {
          "base_uri": "https://localhost:8080/",
          "height": 280
        },
        "id": "t6iqI0QdbitK",
        "outputId": "465394d7-e8cc-4f04-9e71-1df12b7df42e"
      },
      "source": [
        "plt.figure()\r\n",
        "plt.imshow(train_images[3])\r\n",
        "plt.xlabel(classification[train_labels[3]])\r\n",
        "plt.show()"
      ],
      "execution_count": 6,
      "outputs": [
        {
          "output_type": "display_data",
          "data": {
            "image/png": "[encoded data removed]",
            "text/plain": [
              "<Figure size 432x288 with 1 Axes>"
            ]
          },
          "metadata": {
            "tags": [],
            "needs_background": "light"
          }
        }
      ]
    },
    {
      "cell_type": "markdown",
      "metadata": {
        "id": "Rm9tpLgKcRfh"
      },
      "source": [
        "Woah!HOw is that a deer...."
      ]
    },
    {
      "cell_type": "code",
      "metadata": {
        "id": "Mv33XKwvbmtr"
      },
      "source": [
        "train_images = train_images/255\r\n",
        "test_images = test_images/255"
      ],
      "execution_count": 7,
      "outputs": []
    },
    {
      "cell_type": "code",
      "metadata": {
        "colab": {
          "base_uri": "https://localhost:8080/"
        },
        "id": "jsAkGmL_cxC_",
        "outputId": "5ae43ad7-c64d-474a-e8fa-e67038ebbde7"
      },
      "source": [
        "model = keras.Sequential()\r\n",
        "\r\n",
        "model.add(keras.layers.Conv2D(32, (3,3), activation='relu', input_shape=(32,32,3)))\r\n",
        "model.add(keras.layers.Conv2D(32, (3,3), activation='relu'))\r\n",
        "model.add(keras.layers.MaxPooling2D(pool_size=(2,2)))\r\n",
        "\r\n",
        "\r\n",
        "model.add(keras.layers.Conv2D(64, (3,3), activation='relu'))\r\n",
        "model.add(keras.layers.Conv2D(64, (3,3), activation='relu'))\r\n",
        "model.add(keras.layers.MaxPooling2D(pool_size=(2,2)))\r\n",
        "model.add(keras.layers.Dropout(0.2))\r\n",
        "\r\n",
        "\r\n",
        "model.add(keras.layers.Flatten())\r\n",
        "\r\n",
        "model.add(keras.layers.Dense(128, activation='relu'))\r\n",
        "model.add(keras.layers.Dropout(0.2))\r\n",
        "model.add(keras.layers.Dense(10, activation='softmax'))\r\n",
        "model.summary()"
      ],
      "execution_count": 18,
      "outputs": [
        {
          "output_type": "stream",
          "text": [
            "Model: \"sequential_3\"\n",
            "_________________________________________________________________\n",
            "Layer (type)                 Output Shape              Param #   \n",
            "=================================================================\n",
            "conv2d_12 (Conv2D)           (None, 30, 30, 32)        896       \n",
            "_________________________________________________________________\n",
            "conv2d_13 (Conv2D)           (None, 28, 28, 32)        9248      \n",
            "_________________________________________________________________\n",
            "max_pooling2d_6 (MaxPooling2 (None, 14, 14, 32)        0         \n",
            "_________________________________________________________________\n",
            "conv2d_14 (Conv2D)           (None, 12, 12, 64)        18496     \n",
            "_________________________________________________________________\n",
            "conv2d_15 (Conv2D)           (None, 10, 10, 64)        36928     \n",
            "_________________________________________________________________\n",
            "max_pooling2d_7 (MaxPooling2 (None, 5, 5, 64)          0         \n",
            "_________________________________________________________________\n",
            "dropout (Dropout)            (None, 5, 5, 64)          0         \n",
            "_________________________________________________________________\n",
            "flatten_1 (Flatten)          (None, 1600)              0         \n",
            "_________________________________________________________________\n",
            "dense_2 (Dense)              (None, 128)               204928    \n",
            "_________________________________________________________________\n",
            "dropout_1 (Dropout)          (None, 128)               0         \n",
            "_________________________________________________________________\n",
            "dense_3 (Dense)              (None, 10)                1290      \n",
            "=================================================================\n",
            "Total params: 271,786\n",
            "Trainable params: 271,786\n",
            "Non-trainable params: 0\n",
            "_________________________________________________________________\n"
          ],
          "name": "stdout"
        }
      ]
    },
    {
      "cell_type": "code",
      "metadata": {
        "id": "UpnHj7R6hJx-"
      },
      "source": [
        "model.compile(optimizer='Adam',\r\n",
        "              loss='sparse_categorical_crossentropy',\r\n",
        "              metrics=['accuracy'])"
      ],
      "execution_count": 19,
      "outputs": []
    },
    {
      "cell_type": "code",
      "metadata": {
        "colab": {
          "base_uri": "https://localhost:8080/"
        },
        "id": "juU2iorPiLKk",
        "outputId": "c15b8ac0-d79c-40d9-f7cc-338c26123b69"
      },
      "source": [
        "model.fit(train_images,train_labels,epochs=6,batch_size=100)"
      ],
      "execution_count": 23,
      "outputs": [
        {
          "output_type": "stream",
          "text": [
            "Epoch 1/6\n",
            "500/500 [==============================] - 147s 294ms/step - loss: 0.7197 - accuracy: 0.7451\n",
            "Epoch 2/6\n",
            "500/500 [==============================] - 150s 300ms/step - loss: 0.6790 - accuracy: 0.7597\n",
            "Epoch 3/6\n",
            "500/500 [==============================] - 150s 299ms/step - loss: 0.6486 - accuracy: 0.7697\n",
            "Epoch 4/6\n",
            "500/500 [==============================] - 148s 297ms/step - loss: 0.6103 - accuracy: 0.7851\n",
            "Epoch 5/6\n",
            "500/500 [==============================] - 151s 301ms/step - loss: 0.5965 - accuracy: 0.7891\n",
            "Epoch 6/6\n",
            "500/500 [==============================] - 149s 298ms/step - loss: 0.5565 - accuracy: 0.8029\n"
          ],
          "name": "stdout"
        },
        {
          "output_type": "execute_result",
          "data": {
            "text/plain": [
              "<tensorflow.python.keras.callbacks.History at 0x7f7a23dace90>"
            ]
          },
          "metadata": {
            "tags": []
          },
          "execution_count": 23
        }
      ]
    },
    {
      "cell_type": "code",
      "metadata": {
        "colab": {
          "base_uri": "https://localhost:8080/"
        },
        "id": "8NjOHkjNiSZC",
        "outputId": "1523dfc3-ece3-45e0-eb5f-916058584ca9"
      },
      "source": [
        "test_loss,test_acc = model.evaluate(test_images,test_labels,verbose=1)\r\n",
        "print(\"accuracy : \" , test_acc)"
      ],
      "execution_count": 24,
      "outputs": [
        {
          "output_type": "stream",
          "text": [
            "313/313 [==============================] - 9s 27ms/step - loss: 0.6819 - accuracy: 0.7673\n",
            "accuracy :  0.767300009727478\n"
          ],
          "name": "stdout"
        }
      ]
    },
    {
      "cell_type": "code",
      "metadata": {
        "colab": {
          "base_uri": "https://localhost:8080/"
        },
        "id": "g0z3ogLw6i0_",
        "outputId": "7917def4-7585-42f3-b7b8-c6fc474f0578"
      },
      "source": [
        "test_images.shape"
      ],
      "execution_count": 25,
      "outputs": [
        {
          "output_type": "execute_result",
          "data": {
            "text/plain": [
              "(10000, 32, 32, 3)"
            ]
          },
          "metadata": {
            "tags": []
          },
          "execution_count": 25
        }
      ]
    },
    {
      "cell_type": "code",
      "metadata": {
        "id": "pC_JcZgvkMj5"
      },
      "source": [
        "predictions = model.predict(test_images)"
      ],
      "execution_count": 26,
      "outputs": []
    },
    {
      "cell_type": "code",
      "metadata": {
        "colab": {
          "base_uri": "https://localhost:8080/",
          "height": 1000
        },
        "id": "CkIXUwMEkZ_u",
        "outputId": "8311f615-cd7f-45b9-b3cf-d05b59846390"
      },
      "source": [
        "ans=1\r\n",
        "while(ans!=0):\r\n",
        "  print(\"Enter a number in the range [0,10000) \")\r\n",
        "  n = int(input())\r\n",
        "  print(\"Prediction by model : \",classification[np.argmax(predictions[n])])\r\n",
        "  plt.figure()\r\n",
        "  plt.imshow(test_images[n])\r\n",
        "  plt.xlabel(classification[test_labels[n]])\r\n",
        "  plt.show()\r\n",
        "  if(classification[np.argmax(predictions[n])]==classification[test_labels[n]]):\r\n",
        "    print(\"\\nCorrect Prediction\")\r\n",
        "  else:\r\n",
        "    print(\"\\nWrong Prediction\")\r\n",
        "  print(\"Would You like to continue?\\nEnter 0 to exit \")\r\n",
        "  ans=int(input())\r\n"
      ],
      "execution_count": 27,
      "outputs": [
        {
          "output_type": "stream",
          "text": [
            "Enter a number in the range [0,10000) \n",
            "789\n",
            "Prediction by model :  ship\n"
          ],
          "name": "stdout"
        },
        {
          "output_type": "display_data",
          "data": {
            "image/png": "[encoded data removed]",
            "text/plain": [
              "<Figure size 432x288 with 1 Axes>"
            ]
          },
          "metadata": {
            "tags": [],
            "needs_background": "light"
          }
        },
        {
          "output_type": "stream",
          "text": [
            "\n",
            "Correct Prediction\n",
            "Would You like to continue?\n",
            "Enter 0 to exit \n",
            "1\n",
            "Enter a number in the range [0,10000) \n",
            "3748\n",
            "Prediction by model :  dog\n"
          ],
          "name": "stdout"
        },
        {
          "output_type": "display_data",
          "data": {
            "image/png": "[encoded data removed]",
            "text/plain": [
              "<Figure size 432x288 with 1 Axes>"
            ]
          },
          "metadata": {
            "tags": [],
            "needs_background": "light"
          }
        },
        {
          "output_type": "stream",
          "text": [
            "\n",
            "Correct Prediction\n",
            "Would You like to continue?\n",
            "Enter 0 to exit \n",
            "1\n",
            "Enter a number in the range [0,10000) \n",
            "7645\n",
            "Prediction by model :  airplane\n"
          ],
          "name": "stdout"
        },
        {
          "output_type": "display_data",
          "data": {
            "image/png": "[encoded data removed]",
            "text/plain": [
              "<Figure size 432x288 with 1 Axes>"
            ]
          },
          "metadata": {
            "tags": [],
            "needs_background": "light"
          }
        },
        {
          "output_type": "stream",
          "text": [
            "\n",
            "Correct Prediction\n",
            "Would You like to continue?\n",
            "Enter 0 to exit \n",
            "1\n",
            "Enter a number in the range [0,10000) \n",
            "847\n",
            "Prediction by model :  airplane\n"
          ],
          "name": "stdout"
        },
        {
          "output_type": "display_data",
          "data": {
            "image/png": "[encoded data removed]",
            "text/plain": [
              "<Figure size 432x288 with 1 Axes>"
            ]
          },
          "metadata": {
            "tags": [],
            "needs_background": "light"
          }
        },
        {
          "output_type": "stream",
          "text": [
            "\n",
            "Correct Prediction\n",
            "Would You like to continue?\n",
            "Enter 0 to exit \n",
            "0\n"
          ],
          "name": "stdout"
        }
      ]
    },
    {
      "cell_type": "code",
      "metadata": {
        "id": "k5SkDiXf6qsu"
      },
      "source": [
        ""
      ],
      "execution_count": null,
      "outputs": []
    }
  ]
}
