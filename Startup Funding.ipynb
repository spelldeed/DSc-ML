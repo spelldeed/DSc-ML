{
 "cells": [
  {
   "cell_type": "markdown",
   "metadata": {
    "toc": true
   },
   "source": [
    "<h1>Table of Contents<span class=\"tocSkip\"></span></h1>\n",
    "<div class=\"toc\"><ul class=\"toc-item\"></ul></div>"
   ]
  },
  {
   "cell_type": "code",
   "execution_count": 1,
   "metadata": {},
   "outputs": [],
   "source": [
    "import pandas as pd\n",
    "import numpy as np\n",
    "import plotly.express as px\n",
    "import matplotlib.pyplot as plt\n",
    "import seaborn as sns\n",
    "import ipywidgets as widgets\n",
    "from ipywidgets import interact\n",
    "from ipywidgets import interact_manual"
   ]
  },
  {
   "cell_type": "code",
   "execution_count": 164,
   "metadata": {},
   "outputs": [
    {
     "data": {
      "text/html": [
       "<div>\n",
       "<style scoped>\n",
       "    .dataframe tbody tr th:only-of-type {\n",
       "        vertical-align: middle;\n",
       "    }\n",
       "\n",
       "    .dataframe tbody tr th {\n",
       "        vertical-align: top;\n",
       "    }\n",
       "\n",
       "    .dataframe thead th {\n",
       "        text-align: right;\n",
       "    }\n",
       "</style>\n",
       "<table border=\"1\" class=\"dataframe\">\n",
       "  <thead>\n",
       "    <tr style=\"text-align: right;\">\n",
       "      <th></th>\n",
       "      <th>Sr No</th>\n",
       "      <th>Date dd/mm/yyyy</th>\n",
       "      <th>Startup Name</th>\n",
       "      <th>Industry Vertical</th>\n",
       "      <th>SubVertical</th>\n",
       "      <th>City  Location</th>\n",
       "      <th>Investors Name</th>\n",
       "      <th>InvestmentnType</th>\n",
       "      <th>Amount in USD</th>\n",
       "      <th>Remarks</th>\n",
       "    </tr>\n",
       "  </thead>\n",
       "  <tbody>\n",
       "    <tr>\n",
       "      <th>0</th>\n",
       "      <td>1</td>\n",
       "      <td>09/01/2020</td>\n",
       "      <td>BYJU’S</td>\n",
       "      <td>E-Tech</td>\n",
       "      <td>E-learning</td>\n",
       "      <td>Bengaluru</td>\n",
       "      <td>Tiger Global Management</td>\n",
       "      <td>Private Equity Round</td>\n",
       "      <td>20,00,00,000</td>\n",
       "      <td>NaN</td>\n",
       "    </tr>\n",
       "    <tr>\n",
       "      <th>1</th>\n",
       "      <td>2</td>\n",
       "      <td>13/01/2020</td>\n",
       "      <td>Shuttl</td>\n",
       "      <td>Transportation</td>\n",
       "      <td>App based shuttle service</td>\n",
       "      <td>Gurgaon</td>\n",
       "      <td>Susquehanna Growth Equity</td>\n",
       "      <td>Series C</td>\n",
       "      <td>80,48,394</td>\n",
       "      <td>NaN</td>\n",
       "    </tr>\n",
       "    <tr>\n",
       "      <th>2</th>\n",
       "      <td>3</td>\n",
       "      <td>09/01/2020</td>\n",
       "      <td>Mamaearth</td>\n",
       "      <td>E-commerce</td>\n",
       "      <td>Retailer of baby and toddler products</td>\n",
       "      <td>Bengaluru</td>\n",
       "      <td>Sequoia Capital India</td>\n",
       "      <td>Series B</td>\n",
       "      <td>1,83,58,860</td>\n",
       "      <td>NaN</td>\n",
       "    </tr>\n",
       "    <tr>\n",
       "      <th>3</th>\n",
       "      <td>4</td>\n",
       "      <td>02/01/2020</td>\n",
       "      <td>https://www.wealthbucket.in/</td>\n",
       "      <td>FinTech</td>\n",
       "      <td>Online Investment</td>\n",
       "      <td>New Delhi</td>\n",
       "      <td>Vinod Khatumal</td>\n",
       "      <td>Pre-series A</td>\n",
       "      <td>30,00,000</td>\n",
       "      <td>NaN</td>\n",
       "    </tr>\n",
       "    <tr>\n",
       "      <th>4</th>\n",
       "      <td>5</td>\n",
       "      <td>02/01/2020</td>\n",
       "      <td>Fashor</td>\n",
       "      <td>Fashion and Apparel</td>\n",
       "      <td>Embroiled Clothes For Women</td>\n",
       "      <td>Mumbai</td>\n",
       "      <td>Sprout Venture Partners</td>\n",
       "      <td>Seed Round</td>\n",
       "      <td>18,00,000</td>\n",
       "      <td>NaN</td>\n",
       "    </tr>\n",
       "    <tr>\n",
       "      <th>...</th>\n",
       "      <td>...</td>\n",
       "      <td>...</td>\n",
       "      <td>...</td>\n",
       "      <td>...</td>\n",
       "      <td>...</td>\n",
       "      <td>...</td>\n",
       "      <td>...</td>\n",
       "      <td>...</td>\n",
       "      <td>...</td>\n",
       "      <td>...</td>\n",
       "    </tr>\n",
       "    <tr>\n",
       "      <th>3039</th>\n",
       "      <td>3040</td>\n",
       "      <td>29/01/2015</td>\n",
       "      <td>Printvenue</td>\n",
       "      <td>NaN</td>\n",
       "      <td>NaN</td>\n",
       "      <td>NaN</td>\n",
       "      <td>Asia Pacific Internet Group</td>\n",
       "      <td>Private Equity</td>\n",
       "      <td>45,00,000</td>\n",
       "      <td>NaN</td>\n",
       "    </tr>\n",
       "    <tr>\n",
       "      <th>3040</th>\n",
       "      <td>3041</td>\n",
       "      <td>29/01/2015</td>\n",
       "      <td>Graphene</td>\n",
       "      <td>NaN</td>\n",
       "      <td>NaN</td>\n",
       "      <td>NaN</td>\n",
       "      <td>KARSEMVEN Fund</td>\n",
       "      <td>Private Equity</td>\n",
       "      <td>8,25,000</td>\n",
       "      <td>Govt backed VC Fund</td>\n",
       "    </tr>\n",
       "    <tr>\n",
       "      <th>3041</th>\n",
       "      <td>3042</td>\n",
       "      <td>30/01/2015</td>\n",
       "      <td>Mad Street Den</td>\n",
       "      <td>NaN</td>\n",
       "      <td>NaN</td>\n",
       "      <td>NaN</td>\n",
       "      <td>Exfinity Fund, GrowX Ventures.</td>\n",
       "      <td>Private Equity</td>\n",
       "      <td>15,00,000</td>\n",
       "      <td>NaN</td>\n",
       "    </tr>\n",
       "    <tr>\n",
       "      <th>3042</th>\n",
       "      <td>3043</td>\n",
       "      <td>30/01/2015</td>\n",
       "      <td>Simplotel</td>\n",
       "      <td>NaN</td>\n",
       "      <td>NaN</td>\n",
       "      <td>NaN</td>\n",
       "      <td>MakeMyTrip</td>\n",
       "      <td>Private Equity</td>\n",
       "      <td>NaN</td>\n",
       "      <td>Strategic Funding, Minority stake</td>\n",
       "    </tr>\n",
       "    <tr>\n",
       "      <th>3043</th>\n",
       "      <td>3044</td>\n",
       "      <td>31/01/2015</td>\n",
       "      <td>couponmachine.in</td>\n",
       "      <td>NaN</td>\n",
       "      <td>NaN</td>\n",
       "      <td>NaN</td>\n",
       "      <td>UK based Group of Angel Investors</td>\n",
       "      <td>Seed Funding</td>\n",
       "      <td>1,40,000</td>\n",
       "      <td>NaN</td>\n",
       "    </tr>\n",
       "  </tbody>\n",
       "</table>\n",
       "<p>3044 rows × 10 columns</p>\n",
       "</div>"
      ],
      "text/plain": [
       "      Sr No Date dd/mm/yyyy                  Startup Name  \\\n",
       "0         1      09/01/2020                        BYJU’S   \n",
       "1         2      13/01/2020                        Shuttl   \n",
       "2         3      09/01/2020                     Mamaearth   \n",
       "3         4      02/01/2020  https://www.wealthbucket.in/   \n",
       "4         5      02/01/2020                        Fashor   \n",
       "...     ...             ...                           ...   \n",
       "3039   3040      29/01/2015                    Printvenue   \n",
       "3040   3041      29/01/2015                      Graphene   \n",
       "3041   3042      30/01/2015                Mad Street Den   \n",
       "3042   3043      30/01/2015                     Simplotel   \n",
       "3043   3044      31/01/2015              couponmachine.in   \n",
       "\n",
       "        Industry Vertical                            SubVertical  \\\n",
       "0                  E-Tech                             E-learning   \n",
       "1          Transportation              App based shuttle service   \n",
       "2              E-commerce  Retailer of baby and toddler products   \n",
       "3                 FinTech                      Online Investment   \n",
       "4     Fashion and Apparel            Embroiled Clothes For Women   \n",
       "...                   ...                                    ...   \n",
       "3039                  NaN                                    NaN   \n",
       "3040                  NaN                                    NaN   \n",
       "3041                  NaN                                    NaN   \n",
       "3042                  NaN                                    NaN   \n",
       "3043                  NaN                                    NaN   \n",
       "\n",
       "     City  Location                     Investors Name       InvestmentnType  \\\n",
       "0         Bengaluru            Tiger Global Management  Private Equity Round   \n",
       "1           Gurgaon          Susquehanna Growth Equity              Series C   \n",
       "2         Bengaluru              Sequoia Capital India              Series B   \n",
       "3         New Delhi                     Vinod Khatumal          Pre-series A   \n",
       "4            Mumbai            Sprout Venture Partners            Seed Round   \n",
       "...             ...                                ...                   ...   \n",
       "3039            NaN        Asia Pacific Internet Group        Private Equity   \n",
       "3040            NaN                     KARSEMVEN Fund        Private Equity   \n",
       "3041            NaN     Exfinity Fund, GrowX Ventures.        Private Equity   \n",
       "3042            NaN                         MakeMyTrip        Private Equity   \n",
       "3043            NaN  UK based Group of Angel Investors          Seed Funding   \n",
       "\n",
       "     Amount in USD                            Remarks  \n",
       "0     20,00,00,000                                NaN  \n",
       "1        80,48,394                                NaN  \n",
       "2      1,83,58,860                                NaN  \n",
       "3        30,00,000                                NaN  \n",
       "4        18,00,000                                NaN  \n",
       "...            ...                                ...  \n",
       "3039     45,00,000                                NaN  \n",
       "3040      8,25,000                Govt backed VC Fund  \n",
       "3041     15,00,000                                NaN  \n",
       "3042           NaN  Strategic Funding, Minority stake  \n",
       "3043      1,40,000                                NaN  \n",
       "\n",
       "[3044 rows x 10 columns]"
      ]
     },
     "execution_count": 164,
     "metadata": {},
     "output_type": "execute_result"
    }
   ],
   "source": [
    "data = pd.read_csv(\"startup_funding.csv\")\n",
    "data"
   ]
  },
  {
   "cell_type": "code",
   "execution_count": 165,
   "metadata": {},
   "outputs": [
    {
     "data": {
      "text/plain": [
       "(3044, 10)"
      ]
     },
     "execution_count": 165,
     "metadata": {},
     "output_type": "execute_result"
    }
   ],
   "source": [
    "data.shape"
   ]
  },
  {
   "cell_type": "code",
   "execution_count": 166,
   "metadata": {},
   "outputs": [
    {
     "data": {
      "text/plain": [
       "Sr No                 int64\n",
       "Date dd/mm/yyyy      object\n",
       "Startup Name         object\n",
       "Industry Vertical    object\n",
       "SubVertical          object\n",
       "City  Location       object\n",
       "Investors Name       object\n",
       "InvestmentnType      object\n",
       "Amount in USD        object\n",
       "Remarks              object\n",
       "dtype: object"
      ]
     },
     "execution_count": 166,
     "metadata": {},
     "output_type": "execute_result"
    }
   ],
   "source": [
    "data.dtypes"
   ]
  },
  {
   "cell_type": "code",
   "execution_count": 167,
   "metadata": {},
   "outputs": [
    {
     "data": {
      "text/plain": [
       "Index(['Sr No', 'Date dd/mm/yyyy', 'Startup Name', 'Industry Vertical',\n",
       "       'SubVertical', 'City  Location', 'Investors Name', 'InvestmentnType',\n",
       "       'Amount in USD', 'Remarks'],\n",
       "      dtype='object')"
      ]
     },
     "execution_count": 167,
     "metadata": {},
     "output_type": "execute_result"
    }
   ],
   "source": [
    "data.columns"
   ]
  },
  {
   "cell_type": "code",
   "execution_count": 168,
   "metadata": {},
   "outputs": [
    {
     "data": {
      "application/vnd.jupyter.widget-view+json": {
       "model_id": "f8f720a28bf149d1bea2ba2a47843f42",
       "version_major": 2,
       "version_minor": 0
      },
      "text/plain": [
       "interactive(children=(Dropdown(description='column', options=('Date dd/mm/yyyy', 'Startup Name', 'Industry Ver…"
      ]
     },
     "metadata": {},
     "output_type": "display_data"
    }
   ],
   "source": [
    "cols = ['Date dd/mm/yyyy', 'Startup Name', 'Industry Vertical',\n",
    "       'SubVertical', 'City  Location', 'Investors Name', 'InvestmentnType',\n",
    "       'Amount in USD', 'Remarks']\n",
    "@interact\n",
    "def outlier(column = cols):\n",
    "    print(\"Missing Values : \"+str(data[column].isnull().sum()))\n",
    "    print(\"Unique Values :\"+str(data[column].nunique()))"
   ]
  },
  {
   "cell_type": "code",
   "execution_count": 169,
   "metadata": {},
   "outputs": [
    {
     "data": {
      "text/html": [
       "<div>\n",
       "<style scoped>\n",
       "    .dataframe tbody tr th:only-of-type {\n",
       "        vertical-align: middle;\n",
       "    }\n",
       "\n",
       "    .dataframe tbody tr th {\n",
       "        vertical-align: top;\n",
       "    }\n",
       "\n",
       "    .dataframe thead th {\n",
       "        text-align: right;\n",
       "    }\n",
       "</style>\n",
       "<table border=\"1\" class=\"dataframe\">\n",
       "  <thead>\n",
       "    <tr style=\"text-align: right;\">\n",
       "      <th></th>\n",
       "      <th>Missing values</th>\n",
       "      <th>Percentage Missing</th>\n",
       "    </tr>\n",
       "  </thead>\n",
       "  <tbody>\n",
       "    <tr>\n",
       "      <th>Remarks</th>\n",
       "      <td>2625</td>\n",
       "      <td>0.862352</td>\n",
       "    </tr>\n",
       "    <tr>\n",
       "      <th>Amount in USD</th>\n",
       "      <td>960</td>\n",
       "      <td>0.315375</td>\n",
       "    </tr>\n",
       "    <tr>\n",
       "      <th>SubVertical</th>\n",
       "      <td>936</td>\n",
       "      <td>0.307490</td>\n",
       "    </tr>\n",
       "    <tr>\n",
       "      <th>City  Location</th>\n",
       "      <td>180</td>\n",
       "      <td>0.059133</td>\n",
       "    </tr>\n",
       "    <tr>\n",
       "      <th>Industry Vertical</th>\n",
       "      <td>171</td>\n",
       "      <td>0.056176</td>\n",
       "    </tr>\n",
       "    <tr>\n",
       "      <th>Investors Name</th>\n",
       "      <td>24</td>\n",
       "      <td>0.007884</td>\n",
       "    </tr>\n",
       "    <tr>\n",
       "      <th>InvestmentnType</th>\n",
       "      <td>4</td>\n",
       "      <td>0.001314</td>\n",
       "    </tr>\n",
       "    <tr>\n",
       "      <th>Sr No</th>\n",
       "      <td>0</td>\n",
       "      <td>0.000000</td>\n",
       "    </tr>\n",
       "    <tr>\n",
       "      <th>Date dd/mm/yyyy</th>\n",
       "      <td>0</td>\n",
       "      <td>0.000000</td>\n",
       "    </tr>\n",
       "    <tr>\n",
       "      <th>Startup Name</th>\n",
       "      <td>0</td>\n",
       "      <td>0.000000</td>\n",
       "    </tr>\n",
       "  </tbody>\n",
       "</table>\n",
       "</div>"
      ],
      "text/plain": [
       "                   Missing values  Percentage Missing\n",
       "Remarks                      2625            0.862352\n",
       "Amount in USD                 960            0.315375\n",
       "SubVertical                   936            0.307490\n",
       "City  Location                180            0.059133\n",
       "Industry Vertical             171            0.056176\n",
       "Investors Name                 24            0.007884\n",
       "InvestmentnType                 4            0.001314\n",
       "Sr No                           0            0.000000\n",
       "Date dd/mm/yyyy                 0            0.000000\n",
       "Startup Name                    0            0.000000"
      ]
     },
     "execution_count": 169,
     "metadata": {},
     "output_type": "execute_result"
    }
   ],
   "source": [
    "missing_values = data.isnull().sum()\n",
    "percentage_missing = missing_values/data.shape[0]\n",
    "pd.concat([missing_values,percentage_missing],axis=1,keys=[\"Missing values\",\"Percentage Missing\"]).sort_values(by=\"Percentage Missing\",ascending=False)"
   ]
  },
  {
   "cell_type": "code",
   "execution_count": 170,
   "metadata": {
    "scrolled": false
   },
   "outputs": [],
   "source": [
    "data.drop(\"Remarks\",axis=1,inplace=True)"
   ]
  },
  {
   "cell_type": "code",
   "execution_count": 171,
   "metadata": {},
   "outputs": [
    {
     "data": {
      "text/html": [
       "<div>\n",
       "<style scoped>\n",
       "    .dataframe tbody tr th:only-of-type {\n",
       "        vertical-align: middle;\n",
       "    }\n",
       "\n",
       "    .dataframe tbody tr th {\n",
       "        vertical-align: top;\n",
       "    }\n",
       "\n",
       "    .dataframe thead th {\n",
       "        text-align: right;\n",
       "    }\n",
       "</style>\n",
       "<table border=\"1\" class=\"dataframe\">\n",
       "  <thead>\n",
       "    <tr style=\"text-align: right;\">\n",
       "      <th></th>\n",
       "      <th>Sr No</th>\n",
       "      <th>Date dd/mm/yyyy</th>\n",
       "      <th>Startup Name</th>\n",
       "      <th>Industry Vertical</th>\n",
       "      <th>SubVertical</th>\n",
       "      <th>City  Location</th>\n",
       "      <th>Investors Name</th>\n",
       "      <th>InvestmentnType</th>\n",
       "      <th>Amount in USD</th>\n",
       "    </tr>\n",
       "  </thead>\n",
       "  <tbody>\n",
       "    <tr>\n",
       "      <th>0</th>\n",
       "      <td>1</td>\n",
       "      <td>09/01/2020</td>\n",
       "      <td>BYJU’S</td>\n",
       "      <td>E-Tech</td>\n",
       "      <td>E-learning</td>\n",
       "      <td>Bengaluru</td>\n",
       "      <td>Tiger Global Management</td>\n",
       "      <td>Private Equity Round</td>\n",
       "      <td>20,00,00,000</td>\n",
       "    </tr>\n",
       "    <tr>\n",
       "      <th>1</th>\n",
       "      <td>2</td>\n",
       "      <td>13/01/2020</td>\n",
       "      <td>Shuttl</td>\n",
       "      <td>Transportation</td>\n",
       "      <td>App based shuttle service</td>\n",
       "      <td>Gurgaon</td>\n",
       "      <td>Susquehanna Growth Equity</td>\n",
       "      <td>Series C</td>\n",
       "      <td>80,48,394</td>\n",
       "    </tr>\n",
       "    <tr>\n",
       "      <th>2</th>\n",
       "      <td>3</td>\n",
       "      <td>09/01/2020</td>\n",
       "      <td>Mamaearth</td>\n",
       "      <td>E-commerce</td>\n",
       "      <td>Retailer of baby and toddler products</td>\n",
       "      <td>Bengaluru</td>\n",
       "      <td>Sequoia Capital India</td>\n",
       "      <td>Series B</td>\n",
       "      <td>1,83,58,860</td>\n",
       "    </tr>\n",
       "    <tr>\n",
       "      <th>3</th>\n",
       "      <td>4</td>\n",
       "      <td>02/01/2020</td>\n",
       "      <td>https://www.wealthbucket.in/</td>\n",
       "      <td>FinTech</td>\n",
       "      <td>Online Investment</td>\n",
       "      <td>New Delhi</td>\n",
       "      <td>Vinod Khatumal</td>\n",
       "      <td>Pre-series A</td>\n",
       "      <td>30,00,000</td>\n",
       "    </tr>\n",
       "    <tr>\n",
       "      <th>4</th>\n",
       "      <td>5</td>\n",
       "      <td>02/01/2020</td>\n",
       "      <td>Fashor</td>\n",
       "      <td>Fashion and Apparel</td>\n",
       "      <td>Embroiled Clothes For Women</td>\n",
       "      <td>Mumbai</td>\n",
       "      <td>Sprout Venture Partners</td>\n",
       "      <td>Seed Round</td>\n",
       "      <td>18,00,000</td>\n",
       "    </tr>\n",
       "    <tr>\n",
       "      <th>...</th>\n",
       "      <td>...</td>\n",
       "      <td>...</td>\n",
       "      <td>...</td>\n",
       "      <td>...</td>\n",
       "      <td>...</td>\n",
       "      <td>...</td>\n",
       "      <td>...</td>\n",
       "      <td>...</td>\n",
       "      <td>...</td>\n",
       "    </tr>\n",
       "    <tr>\n",
       "      <th>3038</th>\n",
       "      <td>3039</td>\n",
       "      <td>28/01/2015</td>\n",
       "      <td>Grabhouse.com</td>\n",
       "      <td>NaN</td>\n",
       "      <td>NaN</td>\n",
       "      <td>NaN</td>\n",
       "      <td>Kalaari Capital, Sequoia Capital</td>\n",
       "      <td>Private Equity</td>\n",
       "      <td>25,00,000</td>\n",
       "    </tr>\n",
       "    <tr>\n",
       "      <th>3039</th>\n",
       "      <td>3040</td>\n",
       "      <td>29/01/2015</td>\n",
       "      <td>Printvenue</td>\n",
       "      <td>NaN</td>\n",
       "      <td>NaN</td>\n",
       "      <td>NaN</td>\n",
       "      <td>Asia Pacific Internet Group</td>\n",
       "      <td>Private Equity</td>\n",
       "      <td>45,00,000</td>\n",
       "    </tr>\n",
       "    <tr>\n",
       "      <th>3040</th>\n",
       "      <td>3041</td>\n",
       "      <td>29/01/2015</td>\n",
       "      <td>Graphene</td>\n",
       "      <td>NaN</td>\n",
       "      <td>NaN</td>\n",
       "      <td>NaN</td>\n",
       "      <td>KARSEMVEN Fund</td>\n",
       "      <td>Private Equity</td>\n",
       "      <td>8,25,000</td>\n",
       "    </tr>\n",
       "    <tr>\n",
       "      <th>3041</th>\n",
       "      <td>3042</td>\n",
       "      <td>30/01/2015</td>\n",
       "      <td>Mad Street Den</td>\n",
       "      <td>NaN</td>\n",
       "      <td>NaN</td>\n",
       "      <td>NaN</td>\n",
       "      <td>Exfinity Fund, GrowX Ventures.</td>\n",
       "      <td>Private Equity</td>\n",
       "      <td>15,00,000</td>\n",
       "    </tr>\n",
       "    <tr>\n",
       "      <th>3043</th>\n",
       "      <td>3044</td>\n",
       "      <td>31/01/2015</td>\n",
       "      <td>couponmachine.in</td>\n",
       "      <td>NaN</td>\n",
       "      <td>NaN</td>\n",
       "      <td>NaN</td>\n",
       "      <td>UK based Group of Angel Investors</td>\n",
       "      <td>Seed Funding</td>\n",
       "      <td>1,40,000</td>\n",
       "    </tr>\n",
       "  </tbody>\n",
       "</table>\n",
       "<p>3004 rows × 9 columns</p>\n",
       "</div>"
      ],
      "text/plain": [
       "      Sr No Date dd/mm/yyyy                  Startup Name  \\\n",
       "0         1      09/01/2020                        BYJU’S   \n",
       "1         2      13/01/2020                        Shuttl   \n",
       "2         3      09/01/2020                     Mamaearth   \n",
       "3         4      02/01/2020  https://www.wealthbucket.in/   \n",
       "4         5      02/01/2020                        Fashor   \n",
       "...     ...             ...                           ...   \n",
       "3038   3039      28/01/2015                 Grabhouse.com   \n",
       "3039   3040      29/01/2015                    Printvenue   \n",
       "3040   3041      29/01/2015                      Graphene   \n",
       "3041   3042      30/01/2015                Mad Street Den   \n",
       "3043   3044      31/01/2015              couponmachine.in   \n",
       "\n",
       "        Industry Vertical                            SubVertical  \\\n",
       "0                  E-Tech                             E-learning   \n",
       "1          Transportation              App based shuttle service   \n",
       "2              E-commerce  Retailer of baby and toddler products   \n",
       "3                 FinTech                      Online Investment   \n",
       "4     Fashion and Apparel            Embroiled Clothes For Women   \n",
       "...                   ...                                    ...   \n",
       "3038                  NaN                                    NaN   \n",
       "3039                  NaN                                    NaN   \n",
       "3040                  NaN                                    NaN   \n",
       "3041                  NaN                                    NaN   \n",
       "3043                  NaN                                    NaN   \n",
       "\n",
       "     City  Location                     Investors Name       InvestmentnType  \\\n",
       "0         Bengaluru            Tiger Global Management  Private Equity Round   \n",
       "1           Gurgaon          Susquehanna Growth Equity              Series C   \n",
       "2         Bengaluru              Sequoia Capital India              Series B   \n",
       "3         New Delhi                     Vinod Khatumal          Pre-series A   \n",
       "4            Mumbai            Sprout Venture Partners            Seed Round   \n",
       "...             ...                                ...                   ...   \n",
       "3038            NaN   Kalaari Capital, Sequoia Capital        Private Equity   \n",
       "3039            NaN        Asia Pacific Internet Group        Private Equity   \n",
       "3040            NaN                     KARSEMVEN Fund        Private Equity   \n",
       "3041            NaN     Exfinity Fund, GrowX Ventures.        Private Equity   \n",
       "3043            NaN  UK based Group of Angel Investors          Seed Funding   \n",
       "\n",
       "     Amount in USD  \n",
       "0     20,00,00,000  \n",
       "1        80,48,394  \n",
       "2      1,83,58,860  \n",
       "3        30,00,000  \n",
       "4        18,00,000  \n",
       "...            ...  \n",
       "3038     25,00,000  \n",
       "3039     45,00,000  \n",
       "3040      8,25,000  \n",
       "3041     15,00,000  \n",
       "3043      1,40,000  \n",
       "\n",
       "[3004 rows x 9 columns]"
      ]
     },
     "execution_count": 171,
     "metadata": {},
     "output_type": "execute_result"
    }
   ],
   "source": [
    "data = data[data.isnull().sum(axis=1)<=3]\n",
    "data"
   ]
  },
  {
   "cell_type": "code",
   "execution_count": 172,
   "metadata": {
    "scrolled": false
   },
   "outputs": [
    {
     "data": {
      "text/plain": [
       "array(['20,00,00,000', '80,48,394', '1,83,58,860', '30,00,000',\n",
       "       '18,00,000', '90,00,000', '15,00,00,000', '60,00,000',\n",
       "       '7,00,00,000', '5,00,00,000', '2,00,00,000', '1,20,00,000',\n",
       "       '3,00,00,000', '59,00,000', '20,00,000', '23,10,00,000',\n",
       "       '4,86,000', '15,00,000', 'undisclosed', '2,60,00,000',\n",
       "       '1,74,11,265', '13,00,000', '13,50,00,000', '3,00,000',\n",
       "       '22,00,00,000', '1,58,00,000', '28,30,00,000', '1,00,00,00,000',\n",
       "       '4,50,00,000', '58,50,00,000', 'unknown', '45,00,000', '33,00,000',\n",
       "       '50,00,000', '1,80,00,000', '10,00,000', '1,00,00,000',\n",
       "       '45,00,00,000', '16,00,000', '14,00,00,000', '3,80,80,000',\n",
       "       '12,50,00,000', '1,10,00,000', '5,10,00,000', '3,70,00,000',\n",
       "       '5,00,000', '11,00,00,000', '1,50,00,000', '65,90,000',\n",
       "       'Undisclosed', '3,90,00,00,000', '1,90,00,000', '25,00,000',\n",
       "       '1,45,000', '6,00,00,000', '1,60,00,000', '57,50,000', '3,19,605',\n",
       "       '48,89,975.54', '7,50,00,000', '27,39,034.68', '1,51,09,500.00',\n",
       "       '4,30,200', '1,55,00,000', '5,20,00,000', '35,84,000', '34,00,000',\n",
       "       '8,68,600', '1,15,00,000', '56,00,000', '1,70,00,000', '4,30,665',\n",
       "       '35,91,375', '2,00,000', '35,00,000', '63,20,820', '24,43,495',\n",
       "       '3,07,000', '14,342,000+', '22,60,00,000', '6,00,000',\n",
       "       '10,00,00,000', '2,20,00,000', '7,00,000', '8,00,000', '5,72,000',\n",
       "       '1,43,000', '1,38,995', '2,77,99,000', '30,00,00,000', '2,78,000',\n",
       "       '3,10,00,000', '2,95,00,000', '4,20,00,000', '17,00,000', nan,\n",
       "       '82,00,000', '40,00,000', '1,46,80,000', '3,50,00,000',\n",
       "       '22,50,00,000', '63,90,000', '15,72,00,000', '3,20,00,000',\n",
       "       '55,00,000', '4,00,000', '70,00,000', '1,20,000', '1,22,00,000',\n",
       "       '6,60,00,000', '80,00,000', '1,14,811', '58,50,000', '48,00,000',\n",
       "       '1,42,70,000', '1,34,00,000', '42,00,000', '60,00,00,000',\n",
       "       '62,50,000', '2,77,00,000', '4,40,000', '11,00,000', '4,37,000',\n",
       "       '1,80,000', '1,75,000', '2,90,00,000', '4,97,00,000', '2,80,000',\n",
       "       '4,36,000', '12,50,000', '12,00,00,000', '1,25,000', '2,30,00,000',\n",
       "       '2,15,00,000', '1,48,00,000', '1,01,00,000', '3,000,00',\n",
       "       '4,50,000', '34,50,000', '2,10,00,000', '91,00,000', '89,50,000',\n",
       "       '2,25,000', '9,49,000', '2,40,00,000', '4200000', '7,35,000',\n",
       "       '2,93,000', '1,40,00,000', '13,000,00', '3,07,600', '5,50,00,000',\n",
       "       '1,50,000', '28,00,000', '1,000,000,', '46,140', '46,000,00',\n",
       "       '11,000,00', '19,00,000', '2,46,000', '75,00,000', '9,78,000',\n",
       "       '2,50,000', '21,00,000', '97,00,000', '76,00,000', '3,84,00,000',\n",
       "       '8,20,00,000', '1,72,00,000', '6,20,00,000', '13,10,000',\n",
       "       '7,68,000', '12,40,000', '5,35,000', '43,00,000', '31,00,000',\n",
       "       '68,30,000', '8,70,00,000', '9,35,089', '3,11,200', '1,35,00,000',\n",
       "       '1,00,000', '1,48,434', '62,30,000', '38,00,000', '7,72,500',\n",
       "       '10,40,000', '11,50,00,000', '14,00,000', '1,57,00,000',\n",
       "       '47,00,000', '19,30,000', '1,88,40,000', '2,35,00,000',\n",
       "       '3,62,30,000', '80,000', '3,54,600', '2,50,00,000', '1,82,00,000',\n",
       "       '32,00,000', '4,70,00,000', '86,00,000', '62,40,000', '74,00,000',\n",
       "       '44,00,000', '1,23,00,000', '7,50,000', '23,00,000', '50,000',\n",
       "       '12,00,000', '1,75,00,000', '2,33,000', '2,70,00,000', '72,00,000',\n",
       "       '5,37,000', '27,00,000', '95,00,000', '1,95,00,000', '5,70,000',\n",
       "       '36,00,000', '8,72,000', '82,50,000', '9,00,000', '6,92,000',\n",
       "       '3,29,230', '27,00,00,000', '39,000', '1,30,00,000', '13,50,000',\n",
       "       '3,06,000', '3,87,00,000', '92,00,000', '3,36,000', '2,35,000',\n",
       "       '7,70,00,000', '77,00,000', '1,18,000', '7,22,000', '5,50,000',\n",
       "       '1,07,50,000', '25,00,00,000', '7,80,000', '69,00,000',\n",
       "       '62,00,000', '4,40,00,000', '1,54,00,000', '4,22,000', '8,50,000',\n",
       "       '2,43,000', '2,20,000', '7,83,000', '2,50,00,00,000',\n",
       "       '3,60,00,000', '3,12,000', '3,85,000', '1,87,000', '68,00,000',\n",
       "       '7,34,000', '8,00,00,000', '3,40,00,000', '26,00,000', '85,00,000',\n",
       "       '22,50,000', '4,64,000', '1,85,00,000', '5,40,000', '2,34,000',\n",
       "       '6,50,000', '2,32,000', '3,50,000', '78,00,000', '7,76,000',\n",
       "       '1,25,00,000', '52,00,000', '24,00,000', '2,15,000', '46,00,000',\n",
       "       '7,10,00,000', '3,11,000', '7,37,00,000', '3,90,000',\n",
       "       '10,45,00,000', '4,66,000', '53,00,000', '1,40,00,00,000',\n",
       "       '66,00,000', '5,80,000', '4,00,00,000', '61,00,000', '36,90,000',\n",
       "       '26,00,00,000', '3,10,000', '6,20,000', '46,50,000', '1,55,000',\n",
       "       '63,00,000', '2,45,000', '33,00,00,000', '2,75,000', '67,00,000',\n",
       "       '17,90,000', '30,000', '36,50,000', '4,43,000', '33,50,000',\n",
       "       '36,70,000', '1,91,000', '5,60,00,000', '3,82,000', '3,25,000',\n",
       "       '40,000', '58,00,000', '3,30,000', '2,24,00,000', '65,00,000',\n",
       "       '1,52,00,000', '3,75,000', '94,000', '3,66,000', '8,25,000',\n",
       "       '5,70,00,000', '41,00,000', '4,41,000', '1,47,000', '22,00,000',\n",
       "       '88,00,000', '1,06,000', '22,500', '68,000', '18,000',\n",
       "       '1,11,00,000', '2,97,000', '1,23,000', '1,62,000', '3,24,000',\n",
       "       '45,000', '90,000', '9,63,000', '2,18,000', '37,50,000',\n",
       "       '10,50,000', '25,000', '2,27,000', '9,71,000', '3,15,000',\n",
       "       '6,70,000', '4,48,000', '3,13,00,000', '2,98,000', '4,25,000',\n",
       "       '7,45,000', '15,80,000', '8,90,000', '27,000', '4,45,000',\n",
       "       '2,09,000', '1,56,00,000', '17,50,00,000', '6,75,000', '1,49,000',\n",
       "       '1,04,000', '7,40,000', '19,50,000', '1,22,50,000', '10,70,000',\n",
       "       '5,95,000', '75,000', '2,10,000', '1,48,000', '2,95,000',\n",
       "       '3,68,000', '3,76,000', '27,50,000', '89,000', '4,75,000',\n",
       "       '89,00,000', '2,23,608', '1,49,00,000', '2,30,000', '1,08,000',\n",
       "       '3,60,000', '81,000', '52,000', '9,70,000', '73,000', '37,000',\n",
       "       '1,60,000', '70,000', '18,00,00,000', '54,00,000', '1,65,00,000',\n",
       "       '14,50,00,000', '2,40,000', '5,20,000', '5,15,000', '3,70,000',\n",
       "       '1,85,000', '51,50,000', '2,25,00,000', '3,03,000', '3,20,000',\n",
       "       '1,66,00,000', '4,60,000', '4,90,000', '37,00,000', '5,30,000',\n",
       "       '50,00,00,000', '4,55,000', '3,05,000', '1,10,000', '14,50,000',\n",
       "       '77,000', '1,90,000', '29,50,000', '15,30,000', '6,40,000',\n",
       "       '1,30,000', '2,60,000', '2,05,000', '7,70,000', '42,50,000',\n",
       "       '4,10,000', '11,50,000', '3,75,00,000', '17,50,000',\n",
       "       '68,00,00,000', '96,00,000', '7,85,000', '9,00,00,000', '6,30,000',\n",
       "       '6,30,00,000', '1,56,000', '1,61,000', '3,95,000', '20,000',\n",
       "       '4,70,000', '1,02,00,000', '\\\\\\\\xc2\\\\\\\\xa020,000,000',\n",
       "       '\\\\\\\\xc2\\\\\\\\xa016,200,000', '\\\\\\\\xc2\\\\\\\\xa0N/A',\n",
       "       '\\\\\\\\xc2\\\\\\\\xa0600,000', '\\\\\\\\xc2\\\\\\\\xa0685,000',\n",
       "       '\\\\\\\\xc2\\\\\\\\xa019,350,000', '\\\\\\\\xc2\\\\\\\\xa05,000,000',\n",
       "       '\\\\\\\\xc2\\\\\\\\xa010,000,000', '7,90,000', '48,50,000', '1,27,50,000',\n",
       "       '70,00,00,000', '1,68,000', '13,70,00,000', '1,40,000',\n",
       "       '8,50,00,000', '2,70,000', '6,25,000', '1,65,000', '40,00,00,000',\n",
       "       '2,80,00,000', '1,66,000', '1,15,000', '16,600', '5,18,000',\n",
       "       '41,50,000', '2,90,000', '21,50,000', '3,80,000', '1,35,000',\n",
       "       '2,85,000', '30,768', '16,000', '1,47,50,000', '32,50,000'],\n",
       "      dtype=object)"
      ]
     },
     "execution_count": 172,
     "metadata": {},
     "output_type": "execute_result"
    }
   ],
   "source": [
    "data[\"Amount in USD\"].unique()"
   ]
  },
  {
   "cell_type": "code",
   "execution_count": 173,
   "metadata": {},
   "outputs": [
    {
     "data": {
      "text/plain": [
       "2602    2603\n",
       "Name: Sr No, dtype: int64"
      ]
     },
     "execution_count": 173,
     "metadata": {},
     "output_type": "execute_result"
    }
   ],
   "source": [
    "data[data[\"Amount in USD\"]==\"\\\\\\\\xc2\\\\\\\\xa020,000,000\"][\"Sr No\"]"
   ]
  },
  {
   "cell_type": "code",
   "execution_count": 174,
   "metadata": {},
   "outputs": [
    {
     "name": "stderr",
     "output_type": "stream",
     "text": [
      "<ipython-input-174-de909195e2ff>:1: SettingWithCopyWarning:\n",
      "\n",
      "\n",
      "A value is trying to be set on a copy of a slice from a DataFrame.\n",
      "Try using .loc[row_indexer,col_indexer] = value instead\n",
      "\n",
      "See the caveats in the documentation: https://pandas.pydata.org/pandas-docs/stable/user_guide/indexing.html#returning-a-view-versus-a-copy\n",
      "\n",
      "<ipython-input-174-de909195e2ff>:2: SettingWithCopyWarning:\n",
      "\n",
      "\n",
      "A value is trying to be set on a copy of a slice from a DataFrame.\n",
      "Try using .loc[row_indexer,col_indexer] = value instead\n",
      "\n",
      "See the caveats in the documentation: https://pandas.pydata.org/pandas-docs/stable/user_guide/indexing.html#returning-a-view-versus-a-copy\n",
      "\n",
      "C:\\Users\\hp\\anaconda3\\lib\\site-packages\\pandas\\core\\indexing.py:966: SettingWithCopyWarning:\n",
      "\n",
      "\n",
      "A value is trying to be set on a copy of a slice from a DataFrame.\n",
      "Try using .loc[row_indexer,col_indexer] = value instead\n",
      "\n",
      "See the caveats in the documentation: https://pandas.pydata.org/pandas-docs/stable/user_guide/indexing.html#returning-a-view-versus-a-copy\n",
      "\n",
      "<ipython-input-174-de909195e2ff>:5: SettingWithCopyWarning:\n",
      "\n",
      "\n",
      "A value is trying to be set on a copy of a slice from a DataFrame.\n",
      "Try using .loc[row_indexer,col_indexer] = value instead\n",
      "\n",
      "See the caveats in the documentation: https://pandas.pydata.org/pandas-docs/stable/user_guide/indexing.html#returning-a-view-versus-a-copy\n",
      "\n"
     ]
    },
    {
     "data": {
      "text/html": [
       "<div>\n",
       "<style scoped>\n",
       "    .dataframe tbody tr th:only-of-type {\n",
       "        vertical-align: middle;\n",
       "    }\n",
       "\n",
       "    .dataframe tbody tr th {\n",
       "        vertical-align: top;\n",
       "    }\n",
       "\n",
       "    .dataframe thead th {\n",
       "        text-align: right;\n",
       "    }\n",
       "</style>\n",
       "<table border=\"1\" class=\"dataframe\">\n",
       "  <thead>\n",
       "    <tr style=\"text-align: right;\">\n",
       "      <th></th>\n",
       "      <th>Sr No</th>\n",
       "      <th>Date dd/mm/yyyy</th>\n",
       "      <th>Startup Name</th>\n",
       "      <th>Industry Vertical</th>\n",
       "      <th>SubVertical</th>\n",
       "      <th>City  Location</th>\n",
       "      <th>Investors Name</th>\n",
       "      <th>InvestmentnType</th>\n",
       "      <th>Amount in USD</th>\n",
       "    </tr>\n",
       "  </thead>\n",
       "  <tbody>\n",
       "    <tr>\n",
       "      <th>0</th>\n",
       "      <td>1</td>\n",
       "      <td>09/01/2020</td>\n",
       "      <td>BYJU’S</td>\n",
       "      <td>E-Tech</td>\n",
       "      <td>E-learning</td>\n",
       "      <td>Bengaluru</td>\n",
       "      <td>Tiger Global Management</td>\n",
       "      <td>Private Equity Round</td>\n",
       "      <td>200000000.0</td>\n",
       "    </tr>\n",
       "    <tr>\n",
       "      <th>1</th>\n",
       "      <td>2</td>\n",
       "      <td>13/01/2020</td>\n",
       "      <td>Shuttl</td>\n",
       "      <td>Transportation</td>\n",
       "      <td>App based shuttle service</td>\n",
       "      <td>Gurgaon</td>\n",
       "      <td>Susquehanna Growth Equity</td>\n",
       "      <td>Series C</td>\n",
       "      <td>8048394.0</td>\n",
       "    </tr>\n",
       "    <tr>\n",
       "      <th>2</th>\n",
       "      <td>3</td>\n",
       "      <td>09/01/2020</td>\n",
       "      <td>Mamaearth</td>\n",
       "      <td>E-commerce</td>\n",
       "      <td>Retailer of baby and toddler products</td>\n",
       "      <td>Bengaluru</td>\n",
       "      <td>Sequoia Capital India</td>\n",
       "      <td>Series B</td>\n",
       "      <td>18358860.0</td>\n",
       "    </tr>\n",
       "    <tr>\n",
       "      <th>3</th>\n",
       "      <td>4</td>\n",
       "      <td>02/01/2020</td>\n",
       "      <td>https://www.wealthbucket.in/</td>\n",
       "      <td>FinTech</td>\n",
       "      <td>Online Investment</td>\n",
       "      <td>New Delhi</td>\n",
       "      <td>Vinod Khatumal</td>\n",
       "      <td>Pre-series A</td>\n",
       "      <td>3000000.0</td>\n",
       "    </tr>\n",
       "    <tr>\n",
       "      <th>4</th>\n",
       "      <td>5</td>\n",
       "      <td>02/01/2020</td>\n",
       "      <td>Fashor</td>\n",
       "      <td>Fashion and Apparel</td>\n",
       "      <td>Embroiled Clothes For Women</td>\n",
       "      <td>Mumbai</td>\n",
       "      <td>Sprout Venture Partners</td>\n",
       "      <td>Seed Round</td>\n",
       "      <td>1800000.0</td>\n",
       "    </tr>\n",
       "    <tr>\n",
       "      <th>...</th>\n",
       "      <td>...</td>\n",
       "      <td>...</td>\n",
       "      <td>...</td>\n",
       "      <td>...</td>\n",
       "      <td>...</td>\n",
       "      <td>...</td>\n",
       "      <td>...</td>\n",
       "      <td>...</td>\n",
       "      <td>...</td>\n",
       "    </tr>\n",
       "    <tr>\n",
       "      <th>3038</th>\n",
       "      <td>3039</td>\n",
       "      <td>28/01/2015</td>\n",
       "      <td>Grabhouse.com</td>\n",
       "      <td>NaN</td>\n",
       "      <td>NaN</td>\n",
       "      <td>NaN</td>\n",
       "      <td>Kalaari Capital, Sequoia Capital</td>\n",
       "      <td>Private Equity</td>\n",
       "      <td>2500000.0</td>\n",
       "    </tr>\n",
       "    <tr>\n",
       "      <th>3039</th>\n",
       "      <td>3040</td>\n",
       "      <td>29/01/2015</td>\n",
       "      <td>Printvenue</td>\n",
       "      <td>NaN</td>\n",
       "      <td>NaN</td>\n",
       "      <td>NaN</td>\n",
       "      <td>Asia Pacific Internet Group</td>\n",
       "      <td>Private Equity</td>\n",
       "      <td>4500000.0</td>\n",
       "    </tr>\n",
       "    <tr>\n",
       "      <th>3040</th>\n",
       "      <td>3041</td>\n",
       "      <td>29/01/2015</td>\n",
       "      <td>Graphene</td>\n",
       "      <td>NaN</td>\n",
       "      <td>NaN</td>\n",
       "      <td>NaN</td>\n",
       "      <td>KARSEMVEN Fund</td>\n",
       "      <td>Private Equity</td>\n",
       "      <td>825000.0</td>\n",
       "    </tr>\n",
       "    <tr>\n",
       "      <th>3041</th>\n",
       "      <td>3042</td>\n",
       "      <td>30/01/2015</td>\n",
       "      <td>Mad Street Den</td>\n",
       "      <td>NaN</td>\n",
       "      <td>NaN</td>\n",
       "      <td>NaN</td>\n",
       "      <td>Exfinity Fund, GrowX Ventures.</td>\n",
       "      <td>Private Equity</td>\n",
       "      <td>1500000.0</td>\n",
       "    </tr>\n",
       "    <tr>\n",
       "      <th>3043</th>\n",
       "      <td>3044</td>\n",
       "      <td>31/01/2015</td>\n",
       "      <td>couponmachine.in</td>\n",
       "      <td>NaN</td>\n",
       "      <td>NaN</td>\n",
       "      <td>NaN</td>\n",
       "      <td>UK based Group of Angel Investors</td>\n",
       "      <td>Seed Funding</td>\n",
       "      <td>140000.0</td>\n",
       "    </tr>\n",
       "  </tbody>\n",
       "</table>\n",
       "<p>3004 rows × 9 columns</p>\n",
       "</div>"
      ],
      "text/plain": [
       "      Sr No Date dd/mm/yyyy                  Startup Name  \\\n",
       "0         1      09/01/2020                        BYJU’S   \n",
       "1         2      13/01/2020                        Shuttl   \n",
       "2         3      09/01/2020                     Mamaearth   \n",
       "3         4      02/01/2020  https://www.wealthbucket.in/   \n",
       "4         5      02/01/2020                        Fashor   \n",
       "...     ...             ...                           ...   \n",
       "3038   3039      28/01/2015                 Grabhouse.com   \n",
       "3039   3040      29/01/2015                    Printvenue   \n",
       "3040   3041      29/01/2015                      Graphene   \n",
       "3041   3042      30/01/2015                Mad Street Den   \n",
       "3043   3044      31/01/2015              couponmachine.in   \n",
       "\n",
       "        Industry Vertical                            SubVertical  \\\n",
       "0                  E-Tech                             E-learning   \n",
       "1          Transportation              App based shuttle service   \n",
       "2              E-commerce  Retailer of baby and toddler products   \n",
       "3                 FinTech                      Online Investment   \n",
       "4     Fashion and Apparel            Embroiled Clothes For Women   \n",
       "...                   ...                                    ...   \n",
       "3038                  NaN                                    NaN   \n",
       "3039                  NaN                                    NaN   \n",
       "3040                  NaN                                    NaN   \n",
       "3041                  NaN                                    NaN   \n",
       "3043                  NaN                                    NaN   \n",
       "\n",
       "     City  Location                     Investors Name       InvestmentnType  \\\n",
       "0         Bengaluru            Tiger Global Management  Private Equity Round   \n",
       "1           Gurgaon          Susquehanna Growth Equity              Series C   \n",
       "2         Bengaluru              Sequoia Capital India              Series B   \n",
       "3         New Delhi                     Vinod Khatumal          Pre-series A   \n",
       "4            Mumbai            Sprout Venture Partners            Seed Round   \n",
       "...             ...                                ...                   ...   \n",
       "3038            NaN   Kalaari Capital, Sequoia Capital        Private Equity   \n",
       "3039            NaN        Asia Pacific Internet Group        Private Equity   \n",
       "3040            NaN                     KARSEMVEN Fund        Private Equity   \n",
       "3041            NaN     Exfinity Fund, GrowX Ventures.        Private Equity   \n",
       "3043            NaN  UK based Group of Angel Investors          Seed Funding   \n",
       "\n",
       "      Amount in USD  \n",
       "0       200000000.0  \n",
       "1         8048394.0  \n",
       "2        18358860.0  \n",
       "3         3000000.0  \n",
       "4         1800000.0  \n",
       "...             ...  \n",
       "3038      2500000.0  \n",
       "3039      4500000.0  \n",
       "3040       825000.0  \n",
       "3041      1500000.0  \n",
       "3043       140000.0  \n",
       "\n",
       "[3004 rows x 9 columns]"
      ]
     },
     "execution_count": 174,
     "metadata": {},
     "output_type": "execute_result"
    }
   ],
   "source": [
    "data[\"Amount in USD\"]=data[\"Amount in USD\"].str.replace(\",\",\"\")\n",
    "data[\"Amount in USD\"] = data[\"Amount in USD\"].str.extract(\"([0-9]+$)\",expand=False)\n",
    "data.loc[data[\"Amount in USD\"].str.contains(\"^[0-9]*\\.?[0-9]+$\",regex=True)==False,\"Amount in USD\"]=\"-1\"\n",
    "data.loc[data[\"Amount in USD\"].isnull()==True,\"Amount in USD\"]=\"-1\"\n",
    "data[\"Amount in USD\"] = data[\"Amount in USD\"].astype(float)\n",
    "data"
   ]
  },
  {
   "cell_type": "code",
   "execution_count": 175,
   "metadata": {},
   "outputs": [
    {
     "data": {
      "text/html": [
       "<div>\n",
       "<style scoped>\n",
       "    .dataframe tbody tr th:only-of-type {\n",
       "        vertical-align: middle;\n",
       "    }\n",
       "\n",
       "    .dataframe tbody tr th {\n",
       "        vertical-align: top;\n",
       "    }\n",
       "\n",
       "    .dataframe thead th {\n",
       "        text-align: right;\n",
       "    }\n",
       "</style>\n",
       "<table border=\"1\" class=\"dataframe\">\n",
       "  <thead>\n",
       "    <tr style=\"text-align: right;\">\n",
       "      <th></th>\n",
       "      <th>Missing values</th>\n",
       "      <th>Percentage Missing</th>\n",
       "    </tr>\n",
       "  </thead>\n",
       "  <tbody>\n",
       "    <tr>\n",
       "      <th>SubVertical</th>\n",
       "      <td>896</td>\n",
       "      <td>0.298269</td>\n",
       "    </tr>\n",
       "    <tr>\n",
       "      <th>City  Location</th>\n",
       "      <td>140</td>\n",
       "      <td>0.046605</td>\n",
       "    </tr>\n",
       "    <tr>\n",
       "      <th>Industry Vertical</th>\n",
       "      <td>131</td>\n",
       "      <td>0.043609</td>\n",
       "    </tr>\n",
       "    <tr>\n",
       "      <th>Investors Name</th>\n",
       "      <td>24</td>\n",
       "      <td>0.007989</td>\n",
       "    </tr>\n",
       "    <tr>\n",
       "      <th>InvestmentnType</th>\n",
       "      <td>4</td>\n",
       "      <td>0.001332</td>\n",
       "    </tr>\n",
       "    <tr>\n",
       "      <th>Sr No</th>\n",
       "      <td>0</td>\n",
       "      <td>0.000000</td>\n",
       "    </tr>\n",
       "    <tr>\n",
       "      <th>Date dd/mm/yyyy</th>\n",
       "      <td>0</td>\n",
       "      <td>0.000000</td>\n",
       "    </tr>\n",
       "    <tr>\n",
       "      <th>Startup Name</th>\n",
       "      <td>0</td>\n",
       "      <td>0.000000</td>\n",
       "    </tr>\n",
       "    <tr>\n",
       "      <th>Amount in USD</th>\n",
       "      <td>0</td>\n",
       "      <td>0.000000</td>\n",
       "    </tr>\n",
       "  </tbody>\n",
       "</table>\n",
       "</div>"
      ],
      "text/plain": [
       "                   Missing values  Percentage Missing\n",
       "SubVertical                   896            0.298269\n",
       "City  Location                140            0.046605\n",
       "Industry Vertical             131            0.043609\n",
       "Investors Name                 24            0.007989\n",
       "InvestmentnType                 4            0.001332\n",
       "Sr No                           0            0.000000\n",
       "Date dd/mm/yyyy                 0            0.000000\n",
       "Startup Name                    0            0.000000\n",
       "Amount in USD                   0            0.000000"
      ]
     },
     "execution_count": 175,
     "metadata": {},
     "output_type": "execute_result"
    }
   ],
   "source": [
    "missing_values = data.isnull().sum()\n",
    "percentage_missing = missing_values/data.shape[0]\n",
    "pd.concat([missing_values,percentage_missing],axis=1,keys=[\"Missing values\",\"Percentage Missing\"]).sort_values(by=\"Percentage Missing\",ascending=False)"
   ]
  },
  {
   "cell_type": "code",
   "execution_count": 176,
   "metadata": {},
   "outputs": [
    {
     "name": "stderr",
     "output_type": "stream",
     "text": [
      "<ipython-input-176-d34ea80c05ab>:1: SettingWithCopyWarning:\n",
      "\n",
      "\n",
      "A value is trying to be set on a copy of a slice from a DataFrame.\n",
      "Try using .loc[row_indexer,col_indexer] = value instead\n",
      "\n",
      "See the caveats in the documentation: https://pandas.pydata.org/pandas-docs/stable/user_guide/indexing.html#returning-a-view-versus-a-copy\n",
      "\n"
     ]
    }
   ],
   "source": [
    "data[\"City  Location\"] = data[\"City  Location\"].str.extract(\"([A-Za-z]+$)\",expand=False)"
   ]
  },
  {
   "cell_type": "code",
   "execution_count": 177,
   "metadata": {},
   "outputs": [
    {
     "name": "stderr",
     "output_type": "stream",
     "text": [
      "C:\\Users\\hp\\anaconda3\\lib\\site-packages\\pandas\\core\\indexing.py:966: SettingWithCopyWarning:\n",
      "\n",
      "\n",
      "A value is trying to be set on a copy of a slice from a DataFrame.\n",
      "Try using .loc[row_indexer,col_indexer] = value instead\n",
      "\n",
      "See the caveats in the documentation: https://pandas.pydata.org/pandas-docs/stable/user_guide/indexing.html#returning-a-view-versus-a-copy\n",
      "\n"
     ]
    }
   ],
   "source": [
    "data.loc[data[\"SubVertical\"].isnull()==True,\"SubVertical\"]=\"Unknown\"\n",
    "data.loc[data[\"Investors Name\"].isnull()==True,\"Investors Name\"]=\"Unknown\"\n",
    "data.loc[data[\"City  Location\"].isnull()==True,\"City  Location\"]=\"Unknown\"\n",
    "data.loc[data[\"InvestmentnType\"].isnull()==True,\"InvestmentnType\"]=\"Unknown\"\n",
    "data.loc[data[\"Industry Vertical\"].isnull()==True,\"Industry Vertical\"]=\"Unknown\""
   ]
  },
  {
   "cell_type": "code",
   "execution_count": 178,
   "metadata": {},
   "outputs": [
    {
     "data": {
      "text/html": [
       "<div>\n",
       "<style scoped>\n",
       "    .dataframe tbody tr th:only-of-type {\n",
       "        vertical-align: middle;\n",
       "    }\n",
       "\n",
       "    .dataframe tbody tr th {\n",
       "        vertical-align: top;\n",
       "    }\n",
       "\n",
       "    .dataframe thead th {\n",
       "        text-align: right;\n",
       "    }\n",
       "</style>\n",
       "<table border=\"1\" class=\"dataframe\">\n",
       "  <thead>\n",
       "    <tr style=\"text-align: right;\">\n",
       "      <th></th>\n",
       "      <th>Startup Name</th>\n",
       "      <th>Amount in USD</th>\n",
       "    </tr>\n",
       "  </thead>\n",
       "  <tbody>\n",
       "    <tr>\n",
       "      <th>0</th>\n",
       "      <td>\"BYJU\\\\'S\"</td>\n",
       "      <td>150000000.0</td>\n",
       "    </tr>\n",
       "    <tr>\n",
       "      <th>1</th>\n",
       "      <td>#Fame</td>\n",
       "      <td>10000000.0</td>\n",
       "    </tr>\n",
       "    <tr>\n",
       "      <th>3</th>\n",
       "      <td>19th mile</td>\n",
       "      <td>180000.0</td>\n",
       "    </tr>\n",
       "    <tr>\n",
       "      <th>5</th>\n",
       "      <td>1mg</td>\n",
       "      <td>39999999.0</td>\n",
       "    </tr>\n",
       "    <tr>\n",
       "      <th>6</th>\n",
       "      <td>1mg (Healthkartplus)</td>\n",
       "      <td>6000000.0</td>\n",
       "    </tr>\n",
       "    <tr>\n",
       "      <th>...</th>\n",
       "      <td>...</td>\n",
       "      <td>...</td>\n",
       "    </tr>\n",
       "    <tr>\n",
       "      <th>2424</th>\n",
       "      <td>quizizz</td>\n",
       "      <td>3000000.0</td>\n",
       "    </tr>\n",
       "    <tr>\n",
       "      <th>2426</th>\n",
       "      <td>trueHb</td>\n",
       "      <td>2400000.0</td>\n",
       "    </tr>\n",
       "    <tr>\n",
       "      <th>2430</th>\n",
       "      <td>wWhere</td>\n",
       "      <td>200000.0</td>\n",
       "    </tr>\n",
       "    <tr>\n",
       "      <th>2431</th>\n",
       "      <td>wayForward</td>\n",
       "      <td>1000000.0</td>\n",
       "    </tr>\n",
       "    <tr>\n",
       "      <th>2432</th>\n",
       "      <td>zippserv</td>\n",
       "      <td>440000.0</td>\n",
       "    </tr>\n",
       "  </tbody>\n",
       "</table>\n",
       "<p>1752 rows × 2 columns</p>\n",
       "</div>"
      ],
      "text/plain": [
       "              Startup Name  Amount in USD\n",
       "0               \"BYJU\\\\'S\"    150000000.0\n",
       "1                    #Fame     10000000.0\n",
       "3                19th mile       180000.0\n",
       "5                      1mg     39999999.0\n",
       "6     1mg (Healthkartplus)      6000000.0\n",
       "...                    ...            ...\n",
       "2424               quizizz      3000000.0\n",
       "2426                trueHb      2400000.0\n",
       "2430                wWhere       200000.0\n",
       "2431            wayForward      1000000.0\n",
       "2432              zippserv       440000.0\n",
       "\n",
       "[1752 rows x 2 columns]"
      ]
     },
     "execution_count": 178,
     "metadata": {},
     "output_type": "execute_result"
    }
   ],
   "source": [
    "Total_amount = data[[\"Startup Name\",\"Amount in USD\"]].groupby(data[\"Startup Name\"]).agg(\"sum\").reset_index()\n",
    "Total_amount = Total_amount[Total_amount[\"Amount in USD\"]!=-1]\n",
    "Total_amount"
   ]
  },
  {
   "cell_type": "code",
   "execution_count": 179,
   "metadata": {},
   "outputs": [
    {
     "name": "stdout",
     "output_type": "stream",
     "text": [
      "Top 5 Startups with highest investment\n"
     ]
    },
    {
     "data": {
      "text/html": [
       "<div>\n",
       "<style scoped>\n",
       "    .dataframe tbody tr th:only-of-type {\n",
       "        vertical-align: middle;\n",
       "    }\n",
       "\n",
       "    .dataframe tbody tr th {\n",
       "        vertical-align: top;\n",
       "    }\n",
       "\n",
       "    .dataframe thead th {\n",
       "        text-align: right;\n",
       "    }\n",
       "</style>\n",
       "<table border=\"1\" class=\"dataframe\">\n",
       "  <thead>\n",
       "    <tr style=\"text-align: right;\">\n",
       "      <th></th>\n",
       "      <th>Startup Name</th>\n",
       "      <th>Amount in USD</th>\n",
       "    </tr>\n",
       "  </thead>\n",
       "  <tbody>\n",
       "    <tr>\n",
       "      <th>685</th>\n",
       "      <td>Flipkart</td>\n",
       "      <td>4.059700e+09</td>\n",
       "    </tr>\n",
       "    <tr>\n",
       "      <th>1637</th>\n",
       "      <td>Rapido Bike Taxi</td>\n",
       "      <td>3.900000e+09</td>\n",
       "    </tr>\n",
       "    <tr>\n",
       "      <th>1499</th>\n",
       "      <td>Paytm</td>\n",
       "      <td>3.148950e+09</td>\n",
       "    </tr>\n",
       "    <tr>\n",
       "      <th>1439</th>\n",
       "      <td>Ola</td>\n",
       "      <td>9.845000e+08</td>\n",
       "    </tr>\n",
       "    <tr>\n",
       "      <th>2094</th>\n",
       "      <td>Udaan</td>\n",
       "      <td>8.700000e+08</td>\n",
       "    </tr>\n",
       "  </tbody>\n",
       "</table>\n",
       "</div>"
      ],
      "text/plain": [
       "          Startup Name  Amount in USD\n",
       "685           Flipkart   4.059700e+09\n",
       "1637  Rapido Bike Taxi   3.900000e+09\n",
       "1499             Paytm   3.148950e+09\n",
       "1439               Ola   9.845000e+08\n",
       "2094             Udaan   8.700000e+08"
      ]
     },
     "execution_count": 179,
     "metadata": {},
     "output_type": "execute_result"
    }
   ],
   "source": [
    "print(\"Top 5 Startups with highest investment\")\n",
    "Total_amount.nlargest(5,\"Amount in USD\").round(5)"
   ]
  },
  {
   "cell_type": "code",
   "execution_count": 180,
   "metadata": {},
   "outputs": [
    {
     "name": "stdout",
     "output_type": "stream",
     "text": [
      "Top 5 Startups with minimum investment\n"
     ]
    },
    {
     "data": {
      "text/html": [
       "<div>\n",
       "<style scoped>\n",
       "    .dataframe tbody tr th:only-of-type {\n",
       "        vertical-align: middle;\n",
       "    }\n",
       "\n",
       "    .dataframe tbody tr th {\n",
       "        vertical-align: top;\n",
       "    }\n",
       "\n",
       "    .dataframe thead th {\n",
       "        text-align: right;\n",
       "    }\n",
       "</style>\n",
       "<table border=\"1\" class=\"dataframe\">\n",
       "  <thead>\n",
       "    <tr style=\"text-align: right;\">\n",
       "      <th></th>\n",
       "      <th>Startup Name</th>\n",
       "      <th>Amount in USD</th>\n",
       "    </tr>\n",
       "  </thead>\n",
       "  <tbody>\n",
       "    <tr>\n",
       "      <th>1633</th>\n",
       "      <td>RailYatri</td>\n",
       "      <td>-4.0</td>\n",
       "    </tr>\n",
       "    <tr>\n",
       "      <th>243</th>\n",
       "      <td>BookEventz</td>\n",
       "      <td>-3.0</td>\n",
       "    </tr>\n",
       "    <tr>\n",
       "      <th>2239</th>\n",
       "      <td>Wydr</td>\n",
       "      <td>-3.0</td>\n",
       "    </tr>\n",
       "    <tr>\n",
       "      <th>18</th>\n",
       "      <td>91SpringBoard</td>\n",
       "      <td>-2.0</td>\n",
       "    </tr>\n",
       "    <tr>\n",
       "      <th>141</th>\n",
       "      <td>Awaaz De</td>\n",
       "      <td>-2.0</td>\n",
       "    </tr>\n",
       "  </tbody>\n",
       "</table>\n",
       "</div>"
      ],
      "text/plain": [
       "       Startup Name  Amount in USD\n",
       "1633      RailYatri           -4.0\n",
       "243      BookEventz           -3.0\n",
       "2239           Wydr           -3.0\n",
       "18    91SpringBoard           -2.0\n",
       "141        Awaaz De           -2.0"
      ]
     },
     "execution_count": 180,
     "metadata": {},
     "output_type": "execute_result"
    }
   ],
   "source": [
    "print(\"Top 5 Startups with minimum investment\")\n",
    "Total_amount.nsmallest(5,\"Amount in USD\")"
   ]
  },
  {
   "cell_type": "code",
   "execution_count": 181,
   "metadata": {},
   "outputs": [
    {
     "data": {
      "application/vnd.plotly.v1+json": {
       "config": {
        "plotlyServerURL": "https://plot.ly"
       },
       "data": [
        {
         "hovertemplate": "<b>%{hovertext}</b><br><br>index=%{x}<br>Amount in USD=%{y}<extra></extra>",
         "hovertext": [
          "\"BYJU\\\\'S\"",
          "#Fame",
          "19th mile",
          "1mg",
          "1mg (Healthkartplus)",
          "20Dresses",
          "33Coupons",
          "360Ride",
          "3Dexter",
          "3HCare",
          "3rdFlix",
          "48East",
          "4tigo",
          "5th Vital",
          "6Degree",
          "75F",
          "91SpringBoard",
          "99PerHour",
          "9Stacks",
          "A&R Bon Vivants",
          "ABI Health",
          "AEON Learning",
          "AYE Finance",
          "Aadyah",
          "Aahaa",
          "Aahaa Stores",
          "Aasaanjobs",
          "Aashiyaan",
          "Aavishkaar-Intellecap Group",
          "Absentia",
          "Absentia VR",
          "Ace Turtle",
          "Ace2three",
          "Acko",
          "ActOnMagic",
          "Active AI",
          "Active.ai",
          "Actofit",
          "Ad2pro",
          "AdStringO",
          "AdUrCup",
          "AdWyze",
          "Address Health",
          "AdmitKard",
          "Advantage Club",
          "Advenio",
          "Adytude",
          "Aequm",
          "Affimity",
          "Affordplan",
          "Agara Labs",
          "AgentDesks",
          "Agricxlab",
          "Agrostar",
          "AirMed Labs",
          "AirZaar",
          "Airpay",
          "Aisle",
          "Aisle.co",
          "Akosha",
          "Alef\\\\nMobitech",
          "AllIzHealth",
          "Allygrow Technologies",
          "AlmaMapper",
          "Alpha Capital",
          "Alteria Capital",
          "Alternacare",
          "Altizone",
          "Amagi Media Labs",
          "American Vision",
          "Ampere Vehicles",
          "Anandakanda",
          "Anchanto",
          "Annapurna Finance",
          "Antuit",
          "AppBrowzer",
          "AppDaily",
          "AppLop",
          "AppVirality",
          "Appario Retail Pvt Ltd.",
          "Appbase",
          "Appedo",
          "Appie",
          "AppilyEver",
          "Appknox",
          "Applicate",
          "Applied Solar Technologies",
          "Applop",
          "AppsDaily",
          "Appsdaily",
          "Appvigil",
          "Arcatron Mobility",
          "Ark Robot",
          "Arkin Net",
          "Arohan Financial Services",
          "Arth DesignBuild",
          "Artoo",
          "Arya.ai",
          "Aryaka",
          "Asia Institute Of Medical Science",
          "AskMyGift",
          "Ather Energy",
          "Atlan",
          "Atomberg",
          "Atomberg Technology",
          "Attune Technologies",
          "Augrav",
          "AutoGrid",
          "Automation Anywhere",
          "Autorox.co",
          "Avail Finance",
          "AvailFinance",
          "Avanti Learning",
          "Avenue Growth",
          "Avishkaar Box",
          "Awaaz De",
          "Awesummly",
          "Awfis",
          "Axio",
          "Axtria",
          "Aye Finance",
          "AyeFinance",
          "Azah",
          "B9 Beverages",
          "BHIVE Workspace",
          "BYJU\\\\xe2\\\\x80\\\\x99s",
          "BYJU’S",
          "Babajobs",
          "Baby Berry",
          "Babygogo",
          "Badiyajobs",
          "Balance App",
          "Bank Bazaar",
          "BankBazaar",
          "BankerBay",
          "Bats on delivery",
          "Baxi",
          "Be U Salons",
          "BeaconsTalk",
          "Beardo",
          "Belita",
          "Belong",
          "Bestdealfinance",
          "Betaout",
          "Better Mortgage",
          "BetterPlace",
          "BharatPe",
          "BhiveWorkspace",
          "BiBox",
          "Bidgely",
          "Big Basket",
          "Big Fish Ventures",
          "BigBasket",
          "BigStylist",
          "BigStylist.com",
          "BillDesk",
          "Billion Loans",
          "Bira91",
          "Biryani Blues",
          "Biryani By Kilo",
          "Bite Club",
          "Biz2Credit",
          "Bizom",
          "Bizongo",
          "Black Soil",
          "Black White Orange",
          "BlackBuck",
          "Blackbuck",
          "Blood n Care",
          "Blowhorn",
          "Blubox",
          "BlueStone",
          "Bluebirch",
          "Bluegape",
          "Bluegape.com",
          "Board Infinity",
          "Bolo App",
          "Bombay Shaving Company",
          "Bombay Shirt Company",
          "Bona Vita",
          "Bonhomia",
          "Bonphulapl",
          "Book My Show",
          "Book Servicing",
          "BookEventz",
          "BookMeIn",
          "BookMyBai",
          "BookMyShow",
          "Box8",
          "Boxmyspace",
          "Boxx.ai",
          "Brick2Wall",
          "Briston Technomach",
          "BroEx",
          "BrowserStack",
          "Buddy",
          "Buddy4studdy",
          "Bueno",
          "BuildSupply",
          "BuildTraders",
          "Buildzar",
          "Bumper",
          "Burger Singh",
          "Buttercups",
          "BuyHatke",
          "Byju\\\\xe2\\\\x80\\\\x99s",
          "CBREX",
          "CBS",
          "CCAvenue",
          "CCavenue",
          "CREO",
          "CaRPM",
          "Cabsguru",
          "Call Health",
          "Campus Diaries",
          "CanvasFlip",
          "Canvera",
          "Capabiliti",
          "Capillary",
          "Capillary Tech",
          "Capital Float",
          "Capricoast",
          "Capzest",
          "CarDekho",
          "CarDekho.com",
          "CarTrade",
          "Caratlane.com",
          "Caravan Craft",
          "Caravan Craft Retail",
          "Carcrew.in",
          "Care24",
          "Career Anna",
          "Careongo",
          "Carl\\\\xe2\\\\x80\\\\x99s Jr",
          "Cars24",
          "Cartrade",
          "Casa2inns",
          "Cash Suvidha",
          "CashFree",
          "Cashe",
          "Cashflo",
          "Cashify",
          "Cashkaro.com",
          "Cashkumar",
          "Celerix",
          "Celes Care",
          "Cerebroz",
          "Chaayos",
          "Chai Thela",
          "ChaiPoint",
          "Chakr Innovation",
          "Changer Mints",
          "ChargeBee",
          "Chargebee",
          "Chargein",
          "ChatOnGo",
          "CheersOye!",
          "Chefs Basket",
          "Chillr",
          "Chloroplast Foods",
          "Chumbak",
          "Citrus Payment",
          "CityFlo",
          "CityFurnish",
          "Clapsnslaps",
          "CleanseCar",
          "ClearTax",
          "Cleartax",
          "CleverSharks",
          "CleverTap",
          "Click2Clinic",
          "Clip App",
          "Clonect Solutions",
          "Cloud Lending",
          "Cloudcherry Analytics",
          "Cloudrino",
          "Clovia",
          "Clumio",
          "Co Life",
          "CoinTribe",
          "CollPoll",
          "CollateBox",
          "Collateral Medical",
          "Collectabillia",
          "CollegeDekho",
          "CollegeDunia",
          "Comarete",
          "Commeasure",
          "Commonfloor",
          "Commut",
          "ConfirmTKT",
          "Connaizen",
          "Connect India",
          "Convegenius",
          "Cooey",
          "Coolshare",
          "Corporate360",
          "Corseco",
          "CouponRaja",
          "CoveIoT",
          "CoverFox",
          "Coverfox",
          "CraftsVilla",
          "Craftstvilla",
          "Craftsvilla",
          "Crayon Data",
          "CredR",
          "CrediHealth",
          "Credit Vidya",
          "CreditMantri",
          "CreditMate",
          "CreditSeva",
          "CreditVidya",
          "Credright",
          "Credy",
          "CroFarm",
          "Crofarm",
          "CropIn",
          "Crowdfire (formerly Justunfollow)",
          "Crown-it",
          "Cube26",
          "Cuberoot",
          "Cubito",
          "CueMath",
          "Cult",
          "Culture Machine",
          "CultureAlley",
          "Cupick",
          "CupoNation",
          "Cure Fit",
          "CureFit",
          "CureInstant",
          "CureJoy",
          "Curefit",
          "Curie Labs",
          "Curiositi",
          "Curofy",
          "CustomFurnish.com",
          "CustomerSucessBox",
          "Customfurnish",
          "Cyclops",
          "Cygnus Hospitals",
          "Daalchini Technologies",
          "Daily Ninja",
          "Daily Rounds",
          "Daily hunt",
          "DailyHunt",
          "DailyObjects",
          "DarwinBox",
          "Data Resolve",
          "DawaiLelo",
          "DayBox",
          "Deal4Loans / Wishfin",
          "Dealwithus",
          "Dekkho",
          "Delhivery",
          "Delight Foods",
          "Deyor Camps",
          "Deyor Rooms",
          "Dhruva",
          "Dhruva Space",
          "DiabetOmics",
          "Didi",
          "Digiconectt",
          "Digilend",
          "Digio",
          "Digit",
          "Digital F5",
          "Digital Gorkha",
          "Digital Mall Asia",
          "Dil Mil",
          "Diro Labs",
          "Disprz",
          "DocPlexus",
          "DocTalk",
          "DocsApp",
          "Doctor Insta",
          "DoctorInsta",
          "Don\\\\xe2\\\\x80\\\\x99t Scratch Your Head",
          "DoneThing",
          "Doormint",
          "Doxper",
          "Dream11",
          "Drip capital",
          "DriveU",
          "DriversCart",
          "Drivestream",
          "Drivezy",
          "Drivify",
          "DrivoJoy",
          "Droom",
          "Droom.in",
          "DropKaffe",
          "Dropkaffe",
          "Druva",
          "Dunzo",
          "EPS",
          "EPayLater",
          "ERA",
          "Early Salary",
          "EarlySalary",
          "EarlySalary.com",
          "Earth Food",
          "Easy Diner",
          "EasyEcom",
          "EasyKhaana",
          "EasyPolicy",
          "EasyRewardz",
          "EasyRoads",
          "Easypolicy",
          "Eat.Shop.Love",
          "Eattreatonline",
          "EazyDiner",
          "Ecolibriumenergy",
          "Ecom Express",
          "Ecozen",
          "Edelweiss",
          "Edu4Share",
          "EduAce Services",
          "EduBridge",
          "EduKart",
          "EduPristine",
          "Edureka",
          "Edurev",
          "Edyoo",
          "Elanic",
          "ElastiRun",
          "ElasticRun",
          "Elucidata",
          "Emiza",
          "Enabli",
          "Enakshi",
          "Endless Robotics",
          "Engineer.ai",
          "Entropik",
          "Entropika",
          "Envoged",
          "Epiq Capital",
          "Eruditus",
          "EureQa",
          "EveningFlavors",
          "Events High",
          "Explara",
          "Explore Life traveling",
          "ExtraCarbon",
          "Eywa Media",
          "EzCred",
          "Ezetap",
          "Ezyhaul",
          "Ezytruk",
          "FPL Technologies",
          "FR8",
          "FTCash",
          "FYRE",
          "Faaso\\\\xe2\\\\x80\\\\x99s",
          "Faasos",
          "Faaya",
          "Fab Hotels",
          "FabAlley",
          "FabHotels",
          "FabX",
          "Fabogo",
          "Fabulyst",
          "Faircent",
          "Faircent.com",
          "FarEye",
          "Farm Taaza",
          "FarmLink",
          "Fashalot",
          "Fashor",
          "FastFox",
          "Fastudent",
          "Fincash",
          "Fingerlix",
          "Finova Capital",
          "Fintellix",
          "Fintobox",
          "Finzy",
          "First Eat",
          "FirstCry",
          "FirstCry.com",
          "Fisdom",
          "FitMeIn",
          "Fitpass",
          "Fitraq.com",
          "Fitso",
          "Fitternity",
          "Five Star Group",
          "FixNix",
          "Flatchat",
          "Flatpebble",
          "FleetRover",
          "Flexiloans",
          "Flexing It",
          "FlickBay",
          "Flickstree",
          "FlipClass",
          "Flipkart",
          "Flipkart.com",
          "Flixy Games",
          "Flocareer",
          "Flutura",
          "Flyrobe",
          "Flytxt",
          "FoodTalkIndia",
          "Foodpanda",
          "ForeverShop",
          "Fourseven",
          "Fourth Ambit",
          "Fourth Partner Energy",
          "Foyr.com",
          "Fracktal Works",
          "Fractal Analytics",
          "Frankly",
          "Frapperz",
          "FreeCharge",
          "Freedom Smart Labs",
          "Fresh Food Concepts",
          "FreshDesk",
          "FreshMenu",
          "FreshVnF",
          "Freshdesk",
          "Freshworks",
          "Front Desk AI",
          "Frsh",
          "Frsh.co.in",
          "Funcart",
          "FundsIndia.com",
          "Furdo",
          "Furlenco",
          "Furtados School of Music",
          "Fusion Microfinance",
          "Fxkart.com",
          "Fyle",
          "Fyle Technologies",
          "Fynd",
          "GOQii",
          "Gaana",
          "Gadgetwood",
          "GameZop",
          "Gamooz",
          "Gapoon",
          "GenNext Students",
          "Genextstudents",
          "Genie",
          "Genius Corner",
          "Get My Parking",
          "GetMyPeon",
          "Giftxoxo",
          "Gingercrush",
          "Glam Studios",
          "Glamrs",
          "GlowRoad",
          "Glowroad",
          "GoBumpr",
          "GoDesi",
          "GoFro",
          "GoGo Truck",
          "GoJavas",
          "GoMechanic",
          "GoPigeon",
          "GoQii",
          "GoYaNo",
          "GoZefo",
          "Goalwise",
          "Godof Hospitals",
          "GoldFarm",
          "GolfLAN",
          "Gomalon",
          "Goodbox",
          "Goodera",
          "Goodservice",
          "Goomo",
          "Gozoomo",
          "Grab",
          "Grab.in",
          "Grabhouse",
          "Grabhouse.com",
          "GramCover",
          "Gramophone",
          "GrandOpinion",
          "Graphene",
          "Graphic India",
          "Greenlight Planet",
          "Grex",
          "Grey Campus",
          "Grey Orange",
          "GreyAtom",
          "GreytHR",
          "Gridle",
          "Grofers",
          "Groupon India",
          "Grover Zampa",
          "Grow Fit",
          "GrowFitter",
          "Groww",
          "Guarented",
          "Guiddoo",
          "Guidoo",
          "Gyaanzone",
          "GyanDhan",
          "Gympik",
          "HUG Innovations",
          "HWell24",
          "HackerEarth",
          "HackerRank",
          "HandyHome",
          "HandyTrain",
          "Hansa Customer Equity",
          "Hansel io",
          "Hansel.io",
          "HappilyUnmarried",
          "Happitoo",
          "Happy EMI",
          "Happy2Refer",
          "Haqdarshak",
          "HashTaag",
          "HeadOut",
          "Heads Up For Tails",
          "HealthAssure",
          "HealthCare",
          "HealthEnablr",
          "HealthKart",
          "HealthKumbh",
          "Healthcare at Home",
          "Healthi",
          "Healthians",
          "HealthifyMe",
          "Healthifyme",
          "Healthsignz",
          "HealthyWorld.in",
          "Heckyl",
          "Hello Curry",
          "Hello Tax",
          "HelpShift",
          "Heterogenous",
          "Hevo Data",
          "HeyPillow",
          "High Radius",
          "Hike",
          "HipBar",
          "HipCouch",
          "Hippily",
          "Hitwicket",
          "HolaChef",
          "Holachef",
          "HolidayIQ",
          "Holidify",
          "Holisol Logistics",
          "HomeLane",
          "HomeStudio",
          "Homelane",
          "Homergize",
          "Hoopy",
          "Hopping Chef",
          "Hoppingo",
          "Hopscotch",
          "Horntell",
          "Hostel Dunia",
          "Hotelogix",
          "Hotify",
          "House of Msasaba",
          "Housejoy",
          "Housing.com",
          "HousingMan",
          "Howdy Ventures",
          "Hungama",
          "HungerBox",
          "Hungry Foal",
          "HyperVerge",
          "I Can Stay",
          "ICHR",
          "ICustomMadeIt",
          "IDG Ventures",
          "IFMR Holdings",
          "IIM Jobs",
          "IMAX Program",
          "IMbesharam",
          "INDwealth",
          "IOTrek",
          "ISFC",
          "Icertis",
          "Idea Bubbles",
          "IdeaForge",
          "Ignis Careers",
          "Imaginate",
          "Imarticus Learning",
          "Impact Analytics",
          "Impact Guru",
          "InCred",
          "InCred Finance",
          "Inayo",
          "Increff",
          "Indee",
          "India Gifts Portal",
          "India Lends",
          "IndiaLends",
          "IndianRoots.com",
          "Indiez",
          "Indifi",
          "IndigoLearn",
          "Indix",
          "Indofash",
          "Indus OS",
          "IndustryBuying",
          "Infibeam",
          "Infisecure",
          "Infogain",
          "Infoworks",
          "Infurnia",
          "Ink Monk",
          "Inkmonk",
          "Inmobi",
          "Innefu Security Consulting",
          "Inner Hour",
          "InnerChef",
          "InnoNano Research",
          "Innov8",
          "Innovaccer",
          "Innovapptive",
          "Innoviti",
          "Inshorts",
          "Insider.in",
          "InstaBounce",
          "InstaLively",
          "InstaSafe",
          "Instacar",
          "Intelligence Node",
          "IntelligenceNODE",
          "Intelligent Interfaces",
          "Interviewpad",
          "Intgrea",
          "Inthree",
          "Intuit Things",
          "Inuxu",
          "Iqlect",
          "Ithaka",
          "Itzcash",
          "Ixigo",
          "Jay Robotix",
          "Jaypore",
          "JetSetGo",
          "Jhakaas",
          "Jigsaw Academy",
          "Jivox",
          "Jobspire",
          "JoeHukum",
          "Johari Shop",
          "Jolly Food Fellow",
          "Joolz",
          "Joy by nature",
          "Juggernaut",
          "Jugnoo",
          "Julia Computing",
          "Jumbotail",
          "Juno Clinic",
          "Juspay",
          "Just Buy Live",
          "JustLikeNew",
          "JustRide",
          "Justdakhila.com",
          "Justride",
          "KNAB Finance",
          "KOOH Sports",
          "KabadiExpress",
          "Kabadiwala",
          "Kaleidofin",
          "Kalpnik Technologies",
          "Kanhaiya",
          "Karma Healthcare",
          "Karomi",
          "Kartrocket",
          "KeepTrax",
          "Ketchupp",
          "Ketto",
          "Khel Now",
          "Kinara Capital",
          "Kinsane Entertainment Inc",
          "Kissht",
          "Kleeto",
          "Klip.in",
          "Kloseby",
          "Knowlarity",
          "Konsult App",
          "Koovs",
          "Korra",
          "KrazyBee",
          "Kredx",
          "Kriger Campus",
          "Kuants",
          "Kulzy",
          "Kuvera",
          "LEAP India",
          "La Renon",
          "LabStreet",
          "LabsAdvisor",
          "LafaLafa",
          "LatestOne",
          "LaundryAnna",
          "Lavelle Networks",
          "LazyLad",
          "Leaf",
          "Leaf Wearables",
          "Leap India",
          "Leaping Caravan",
          "Leegality",
          "Legal Raasta",
          "Legalraasta",
          "LenDen Club",
          "Lending Kart",
          "LendingKart",
          "Lendingkart",
          "LensKart",
          "Lenskart",
          "Lenskart.com",
          "Leopetra",
          "LetReach",
          "Lets Corp",
          "Lets Transport",
          "LetsMD",
          "LetsTransport",
          "Letsmd",
          "Leverage Edu",
          "Liases Foras",
          "Licious",
          "Life Circle",
          "LiftO",
          "Liftiee",
          "LimeRoad.com",
          "Limo",
          "ListUp",
          "Little Black Book",
          "Little Black Book Delhi",
          "Littlemore",
          "LivSpace",
          "Livehealth",
          "Living Local",
          "Livspace",
          "Lo! Foods",
          "Loan Frame",
          "Loan Tap",
          "LoanBaba",
          "LoanTap",
          "Loantap",
          "LocalOye",
          "Locanix",
          "Locus",
          "Log9 Materials",
          "LogiNext",
          "Logic Roots",
          "LogicRoots",
          "Lookup",
          "LoveCycles",
          "Lucideus",
          "Luxuryhues",
          "Lybrate",
          "MCaffeine",
          "MEngage",
          "MFine",
          "MSE",
          "MaalGaadi",
          "MaaxMarket",
          "MachaDalo",
          "Mad Street Den",
          "MadRat Games",
          "MagicBricks",
          "MagicX",
          "Magicpin",
          "Mahindra First Choice",
          "MakeMyTrip",
          "Makkajai",
          "MamaEarth",
          "Mamaearth",
          "ManageMySpa",
          "Manch",
          "Manthan",
          "MapMyGenome",
          "Maptags",
          "MarianaIQ",
          "Markets and Markets",
          "Math Buddy",
          "Matrubharti",
          "Mazkara",
          "MealHopper",
          "MebelKart",
          "Mech Mocha",
          "MedGenome",
          "Medd",
          "Medidaili",
          "Medikabazaar",
          "Medikoe",
          "Medinfi",
          "Medlife",
          "Medwell Ventures",
          "Medzin",
          "Meesho",
          "MeetUniv",
          "Melorra",
          "MeraDoctor",
          "MergerWare",
          "Meritnation",
          "Meru Cabs",
          "MessaGif",
          "Metro Bikes",
          "Mihup",
          "Mihuru",
          "MilkBAsket",
          "MilkBasket",
          "Milkbasket",
          "Milofy",
          "MindTickle",
          "Mindler",
          "Misters",
          "MoEngage",
          "MoMark",
          "MobiDent",
          "MobiKwik",
          "MobieFit",
          "Mobikon",
          "Mobikwik",
          "Mobile Premier League",
          "Mobycy",
          "MockBank",
          "Moglix",
          "Mojarto",
          "Momoe",
          "MoneyOnMobile",
          "MoneyTap",
          "MonkeyBox",
          "Moodoo",
          "MoonFrog Labs",
          "MrNeeds",
          "Mswipe",
          "Mubble",
          "Multiplier Solutions",
          "Murgency",
          "Muvizz",
          "My Forex Eye",
          "My Healthcare",
          "My OmNamo",
          "MyCFO",
          "MyChild App",
          "MyCity4Kids",
          "MyDentist",
          "MyDentistChoice",
          "MyDidi",
          "MyDreamStore",
          "MyGlamm",
          "MyGreens",
          "MyGubbi",
          "MyIndianStay",
          "MyKindofJob",
          "MyLoanCare",
          "MyNoticePeriod",
          "MyPetrolPump",
          "MyPoolin",
          "MySUN",
          "MySeniorDoctor",
          "MySmartPrice",
          "MyTaxiIndia",
          "MyUpchar",
          "Myelin Foundry",
          "Myly",
          "Myonsto",
          "Mystifly",
          "N.O.W",
          "NDTV Wedding portal",
          "Naaptol",
          "Naaptol.com",
          "Nagpur Wholesale",
          "NanoClean Global",
          "Narvar",
          "NatureNama",
          "Nayi Disha",
          "Nazara Technologies",
          "Near.in",
          "NearBuy",
          "NearBuy (previously\\\\xc2\\\\xa0 groupon India)",
          "NeoGrowth",
          "NeoGrowth Credit",
          "NeoStencil",
          "Neotrade Analytics",
          "Nest Education",
          "NestAway",
          "Nestaway",
          "NetLinx",
          "NetMeds",
          "Netmeds",
          "Netmeds.com",
          "Network Intelligence",
          "NeuroEquilibrium",
          "New Castle Technologies",
          "Newgen Software",
          "NewsDistill",
          "NewsHunt",
          "NewsInShorts",
          "Newspatrolling",
          "NiYO Solutions",
          "Niffler",
          "NightStay",
          "Niki.ai",
          "Nimble Wireless",
          "Ninjacart",
          "NirogStreet",
          "Nivesh",
          "NoBroker",
          "NoPaperForms",
          "Noddapp",
          "Noodle Play",
          "Notesgen",
          "Noticeboard",
          "Notion Press",
          "NowFloats",
          "Nukkad Shops",
          "NumberMall",
          "Nurturey",
          "Nuvepro",
          "NxtGen",
          "Nykaa",
          "ONN Bikes",
          "ORIGA Leasing",
          "OUWT",
          "OYO Rooms",
          "Observe AI",
          "Octo.ai",
          "OfBusiness",
          "Ofbusiness",
          "Oho Shop",
          "OkCredit",
          "Ola",
          "Ola Cabs",
          "Olacabs",
          "Omnia Information",
          "Omnify",
          "Omnikart",
          "OncoStem",
          "OneAssist",
          "OneStepUp",
          "Oneway.cab",
          "OnlineRTI",
          "OnlineTyari",
          "Onspoon",
          "Oorjan",
          "OpenApp",
          "OpenTap",
          "Opinio",
          "OptaCredit",
          "Orahi",
          "OrangeTwig",
          "Oriano Solar",
          "Origo Commodities India Pvt. Ltd",
          "Orobind",
          "Overcart.com",
          "Oyo",
          "Oyo Rooms",
          "OyoRooms",
          "Oyorooms",
          "POPxo",
          "POPxo.com",
          "PaisaDukan",
          "Pando",
          "Paper Boat",
          "Paperflite",
          "ParaBlu",
          "Parallel Dots",
          "Parcelled",
          "Parentlane",
          "Park Easy",
          "Pastiwala",
          "Patel Logistics",
          "PayMango",
          "PaySense",
          "Paynear",
          "Paysense",
          "Paytm",
          "Paytm Marketplace",
          "Paytunes",
          "PeeBuddy",
          "PeeSafe",
          "PeeSafe.in",
          "PepperTap",
          "Pepperfry",
          "Peppertap",
          "Perfios",
          "Perfumery",
          "PetSutra",
          "Petoo",
          "PharmEasy",
          "PharmaRack",
          "Pharmeasy",
          "Phone Pe",
          "PhonePe",
          "Pi Data Centers",
          "Pi Ventures",
          "PiQube",
          "PickMe",
          "PickMyLaundry",
          "Pickingo",
          "Pickrr",
          "Pictor Imaging",
          "Pikkol",
          "Pindropmusic",
          "Pine Labs",
          "PineLabs",
          "PinkBlue",
          "Pipa Bella",
          "Pipabella",
          "PipeCandy",
          "Pitstop",
          "Plabro",
          "PlanMy\\\\nMedicalTrip",
          "Plancess",
          "Planys Technologies",
          "Play your sport",
          "PlaySimple",
          "Playablo",
          "Playment",
          "Plix",
          "Pluss",
          "Pocket Aces",
          "Pocketin",
          "Pokkt",
          "Policy Bazaar",
          "PolicyBazaar",
          "PortDesk",
          "Portea",
          "Portea Medical",
          "Poshtic",
          "Postman",
          "Power2SME",
          "Practo",
          "Pragmatix",
          "Pramati",
          "Pratilipi",
          "Prescribez",
          "PressPlay",
          "Prest Loans",
          "PrettySecrets",
          "PriceRaja",
          "Pricejugaad",
          "PrimaryIO",
          "Printvenue",
          "Progcap",
          "Project Mudra",
          "Promon",
          "PropheSee",
          "Propstack",
          "Prothom",
          "Proviera",
          "Proximit",
          "Prozo",
          "Pulse",
          "Puro Wellness",
          "Purple Style Labs",
          "PurpleHealth",
          "Purplle",
          "Qacco",
          "Qik Stay",
          "QikPod",
          "QikShip",
          "Qlivery",
          "Qriyo",
          "Qubole",
          "Quickli",
          "Quifers",
          "QuikWallet",
          "Quikr",
          "Quintype",
          "QwikSpec",
          "Qwikspec",
          "Qyk App",
          "RAW Pressery",
          "RKSV",
          "RML Agtech",
          "RailYatri",
          "RainCan",
          "Rao IIT Academy",
          "Rapido",
          "Rapido Bike Taxi",
          "Rare Media",
          "RateGain",
          "RawPressery",
          "RayIOT",
          "RazorPay",
          "Razorpay",
          "ReGlobe",
          "Reach",
          "RealBox",
          "Recykal",
          "Red Carpet",
          "RedBook",
          "RedDoorz",
          "RedPolka",
          "Refiral",
          "Rein Games",
          "Remit Guru",
          "Remitr",
          "Renderlogy",
          "Renew Buy",
          "RenewBuy",
          "Renowala",
          "RentMojo",
          "RentOnGo",
          "RentSher",
          "Rentalpha",
          "Rentickle",
          "RentoMojo",
          "Rentomo",
          "Rentomojo",
          "RepairEasy",
          "Ressy",
          "Retention.ai",
          "RevX",
          "Reverie",
          "Revv",
          "Ridlr",
          "Rivigo",
          "RoadGods",
          "Roadcast",
          "Roadrunnr",
          "Roambee",
          "RoboVac",
          "Robosoft",
          "Rock N Shop",
          "Rocketium",
          "Roder",
          "RollMafia",
          "Room On Call",
          "Room on Call",
          "RoomCentral",
          "RoomsTonite",
          "Rootefy",
          "Rooter",
          "Roposo",
          "Roposo.com",
          "Rubique",
          "Rubix",
          "Runnr",
          "Rupaiya Exchange",
          "Rupeek",
          "S Chand",
          "S-Cube Futuretech",
          "SERV\\\\xe2\\\\x80\\\\x99D",
          "SIFTR Labs",
          "SP Robotics",
          "Saahas Zero Waste",
          "Saama",
          "Saavn",
          "Sagacito",
          "Sahajanand Medical Technologies",
          "Sahayog Dairy",
          "SaleBhai",
          "Sambandh",
          "Samco",
          "Samosa Labs",
          "Sampurnearth",
          "Samunnati",
          "Samunnati Financial Intermediation & Services Pvt. Ltd",
          "SastaSundar",
          "Sattviko",
          "Satvacart",
          "SaveBC",
          "SavvyMob",
          "Sayfix",
          "Scandid",
          "Scapic",
          "Schedulers Logistics",
          "SchoolGuru",
          "SchoolWear",
          "Schoolkart",
          "ScoopWhoop",
          "Scootsy",
          "Scripbox",
          "Seclore",
          "Securens",
          "SeeDoc",
          "Seed Schools",
          "Seniority",
          "Sensara",
          "SenseGiz",
          "Sepalika",
          "Servify",
          "Setu",
          "ShabdaNagari",
          "ShadowFax",
          "Shadowfax",
          "Shadowfox",
          "Shape",
          "ShareChat",
          "Sheroes",
          "Shippr",
          "Shipsy",
          "Shirsa Labs",
          "Shop 101",
          "ShopClues",
          "ShopKirana",
          "ShopX",
          "Shopalyst",
          "Shopclues",
          "Shopholix",
          "ShoppinPal",
          "ShopsUp",
          "Shotang.com",
          "Shouut",
          "Shubh Loans",
          "Shuttl",
          "SidQam",
          "Signzy",
          "Sigtuple",
          "SillyMonks",
          "Silvan",
          "Silvan Innovation Labs",
          "SilverPush",
          "Simility",
          "Simplilearn",
          "SirionLabs",
          "Sistema.bio",
          "Skillenza",
          "Skoov.com",
          "Slang Labs",
          "Slice Pay",
          "Slide App",
          "Smaaash",
          "SmartPocket",
          "SmartVizX",
          "Smartairtrip.com",
          "Smartcoin",
          "Smartcooky",
          "Smartivity",
          "Smartivity.in",
          "Sminq",
          "Smytten",
          "Snackible",
          "SnapBizz",
          "Snapdeal",
          "SolarTown",
          "SooperMO",
          "SoundSurround",
          "Spandana Sphoorty",
          "Spares Hub",
          "SparesHub",
          "Specsmakers",
          "SpeedBox",
          "SpiderG",
          "Spinny",
          "SpoonJoy",
          "Sportobuddy",
          "Sports Flashes",
          "SportzVillage",
          "SpotDraft",
          "Springboard",
          "Springleap",
          "Sqqrl",
          "Squadrun",
          "Square Yards",
          "Stalk Buy Love",
          "StalkBuyLove",
          "StanPlus",
          "Stanza Living",
          "Stashfin",
          "Stasis Labs",
          "StayGlad",
          "StayZilla",
          "Stayzilla",
          "Stellaps",
          "StitchWood",
          "Stitchwood",
          "Stockal",
          "Stockroom.io",
          "StoreKing",
          "Stratfit",
          "Streak",
          "Streamoid",
          "Stridalyzer",
          "Strike",
          "Stuffed",
          "StyleTag",
          "Stylecracker",
          "Styledotme",
          "Stylofie",
          "Sulekha.com",
          "Sumeru",
          "Summerlabel",
          "Sunday Realty Solutions",
          "Sunstone Eduversity Pvt. Ltd",
          "SuperGaming",
          "Superhero Brands",
          "Supplified",
          "Supr Daily",
          "Swajal",
          "Swiggy",
          "Synctag",
          "Synup",
          "Syona Cosmetics",
          "Systemantics",
          "TOFlo",
          "TOKO Innovation Studios",
          "TYGR",
          "TableHero",
          "Tagos Design",
          "Tala",
          "Talent Next",
          "TalentEdge",
          "Talkoot",
          "Tapchief",
          "Tapzo",
          "TaskBucks",
          "Taskbob",
          "Tata Housing",
          "Tax2Win",
          "TaxSutra",
          "TaxiVaxi",
          "Tazzo Bikes",
          "Tea Box",
          "Tea Trails",
          "Teabox",
          "Team Indus",
          "Teewe",
          "Telr",
          "TempGo",
          "TempoGo",
          "Teritree",
          "Termsheet",
          "The Better India",
          "The BlueBook",
          "The Good Life",
          "The Healthy Billions",
          "The Ken",
          "The Kettlery",
          "The Label Life",
          "The Man Company",
          "The Moms Co",
          "The Office Pass",
          "The Porter",
          "The Print",
          "The Uolo",
          "The Viral Fever",
          "The Wedding Brigade",
          "The/Nudge Foundation",
          "TheCapitalNet",
          "TheKarrier",
          "TheSmartQ",
          "ThinkerBell",
          "Thrill App",
          "TicketNew",
          "TimeSaverz",
          "Timesaverz",
          "Tinmen",
          "TinyOwl",
          "TinyStep",
          "Toffee",
          "Toko Innovations",
          "Tokri",
          "Tonbo Imaging",
          "ToneTag",
          "Tonetag",
          "Tookitaki",
          "Tooler",
          "TopRankers",
          "Toppr",
          "Toppr.com",
          "Torqus",
          "TouchKin",
          "Touchkin",
          "Town Essentials",
          "Tracxn",
          "Tradelab",
          "Trading Bells",
          "Trak N Tell",
          "Transerv",
          "Transerve",
          "Transversal Technologies",
          "Travel Triangle",
          "TravelTriangle",
          "Travelyaari",
          "Treebo",
          "Trell",
          "TrendieApp",
          "Trilyo",
          "Trip shelf",
          "Trip38",
          "TripShelf",
          "Triphobo",
          "Tripoto",
          "Truce",
          "TruckMandi",
          "TruckingCube",
          "Truckola",
          "Trucksfirst",
          "True Balance",
          "True North",
          "Truebil",
          "Trukky",
          "TrulyMadly.com",
          "Trupay",
          "TruxApp",
          "Twigly",
          "Tydy",
          "Tynor Othontics",
          "Tyre Express",
          "UCLID",
          "UE Life Sciences",
          "UE LifeSciences",
          "Uber Dreams",
          "Udaan",
          "UnaAcademy",
          "Unacademy",
          "Unbxd",
          "Uniken",
          "Uniphore",
          "Universal Sportsbiz Pvt. Ltd",
          "Unnati Helpers",
          "Unocoin",
          "Upwards",
          "UrDoorStep",
          "Urban Ladder",
          "Urban Tailor",
          "UrbanClap",
          "UrbanClap Technologies Pvt. Ltd",
          "UrbanLadder",
          "UrbanPiper",
          "UrbanPro",
          "Urjas",
          "V Resorts",
          "VST Travels",
          "VTION",
          "Vagupu",
          "Vahanalytics",
          "Vahdam Tea",
          "Vahdam Teas",
          "Vanity Cube",
          "Varthana",
          "Vayana",
          "Vebbler",
          "Vedantu",
          "Veeba Foods",
          "Vegetall",
          "Velmenni",
          "Velvetcase",
          "Venture Catalysts",
          "Venturesity",
          "Veqta",
          "Veritas Finance",
          "Veritas Finance Ltd.",
          "Video Ken",
          "Vidgyor",
          "Vidooly",
          "Villgro",
          "VioletStreet",
          "Virtual Logic",
          "Visit",
          "Vista Rooms",
          "Vistaar Finance",
          "Vithi.com",
          "VivoCarat",
          "Vogo Automotive",
          "Vogo Automotive Pvt. Ltd.",
          "Vola",
          "Volta Motors",
          "Voodoo",
          "Voonik",
          "VoxWeb",
          "Voxweb",
          "Voylla",
          "Vserv",
          "Vyapar App",
          "Vymo",
          "Vyome Biosciences",
          "Vyome Therapeutics Inc.",
          "Vyomo",
          "WOTU",
          "WOW! MOMO",
          "Wandertrails",
          "Wassup",
          "WayCool",
          "WeAreHolidays",
          "WealthApp",
          "Wealthy",
          "WebAlligator",
          "Wedding Wishlist",
          "Weddingz.in",
          "WedmeGood.com",
          "Wefly Indoor Skydiving",
          "Welcome Cure",
          "Wellthy",
          "Whatfix",
          "WheelStreet",
          "Wheelstreet",
          "White Owl Brewery",
          "Whodat",
          "WholeSaleBox",
          "Whoop",
          "WickedRide",
          "Wigzo",
          "Wishberry",
          "WithMe",
          "WittyFeed",
          "Wittyparot",
          "Wiwigo",
          "WizCounsel",
          "Wizrocket",
          "WoW Express",
          "WoWexpress",
          "Woodpie",
          "Wooplr",
          "Wooplr.com",
          "WorkApps",
          "WorkIndia",
          "World Art Community",
          "Wow Express",
          "Wudstay",
          "Wydr",
          "XSTOK",
          "Xpressbees",
          "Xseed Education",
          "YAAP",
          "Yaantra",
          "Yatra.com",
          "Yellowdig",
          "YepMe",
          "Yo Grad",
          "Yogurt Labs",
          "Your Quote",
          "YourDOST",
          "YourDost",
          "YourStory",
          "YouthKiAwaaz",
          "Yufta",
          "Yumigo",
          "Yumist",
          "Yumlane",
          "Yupp TV",
          "Yuvi Hospitality",
          "Zakoopi",
          "ZapStitch",
          "Zappfresh",
          "Zappka",
          "Zapr",
          "Zapty",
          "Zapyle",
          "Zarget",
          "Zebi (yet to launch)",
          "Zebpay",
          "Zebroads",
          "Zefo",
          "ZenDrive",
          "ZenParent",
          "Zenatix",
          "Zendrive",
          "Zenify",
          "Zenify.in",
          "Zenoti",
          "Zepo",
          "Zeppery",
          "Zest Money",
          "ZestMoney",
          "Zeta",
          "ZiffyHomes",
          "Zify",
          "Zilingo",
          "Zimmber",
          "Zinka",
          "ZipGrid",
          "ZipLoan",
          "Zipgrid",
          "ZippServe",
          "Zivame",
          "Zo Rooms",
          "Zoctr",
          "ZoloStays",
          "Zomato",
          "Zoojoo.be",
          "ZoomCar",
          "Zoomcar",
          "ZopHop",
          "ZopNow",
          "Zopper",
          "Zovi.com / Little App",
          "ZuperMeal",
          "Zuppler",
          "Zuver",
          "Zwayam",
          "\\\\xc2\\\\xa0Ameyo",
          "\\\\xc2\\\\xa0Bluestone",
          "\\\\xc2\\\\xa0CloudCherry",
          "\\\\xc2\\\\xa0Footprints Education",
          "\\\\xc2\\\\xa0Infinity Assurance",
          "\\\\xc2\\\\xa0Loylty Rewards",
          "\\\\xc2\\\\xa0Mamagoto",
          "\\\\xc2\\\\xa0News in shorts",
          "\\\\xc2\\\\xa0Nudgespot",
          "couponmachine.in",
          "deGustibus",
          "dishq",
          "dunzo",
          "eBikeGo",
          "eKincare",
          "ePoise",
          "eQuickies",
          "eSadar",
          "eSahai.in",
          "eShakti",
          "elong",
          "enKast",
          "eshakti",
          "etaout",
          "gear6",
          "goSporto",
          "happay",
          "healthifyme",
          "holachef",
          "https://www.wealthbucket.in/",
          "i2e1",
          "i2i Funding",
          "i2ifunding",
          "i3sysytems",
          "iAugmentor Labs",
          "iBus Networks",
          "iCustomadeit",
          "iDreamCareer",
          "iGenetics",
          "iGrenEnergi",
          "iNurture",
          "iOrderFresh",
          "iService",
          "iStar Skill Development",
          "iStyleYou",
          "iTraveller.com",
          "icanstay",
          "icustommadeit",
          "imedilane",
          "infeedo",
          "iqlect",
          "kWatt Solutions",
          "kidovators",
          "kredX",
          "mChamp",
          "mPaani",
          "mSwipe",
          "medECUBE",
          "mfine",
          "mintifi",
          "numberz.in",
          "oibanit",
          "perpule",
          "pi Ventures",
          "practo",
          "quizizz",
          "trueHb",
          "wWhere",
          "wayForward",
          "zippserv"
         ],
         "legendgroup": "",
         "marker": {
          "color": "#17BECF",
          "symbol": "circle"
         },
         "mode": "markers",
         "name": "",
         "showlegend": false,
         "type": "scattergl",
         "x": [
          0,
          1,
          3,
          5,
          6,
          7,
          8,
          9,
          10,
          11,
          12,
          13,
          14,
          15,
          16,
          17,
          18,
          20,
          21,
          22,
          23,
          24,
          26,
          28,
          29,
          30,
          32,
          33,
          34,
          37,
          38,
          39,
          40,
          41,
          42,
          44,
          45,
          46,
          47,
          49,
          50,
          51,
          52,
          53,
          55,
          56,
          57,
          58,
          60,
          61,
          62,
          63,
          64,
          65,
          68,
          69,
          70,
          72,
          73,
          74,
          75,
          76,
          77,
          79,
          80,
          81,
          82,
          83,
          84,
          86,
          89,
          91,
          92,
          93,
          94,
          95,
          96,
          97,
          98,
          99,
          100,
          101,
          102,
          103,
          104,
          105,
          106,
          107,
          108,
          109,
          110,
          112,
          113,
          114,
          115,
          116,
          117,
          118,
          119,
          120,
          121,
          123,
          125,
          126,
          127,
          128,
          129,
          130,
          133,
          134,
          136,
          137,
          138,
          139,
          140,
          141,
          142,
          143,
          145,
          146,
          147,
          148,
          149,
          151,
          153,
          156,
          157,
          158,
          159,
          162,
          164,
          166,
          168,
          169,
          170,
          171,
          172,
          173,
          174,
          175,
          178,
          179,
          181,
          183,
          184,
          186,
          191,
          192,
          193,
          194,
          195,
          196,
          197,
          198,
          199,
          201,
          202,
          203,
          204,
          205,
          207,
          210,
          211,
          212,
          213,
          214,
          216,
          217,
          220,
          221,
          222,
          225,
          226,
          227,
          228,
          229,
          234,
          235,
          236,
          237,
          238,
          239,
          241,
          242,
          243,
          244,
          245,
          246,
          250,
          251,
          252,
          253,
          255,
          257,
          260,
          262,
          263,
          264,
          265,
          266,
          268,
          269,
          270,
          271,
          273,
          274,
          276,
          277,
          278,
          279,
          280,
          282,
          283,
          284,
          285,
          286,
          287,
          289,
          290,
          291,
          293,
          294,
          295,
          296,
          297,
          298,
          299,
          300,
          301,
          302,
          303,
          304,
          307,
          308,
          309,
          311,
          313,
          314,
          315,
          316,
          317,
          318,
          320,
          321,
          322,
          323,
          324,
          325,
          327,
          328,
          329,
          330,
          331,
          332,
          333,
          334,
          335,
          336,
          339,
          341,
          344,
          346,
          347,
          348,
          351,
          352,
          353,
          354,
          356,
          357,
          358,
          359,
          361,
          362,
          364,
          365,
          366,
          367,
          368,
          371,
          372,
          373,
          374,
          375,
          376,
          377,
          378,
          379,
          380,
          381,
          382,
          384,
          385,
          388,
          389,
          392,
          394,
          395,
          396,
          399,
          400,
          401,
          402,
          403,
          404,
          405,
          407,
          408,
          413,
          414,
          415,
          416,
          417,
          418,
          419,
          420,
          421,
          422,
          426,
          427,
          431,
          432,
          433,
          434,
          436,
          438,
          439,
          440,
          441,
          443,
          444,
          445,
          446,
          447,
          448,
          449,
          450,
          451,
          453,
          454,
          455,
          457,
          459,
          460,
          461,
          462,
          463,
          465,
          467,
          468,
          470,
          471,
          475,
          476,
          477,
          478,
          479,
          485,
          486,
          487,
          488,
          489,
          490,
          491,
          492,
          493,
          494,
          495,
          496,
          497,
          498,
          501,
          503,
          506,
          507,
          508,
          509,
          510,
          512,
          513,
          515,
          516,
          518,
          519,
          521,
          522,
          523,
          524,
          525,
          526,
          527,
          528,
          529,
          530,
          532,
          534,
          535,
          536,
          537,
          538,
          539,
          540,
          541,
          542,
          543,
          546,
          547,
          548,
          549,
          550,
          551,
          555,
          557,
          559,
          560,
          561,
          563,
          565,
          566,
          567,
          568,
          569,
          571,
          572,
          573,
          574,
          575,
          576,
          579,
          581,
          583,
          584,
          585,
          586,
          588,
          589,
          591,
          592,
          593,
          596,
          598,
          599,
          600,
          601,
          602,
          604,
          605,
          606,
          608,
          609,
          610,
          611,
          612,
          615,
          616,
          617,
          618,
          619,
          620,
          621,
          622,
          624,
          625,
          626,
          627,
          629,
          631,
          632,
          634,
          637,
          638,
          639,
          644,
          651,
          653,
          654,
          655,
          656,
          657,
          659,
          660,
          662,
          663,
          667,
          668,
          669,
          670,
          671,
          672,
          676,
          677,
          678,
          680,
          681,
          682,
          683,
          684,
          685,
          686,
          687,
          688,
          690,
          691,
          692,
          695,
          697,
          698,
          700,
          701,
          702,
          703,
          704,
          705,
          706,
          707,
          708,
          709,
          710,
          712,
          713,
          714,
          716,
          718,
          719,
          721,
          722,
          726,
          729,
          730,
          731,
          732,
          733,
          734,
          735,
          736,
          737,
          740,
          741,
          744,
          748,
          751,
          752,
          754,
          755,
          756,
          757,
          758,
          761,
          763,
          765,
          767,
          769,
          771,
          772,
          774,
          777,
          778,
          780,
          781,
          782,
          783,
          784,
          785,
          786,
          787,
          789,
          790,
          791,
          792,
          794,
          795,
          796,
          797,
          799,
          800,
          801,
          803,
          804,
          806,
          807,
          808,
          809,
          810,
          812,
          813,
          814,
          815,
          816,
          817,
          818,
          819,
          820,
          821,
          822,
          823,
          824,
          825,
          826,
          827,
          830,
          831,
          833,
          836,
          837,
          839,
          840,
          842,
          843,
          844,
          845,
          846,
          848,
          849,
          850,
          851,
          855,
          857,
          859,
          860,
          862,
          863,
          865,
          868,
          869,
          873,
          874,
          875,
          877,
          878,
          879,
          880,
          881,
          882,
          883,
          885,
          887,
          888,
          890,
          892,
          895,
          897,
          898,
          900,
          903,
          904,
          905,
          906,
          907,
          908,
          910,
          911,
          912,
          913,
          915,
          916,
          917,
          918,
          919,
          920,
          921,
          922,
          923,
          924,
          926,
          927,
          929,
          932,
          933,
          934,
          936,
          938,
          940,
          941,
          942,
          944,
          946,
          947,
          948,
          949,
          951,
          953,
          954,
          955,
          957,
          959,
          961,
          962,
          963,
          964,
          966,
          967,
          968,
          971,
          972,
          974,
          975,
          976,
          978,
          979,
          980,
          981,
          982,
          983,
          984,
          985,
          987,
          989,
          990,
          991,
          992,
          993,
          994,
          995,
          996,
          997,
          998,
          999,
          1001,
          1002,
          1003,
          1004,
          1005,
          1006,
          1008,
          1009,
          1012,
          1013,
          1017,
          1018,
          1019,
          1020,
          1021,
          1022,
          1023,
          1024,
          1026,
          1027,
          1028,
          1029,
          1030,
          1031,
          1033,
          1034,
          1036,
          1037,
          1040,
          1041,
          1042,
          1043,
          1046,
          1049,
          1050,
          1051,
          1052,
          1054,
          1055,
          1056,
          1058,
          1060,
          1061,
          1063,
          1064,
          1066,
          1067,
          1069,
          1070,
          1072,
          1073,
          1074,
          1075,
          1078,
          1079,
          1081,
          1082,
          1083,
          1085,
          1088,
          1089,
          1090,
          1091,
          1094,
          1095,
          1098,
          1101,
          1102,
          1103,
          1106,
          1108,
          1109,
          1110,
          1111,
          1112,
          1114,
          1115,
          1117,
          1118,
          1119,
          1120,
          1121,
          1122,
          1124,
          1126,
          1127,
          1128,
          1129,
          1132,
          1134,
          1135,
          1137,
          1139,
          1140,
          1141,
          1142,
          1144,
          1145,
          1146,
          1147,
          1149,
          1152,
          1153,
          1154,
          1156,
          1158,
          1160,
          1161,
          1163,
          1165,
          1166,
          1168,
          1169,
          1171,
          1173,
          1174,
          1175,
          1176,
          1178,
          1179,
          1180,
          1181,
          1183,
          1184,
          1185,
          1187,
          1190,
          1193,
          1195,
          1196,
          1198,
          1199,
          1200,
          1201,
          1204,
          1206,
          1208,
          1210,
          1211,
          1213,
          1214,
          1215,
          1218,
          1220,
          1221,
          1222,
          1223,
          1224,
          1226,
          1227,
          1228,
          1229,
          1230,
          1231,
          1232,
          1233,
          1234,
          1235,
          1236,
          1237,
          1238,
          1239,
          1240,
          1242,
          1243,
          1246,
          1247,
          1248,
          1249,
          1250,
          1252,
          1253,
          1254,
          1255,
          1256,
          1257,
          1258,
          1259,
          1260,
          1261,
          1262,
          1263,
          1265,
          1266,
          1267,
          1268,
          1269,
          1271,
          1272,
          1274,
          1275,
          1276,
          1277,
          1278,
          1280,
          1285,
          1286,
          1288,
          1289,
          1290,
          1291,
          1293,
          1294,
          1295,
          1297,
          1298,
          1299,
          1300,
          1301,
          1302,
          1303,
          1304,
          1306,
          1307,
          1312,
          1313,
          1314,
          1317,
          1318,
          1319,
          1320,
          1321,
          1322,
          1324,
          1325,
          1326,
          1329,
          1330,
          1332,
          1333,
          1334,
          1335,
          1336,
          1337,
          1338,
          1339,
          1340,
          1341,
          1342,
          1343,
          1344,
          1345,
          1347,
          1348,
          1350,
          1351,
          1352,
          1354,
          1355,
          1356,
          1358,
          1359,
          1361,
          1362,
          1363,
          1366,
          1368,
          1369,
          1370,
          1371,
          1372,
          1375,
          1376,
          1377,
          1378,
          1379,
          1380,
          1381,
          1382,
          1383,
          1384,
          1385,
          1387,
          1388,
          1390,
          1392,
          1393,
          1394,
          1395,
          1397,
          1398,
          1399,
          1400,
          1402,
          1403,
          1404,
          1406,
          1407,
          1408,
          1409,
          1410,
          1411,
          1414,
          1415,
          1416,
          1417,
          1418,
          1419,
          1421,
          1422,
          1423,
          1424,
          1425,
          1426,
          1427,
          1428,
          1431,
          1432,
          1433,
          1434,
          1436,
          1438,
          1439,
          1440,
          1442,
          1445,
          1446,
          1447,
          1448,
          1450,
          1452,
          1453,
          1454,
          1455,
          1456,
          1457,
          1458,
          1459,
          1460,
          1461,
          1462,
          1463,
          1465,
          1466,
          1467,
          1469,
          1471,
          1472,
          1473,
          1474,
          1475,
          1476,
          1481,
          1483,
          1485,
          1486,
          1487,
          1488,
          1489,
          1490,
          1492,
          1493,
          1494,
          1495,
          1496,
          1497,
          1498,
          1499,
          1500,
          1501,
          1502,
          1503,
          1504,
          1506,
          1507,
          1508,
          1509,
          1510,
          1512,
          1513,
          1514,
          1515,
          1516,
          1517,
          1519,
          1520,
          1521,
          1522,
          1524,
          1525,
          1526,
          1527,
          1529,
          1530,
          1532,
          1533,
          1534,
          1535,
          1536,
          1537,
          1538,
          1540,
          1541,
          1543,
          1544,
          1546,
          1548,
          1549,
          1550,
          1551,
          1554,
          1555,
          1556,
          1557,
          1558,
          1559,
          1560,
          1561,
          1562,
          1563,
          1564,
          1566,
          1567,
          1569,
          1570,
          1571,
          1573,
          1577,
          1578,
          1580,
          1581,
          1582,
          1583,
          1585,
          1588,
          1591,
          1592,
          1593,
          1596,
          1597,
          1598,
          1599,
          1600,
          1601,
          1602,
          1604,
          1606,
          1608,
          1609,
          1610,
          1612,
          1613,
          1614,
          1615,
          1618,
          1619,
          1620,
          1621,
          1622,
          1623,
          1625,
          1626,
          1627,
          1628,
          1629,
          1631,
          1632,
          1633,
          1634,
          1635,
          1636,
          1637,
          1638,
          1639,
          1641,
          1642,
          1643,
          1644,
          1645,
          1646,
          1647,
          1648,
          1649,
          1650,
          1651,
          1652,
          1656,
          1658,
          1660,
          1661,
          1662,
          1663,
          1664,
          1667,
          1668,
          1669,
          1670,
          1671,
          1672,
          1673,
          1674,
          1675,
          1677,
          1679,
          1680,
          1682,
          1683,
          1684,
          1685,
          1686,
          1687,
          1688,
          1689,
          1690,
          1692,
          1693,
          1694,
          1695,
          1696,
          1698,
          1699,
          1700,
          1701,
          1702,
          1703,
          1704,
          1705,
          1706,
          1707,
          1708,
          1709,
          1710,
          1711,
          1712,
          1713,
          1714,
          1715,
          1717,
          1719,
          1720,
          1721,
          1724,
          1725,
          1726,
          1727,
          1729,
          1730,
          1731,
          1732,
          1733,
          1734,
          1736,
          1737,
          1740,
          1741,
          1742,
          1743,
          1744,
          1745,
          1746,
          1747,
          1748,
          1749,
          1751,
          1752,
          1754,
          1755,
          1756,
          1758,
          1759,
          1762,
          1763,
          1764,
          1765,
          1768,
          1770,
          1773,
          1774,
          1775,
          1776,
          1777,
          1778,
          1780,
          1782,
          1783,
          1784,
          1787,
          1788,
          1789,
          1790,
          1791,
          1793,
          1794,
          1796,
          1797,
          1800,
          1801,
          1802,
          1804,
          1806,
          1808,
          1810,
          1811,
          1812,
          1813,
          1814,
          1815,
          1818,
          1820,
          1821,
          1827,
          1828,
          1831,
          1832,
          1833,
          1834,
          1838,
          1839,
          1840,
          1841,
          1842,
          1843,
          1844,
          1846,
          1847,
          1848,
          1849,
          1851,
          1854,
          1855,
          1857,
          1858,
          1859,
          1860,
          1861,
          1863,
          1864,
          1865,
          1867,
          1870,
          1871,
          1873,
          1874,
          1875,
          1876,
          1877,
          1878,
          1879,
          1880,
          1881,
          1882,
          1883,
          1886,
          1887,
          1889,
          1890,
          1894,
          1896,
          1897,
          1898,
          1899,
          1900,
          1901,
          1904,
          1905,
          1906,
          1908,
          1909,
          1910,
          1913,
          1914,
          1915,
          1917,
          1918,
          1919,
          1920,
          1922,
          1923,
          1924,
          1925,
          1926,
          1927,
          1928,
          1929,
          1931,
          1932,
          1933,
          1934,
          1937,
          1938,
          1939,
          1940,
          1942,
          1945,
          1946,
          1947,
          1949,
          1951,
          1952,
          1954,
          1955,
          1956,
          1958,
          1959,
          1960,
          1961,
          1962,
          1963,
          1964,
          1966,
          1967,
          1968,
          1969,
          1970,
          1972,
          1973,
          1976,
          1977,
          1978,
          1980,
          1983,
          1984,
          1985,
          1986,
          1987,
          1990,
          1991,
          1993,
          1994,
          1995,
          1996,
          1997,
          1999,
          2000,
          2001,
          2004,
          2006,
          2007,
          2009,
          2011,
          2013,
          2014,
          2015,
          2017,
          2018,
          2019,
          2020,
          2022,
          2023,
          2024,
          2025,
          2026,
          2027,
          2028,
          2030,
          2031,
          2032,
          2033,
          2038,
          2039,
          2040,
          2041,
          2044,
          2045,
          2046,
          2047,
          2050,
          2051,
          2052,
          2053,
          2054,
          2056,
          2059,
          2060,
          2062,
          2064,
          2065,
          2066,
          2067,
          2068,
          2069,
          2070,
          2071,
          2072,
          2073,
          2075,
          2077,
          2078,
          2080,
          2083,
          2085,
          2086,
          2087,
          2088,
          2090,
          2091,
          2093,
          2094,
          2095,
          2096,
          2097,
          2100,
          2101,
          2102,
          2104,
          2105,
          2107,
          2108,
          2110,
          2111,
          2112,
          2113,
          2114,
          2115,
          2116,
          2117,
          2119,
          2121,
          2122,
          2123,
          2125,
          2126,
          2127,
          2128,
          2131,
          2132,
          2133,
          2134,
          2135,
          2136,
          2139,
          2140,
          2141,
          2142,
          2143,
          2144,
          2145,
          2148,
          2149,
          2150,
          2152,
          2153,
          2154,
          2155,
          2156,
          2157,
          2158,
          2159,
          2163,
          2164,
          2166,
          2168,
          2169,
          2170,
          2172,
          2173,
          2174,
          2175,
          2176,
          2177,
          2178,
          2179,
          2180,
          2182,
          2183,
          2184,
          2185,
          2186,
          2187,
          2189,
          2191,
          2192,
          2194,
          2196,
          2197,
          2199,
          2200,
          2201,
          2204,
          2207,
          2208,
          2209,
          2210,
          2211,
          2212,
          2213,
          2214,
          2216,
          2219,
          2220,
          2221,
          2222,
          2223,
          2224,
          2226,
          2227,
          2229,
          2230,
          2231,
          2232,
          2234,
          2235,
          2236,
          2238,
          2239,
          2240,
          2243,
          2244,
          2245,
          2247,
          2249,
          2251,
          2252,
          2253,
          2254,
          2257,
          2258,
          2259,
          2260,
          2261,
          2262,
          2264,
          2265,
          2266,
          2267,
          2268,
          2269,
          2270,
          2272,
          2273,
          2274,
          2275,
          2276,
          2277,
          2278,
          2279,
          2280,
          2281,
          2282,
          2283,
          2285,
          2286,
          2287,
          2288,
          2289,
          2291,
          2292,
          2294,
          2295,
          2296,
          2299,
          2300,
          2301,
          2302,
          2304,
          2306,
          2307,
          2308,
          2309,
          2310,
          2311,
          2313,
          2315,
          2316,
          2317,
          2318,
          2319,
          2320,
          2321,
          2322,
          2323,
          2324,
          2325,
          2326,
          2327,
          2329,
          2330,
          2331,
          2332,
          2333,
          2334,
          2335,
          2336,
          2338,
          2342,
          2343,
          2344,
          2345,
          2346,
          2347,
          2349,
          2350,
          2351,
          2352,
          2353,
          2356,
          2358,
          2359,
          2360,
          2362,
          2364,
          2365,
          2366,
          2367,
          2368,
          2370,
          2371,
          2372,
          2373,
          2374,
          2375,
          2379,
          2380,
          2381,
          2382,
          2386,
          2387,
          2390,
          2391,
          2392,
          2393,
          2396,
          2397,
          2398,
          2401,
          2403,
          2404,
          2405,
          2406,
          2409,
          2411,
          2413,
          2415,
          2416,
          2417,
          2419,
          2420,
          2421,
          2422,
          2423,
          2424,
          2426,
          2430,
          2431,
          2432
         ],
         "xaxis": "x",
         "y": [
          150000000,
          10000000,
          180000,
          39999999,
          6000000,
          1000000,
          20000,
          150000,
          150000,
          1100000,
          5000000,
          500000,
          10000000,
          500000,
          199999,
          18000000,
          -2,
          300000,
          1500000,
          1000000,
          1500000,
          3200000,
          6900000,
          1000000,
          1000000,
          1000000,
          6500000,
          2000000,
          31000000,
          180000,
          1250000,
          4999999,
          73700000,
          12000000,
          125000,
          8250000,
          3500000,
          750000,
          9700000,
          350000,
          100000,
          1000000,
          1500000,
          1000000,
          400000,
          100000,
          1000000,
          1000000,
          1200000,
          3500000,
          2500000,
          2950000,
          500000,
          14000000,
          1400000,
          350000,
          3670000,
          184999,
          100000,
          16000000,
          5000000,
          350000,
          20000000,
          400000,
          14800000,
          140000000,
          500000,
          4000000,
          35000000,
          81000,
          1200000,
          150000,
          3999999,
          23000000,
          56000000,
          500000,
          2000000,
          250000,
          500000,
          18840000,
          290000,
          1000000,
          1000000,
          400000,
          675000,
          1550000,
          40000000,
          100000,
          3750000,
          16000000,
          500000,
          99999,
          350000,
          15000000,
          10000000,
          500000,
          500000,
          750000,
          16000000,
          21000000,
          50000,
          90000000,
          2500000,
          1000000,
          10000000,
          10000000,
          450000,
          32000000,
          300000000,
          3000000,
          9000000,
          17200000,
          6500000,
          437000,
          772500,
          -2,
          147000,
          20000000,
          7400000,
          30000000,
          34651265,
          29900000,
          200000,
          6000000,
          1200000,
          15000000,
          200000000,
          10000000,
          1000000,
          300000,
          100000,
          233000,
          7000000,
          60000000,
          2000000,
          90000,
          1450000,
          620000,
          180000,
          500000,
          400000,
          10000000,
          3000000,
          1500000,
          15000000,
          970000,
          75000000,
          1000000,
          530000,
          16600000,
          5000000,
          11100000,
          507000000,
          2150000,
          1000000,
          75000000,
          1000000,
          15600000,
          368000,
          1375000,
          500000,
          52000000,
          382000,
          24999999,
          17000000,
          303000,
          182700000,
          85680000,
          40000,
          3650000,
          100000,
          30000000,
          2000000,
          200000,
          600000,
          319605,
          430200,
          2900000,
          1000000,
          5000000,
          2999999,
          293000,
          100000000,
          30000,
          -3,
          400000,
          150000,
          82000000,
          12000000,
          300000,
          500000,
          200000,
          150000,
          1000000,
          50000000,
          500000,
          3000000,
          600000,
          3500000,
          200000,
          4000000,
          500000,
          499999,
          -2,
          1000000,
          159999999,
          200000,
          16000,
          22400000,
          8900000,
          3000000,
          100000,
          200000,
          6200000,
          220000,
          1200000,
          6500000,
          400000,
          20000000,
          45000000,
          64800000,
          4750000,
          200000,
          199999999,
          50000000,
          145000000,
          31000000,
          1200000,
          500000,
          500000,
          4350000,
          572000,
          300000,
          630000,
          60700000,
          55000000,
          5000000,
          3700000,
          120000,
          6900000,
          3300000,
          935089,
          3700000,
          735000,
          400000,
          2500000,
          734000,
          3000000,
          218000,
          10000000,
          26000000,
          165000,
          5000000,
          18000000,
          100000,
          300000,
          500000,
          6000000,
          76000000,
          16600,
          14700000,
          25000000,
          750000,
          -2,
          150000,
          500000,
          1300000,
          13999999,
          16600,
          25999999,
          850000,
          1000000,
          250000,
          8000000,
          1000000,
          22500,
          9000000,
          135000000,
          1000000,
          10000000,
          306000,
          180000,
          3500000,
          7500000,
          5000000,
          445000,
          200000,
          1000000,
          5000000,
          200000,
          250000,
          -2,
          6000000,
          1200000,
          470000,
          100000,
          200000,
          150000,
          500000,
          5000000,
          15000000,
          43600000,
          34000000,
          18000000,
          2443495,
          -2,
          29999999,
          1500000,
          5000000,
          10100000,
          500000,
          360000,
          1000000,
          1300000,
          1400000,
          783000,
          1500000,
          2000000,
          2500000,
          5500000,
          7700000,
          500000,
          160000,
          19000000,
          3000000,
          18000000,
          6500000,
          120000,
          11000000,
          120000000,
          38200000,
          150000,
          5550000,
          15000000,
          50000,
          800000,
          249999,
          2500000,
          1000000,
          4500000,
          100000,
          750000,
          500000,
          2999999,
          500000,
          6390000,
          25000000,
          1400000,
          3999999,
          1000000,
          52000,
          104000,
          15000000,
          16600,
          1200000,
          215000000,
          600000,
          500000,
          500000,
          80000000,
          50000000,
          5000000,
          150000,
          125000,
          312000,
          375000,
          44999999,
          6000000,
          166000,
          220000000,
          2700000,
          597000,
          2500000,
          700000,
          5000000,
          8400000,
          2500000,
          1000000,
          250000,
          300000,
          2999999,
          2650000,
          100000000,
          15000000,
          3999999,
          450000,
          5000000,
          10000000,
          50000,
          600000,
          22999999,
          16000000,
          300000,
          550000,
          50999999,
          57300000,
          35000000,
          2000000,
          39000,
          4780000,
          15700000,
          1500000,
          949000,
          4500000,
          150000,
          100000,
          10000000,
          500000,
          200000,
          2200000,
          3500000,
          350000,
          8849998,
          2600000,
          167000000,
          6000000,
          270000000,
          220000,
          1000000,
          2500000,
          1000000,
          10000000,
          2000000,
          40000,
          735000,
          -2,
          7000000,
          2000000,
          1700000,
          4500000,
          16000,
          114811,
          100000,
          29500000,
          1100000,
          200000,
          -2,
          200000000,
          8200000,
          600000,
          500000,
          -2,
          490000,
          500000,
          225000,
          1000000,
          1000000,
          41000000,
          16000000,
          147000,
          4500000,
          2471000,
          150000,
          500000,
          20000000,
          36300000,
          16600,
          25000000,
          2000000,
          8000054,
          68000,
          2250000,
          215000,
          -2,
          1750000,
          3500000,
          8000000,
          3000000,
          -2,
          1800000,
          4600000,
          -2,
          250000,
          11310000,
          6000000,
          15000000,
          7000000,
          2300000,
          100000,
          25999999,
          10000000,
          4600000,
          100000,
          2000000,
          150000,
          400000,
          2999999,
          100000000,
          500000,
          2500000,
          600000,
          180000,
          15000000,
          500000,
          890000,
          464000,
          1000000,
          4059700000,
          700000000,
          425000,
          150000,
          7500000,
          7000000,
          22000000,
          500000,
          210000000,
          300000,
          455000,
          600000,
          2000000,
          3800000,
          2999999,
          100000000,
          600000,
          100000,
          137000000,
          145000,
          2000000,
          55000000,
          33500000,
          140000000,
          50000000,
          150000000,
          1100000,
          1000000,
          518000,
          70000,
          11000000,
          400000,
          42200000,
          200000000,
          8600000,
          2000000,
          400000,
          1100000,
          3399999,
          449999998,
          115000000,
          6200000,
          350000,
          22500,
          430000,
          580000,
          209000,
          250000,
          278000,
          4476000,
          250000,
          450000,
          1999999,
          300000,
          1000000,
          11500000,
          2000000,
          300000,
          138995,
          10000000,
          75000,
          20000000,
          250000,
          1500000,
          13400000,
          50000,
          1050000,
          1000000,
          2000000,
          2000000,
          1000000,
          100000,
          3700000,
          5500000,
          1600000,
          50000000,
          5000000,
          999999,
          2000000,
          10000000,
          2500000,
          1000000,
          1000000,
          150000,
          825000,
          2800000,
          60000000,
          650000,
          1000000,
          30000000,
          1000000,
          5200000,
          100000,
          297000000,
          20000000,
          8200000,
          4500000,
          600000,
          1100000,
          500000,
          799999,
          300000,
          45000,
          -2,
          134999,
          5000000,
          200000,
          4500000,
          7500000,
          630000,
          2000000,
          5000000,
          4000000,
          1349999,
          740000,
          77000,
          1000000,
          250000,
          191000,
          1000000,
          1800000,
          3000000,
          2500000,
          1000000,
          800000,
          12000000,
          73000,
          40000000,
          3100000,
          26999999,
          11999998,
          1000000,
          5000000,
          400000,
          2700000,
          1500000,
          295000,
          23000000,
          780000,
          1000000,
          3000000,
          50000000,
          175000000,
          4000000,
          700000,
          250000,
          250000,
          5274999,
          3100000,
          15000000,
          100000,
          10000000,
          17950000,
          5000000,
          50000000,
          1000000,
          500000,
          470000,
          89000,
          24000000,
          150000,
          16000,
          5000000,
          150000,
          1000000,
          26500000,
          20000000,
          1500000,
          1500000,
          25000000,
          9090000,
          -2,
          1000000,
          1800000,
          450000,
          250000,
          10000000,
          25000000,
          2000000,
          13500000,
          4000000,
          15000000,
          155000,
          6000000,
          96000000,
          700000,
          10000000,
          250000,
          500000,
          1000000,
          750000,
          500000,
          5900000,
          42000000,
          300000,
          5000000,
          500000,
          2000000,
          4000000,
          999999,
          5000000,
          500000,
          9999999,
          150000,
          15000000,
          150000,
          14749999,
          13000000,
          15030000,
          600000,
          63000000,
          5000000,
          160000,
          750000,
          250000,
          100000000,
          2000000,
          450000,
          4250000,
          18000000,
          3999998,
          15599999,
          1500000,
          23350000,
          5000000,
          5200000,
          16600,
          240000,
          2199999,
          1000000,
          800000,
          4200000,
          -2,
          100000,
          100000,
          4000000,
          106000,
          3000000,
          2000000,
          325000,
          16500000,
          14999999,
          250000,
          5000000,
          -2,
          154999,
          3000000,
          6000000,
          260000,
          -2,
          94000,
          300000,
          500000,
          1000000,
          2250000,
          25999999,
          5200000,
          8500000,
          1200000,
          5800000,
          20000000,
          500000,
          5000000,
          750000,
          400000,
          385000,
          4200000,
          148000,
          430665,
          2800000,
          500000,
          200000,
          499999,
          500000,
          14000000,
          1000000,
          441000,
          1400000,
          850000,
          5000000,
          2500000,
          32000000,
          230000,
          500000,
          100000,
          20000000,
          500000,
          23300000,
          300000,
          9999999,
          6000000,
          46140,
          80000,
          1000000,
          45250000,
          3000000,
          16000000,
          150000,
          156000,
          124999,
          6350000,
          150000,
          600000,
          500000,
          16600,
          250000,
          13000000,
          150000,
          3400000,
          5000000,
          1000000,
          500000,
          10750000,
          44450000,
          101700000,
          5649999,
          59999998,
          231000000,
          40000,
          200000,
          3000000,
          4000000,
          -2,
          13300000,
          1000000,
          -2,
          5000000,
          44000000,
          150000,
          130000,
          108000,
          30000000,
          1000000,
          500000,
          999999,
          150000,
          3000000,
          15000000,
          1100000,
          200000,
          8000000,
          500000,
          2250000,
          6250000,
          320000,
          3000000,
          4000000,
          5000000,
          300000,
          2749999,
          436000,
          9999999,
          50000,
          400000,
          5880000,
          750000,
          -2,
          900000,
          10200000,
          300000,
          175000,
          1500000,
          32000000,
          375000,
          22500,
          175000,
          1499998,
          167999,
          4500000,
          1000000,
          17600000,
          15000000,
          190000000,
          250000,
          3999998,
          18358860,
          6000000,
          700000,
          60000000,
          1200000,
          18000,
          2000000,
          56000000,
          440000,
          30000,
          1000000,
          100000,
          20000000,
          6000000,
          60000000,
          150000,
          100000,
          15800000,
          100000,
          779999,
          17000000,
          31000000,
          45000,
          189599998,
          1000000,
          5000000,
          1199999,
          100000,
          4000000,
          75000000,
          50000,
          12200000,
          6700000,
          150000,
          1300000,
          7500000,
          3000000,
          750000,
          39500000,
          324000,
          486000,
          4249999,
          600000,
          -2,
          31600000,
          2350000,
          9299999,
          90000000,
          500000,
          500000,
          400000,
          76199998,
          445000,
          1200000,
          12600000,
          12300000,
          -2,
          40000,
          15000000,
          500000,
          35000000,
          -2,
          1500000,
          -2,
          350000,
          220000,
          3000000,
          1000000,
          1500000,
          100000,
          3000000,
          8200000,
          150000,
          550000,
          615000,
          11300000,
          1000000,
          5200000,
          200000,
          1000000,
          978000,
          3000000,
          1600000,
          249999,
          2500000,
          200000,
          10000000,
          1600000,
          5300000,
          1000000,
          410000,
          320000,
          5000000,
          499999,
          20000000,
          52000000,
          21500000,
          143000,
          600000,
          3000000,
          225000,
          300000,
          27000000,
          285000,
          2500000,
          16000000,
          16000000,
          47000000,
          1000000,
          235000,
          600000,
          31300000,
          12749999,
          3000000,
          14000000,
          35000000,
          50000000,
          4800000,
          250000,
          243000,
          20000000,
          100000,
          40000000,
          4150000,
          25000,
          1000000,
          1000000,
          500000,
          1999997,
          3000000,
          34500000,
          300000,
          449999,
          71399998,
          872000,
          147000,
          168000,
          100000,
          1199999,
          1000000,
          10000000,
          1000000,
          10000000,
          455000,
          400000,
          13500000,
          213999999,
          691999,
          1100000,
          150000,
          285000000,
          8000000,
          200000,
          19900000,
          29000000,
          6700000,
          15500000,
          984500000,
          669699999,
          400000000,
          3000000,
          150000,
          100000,
          6000000,
          7499999,
          336000,
          450000,
          150000,
          770000,
          150000,
          450000,
          3600000,
          450000,
          8300000,
          4000000,
          520000,
          1000000,
          3000000,
          11000000,
          199999,
          3000000,
          100000000,
          350000000,
          162000000,
          100000000,
          8600000,
          2000000,
          225000,
          9000000,
          30000000,
          400000,
          500000,
          1400000,
          4999999,
          -2,
          118000,
          4000000,
          5600000,
          234000,
          18000000,
          2500000,
          5300000,
          3148950000,
          200000000,
          499999,
          443000,
          1000000,
          1000000,
          10000000,
          169700000,
          40000000,
          6100000,
          30000,
          148434,
          1500000,
          17999999,
          745000,
          5500000,
          66000000,
          38700000,
          23000000,
          6000000,
          500000,
          1790000,
          300000,
          1300000,
          -2,
          147000,
          -2,
          100000,
          38080000,
          82000000,
          223608,
          600000,
          1000000,
          1100000,
          999999,
          350000,
          150000,
          2000000,
          1040000,
          16000,
          4000000,
          600000,
          700000,
          500000,
          1000000,
          3000000,
          150000,
          5000000,
          77000000,
          267700000,
          2000000,
          26000000,
          37500000,
          450000,
          8000000,
          57000000,
          85000000,
          2400000,
          200000,
          4300000,
          145000,
          2200000,
          570000,
          6000000,
          300000,
          165000,
          5600000,
          4500000,
          5000000,
          50000,
          180000,
          500000,
          3000000,
          2000000,
          550000,
          150000,
          520000,
          500000,
          37000000,
          448000,
          100000,
          6537000,
          150000,
          250000,
          9000000,
          200000,
          229999,
          159999,
          55000000,
          -2,
          310000,
          1600000,
          230000000,
          3300000,
          540000,
          300000,
          1000000,
          6000000,
          4000000,
          4000000,
          -4,
          250000,
          8600000,
          751229,
          3900000000,
          1100000,
          50000000,
          4800000,
          100000,
          119999,
          28999999,
          1000000,
          500000,
          300000,
          26000000,
          2500000,
          250000,
          1000000,
          250000,
          330000,
          50000000,
          466000,
          1000000,
          2600000,
          9200000,
          20500000,
          -2,
          5000000,
          233999,
          1400000,
          16000000,
          250000,
          2000000,
          100000,
          10000000,
          275000,
          400000,
          500000,
          4000000,
          4000000,
          23270000,
          6000000,
          140000000,
          100000,
          250000,
          21000000,
          4100000,
          450000,
          12000000,
          150000,
          300000,
          240000,
          160000,
          2000000,
          300000,
          2000000,
          1500000,
          187000,
          -2,
          31700000,
          5000000,
          2999999,
          1000000,
          7000000,
          200000,
          6830000,
          27000000,
          1000000,
          100000,
          150000,
          300000,
          868600,
          35000000,
          99999999,
          10000000,
          36230000,
          1800000,
          1500000,
          2500000,
          7500000,
          7000000,
          160000,
          23500000,
          5000000,
          5000000,
          319998,
          1800000,
          6000000,
          1000000,
          160000,
          -2,
          500000,
          6000000,
          3000000,
          1500000,
          300000,
          4000000,
          3600000,
          2499999,
          12000000,
          5000000,
          1000000,
          650000,
          1000000,
          750000,
          500000,
          750000,
          -2,
          3500000,
          200000,
          310000,
          9000000,
          10000000,
          100000000,
          23550000,
          2570000,
          500000,
          1000000,
          750000,
          5000000,
          100000000,
          1999999,
          40000000,
          2000000,
          107700000,
          233000,
          1070000,
          963000,
          5000000,
          500000,
          5700000,
          44048394,
          1200000,
          3400000,
          24800000,
          448000,
          515000,
          900000,
          1200000,
          17500000,
          35749999,
          12250000,
          68,
          722000,
          150000,
          1240000,
          2000000,
          3600000,
          47800000,
          250000,
          500000,
          10000000,
          2000000,
          -2,
          3000000,
          200000,
          1000000,
          199999,
          175000,
          7200000,
          700000000,
          200000,
          100000,
          22500,
          19500000,
          311000,
          460000,
          10000000,
          300000,
          150000,
          1000000,
          1000000,
          150000,
          -2,
          10000000,
          550000,
          11200000,
          800000,
          1000000,
          2100000,
          28000000,
          5999999,
          999998,
          1100000,
          2000000,
          5000000,
          5000000,
          -2,
          13500000,
          20000000,
          14000000,
          200000,
          395000,
          349999,
          69999,
          16000000,
          232000,
          354600,
          1000000,
          30768,
          22500,
          385000,
          7500000,
          1000000,
          37000,
          249999,
          28000000,
          1900000,
          150000,
          785000,
          1500000,
          1300000,
          540000,
          1000000,
          1619999,
          1200000,
          270500000,
          307600,
          6000000,
          149999,
          1400000,
          100000,
          450000,
          3000000,
          1000000,
          5000000,
          110000000,
          1000000,
          7600000,
          100000,
          150000,
          1930000,
          15000000,
          5700000,
          23000000,
          1000000,
          526000,
          500000,
          227000,
          7000000,
          1000000,
          5999999,
          1500000,
          1750000,
          3000000,
          250000,
          825000,
          140000,
          100000,
          166000,
          500000,
          1000000,
          2100000,
          1900000,
          1000000,
          3100000,
          -2,
          1000000,
          245000,
          6000000,
          534999,
          210000,
          10000000,
          1600000,
          315000,
          500000,
          240000,
          250000,
          200000,
          1000000,
          35000000,
          2400000,
          1000000,
          -2,
          23500000,
          3579998,
          1500000,
          450000,
          2500000,
          17000000,
          1000000,
          8000000,
          1000000,
          110000,
          670000,
          26620820,
          2000000,
          350000,
          1300000,
          400000,
          1000000,
          13499998,
          400000,
          297000,
          3500000,
          15000000,
          1600000,
          6000000,
          18000000,
          12000000,
          10000000,
          40000000,
          3250000,
          50000,
          249999,
          246000,
          1000000,
          373000,
          3000000,
          5591374,
          370000,
          2000000,
          14900000,
          595000,
          10000000,
          37999999,
          600000000,
          8650000,
          745000,
          5500000,
          700000,
          3100000,
          800000,
          275000,
          21000000,
          -2,
          235000,
          3000000,
          1200000,
          500000,
          870000000,
          1000000,
          16807000,
          12499999,
          2000000,
          97879999,
          15000000,
          600000,
          1500000,
          5000000,
          1399999,
          77199999,
          -2,
          60699999,
          50000000,
          3000000,
          -2,
          2000000,
          100000,
          4000000,
          27000,
          280000,
          1000000,
          200000,
          1500000,
          650000,
          250000,
          55000000,
          4000000,
          540000,
          15000000,
          6000000,
          162000,
          100000,
          1500000,
          500000,
          270000,
          500000,
          4700000,
          27799000,
          1000000,
          500000,
          2400000,
          6750000,
          315000,
          800000,
          -2,
          776000,
          40000000,
          375000,
          50000,
          283000000,
          3584000,
          500000,
          100000,
          1000000,
          34000000,
          100000,
          1350000,
          15000000,
          15000000,
          5000000,
          5000000,
          2000000,
          22000000,
          16999998,
          -2,
          1600000,
          1000000,
          5199999,
          2700000,
          7700000,
          440000,
          250000,
          375000,
          297000,
          2000000,
          410000,
          40000,
          6000000,
          2100000,
          4590000,
          120000,
          500000,
          1530000,
          600000,
          2000000,
          3000000,
          9890000,
          499999,
          649999,
          250000,
          -2,
          450000,
          595000,
          145000,
          9600000,
          2200000,
          500000,
          30000,
          7999997,
          5000000,
          1000000,
          499998,
          400000,
          4500000,
          3000000,
          -3,
          450000,
          12500000,
          10000000,
          5000000,
          3100000,
          15400000,
          650000,
          88699999,
          16000,
          115000,
          1000000,
          400000,
          1200000,
          2999999,
          600000,
          -2,
          300000,
          3000000,
          1000000,
          50000000,
          15000000,
          350000,
          2000000,
          3076999,
          100000,
          9999998,
          500000,
          999999,
          7500000,
          1000000,
          1000000,
          75000,
          15200000,
          13500000,
          500000,
          1360999,
          37000000,
          899999,
          640000,
          65000000,
          500000,
          77000,
          6500000,
          19900000,
          19000000,
          120000,
          190000,
          235900000,
          2400000,
          6000000,
          500000,
          3649999,
          200000,
          390000,
          40000000,
          45000000,
          999997,
          5000000,
          435000000,
          1000000,
          24000000,
          15999999,
          450000,
          10000000,
          20000000,
          50000000,
          2000000,
          650000,
          180000,
          250000,
          5000000,
          16200000,
          6000000,
          685000,
          600000,
          19350000,
          10000000,
          20000000,
          625000,
          140000,
          30000000,
          400000,
          650000,
          300000,
          1991000,
          500000,
          298000,
          80000,
          250000,
          3650000,
          5000000,
          2000000,
          10100000,
          500000,
          500000,
          30000,
          750000,
          12000000,
          311200,
          3000000,
          500000,
          768000,
          300000,
          1000000,
          149000,
          2300000,
          250000,
          -2,
          19500000,
          1000000,
          5900000,
          -2,
          440000,
          1500000,
          100000,
          1000000,
          500000,
          4000000,
          40000,
          200000,
          2500000,
          500000,
          180000,
          750000,
          475000,
          1350000,
          31000000,
          4000000,
          4200000,
          2000000,
          650000,
          150000,
          650000,
          25000000,
          90000000,
          3000000,
          2400000,
          200000,
          1000000,
          440000
         ],
         "yaxis": "y"
        }
       ],
       "layout": {
        "legend": {
         "tracegroupgap": 0
        },
        "margin": {
         "t": 60
        },
        "template": {
         "data": {
          "bar": [
           {
            "error_x": {
             "color": "#2a3f5f"
            },
            "error_y": {
             "color": "#2a3f5f"
            },
            "marker": {
             "line": {
              "color": "#E5ECF6",
              "width": 0.5
             }
            },
            "type": "bar"
           }
          ],
          "barpolar": [
           {
            "marker": {
             "line": {
              "color": "#E5ECF6",
              "width": 0.5
             }
            },
            "type": "barpolar"
           }
          ],
          "carpet": [
           {
            "aaxis": {
             "endlinecolor": "#2a3f5f",
             "gridcolor": "white",
             "linecolor": "white",
             "minorgridcolor": "white",
             "startlinecolor": "#2a3f5f"
            },
            "baxis": {
             "endlinecolor": "#2a3f5f",
             "gridcolor": "white",
             "linecolor": "white",
             "minorgridcolor": "white",
             "startlinecolor": "#2a3f5f"
            },
            "type": "carpet"
           }
          ],
          "choropleth": [
           {
            "colorbar": {
             "outlinewidth": 0,
             "ticks": ""
            },
            "type": "choropleth"
           }
          ],
          "contour": [
           {
            "colorbar": {
             "outlinewidth": 0,
             "ticks": ""
            },
            "colorscale": [
             [
              0,
              "#0d0887"
             ],
             [
              0.1111111111111111,
              "#46039f"
             ],
             [
              0.2222222222222222,
              "#7201a8"
             ],
             [
              0.3333333333333333,
              "#9c179e"
             ],
             [
              0.4444444444444444,
              "#bd3786"
             ],
             [
              0.5555555555555556,
              "#d8576b"
             ],
             [
              0.6666666666666666,
              "#ed7953"
             ],
             [
              0.7777777777777778,
              "#fb9f3a"
             ],
             [
              0.8888888888888888,
              "#fdca26"
             ],
             [
              1,
              "#f0f921"
             ]
            ],
            "type": "contour"
           }
          ],
          "contourcarpet": [
           {
            "colorbar": {
             "outlinewidth": 0,
             "ticks": ""
            },
            "type": "contourcarpet"
           }
          ],
          "heatmap": [
           {
            "colorbar": {
             "outlinewidth": 0,
             "ticks": ""
            },
            "colorscale": [
             [
              0,
              "#0d0887"
             ],
             [
              0.1111111111111111,
              "#46039f"
             ],
             [
              0.2222222222222222,
              "#7201a8"
             ],
             [
              0.3333333333333333,
              "#9c179e"
             ],
             [
              0.4444444444444444,
              "#bd3786"
             ],
             [
              0.5555555555555556,
              "#d8576b"
             ],
             [
              0.6666666666666666,
              "#ed7953"
             ],
             [
              0.7777777777777778,
              "#fb9f3a"
             ],
             [
              0.8888888888888888,
              "#fdca26"
             ],
             [
              1,
              "#f0f921"
             ]
            ],
            "type": "heatmap"
           }
          ],
          "heatmapgl": [
           {
            "colorbar": {
             "outlinewidth": 0,
             "ticks": ""
            },
            "colorscale": [
             [
              0,
              "#0d0887"
             ],
             [
              0.1111111111111111,
              "#46039f"
             ],
             [
              0.2222222222222222,
              "#7201a8"
             ],
             [
              0.3333333333333333,
              "#9c179e"
             ],
             [
              0.4444444444444444,
              "#bd3786"
             ],
             [
              0.5555555555555556,
              "#d8576b"
             ],
             [
              0.6666666666666666,
              "#ed7953"
             ],
             [
              0.7777777777777778,
              "#fb9f3a"
             ],
             [
              0.8888888888888888,
              "#fdca26"
             ],
             [
              1,
              "#f0f921"
             ]
            ],
            "type": "heatmapgl"
           }
          ],
          "histogram": [
           {
            "marker": {
             "colorbar": {
              "outlinewidth": 0,
              "ticks": ""
             }
            },
            "type": "histogram"
           }
          ],
          "histogram2d": [
           {
            "colorbar": {
             "outlinewidth": 0,
             "ticks": ""
            },
            "colorscale": [
             [
              0,
              "#0d0887"
             ],
             [
              0.1111111111111111,
              "#46039f"
             ],
             [
              0.2222222222222222,
              "#7201a8"
             ],
             [
              0.3333333333333333,
              "#9c179e"
             ],
             [
              0.4444444444444444,
              "#bd3786"
             ],
             [
              0.5555555555555556,
              "#d8576b"
             ],
             [
              0.6666666666666666,
              "#ed7953"
             ],
             [
              0.7777777777777778,
              "#fb9f3a"
             ],
             [
              0.8888888888888888,
              "#fdca26"
             ],
             [
              1,
              "#f0f921"
             ]
            ],
            "type": "histogram2d"
           }
          ],
          "histogram2dcontour": [
           {
            "colorbar": {
             "outlinewidth": 0,
             "ticks": ""
            },
            "colorscale": [
             [
              0,
              "#0d0887"
             ],
             [
              0.1111111111111111,
              "#46039f"
             ],
             [
              0.2222222222222222,
              "#7201a8"
             ],
             [
              0.3333333333333333,
              "#9c179e"
             ],
             [
              0.4444444444444444,
              "#bd3786"
             ],
             [
              0.5555555555555556,
              "#d8576b"
             ],
             [
              0.6666666666666666,
              "#ed7953"
             ],
             [
              0.7777777777777778,
              "#fb9f3a"
             ],
             [
              0.8888888888888888,
              "#fdca26"
             ],
             [
              1,
              "#f0f921"
             ]
            ],
            "type": "histogram2dcontour"
           }
          ],
          "mesh3d": [
           {
            "colorbar": {
             "outlinewidth": 0,
             "ticks": ""
            },
            "type": "mesh3d"
           }
          ],
          "parcoords": [
           {
            "line": {
             "colorbar": {
              "outlinewidth": 0,
              "ticks": ""
             }
            },
            "type": "parcoords"
           }
          ],
          "pie": [
           {
            "automargin": true,
            "type": "pie"
           }
          ],
          "scatter": [
           {
            "marker": {
             "colorbar": {
              "outlinewidth": 0,
              "ticks": ""
             }
            },
            "type": "scatter"
           }
          ],
          "scatter3d": [
           {
            "line": {
             "colorbar": {
              "outlinewidth": 0,
              "ticks": ""
             }
            },
            "marker": {
             "colorbar": {
              "outlinewidth": 0,
              "ticks": ""
             }
            },
            "type": "scatter3d"
           }
          ],
          "scattercarpet": [
           {
            "marker": {
             "colorbar": {
              "outlinewidth": 0,
              "ticks": ""
             }
            },
            "type": "scattercarpet"
           }
          ],
          "scattergeo": [
           {
            "marker": {
             "colorbar": {
              "outlinewidth": 0,
              "ticks": ""
             }
            },
            "type": "scattergeo"
           }
          ],
          "scattergl": [
           {
            "marker": {
             "colorbar": {
              "outlinewidth": 0,
              "ticks": ""
             }
            },
            "type": "scattergl"
           }
          ],
          "scattermapbox": [
           {
            "marker": {
             "colorbar": {
              "outlinewidth": 0,
              "ticks": ""
             }
            },
            "type": "scattermapbox"
           }
          ],
          "scatterpolar": [
           {
            "marker": {
             "colorbar": {
              "outlinewidth": 0,
              "ticks": ""
             }
            },
            "type": "scatterpolar"
           }
          ],
          "scatterpolargl": [
           {
            "marker": {
             "colorbar": {
              "outlinewidth": 0,
              "ticks": ""
             }
            },
            "type": "scatterpolargl"
           }
          ],
          "scatterternary": [
           {
            "marker": {
             "colorbar": {
              "outlinewidth": 0,
              "ticks": ""
             }
            },
            "type": "scatterternary"
           }
          ],
          "surface": [
           {
            "colorbar": {
             "outlinewidth": 0,
             "ticks": ""
            },
            "colorscale": [
             [
              0,
              "#0d0887"
             ],
             [
              0.1111111111111111,
              "#46039f"
             ],
             [
              0.2222222222222222,
              "#7201a8"
             ],
             [
              0.3333333333333333,
              "#9c179e"
             ],
             [
              0.4444444444444444,
              "#bd3786"
             ],
             [
              0.5555555555555556,
              "#d8576b"
             ],
             [
              0.6666666666666666,
              "#ed7953"
             ],
             [
              0.7777777777777778,
              "#fb9f3a"
             ],
             [
              0.8888888888888888,
              "#fdca26"
             ],
             [
              1,
              "#f0f921"
             ]
            ],
            "type": "surface"
           }
          ],
          "table": [
           {
            "cells": {
             "fill": {
              "color": "#EBF0F8"
             },
             "line": {
              "color": "white"
             }
            },
            "header": {
             "fill": {
              "color": "#C8D4E3"
             },
             "line": {
              "color": "white"
             }
            },
            "type": "table"
           }
          ]
         },
         "layout": {
          "annotationdefaults": {
           "arrowcolor": "#2a3f5f",
           "arrowhead": 0,
           "arrowwidth": 1
          },
          "autotypenumbers": "strict",
          "coloraxis": {
           "colorbar": {
            "outlinewidth": 0,
            "ticks": ""
           }
          },
          "colorscale": {
           "diverging": [
            [
             0,
             "#8e0152"
            ],
            [
             0.1,
             "#c51b7d"
            ],
            [
             0.2,
             "#de77ae"
            ],
            [
             0.3,
             "#f1b6da"
            ],
            [
             0.4,
             "#fde0ef"
            ],
            [
             0.5,
             "#f7f7f7"
            ],
            [
             0.6,
             "#e6f5d0"
            ],
            [
             0.7,
             "#b8e186"
            ],
            [
             0.8,
             "#7fbc41"
            ],
            [
             0.9,
             "#4d9221"
            ],
            [
             1,
             "#276419"
            ]
           ],
           "sequential": [
            [
             0,
             "#0d0887"
            ],
            [
             0.1111111111111111,
             "#46039f"
            ],
            [
             0.2222222222222222,
             "#7201a8"
            ],
            [
             0.3333333333333333,
             "#9c179e"
            ],
            [
             0.4444444444444444,
             "#bd3786"
            ],
            [
             0.5555555555555556,
             "#d8576b"
            ],
            [
             0.6666666666666666,
             "#ed7953"
            ],
            [
             0.7777777777777778,
             "#fb9f3a"
            ],
            [
             0.8888888888888888,
             "#fdca26"
            ],
            [
             1,
             "#f0f921"
            ]
           ],
           "sequentialminus": [
            [
             0,
             "#0d0887"
            ],
            [
             0.1111111111111111,
             "#46039f"
            ],
            [
             0.2222222222222222,
             "#7201a8"
            ],
            [
             0.3333333333333333,
             "#9c179e"
            ],
            [
             0.4444444444444444,
             "#bd3786"
            ],
            [
             0.5555555555555556,
             "#d8576b"
            ],
            [
             0.6666666666666666,
             "#ed7953"
            ],
            [
             0.7777777777777778,
             "#fb9f3a"
            ],
            [
             0.8888888888888888,
             "#fdca26"
            ],
            [
             1,
             "#f0f921"
            ]
           ]
          },
          "colorway": [
           "#636efa",
           "#EF553B",
           "#00cc96",
           "#ab63fa",
           "#FFA15A",
           "#19d3f3",
           "#FF6692",
           "#B6E880",
           "#FF97FF",
           "#FECB52"
          ],
          "font": {
           "color": "#2a3f5f"
          },
          "geo": {
           "bgcolor": "white",
           "lakecolor": "white",
           "landcolor": "#E5ECF6",
           "showlakes": true,
           "showland": true,
           "subunitcolor": "white"
          },
          "hoverlabel": {
           "align": "left"
          },
          "hovermode": "closest",
          "mapbox": {
           "style": "light"
          },
          "paper_bgcolor": "white",
          "plot_bgcolor": "#E5ECF6",
          "polar": {
           "angularaxis": {
            "gridcolor": "white",
            "linecolor": "white",
            "ticks": ""
           },
           "bgcolor": "#E5ECF6",
           "radialaxis": {
            "gridcolor": "white",
            "linecolor": "white",
            "ticks": ""
           }
          },
          "scene": {
           "xaxis": {
            "backgroundcolor": "#E5ECF6",
            "gridcolor": "white",
            "gridwidth": 2,
            "linecolor": "white",
            "showbackground": true,
            "ticks": "",
            "zerolinecolor": "white"
           },
           "yaxis": {
            "backgroundcolor": "#E5ECF6",
            "gridcolor": "white",
            "gridwidth": 2,
            "linecolor": "white",
            "showbackground": true,
            "ticks": "",
            "zerolinecolor": "white"
           },
           "zaxis": {
            "backgroundcolor": "#E5ECF6",
            "gridcolor": "white",
            "gridwidth": 2,
            "linecolor": "white",
            "showbackground": true,
            "ticks": "",
            "zerolinecolor": "white"
           }
          },
          "shapedefaults": {
           "line": {
            "color": "#2a3f5f"
           }
          },
          "ternary": {
           "aaxis": {
            "gridcolor": "white",
            "linecolor": "white",
            "ticks": ""
           },
           "baxis": {
            "gridcolor": "white",
            "linecolor": "white",
            "ticks": ""
           },
           "bgcolor": "#E5ECF6",
           "caxis": {
            "gridcolor": "white",
            "linecolor": "white",
            "ticks": ""
           }
          },
          "title": {
           "x": 0.05
          },
          "xaxis": {
           "automargin": true,
           "gridcolor": "white",
           "linecolor": "white",
           "ticks": "",
           "title": {
            "standoff": 15
           },
           "zerolinecolor": "white",
           "zerolinewidth": 2
          },
          "yaxis": {
           "automargin": true,
           "gridcolor": "white",
           "linecolor": "white",
           "ticks": "",
           "title": {
            "standoff": 15
           },
           "zerolinecolor": "white",
           "zerolinewidth": 2
          }
         }
        },
        "width": 1000,
        "xaxis": {
         "anchor": "y",
         "domain": [
          0,
          1
         ],
         "title": {
          "text": "index"
         }
        },
        "yaxis": {
         "anchor": "x",
         "domain": [
          0,
          1
         ],
         "title": {
          "text": "Amount in USD"
         }
        }
       }
      },
      "text/html": [
       "<div>                            <div id=\"6e5e0dbc-d19a-4542-a74d-1bdfb810ee52\" class=\"plotly-graph-div\" style=\"height:525px; width:1000px;\"></div>            <script type=\"text/javascript\">                require([\"plotly\"], function(Plotly) {                    window.PLOTLYENV=window.PLOTLYENV || {};                                    if (document.getElementById(\"6e5e0dbc-d19a-4542-a74d-1bdfb810ee52\")) {                    Plotly.newPlot(                        \"6e5e0dbc-d19a-4542-a74d-1bdfb810ee52\",                        [{\"hovertemplate\": \"<b>%{hovertext}</b><br><br>index=%{x}<br>Amount in USD=%{y}<extra></extra>\", \"hovertext\": [\"\\\"BYJU\\\\\\\\'S\\\"\", \"#Fame\", \"19th mile\", \"1mg\", \"1mg (Healthkartplus)\", \"20Dresses\", \"33Coupons\", \"360Ride\", \"3Dexter\", \"3HCare\", \"3rdFlix\", \"48East\", \"4tigo\", \"5th Vital\", \"6Degree\", \"75F\", \"91SpringBoard\", \"99PerHour\", \"9Stacks\", \"A&R Bon Vivants\", \"ABI Health\", \"AEON Learning\", \"AYE Finance\", \"Aadyah\", \"Aahaa\", \"Aahaa Stores\", \"Aasaanjobs\", \"Aashiyaan\", \"Aavishkaar-Intellecap Group\", \"Absentia\", \"Absentia VR\", \"Ace Turtle\", \"Ace2three\", \"Acko\", \"ActOnMagic\", \"Active AI\", \"Active.ai\", \"Actofit\", \"Ad2pro\", \"AdStringO\", \"AdUrCup\", \"AdWyze\", \"Address Health\", \"AdmitKard\", \"Advantage Club\", \"Advenio\", \"Adytude\", \"Aequm\", \"Affimity\", \"Affordplan\", \"Agara Labs\", \"AgentDesks\", \"Agricxlab\", \"Agrostar\", \"AirMed Labs\", \"AirZaar\", \"Airpay\", \"Aisle\", \"Aisle.co\", \"Akosha\", \"Alef\\\\\\\\nMobitech\", \"AllIzHealth\", \"Allygrow Technologies\", \"AlmaMapper\", \"Alpha Capital\", \"Alteria Capital\", \"Alternacare\", \"Altizone\", \"Amagi Media Labs\", \"American Vision\", \"Ampere Vehicles\", \"Anandakanda\", \"Anchanto\", \"Annapurna Finance\", \"Antuit\", \"AppBrowzer\", \"AppDaily\", \"AppLop\", \"AppVirality\", \"Appario Retail Pvt Ltd.\", \"Appbase\", \"Appedo\", \"Appie\", \"AppilyEver\", \"Appknox\", \"Applicate\", \"Applied Solar Technologies\", \"Applop\", \"AppsDaily\", \"Appsdaily\", \"Appvigil\", \"Arcatron Mobility\", \"Ark Robot\", \"Arkin Net\", \"Arohan Financial Services\", \"Arth DesignBuild\", \"Artoo\", \"Arya.ai\", \"Aryaka\", \"Asia Institute Of Medical Science\", \"AskMyGift\", \"Ather Energy\", \"Atlan\", \"Atomberg\", \"Atomberg Technology\", \"Attune Technologies\", \"Augrav\", \"AutoGrid\", \"Automation Anywhere\", \"Autorox.co\", \"Avail Finance\", \"AvailFinance\", \"Avanti Learning\", \"Avenue Growth\", \"Avishkaar Box\", \"Awaaz De\", \"Awesummly\", \"Awfis\", \"Axio\", \"Axtria\", \"Aye Finance\", \"AyeFinance\", \"Azah\", \"B9 Beverages\", \"BHIVE Workspace\", \"BYJU\\\\\\\\xe2\\\\\\\\x80\\\\\\\\x99s\", \"BYJU\\u2019S\", \"Babajobs\", \"Baby Berry\", \"Babygogo\", \"Badiyajobs\", \"Balance App\", \"Bank Bazaar\", \"BankBazaar\", \"BankerBay\", \"Bats on delivery\", \"Baxi\", \"Be U Salons\", \"BeaconsTalk\", \"Beardo\", \"Belita\", \"Belong\", \"Bestdealfinance\", \"Betaout\", \"Better Mortgage\", \"BetterPlace\", \"BharatPe\", \"BhiveWorkspace\", \"BiBox\", \"Bidgely\", \"Big Basket\", \"Big Fish Ventures\", \"BigBasket\", \"BigStylist\", \"BigStylist.com\", \"BillDesk\", \"Billion Loans\", \"Bira91\", \"Biryani Blues\", \"Biryani By Kilo\", \"Bite Club\", \"Biz2Credit\", \"Bizom\", \"Bizongo\", \"Black Soil\", \"Black White Orange\", \"BlackBuck\", \"Blackbuck\", \"Blood n Care\", \"Blowhorn\", \"Blubox\", \"BlueStone\", \"Bluebirch\", \"Bluegape\", \"Bluegape.com\", \"Board Infinity\", \"Bolo App\", \"Bombay Shaving Company\", \"Bombay Shirt Company\", \"Bona Vita\", \"Bonhomia\", \"Bonphulapl\", \"Book My Show\", \"Book Servicing\", \"BookEventz\", \"BookMeIn\", \"BookMyBai\", \"BookMyShow\", \"Box8\", \"Boxmyspace\", \"Boxx.ai\", \"Brick2Wall\", \"Briston Technomach\", \"BroEx\", \"BrowserStack\", \"Buddy\", \"Buddy4studdy\", \"Bueno\", \"BuildSupply\", \"BuildTraders\", \"Buildzar\", \"Bumper\", \"Burger Singh\", \"Buttercups\", \"BuyHatke\", \"Byju\\\\\\\\xe2\\\\\\\\x80\\\\\\\\x99s\", \"CBREX\", \"CBS\", \"CCAvenue\", \"CCavenue\", \"CREO\", \"CaRPM\", \"Cabsguru\", \"Call Health\", \"Campus Diaries\", \"CanvasFlip\", \"Canvera\", \"Capabiliti\", \"Capillary\", \"Capillary Tech\", \"Capital Float\", \"Capricoast\", \"Capzest\", \"CarDekho\", \"CarDekho.com\", \"CarTrade\", \"Caratlane.com\", \"Caravan Craft\", \"Caravan Craft Retail\", \"Carcrew.in\", \"Care24\", \"Career Anna\", \"Careongo\", \"Carl\\\\\\\\xe2\\\\\\\\x80\\\\\\\\x99s Jr\", \"Cars24\", \"Cartrade\", \"Casa2inns\", \"Cash Suvidha\", \"CashFree\", \"Cashe\", \"Cashflo\", \"Cashify\", \"Cashkaro.com\", \"Cashkumar\", \"Celerix\", \"Celes Care\", \"Cerebroz\", \"Chaayos\", \"Chai Thela\", \"ChaiPoint\", \"Chakr Innovation\", \"Changer Mints\", \"ChargeBee\", \"Chargebee\", \"Chargein\", \"ChatOnGo\", \"CheersOye!\", \"Chefs Basket\", \"Chillr\", \"Chloroplast Foods\", \"Chumbak\", \"Citrus Payment\", \"CityFlo\", \"CityFurnish\", \"Clapsnslaps\", \"CleanseCar\", \"ClearTax\", \"Cleartax\", \"CleverSharks\", \"CleverTap\", \"Click2Clinic\", \"Clip App\", \"Clonect Solutions\", \"Cloud Lending\", \"Cloudcherry Analytics\", \"Cloudrino\", \"Clovia\", \"Clumio\", \"Co Life\", \"CoinTribe\", \"CollPoll\", \"CollateBox\", \"Collateral Medical\", \"Collectabillia\", \"CollegeDekho\", \"CollegeDunia\", \"Comarete\", \"Commeasure\", \"Commonfloor\", \"Commut\", \"ConfirmTKT\", \"Connaizen\", \"Connect India\", \"Convegenius\", \"Cooey\", \"Coolshare\", \"Corporate360\", \"Corseco\", \"CouponRaja\", \"CoveIoT\", \"CoverFox\", \"Coverfox\", \"CraftsVilla\", \"Craftstvilla\", \"Craftsvilla\", \"Crayon Data\", \"CredR\", \"CrediHealth\", \"Credit Vidya\", \"CreditMantri\", \"CreditMate\", \"CreditSeva\", \"CreditVidya\", \"Credright\", \"Credy\", \"CroFarm\", \"Crofarm\", \"CropIn\", \"Crowdfire (formerly Justunfollow)\", \"Crown-it\", \"Cube26\", \"Cuberoot\", \"Cubito\", \"CueMath\", \"Cult\", \"Culture Machine\", \"CultureAlley\", \"Cupick\", \"CupoNation\", \"Cure Fit\", \"CureFit\", \"CureInstant\", \"CureJoy\", \"Curefit\", \"Curie Labs\", \"Curiositi\", \"Curofy\", \"CustomFurnish.com\", \"CustomerSucessBox\", \"Customfurnish\", \"Cyclops\", \"Cygnus Hospitals\", \"Daalchini Technologies\", \"Daily Ninja\", \"Daily Rounds\", \"Daily hunt\", \"DailyHunt\", \"DailyObjects\", \"DarwinBox\", \"Data Resolve\", \"DawaiLelo\", \"DayBox\", \"Deal4Loans / Wishfin\", \"Dealwithus\", \"Dekkho\", \"Delhivery\", \"Delight Foods\", \"Deyor Camps\", \"Deyor Rooms\", \"Dhruva\", \"Dhruva Space\", \"DiabetOmics\", \"Didi\", \"Digiconectt\", \"Digilend\", \"Digio\", \"Digit\", \"Digital F5\", \"Digital Gorkha\", \"Digital Mall Asia\", \"Dil Mil\", \"Diro Labs\", \"Disprz\", \"DocPlexus\", \"DocTalk\", \"DocsApp\", \"Doctor Insta\", \"DoctorInsta\", \"Don\\\\\\\\xe2\\\\\\\\x80\\\\\\\\x99t Scratch Your Head\", \"DoneThing\", \"Doormint\", \"Doxper\", \"Dream11\", \"Drip capital\", \"DriveU\", \"DriversCart\", \"Drivestream\", \"Drivezy\", \"Drivify\", \"DrivoJoy\", \"Droom\", \"Droom.in\", \"DropKaffe\", \"Dropkaffe\", \"Druva\", \"Dunzo\", \"EPS\", \"EPayLater\", \"ERA\", \"Early Salary\", \"EarlySalary\", \"EarlySalary.com\", \"Earth Food\", \"Easy Diner\", \"EasyEcom\", \"EasyKhaana\", \"EasyPolicy\", \"EasyRewardz\", \"EasyRoads\", \"Easypolicy\", \"Eat.Shop.Love\", \"Eattreatonline\", \"EazyDiner\", \"Ecolibriumenergy\", \"Ecom Express\", \"Ecozen\", \"Edelweiss\", \"Edu4Share\", \"EduAce Services\", \"EduBridge\", \"EduKart\", \"EduPristine\", \"Edureka\", \"Edurev\", \"Edyoo\", \"Elanic\", \"ElastiRun\", \"ElasticRun\", \"Elucidata\", \"Emiza\", \"Enabli\", \"Enakshi\", \"Endless Robotics\", \"Engineer.ai\", \"Entropik\", \"Entropika\", \"Envoged\", \"Epiq Capital\", \"Eruditus\", \"EureQa\", \"EveningFlavors\", \"Events High\", \"Explara\", \"Explore Life traveling\", \"ExtraCarbon\", \"Eywa Media\", \"EzCred\", \"Ezetap\", \"Ezyhaul\", \"Ezytruk\", \"FPL Technologies\", \"FR8\", \"FTCash\", \"FYRE\", \"Faaso\\\\\\\\xe2\\\\\\\\x80\\\\\\\\x99s\", \"Faasos\", \"Faaya\", \"Fab Hotels\", \"FabAlley\", \"FabHotels\", \"FabX\", \"Fabogo\", \"Fabulyst\", \"Faircent\", \"Faircent.com\", \"FarEye\", \"Farm Taaza\", \"FarmLink\", \"Fashalot\", \"Fashor\", \"FastFox\", \"Fastudent\", \"Fincash\", \"Fingerlix\", \"Finova Capital\", \"Fintellix\", \"Fintobox\", \"Finzy\", \"First Eat\", \"FirstCry\", \"FirstCry.com\", \"Fisdom\", \"FitMeIn\", \"Fitpass\", \"Fitraq.com\", \"Fitso\", \"Fitternity\", \"Five Star Group\", \"FixNix\", \"Flatchat\", \"Flatpebble\", \"FleetRover\", \"Flexiloans\", \"Flexing It\", \"FlickBay\", \"Flickstree\", \"FlipClass\", \"Flipkart\", \"Flipkart.com\", \"Flixy Games\", \"Flocareer\", \"Flutura\", \"Flyrobe\", \"Flytxt\", \"FoodTalkIndia\", \"Foodpanda\", \"ForeverShop\", \"Fourseven\", \"Fourth Ambit\", \"Fourth Partner Energy\", \"Foyr.com\", \"Fracktal Works\", \"Fractal Analytics\", \"Frankly\", \"Frapperz\", \"FreeCharge\", \"Freedom Smart Labs\", \"Fresh Food Concepts\", \"FreshDesk\", \"FreshMenu\", \"FreshVnF\", \"Freshdesk\", \"Freshworks\", \"Front Desk AI\", \"Frsh\", \"Frsh.co.in\", \"Funcart\", \"FundsIndia.com\", \"Furdo\", \"Furlenco\", \"Furtados School of Music\", \"Fusion Microfinance\", \"Fxkart.com\", \"Fyle\", \"Fyle Technologies\", \"Fynd\", \"GOQii\", \"Gaana\", \"Gadgetwood\", \"GameZop\", \"Gamooz\", \"Gapoon\", \"GenNext Students\", \"Genextstudents\", \"Genie\", \"Genius Corner\", \"Get My Parking\", \"GetMyPeon\", \"Giftxoxo\", \"Gingercrush\", \"Glam Studios\", \"Glamrs\", \"GlowRoad\", \"Glowroad\", \"GoBumpr\", \"GoDesi\", \"GoFro\", \"GoGo Truck\", \"GoJavas\", \"GoMechanic\", \"GoPigeon\", \"GoQii\", \"GoYaNo\", \"GoZefo\", \"Goalwise\", \"Godof Hospitals\", \"GoldFarm\", \"GolfLAN\", \"Gomalon\", \"Goodbox\", \"Goodera\", \"Goodservice\", \"Goomo\", \"Gozoomo\", \"Grab\", \"Grab.in\", \"Grabhouse\", \"Grabhouse.com\", \"GramCover\", \"Gramophone\", \"GrandOpinion\", \"Graphene\", \"Graphic India\", \"Greenlight Planet\", \"Grex\", \"Grey Campus\", \"Grey Orange\", \"GreyAtom\", \"GreytHR\", \"Gridle\", \"Grofers\", \"Groupon India\", \"Grover Zampa\", \"Grow Fit\", \"GrowFitter\", \"Groww\", \"Guarented\", \"Guiddoo\", \"Guidoo\", \"Gyaanzone\", \"GyanDhan\", \"Gympik\", \"HUG Innovations\", \"HWell24\", \"HackerEarth\", \"HackerRank\", \"HandyHome\", \"HandyTrain\", \"Hansa Customer Equity\", \"Hansel io\", \"Hansel.io\", \"HappilyUnmarried\", \"Happitoo\", \"Happy EMI\", \"Happy2Refer\", \"Haqdarshak\", \"HashTaag\", \"HeadOut\", \"Heads Up For Tails\", \"HealthAssure\", \"HealthCare\", \"HealthEnablr\", \"HealthKart\", \"HealthKumbh\", \"Healthcare at Home\", \"Healthi\", \"Healthians\", \"HealthifyMe\", \"Healthifyme\", \"Healthsignz\", \"HealthyWorld.in\", \"Heckyl\", \"Hello Curry\", \"Hello Tax\", \"HelpShift\", \"Heterogenous\", \"Hevo Data\", \"HeyPillow\", \"High Radius\", \"Hike\", \"HipBar\", \"HipCouch\", \"Hippily\", \"Hitwicket\", \"HolaChef\", \"Holachef\", \"HolidayIQ\", \"Holidify\", \"Holisol Logistics\", \"HomeLane\", \"HomeStudio\", \"Homelane\", \"Homergize\", \"Hoopy\", \"Hopping Chef\", \"Hoppingo\", \"Hopscotch\", \"Horntell\", \"Hostel Dunia\", \"Hotelogix\", \"Hotify\", \"House of Msasaba\", \"Housejoy\", \"Housing.com\", \"HousingMan\", \"Howdy Ventures\", \"Hungama\", \"HungerBox\", \"Hungry Foal\", \"HyperVerge\", \"I Can Stay\", \"ICHR\", \"ICustomMadeIt\", \"IDG Ventures\", \"IFMR Holdings\", \"IIM Jobs\", \"IMAX Program\", \"IMbesharam\", \"INDwealth\", \"IOTrek\", \"ISFC\", \"Icertis\", \"Idea Bubbles\", \"IdeaForge\", \"Ignis Careers\", \"Imaginate\", \"Imarticus Learning\", \"Impact Analytics\", \"Impact Guru\", \"InCred\", \"InCred Finance\", \"Inayo\", \"Increff\", \"Indee\", \"India Gifts Portal\", \"India Lends\", \"IndiaLends\", \"IndianRoots.com\", \"Indiez\", \"Indifi\", \"IndigoLearn\", \"Indix\", \"Indofash\", \"Indus OS\", \"IndustryBuying\", \"Infibeam\", \"Infisecure\", \"Infogain\", \"Infoworks\", \"Infurnia\", \"Ink Monk\", \"Inkmonk\", \"Inmobi\", \"Innefu Security Consulting\", \"Inner Hour\", \"InnerChef\", \"InnoNano Research\", \"Innov8\", \"Innovaccer\", \"Innovapptive\", \"Innoviti\", \"Inshorts\", \"Insider.in\", \"InstaBounce\", \"InstaLively\", \"InstaSafe\", \"Instacar\", \"Intelligence Node\", \"IntelligenceNODE\", \"Intelligent Interfaces\", \"Interviewpad\", \"Intgrea\", \"Inthree\", \"Intuit Things\", \"Inuxu\", \"Iqlect\", \"Ithaka\", \"Itzcash\", \"Ixigo\", \"Jay Robotix\", \"Jaypore\", \"JetSetGo\", \"Jhakaas\", \"Jigsaw Academy\", \"Jivox\", \"Jobspire\", \"JoeHukum\", \"Johari Shop\", \"Jolly Food Fellow\", \"Joolz\", \"Joy by nature\", \"Juggernaut\", \"Jugnoo\", \"Julia Computing\", \"Jumbotail\", \"Juno Clinic\", \"Juspay\", \"Just Buy Live\", \"JustLikeNew\", \"JustRide\", \"Justdakhila.com\", \"Justride\", \"KNAB Finance\", \"KOOH Sports\", \"KabadiExpress\", \"Kabadiwala\", \"Kaleidofin\", \"Kalpnik Technologies\", \"Kanhaiya\", \"Karma Healthcare\", \"Karomi\", \"Kartrocket\", \"KeepTrax\", \"Ketchupp\", \"Ketto\", \"Khel Now\", \"Kinara Capital\", \"Kinsane Entertainment Inc\", \"Kissht\", \"Kleeto\", \"Klip.in\", \"Kloseby\", \"Knowlarity\", \"Konsult App\", \"Koovs\", \"Korra\", \"KrazyBee\", \"Kredx\", \"Kriger Campus\", \"Kuants\", \"Kulzy\", \"Kuvera\", \"LEAP India\", \"La Renon\", \"LabStreet\", \"LabsAdvisor\", \"LafaLafa\", \"LatestOne\", \"LaundryAnna\", \"Lavelle Networks\", \"LazyLad\", \"Leaf\", \"Leaf Wearables\", \"Leap India\", \"Leaping Caravan\", \"Leegality\", \"Legal Raasta\", \"Legalraasta\", \"LenDen Club\", \"Lending Kart\", \"LendingKart\", \"Lendingkart\", \"LensKart\", \"Lenskart\", \"Lenskart.com\", \"Leopetra\", \"LetReach\", \"Lets Corp\", \"Lets Transport\", \"LetsMD\", \"LetsTransport\", \"Letsmd\", \"Leverage Edu\", \"Liases Foras\", \"Licious\", \"Life Circle\", \"LiftO\", \"Liftiee\", \"LimeRoad.com\", \"Limo\", \"ListUp\", \"Little Black Book\", \"Little Black Book Delhi\", \"Littlemore\", \"LivSpace\", \"Livehealth\", \"Living Local\", \"Livspace\", \"Lo! Foods\", \"Loan Frame\", \"Loan Tap\", \"LoanBaba\", \"LoanTap\", \"Loantap\", \"LocalOye\", \"Locanix\", \"Locus\", \"Log9 Materials\", \"LogiNext\", \"Logic Roots\", \"LogicRoots\", \"Lookup\", \"LoveCycles\", \"Lucideus\", \"Luxuryhues\", \"Lybrate\", \"MCaffeine\", \"MEngage\", \"MFine\", \"MSE\", \"MaalGaadi\", \"MaaxMarket\", \"MachaDalo\", \"Mad Street Den\", \"MadRat Games\", \"MagicBricks\", \"MagicX\", \"Magicpin\", \"Mahindra First Choice\", \"MakeMyTrip\", \"Makkajai\", \"MamaEarth\", \"Mamaearth\", \"ManageMySpa\", \"Manch\", \"Manthan\", \"MapMyGenome\", \"Maptags\", \"MarianaIQ\", \"Markets and Markets\", \"Math Buddy\", \"Matrubharti\", \"Mazkara\", \"MealHopper\", \"MebelKart\", \"Mech Mocha\", \"MedGenome\", \"Medd\", \"Medidaili\", \"Medikabazaar\", \"Medikoe\", \"Medinfi\", \"Medlife\", \"Medwell Ventures\", \"Medzin\", \"Meesho\", \"MeetUniv\", \"Melorra\", \"MeraDoctor\", \"MergerWare\", \"Meritnation\", \"Meru Cabs\", \"MessaGif\", \"Metro Bikes\", \"Mihup\", \"Mihuru\", \"MilkBAsket\", \"MilkBasket\", \"Milkbasket\", \"Milofy\", \"MindTickle\", \"Mindler\", \"Misters\", \"MoEngage\", \"MoMark\", \"MobiDent\", \"MobiKwik\", \"MobieFit\", \"Mobikon\", \"Mobikwik\", \"Mobile Premier League\", \"Mobycy\", \"MockBank\", \"Moglix\", \"Mojarto\", \"Momoe\", \"MoneyOnMobile\", \"MoneyTap\", \"MonkeyBox\", \"Moodoo\", \"MoonFrog Labs\", \"MrNeeds\", \"Mswipe\", \"Mubble\", \"Multiplier Solutions\", \"Murgency\", \"Muvizz\", \"My Forex Eye\", \"My Healthcare\", \"My OmNamo\", \"MyCFO\", \"MyChild App\", \"MyCity4Kids\", \"MyDentist\", \"MyDentistChoice\", \"MyDidi\", \"MyDreamStore\", \"MyGlamm\", \"MyGreens\", \"MyGubbi\", \"MyIndianStay\", \"MyKindofJob\", \"MyLoanCare\", \"MyNoticePeriod\", \"MyPetrolPump\", \"MyPoolin\", \"MySUN\", \"MySeniorDoctor\", \"MySmartPrice\", \"MyTaxiIndia\", \"MyUpchar\", \"Myelin Foundry\", \"Myly\", \"Myonsto\", \"Mystifly\", \"N.O.W\", \"NDTV Wedding portal\", \"Naaptol\", \"Naaptol.com\", \"Nagpur Wholesale\", \"NanoClean Global\", \"Narvar\", \"NatureNama\", \"Nayi Disha\", \"Nazara Technologies\", \"Near.in\", \"NearBuy\", \"NearBuy (previously\\\\\\\\xc2\\\\\\\\xa0 groupon India)\", \"NeoGrowth\", \"NeoGrowth Credit\", \"NeoStencil\", \"Neotrade Analytics\", \"Nest Education\", \"NestAway\", \"Nestaway\", \"NetLinx\", \"NetMeds\", \"Netmeds\", \"Netmeds.com\", \"Network Intelligence\", \"NeuroEquilibrium\", \"New Castle Technologies\", \"Newgen Software\", \"NewsDistill\", \"NewsHunt\", \"NewsInShorts\", \"Newspatrolling\", \"NiYO Solutions\", \"Niffler\", \"NightStay\", \"Niki.ai\", \"Nimble Wireless\", \"Ninjacart\", \"NirogStreet\", \"Nivesh\", \"NoBroker\", \"NoPaperForms\", \"Noddapp\", \"Noodle Play\", \"Notesgen\", \"Noticeboard\", \"Notion Press\", \"NowFloats\", \"Nukkad Shops\", \"NumberMall\", \"Nurturey\", \"Nuvepro\", \"NxtGen\", \"Nykaa\", \"ONN Bikes\", \"ORIGA Leasing\", \"OUWT\", \"OYO Rooms\", \"Observe AI\", \"Octo.ai\", \"OfBusiness\", \"Ofbusiness\", \"Oho Shop\", \"OkCredit\", \"Ola\", \"Ola Cabs\", \"Olacabs\", \"Omnia Information\", \"Omnify\", \"Omnikart\", \"OncoStem\", \"OneAssist\", \"OneStepUp\", \"Oneway.cab\", \"OnlineRTI\", \"OnlineTyari\", \"Onspoon\", \"Oorjan\", \"OpenApp\", \"OpenTap\", \"Opinio\", \"OptaCredit\", \"Orahi\", \"OrangeTwig\", \"Oriano Solar\", \"Origo Commodities India Pvt. Ltd\", \"Orobind\", \"Overcart.com\", \"Oyo\", \"Oyo Rooms\", \"OyoRooms\", \"Oyorooms\", \"POPxo\", \"POPxo.com\", \"PaisaDukan\", \"Pando\", \"Paper Boat\", \"Paperflite\", \"ParaBlu\", \"Parallel Dots\", \"Parcelled\", \"Parentlane\", \"Park Easy\", \"Pastiwala\", \"Patel Logistics\", \"PayMango\", \"PaySense\", \"Paynear\", \"Paysense\", \"Paytm\", \"Paytm Marketplace\", \"Paytunes\", \"PeeBuddy\", \"PeeSafe\", \"PeeSafe.in\", \"PepperTap\", \"Pepperfry\", \"Peppertap\", \"Perfios\", \"Perfumery\", \"PetSutra\", \"Petoo\", \"PharmEasy\", \"PharmaRack\", \"Pharmeasy\", \"Phone Pe\", \"PhonePe\", \"Pi Data Centers\", \"Pi Ventures\", \"PiQube\", \"PickMe\", \"PickMyLaundry\", \"Pickingo\", \"Pickrr\", \"Pictor Imaging\", \"Pikkol\", \"Pindropmusic\", \"Pine Labs\", \"PineLabs\", \"PinkBlue\", \"Pipa Bella\", \"Pipabella\", \"PipeCandy\", \"Pitstop\", \"Plabro\", \"PlanMy\\\\\\\\nMedicalTrip\", \"Plancess\", \"Planys Technologies\", \"Play your sport\", \"PlaySimple\", \"Playablo\", \"Playment\", \"Plix\", \"Pluss\", \"Pocket Aces\", \"Pocketin\", \"Pokkt\", \"Policy Bazaar\", \"PolicyBazaar\", \"PortDesk\", \"Portea\", \"Portea Medical\", \"Poshtic\", \"Postman\", \"Power2SME\", \"Practo\", \"Pragmatix\", \"Pramati\", \"Pratilipi\", \"Prescribez\", \"PressPlay\", \"Prest Loans\", \"PrettySecrets\", \"PriceRaja\", \"Pricejugaad\", \"PrimaryIO\", \"Printvenue\", \"Progcap\", \"Project Mudra\", \"Promon\", \"PropheSee\", \"Propstack\", \"Prothom\", \"Proviera\", \"Proximit\", \"Prozo\", \"Pulse\", \"Puro Wellness\", \"Purple Style Labs\", \"PurpleHealth\", \"Purplle\", \"Qacco\", \"Qik Stay\", \"QikPod\", \"QikShip\", \"Qlivery\", \"Qriyo\", \"Qubole\", \"Quickli\", \"Quifers\", \"QuikWallet\", \"Quikr\", \"Quintype\", \"QwikSpec\", \"Qwikspec\", \"Qyk App\", \"RAW Pressery\", \"RKSV\", \"RML Agtech\", \"RailYatri\", \"RainCan\", \"Rao IIT Academy\", \"Rapido\", \"Rapido Bike Taxi\", \"Rare Media\", \"RateGain\", \"RawPressery\", \"RayIOT\", \"RazorPay\", \"Razorpay\", \"ReGlobe\", \"Reach\", \"RealBox\", \"Recykal\", \"Red Carpet\", \"RedBook\", \"RedDoorz\", \"RedPolka\", \"Refiral\", \"Rein Games\", \"Remit Guru\", \"Remitr\", \"Renderlogy\", \"Renew Buy\", \"RenewBuy\", \"Renowala\", \"RentMojo\", \"RentOnGo\", \"RentSher\", \"Rentalpha\", \"Rentickle\", \"RentoMojo\", \"Rentomo\", \"Rentomojo\", \"RepairEasy\", \"Ressy\", \"Retention.ai\", \"RevX\", \"Reverie\", \"Revv\", \"Ridlr\", \"Rivigo\", \"RoadGods\", \"Roadcast\", \"Roadrunnr\", \"Roambee\", \"RoboVac\", \"Robosoft\", \"Rock N Shop\", \"Rocketium\", \"Roder\", \"RollMafia\", \"Room On Call\", \"Room on Call\", \"RoomCentral\", \"RoomsTonite\", \"Rootefy\", \"Rooter\", \"Roposo\", \"Roposo.com\", \"Rubique\", \"Rubix\", \"Runnr\", \"Rupaiya Exchange\", \"Rupeek\", \"S Chand\", \"S-Cube Futuretech\", \"SERV\\\\\\\\xe2\\\\\\\\x80\\\\\\\\x99D\", \"SIFTR Labs\", \"SP Robotics\", \"Saahas Zero Waste\", \"Saama\", \"Saavn\", \"Sagacito\", \"Sahajanand Medical Technologies\", \"Sahayog Dairy\", \"SaleBhai\", \"Sambandh\", \"Samco\", \"Samosa Labs\", \"Sampurnearth\", \"Samunnati\", \"Samunnati Financial Intermediation & Services Pvt. Ltd\", \"SastaSundar\", \"Sattviko\", \"Satvacart\", \"SaveBC\", \"SavvyMob\", \"Sayfix\", \"Scandid\", \"Scapic\", \"Schedulers Logistics\", \"SchoolGuru\", \"SchoolWear\", \"Schoolkart\", \"ScoopWhoop\", \"Scootsy\", \"Scripbox\", \"Seclore\", \"Securens\", \"SeeDoc\", \"Seed Schools\", \"Seniority\", \"Sensara\", \"SenseGiz\", \"Sepalika\", \"Servify\", \"Setu\", \"ShabdaNagari\", \"ShadowFax\", \"Shadowfax\", \"Shadowfox\", \"Shape\", \"ShareChat\", \"Sheroes\", \"Shippr\", \"Shipsy\", \"Shirsa Labs\", \"Shop 101\", \"ShopClues\", \"ShopKirana\", \"ShopX\", \"Shopalyst\", \"Shopclues\", \"Shopholix\", \"ShoppinPal\", \"ShopsUp\", \"Shotang.com\", \"Shouut\", \"Shubh Loans\", \"Shuttl\", \"SidQam\", \"Signzy\", \"Sigtuple\", \"SillyMonks\", \"Silvan\", \"Silvan Innovation Labs\", \"SilverPush\", \"Simility\", \"Simplilearn\", \"SirionLabs\", \"Sistema.bio\", \"Skillenza\", \"Skoov.com\", \"Slang Labs\", \"Slice Pay\", \"Slide App\", \"Smaaash\", \"SmartPocket\", \"SmartVizX\", \"Smartairtrip.com\", \"Smartcoin\", \"Smartcooky\", \"Smartivity\", \"Smartivity.in\", \"Sminq\", \"Smytten\", \"Snackible\", \"SnapBizz\", \"Snapdeal\", \"SolarTown\", \"SooperMO\", \"SoundSurround\", \"Spandana Sphoorty\", \"Spares Hub\", \"SparesHub\", \"Specsmakers\", \"SpeedBox\", \"SpiderG\", \"Spinny\", \"SpoonJoy\", \"Sportobuddy\", \"Sports Flashes\", \"SportzVillage\", \"SpotDraft\", \"Springboard\", \"Springleap\", \"Sqqrl\", \"Squadrun\", \"Square Yards\", \"Stalk Buy Love\", \"StalkBuyLove\", \"StanPlus\", \"Stanza Living\", \"Stashfin\", \"Stasis Labs\", \"StayGlad\", \"StayZilla\", \"Stayzilla\", \"Stellaps\", \"StitchWood\", \"Stitchwood\", \"Stockal\", \"Stockroom.io\", \"StoreKing\", \"Stratfit\", \"Streak\", \"Streamoid\", \"Stridalyzer\", \"Strike\", \"Stuffed\", \"StyleTag\", \"Stylecracker\", \"Styledotme\", \"Stylofie\", \"Sulekha.com\", \"Sumeru\", \"Summerlabel\", \"Sunday Realty Solutions\", \"Sunstone Eduversity Pvt. Ltd\", \"SuperGaming\", \"Superhero Brands\", \"Supplified\", \"Supr Daily\", \"Swajal\", \"Swiggy\", \"Synctag\", \"Synup\", \"Syona Cosmetics\", \"Systemantics\", \"TOFlo\", \"TOKO Innovation Studios\", \"TYGR\", \"TableHero\", \"Tagos Design\", \"Tala\", \"Talent Next\", \"TalentEdge\", \"Talkoot\", \"Tapchief\", \"Tapzo\", \"TaskBucks\", \"Taskbob\", \"Tata Housing\", \"Tax2Win\", \"TaxSutra\", \"TaxiVaxi\", \"Tazzo Bikes\", \"Tea Box\", \"Tea Trails\", \"Teabox\", \"Team Indus\", \"Teewe\", \"Telr\", \"TempGo\", \"TempoGo\", \"Teritree\", \"Termsheet\", \"The Better India\", \"The BlueBook\", \"The Good Life\", \"The Healthy Billions\", \"The Ken\", \"The Kettlery\", \"The Label Life\", \"The Man Company\", \"The Moms Co\", \"The Office Pass\", \"The Porter\", \"The Print\", \"The Uolo\", \"The Viral Fever\", \"The Wedding Brigade\", \"The/Nudge Foundation\", \"TheCapitalNet\", \"TheKarrier\", \"TheSmartQ\", \"ThinkerBell\", \"Thrill App\", \"TicketNew\", \"TimeSaverz\", \"Timesaverz\", \"Tinmen\", \"TinyOwl\", \"TinyStep\", \"Toffee\", \"Toko Innovations\", \"Tokri\", \"Tonbo Imaging\", \"ToneTag\", \"Tonetag\", \"Tookitaki\", \"Tooler\", \"TopRankers\", \"Toppr\", \"Toppr.com\", \"Torqus\", \"TouchKin\", \"Touchkin\", \"Town Essentials\", \"Tracxn\", \"Tradelab\", \"Trading Bells\", \"Trak N Tell\", \"Transerv\", \"Transerve\", \"Transversal Technologies\", \"Travel Triangle\", \"TravelTriangle\", \"Travelyaari\", \"Treebo\", \"Trell\", \"TrendieApp\", \"Trilyo\", \"Trip shelf\", \"Trip38\", \"TripShelf\", \"Triphobo\", \"Tripoto\", \"Truce\", \"TruckMandi\", \"TruckingCube\", \"Truckola\", \"Trucksfirst\", \"True Balance\", \"True North\", \"Truebil\", \"Trukky\", \"TrulyMadly.com\", \"Trupay\", \"TruxApp\", \"Twigly\", \"Tydy\", \"Tynor Othontics\", \"Tyre Express\", \"UCLID\", \"UE Life Sciences\", \"UE LifeSciences\", \"Uber Dreams\", \"Udaan\", \"UnaAcademy\", \"Unacademy\", \"Unbxd\", \"Uniken\", \"Uniphore\", \"Universal Sportsbiz Pvt. Ltd\", \"Unnati Helpers\", \"Unocoin\", \"Upwards\", \"UrDoorStep\", \"Urban Ladder\", \"Urban Tailor\", \"UrbanClap\", \"UrbanClap Technologies Pvt. Ltd\", \"UrbanLadder\", \"UrbanPiper\", \"UrbanPro\", \"Urjas\", \"V Resorts\", \"VST Travels\", \"VTION\", \"Vagupu\", \"Vahanalytics\", \"Vahdam Tea\", \"Vahdam Teas\", \"Vanity Cube\", \"Varthana\", \"Vayana\", \"Vebbler\", \"Vedantu\", \"Veeba Foods\", \"Vegetall\", \"Velmenni\", \"Velvetcase\", \"Venture Catalysts\", \"Venturesity\", \"Veqta\", \"Veritas Finance\", \"Veritas Finance Ltd.\", \"Video Ken\", \"Vidgyor\", \"Vidooly\", \"Villgro\", \"VioletStreet\", \"Virtual Logic\", \"Visit\", \"Vista Rooms\", \"Vistaar Finance\", \"Vithi.com\", \"VivoCarat\", \"Vogo Automotive\", \"Vogo Automotive Pvt. Ltd.\", \"Vola\", \"Volta Motors\", \"Voodoo\", \"Voonik\", \"VoxWeb\", \"Voxweb\", \"Voylla\", \"Vserv\", \"Vyapar App\", \"Vymo\", \"Vyome Biosciences\", \"Vyome Therapeutics Inc.\", \"Vyomo\", \"WOTU\", \"WOW! MOMO\", \"Wandertrails\", \"Wassup\", \"WayCool\", \"WeAreHolidays\", \"WealthApp\", \"Wealthy\", \"WebAlligator\", \"Wedding Wishlist\", \"Weddingz.in\", \"WedmeGood.com\", \"Wefly Indoor Skydiving\", \"Welcome Cure\", \"Wellthy\", \"Whatfix\", \"WheelStreet\", \"Wheelstreet\", \"White Owl Brewery\", \"Whodat\", \"WholeSaleBox\", \"Whoop\", \"WickedRide\", \"Wigzo\", \"Wishberry\", \"WithMe\", \"WittyFeed\", \"Wittyparot\", \"Wiwigo\", \"WizCounsel\", \"Wizrocket\", \"WoW Express\", \"WoWexpress\", \"Woodpie\", \"Wooplr\", \"Wooplr.com\", \"WorkApps\", \"WorkIndia\", \"World Art Community\", \"Wow Express\", \"Wudstay\", \"Wydr\", \"XSTOK\", \"Xpressbees\", \"Xseed Education\", \"YAAP\", \"Yaantra\", \"Yatra.com\", \"Yellowdig\", \"YepMe\", \"Yo Grad\", \"Yogurt Labs\", \"Your Quote\", \"YourDOST\", \"YourDost\", \"YourStory\", \"YouthKiAwaaz\", \"Yufta\", \"Yumigo\", \"Yumist\", \"Yumlane\", \"Yupp TV\", \"Yuvi Hospitality\", \"Zakoopi\", \"ZapStitch\", \"Zappfresh\", \"Zappka\", \"Zapr\", \"Zapty\", \"Zapyle\", \"Zarget\", \"Zebi (yet to launch)\", \"Zebpay\", \"Zebroads\", \"Zefo\", \"ZenDrive\", \"ZenParent\", \"Zenatix\", \"Zendrive\", \"Zenify\", \"Zenify.in\", \"Zenoti\", \"Zepo\", \"Zeppery\", \"Zest Money\", \"ZestMoney\", \"Zeta\", \"ZiffyHomes\", \"Zify\", \"Zilingo\", \"Zimmber\", \"Zinka\", \"ZipGrid\", \"ZipLoan\", \"Zipgrid\", \"ZippServe\", \"Zivame\", \"Zo Rooms\", \"Zoctr\", \"ZoloStays\", \"Zomato\", \"Zoojoo.be\", \"ZoomCar\", \"Zoomcar\", \"ZopHop\", \"ZopNow\", \"Zopper\", \"Zovi.com / Little App\", \"ZuperMeal\", \"Zuppler\", \"Zuver\", \"Zwayam\", \"\\\\\\\\xc2\\\\\\\\xa0Ameyo\", \"\\\\\\\\xc2\\\\\\\\xa0Bluestone\", \"\\\\\\\\xc2\\\\\\\\xa0CloudCherry\", \"\\\\\\\\xc2\\\\\\\\xa0Footprints Education\", \"\\\\\\\\xc2\\\\\\\\xa0Infinity Assurance\", \"\\\\\\\\xc2\\\\\\\\xa0Loylty Rewards\", \"\\\\\\\\xc2\\\\\\\\xa0Mamagoto\", \"\\\\\\\\xc2\\\\\\\\xa0News in shorts\", \"\\\\\\\\xc2\\\\\\\\xa0Nudgespot\", \"couponmachine.in\", \"deGustibus\", \"dishq\", \"dunzo\", \"eBikeGo\", \"eKincare\", \"ePoise\", \"eQuickies\", \"eSadar\", \"eSahai.in\", \"eShakti\", \"elong\", \"enKast\", \"eshakti\", \"etaout\", \"gear6\", \"goSporto\", \"happay\", \"healthifyme\", \"holachef\", \"https://www.wealthbucket.in/\", \"i2e1\", \"i2i Funding\", \"i2ifunding\", \"i3sysytems\", \"iAugmentor Labs\", \"iBus Networks\", \"iCustomadeit\", \"iDreamCareer\", \"iGenetics\", \"iGrenEnergi\", \"iNurture\", \"iOrderFresh\", \"iService\", \"iStar Skill Development\", \"iStyleYou\", \"iTraveller.com\", \"icanstay\", \"icustommadeit\", \"imedilane\", \"infeedo\", \"iqlect\", \"kWatt Solutions\", \"kidovators\", \"kredX\", \"mChamp\", \"mPaani\", \"mSwipe\", \"medECUBE\", \"mfine\", \"mintifi\", \"numberz.in\", \"oibanit\", \"perpule\", \"pi Ventures\", \"practo\", \"quizizz\", \"trueHb\", \"wWhere\", \"wayForward\", \"zippserv\"], \"legendgroup\": \"\", \"marker\": {\"color\": \"#17BECF\", \"symbol\": \"circle\"}, \"mode\": \"markers\", \"name\": \"\", \"showlegend\": false, \"type\": \"scattergl\", \"x\": [0, 1, 3, 5, 6, 7, 8, 9, 10, 11, 12, 13, 14, 15, 16, 17, 18, 20, 21, 22, 23, 24, 26, 28, 29, 30, 32, 33, 34, 37, 38, 39, 40, 41, 42, 44, 45, 46, 47, 49, 50, 51, 52, 53, 55, 56, 57, 58, 60, 61, 62, 63, 64, 65, 68, 69, 70, 72, 73, 74, 75, 76, 77, 79, 80, 81, 82, 83, 84, 86, 89, 91, 92, 93, 94, 95, 96, 97, 98, 99, 100, 101, 102, 103, 104, 105, 106, 107, 108, 109, 110, 112, 113, 114, 115, 116, 117, 118, 119, 120, 121, 123, 125, 126, 127, 128, 129, 130, 133, 134, 136, 137, 138, 139, 140, 141, 142, 143, 145, 146, 147, 148, 149, 151, 153, 156, 157, 158, 159, 162, 164, 166, 168, 169, 170, 171, 172, 173, 174, 175, 178, 179, 181, 183, 184, 186, 191, 192, 193, 194, 195, 196, 197, 198, 199, 201, 202, 203, 204, 205, 207, 210, 211, 212, 213, 214, 216, 217, 220, 221, 222, 225, 226, 227, 228, 229, 234, 235, 236, 237, 238, 239, 241, 242, 243, 244, 245, 246, 250, 251, 252, 253, 255, 257, 260, 262, 263, 264, 265, 266, 268, 269, 270, 271, 273, 274, 276, 277, 278, 279, 280, 282, 283, 284, 285, 286, 287, 289, 290, 291, 293, 294, 295, 296, 297, 298, 299, 300, 301, 302, 303, 304, 307, 308, 309, 311, 313, 314, 315, 316, 317, 318, 320, 321, 322, 323, 324, 325, 327, 328, 329, 330, 331, 332, 333, 334, 335, 336, 339, 341, 344, 346, 347, 348, 351, 352, 353, 354, 356, 357, 358, 359, 361, 362, 364, 365, 366, 367, 368, 371, 372, 373, 374, 375, 376, 377, 378, 379, 380, 381, 382, 384, 385, 388, 389, 392, 394, 395, 396, 399, 400, 401, 402, 403, 404, 405, 407, 408, 413, 414, 415, 416, 417, 418, 419, 420, 421, 422, 426, 427, 431, 432, 433, 434, 436, 438, 439, 440, 441, 443, 444, 445, 446, 447, 448, 449, 450, 451, 453, 454, 455, 457, 459, 460, 461, 462, 463, 465, 467, 468, 470, 471, 475, 476, 477, 478, 479, 485, 486, 487, 488, 489, 490, 491, 492, 493, 494, 495, 496, 497, 498, 501, 503, 506, 507, 508, 509, 510, 512, 513, 515, 516, 518, 519, 521, 522, 523, 524, 525, 526, 527, 528, 529, 530, 532, 534, 535, 536, 537, 538, 539, 540, 541, 542, 543, 546, 547, 548, 549, 550, 551, 555, 557, 559, 560, 561, 563, 565, 566, 567, 568, 569, 571, 572, 573, 574, 575, 576, 579, 581, 583, 584, 585, 586, 588, 589, 591, 592, 593, 596, 598, 599, 600, 601, 602, 604, 605, 606, 608, 609, 610, 611, 612, 615, 616, 617, 618, 619, 620, 621, 622, 624, 625, 626, 627, 629, 631, 632, 634, 637, 638, 639, 644, 651, 653, 654, 655, 656, 657, 659, 660, 662, 663, 667, 668, 669, 670, 671, 672, 676, 677, 678, 680, 681, 682, 683, 684, 685, 686, 687, 688, 690, 691, 692, 695, 697, 698, 700, 701, 702, 703, 704, 705, 706, 707, 708, 709, 710, 712, 713, 714, 716, 718, 719, 721, 722, 726, 729, 730, 731, 732, 733, 734, 735, 736, 737, 740, 741, 744, 748, 751, 752, 754, 755, 756, 757, 758, 761, 763, 765, 767, 769, 771, 772, 774, 777, 778, 780, 781, 782, 783, 784, 785, 786, 787, 789, 790, 791, 792, 794, 795, 796, 797, 799, 800, 801, 803, 804, 806, 807, 808, 809, 810, 812, 813, 814, 815, 816, 817, 818, 819, 820, 821, 822, 823, 824, 825, 826, 827, 830, 831, 833, 836, 837, 839, 840, 842, 843, 844, 845, 846, 848, 849, 850, 851, 855, 857, 859, 860, 862, 863, 865, 868, 869, 873, 874, 875, 877, 878, 879, 880, 881, 882, 883, 885, 887, 888, 890, 892, 895, 897, 898, 900, 903, 904, 905, 906, 907, 908, 910, 911, 912, 913, 915, 916, 917, 918, 919, 920, 921, 922, 923, 924, 926, 927, 929, 932, 933, 934, 936, 938, 940, 941, 942, 944, 946, 947, 948, 949, 951, 953, 954, 955, 957, 959, 961, 962, 963, 964, 966, 967, 968, 971, 972, 974, 975, 976, 978, 979, 980, 981, 982, 983, 984, 985, 987, 989, 990, 991, 992, 993, 994, 995, 996, 997, 998, 999, 1001, 1002, 1003, 1004, 1005, 1006, 1008, 1009, 1012, 1013, 1017, 1018, 1019, 1020, 1021, 1022, 1023, 1024, 1026, 1027, 1028, 1029, 1030, 1031, 1033, 1034, 1036, 1037, 1040, 1041, 1042, 1043, 1046, 1049, 1050, 1051, 1052, 1054, 1055, 1056, 1058, 1060, 1061, 1063, 1064, 1066, 1067, 1069, 1070, 1072, 1073, 1074, 1075, 1078, 1079, 1081, 1082, 1083, 1085, 1088, 1089, 1090, 1091, 1094, 1095, 1098, 1101, 1102, 1103, 1106, 1108, 1109, 1110, 1111, 1112, 1114, 1115, 1117, 1118, 1119, 1120, 1121, 1122, 1124, 1126, 1127, 1128, 1129, 1132, 1134, 1135, 1137, 1139, 1140, 1141, 1142, 1144, 1145, 1146, 1147, 1149, 1152, 1153, 1154, 1156, 1158, 1160, 1161, 1163, 1165, 1166, 1168, 1169, 1171, 1173, 1174, 1175, 1176, 1178, 1179, 1180, 1181, 1183, 1184, 1185, 1187, 1190, 1193, 1195, 1196, 1198, 1199, 1200, 1201, 1204, 1206, 1208, 1210, 1211, 1213, 1214, 1215, 1218, 1220, 1221, 1222, 1223, 1224, 1226, 1227, 1228, 1229, 1230, 1231, 1232, 1233, 1234, 1235, 1236, 1237, 1238, 1239, 1240, 1242, 1243, 1246, 1247, 1248, 1249, 1250, 1252, 1253, 1254, 1255, 1256, 1257, 1258, 1259, 1260, 1261, 1262, 1263, 1265, 1266, 1267, 1268, 1269, 1271, 1272, 1274, 1275, 1276, 1277, 1278, 1280, 1285, 1286, 1288, 1289, 1290, 1291, 1293, 1294, 1295, 1297, 1298, 1299, 1300, 1301, 1302, 1303, 1304, 1306, 1307, 1312, 1313, 1314, 1317, 1318, 1319, 1320, 1321, 1322, 1324, 1325, 1326, 1329, 1330, 1332, 1333, 1334, 1335, 1336, 1337, 1338, 1339, 1340, 1341, 1342, 1343, 1344, 1345, 1347, 1348, 1350, 1351, 1352, 1354, 1355, 1356, 1358, 1359, 1361, 1362, 1363, 1366, 1368, 1369, 1370, 1371, 1372, 1375, 1376, 1377, 1378, 1379, 1380, 1381, 1382, 1383, 1384, 1385, 1387, 1388, 1390, 1392, 1393, 1394, 1395, 1397, 1398, 1399, 1400, 1402, 1403, 1404, 1406, 1407, 1408, 1409, 1410, 1411, 1414, 1415, 1416, 1417, 1418, 1419, 1421, 1422, 1423, 1424, 1425, 1426, 1427, 1428, 1431, 1432, 1433, 1434, 1436, 1438, 1439, 1440, 1442, 1445, 1446, 1447, 1448, 1450, 1452, 1453, 1454, 1455, 1456, 1457, 1458, 1459, 1460, 1461, 1462, 1463, 1465, 1466, 1467, 1469, 1471, 1472, 1473, 1474, 1475, 1476, 1481, 1483, 1485, 1486, 1487, 1488, 1489, 1490, 1492, 1493, 1494, 1495, 1496, 1497, 1498, 1499, 1500, 1501, 1502, 1503, 1504, 1506, 1507, 1508, 1509, 1510, 1512, 1513, 1514, 1515, 1516, 1517, 1519, 1520, 1521, 1522, 1524, 1525, 1526, 1527, 1529, 1530, 1532, 1533, 1534, 1535, 1536, 1537, 1538, 1540, 1541, 1543, 1544, 1546, 1548, 1549, 1550, 1551, 1554, 1555, 1556, 1557, 1558, 1559, 1560, 1561, 1562, 1563, 1564, 1566, 1567, 1569, 1570, 1571, 1573, 1577, 1578, 1580, 1581, 1582, 1583, 1585, 1588, 1591, 1592, 1593, 1596, 1597, 1598, 1599, 1600, 1601, 1602, 1604, 1606, 1608, 1609, 1610, 1612, 1613, 1614, 1615, 1618, 1619, 1620, 1621, 1622, 1623, 1625, 1626, 1627, 1628, 1629, 1631, 1632, 1633, 1634, 1635, 1636, 1637, 1638, 1639, 1641, 1642, 1643, 1644, 1645, 1646, 1647, 1648, 1649, 1650, 1651, 1652, 1656, 1658, 1660, 1661, 1662, 1663, 1664, 1667, 1668, 1669, 1670, 1671, 1672, 1673, 1674, 1675, 1677, 1679, 1680, 1682, 1683, 1684, 1685, 1686, 1687, 1688, 1689, 1690, 1692, 1693, 1694, 1695, 1696, 1698, 1699, 1700, 1701, 1702, 1703, 1704, 1705, 1706, 1707, 1708, 1709, 1710, 1711, 1712, 1713, 1714, 1715, 1717, 1719, 1720, 1721, 1724, 1725, 1726, 1727, 1729, 1730, 1731, 1732, 1733, 1734, 1736, 1737, 1740, 1741, 1742, 1743, 1744, 1745, 1746, 1747, 1748, 1749, 1751, 1752, 1754, 1755, 1756, 1758, 1759, 1762, 1763, 1764, 1765, 1768, 1770, 1773, 1774, 1775, 1776, 1777, 1778, 1780, 1782, 1783, 1784, 1787, 1788, 1789, 1790, 1791, 1793, 1794, 1796, 1797, 1800, 1801, 1802, 1804, 1806, 1808, 1810, 1811, 1812, 1813, 1814, 1815, 1818, 1820, 1821, 1827, 1828, 1831, 1832, 1833, 1834, 1838, 1839, 1840, 1841, 1842, 1843, 1844, 1846, 1847, 1848, 1849, 1851, 1854, 1855, 1857, 1858, 1859, 1860, 1861, 1863, 1864, 1865, 1867, 1870, 1871, 1873, 1874, 1875, 1876, 1877, 1878, 1879, 1880, 1881, 1882, 1883, 1886, 1887, 1889, 1890, 1894, 1896, 1897, 1898, 1899, 1900, 1901, 1904, 1905, 1906, 1908, 1909, 1910, 1913, 1914, 1915, 1917, 1918, 1919, 1920, 1922, 1923, 1924, 1925, 1926, 1927, 1928, 1929, 1931, 1932, 1933, 1934, 1937, 1938, 1939, 1940, 1942, 1945, 1946, 1947, 1949, 1951, 1952, 1954, 1955, 1956, 1958, 1959, 1960, 1961, 1962, 1963, 1964, 1966, 1967, 1968, 1969, 1970, 1972, 1973, 1976, 1977, 1978, 1980, 1983, 1984, 1985, 1986, 1987, 1990, 1991, 1993, 1994, 1995, 1996, 1997, 1999, 2000, 2001, 2004, 2006, 2007, 2009, 2011, 2013, 2014, 2015, 2017, 2018, 2019, 2020, 2022, 2023, 2024, 2025, 2026, 2027, 2028, 2030, 2031, 2032, 2033, 2038, 2039, 2040, 2041, 2044, 2045, 2046, 2047, 2050, 2051, 2052, 2053, 2054, 2056, 2059, 2060, 2062, 2064, 2065, 2066, 2067, 2068, 2069, 2070, 2071, 2072, 2073, 2075, 2077, 2078, 2080, 2083, 2085, 2086, 2087, 2088, 2090, 2091, 2093, 2094, 2095, 2096, 2097, 2100, 2101, 2102, 2104, 2105, 2107, 2108, 2110, 2111, 2112, 2113, 2114, 2115, 2116, 2117, 2119, 2121, 2122, 2123, 2125, 2126, 2127, 2128, 2131, 2132, 2133, 2134, 2135, 2136, 2139, 2140, 2141, 2142, 2143, 2144, 2145, 2148, 2149, 2150, 2152, 2153, 2154, 2155, 2156, 2157, 2158, 2159, 2163, 2164, 2166, 2168, 2169, 2170, 2172, 2173, 2174, 2175, 2176, 2177, 2178, 2179, 2180, 2182, 2183, 2184, 2185, 2186, 2187, 2189, 2191, 2192, 2194, 2196, 2197, 2199, 2200, 2201, 2204, 2207, 2208, 2209, 2210, 2211, 2212, 2213, 2214, 2216, 2219, 2220, 2221, 2222, 2223, 2224, 2226, 2227, 2229, 2230, 2231, 2232, 2234, 2235, 2236, 2238, 2239, 2240, 2243, 2244, 2245, 2247, 2249, 2251, 2252, 2253, 2254, 2257, 2258, 2259, 2260, 2261, 2262, 2264, 2265, 2266, 2267, 2268, 2269, 2270, 2272, 2273, 2274, 2275, 2276, 2277, 2278, 2279, 2280, 2281, 2282, 2283, 2285, 2286, 2287, 2288, 2289, 2291, 2292, 2294, 2295, 2296, 2299, 2300, 2301, 2302, 2304, 2306, 2307, 2308, 2309, 2310, 2311, 2313, 2315, 2316, 2317, 2318, 2319, 2320, 2321, 2322, 2323, 2324, 2325, 2326, 2327, 2329, 2330, 2331, 2332, 2333, 2334, 2335, 2336, 2338, 2342, 2343, 2344, 2345, 2346, 2347, 2349, 2350, 2351, 2352, 2353, 2356, 2358, 2359, 2360, 2362, 2364, 2365, 2366, 2367, 2368, 2370, 2371, 2372, 2373, 2374, 2375, 2379, 2380, 2381, 2382, 2386, 2387, 2390, 2391, 2392, 2393, 2396, 2397, 2398, 2401, 2403, 2404, 2405, 2406, 2409, 2411, 2413, 2415, 2416, 2417, 2419, 2420, 2421, 2422, 2423, 2424, 2426, 2430, 2431, 2432], \"xaxis\": \"x\", \"y\": [150000000.0, 10000000.0, 180000.0, 39999999.0, 6000000.0, 1000000.0, 20000.0, 150000.0, 150000.0, 1100000.0, 5000000.0, 500000.0, 10000000.0, 500000.0, 199999.0, 18000000.0, -2.0, 300000.0, 1500000.0, 1000000.0, 1500000.0, 3200000.0, 6900000.0, 1000000.0, 1000000.0, 1000000.0, 6500000.0, 2000000.0, 31000000.0, 180000.0, 1250000.0, 4999999.0, 73700000.0, 12000000.0, 125000.0, 8250000.0, 3500000.0, 750000.0, 9700000.0, 350000.0, 100000.0, 1000000.0, 1500000.0, 1000000.0, 400000.0, 100000.0, 1000000.0, 1000000.0, 1200000.0, 3500000.0, 2500000.0, 2950000.0, 500000.0, 14000000.0, 1400000.0, 350000.0, 3670000.0, 184999.0, 100000.0, 16000000.0, 5000000.0, 350000.0, 20000000.0, 400000.0, 14800000.0, 140000000.0, 500000.0, 4000000.0, 35000000.0, 81000.0, 1200000.0, 150000.0, 3999999.0, 23000000.0, 56000000.0, 500000.0, 2000000.0, 250000.0, 500000.0, 18840000.0, 290000.0, 1000000.0, 1000000.0, 400000.0, 675000.0, 1550000.0, 40000000.0, 100000.0, 3750000.0, 16000000.0, 500000.0, 99999.0, 350000.0, 15000000.0, 10000000.0, 500000.0, 500000.0, 750000.0, 16000000.0, 21000000.0, 50000.0, 90000000.0, 2500000.0, 1000000.0, 10000000.0, 10000000.0, 450000.0, 32000000.0, 300000000.0, 3000000.0, 9000000.0, 17200000.0, 6500000.0, 437000.0, 772500.0, -2.0, 147000.0, 20000000.0, 7400000.0, 30000000.0, 34651265.0, 29900000.0, 200000.0, 6000000.0, 1200000.0, 15000000.0, 200000000.0, 10000000.0, 1000000.0, 300000.0, 100000.0, 233000.0, 7000000.0, 60000000.0, 2000000.0, 90000.0, 1450000.0, 620000.0, 180000.0, 500000.0, 400000.0, 10000000.0, 3000000.0, 1500000.0, 15000000.0, 970000.0, 75000000.0, 1000000.0, 530000.0, 16600000.0, 5000000.0, 11100000.0, 507000000.0, 2150000.0, 1000000.0, 75000000.0, 1000000.0, 15600000.0, 368000.0, 1375000.0, 500000.0, 52000000.0, 382000.0, 24999999.0, 17000000.0, 303000.0, 182700000.0, 85680000.0, 40000.0, 3650000.0, 100000.0, 30000000.0, 2000000.0, 200000.0, 600000.0, 319605.0, 430200.0, 2900000.0, 1000000.0, 5000000.0, 2999999.0, 293000.0, 100000000.0, 30000.0, -3.0, 400000.0, 150000.0, 82000000.0, 12000000.0, 300000.0, 500000.0, 200000.0, 150000.0, 1000000.0, 50000000.0, 500000.0, 3000000.0, 600000.0, 3500000.0, 200000.0, 4000000.0, 500000.0, 499999.0, -2.0, 1000000.0, 159999999.0, 200000.0, 16000.0, 22400000.0, 8900000.0, 3000000.0, 100000.0, 200000.0, 6200000.0, 220000.0, 1200000.0, 6500000.0, 400000.0, 20000000.0, 45000000.0, 64800000.0, 4750000.0, 200000.0, 199999999.0, 50000000.0, 145000000.0, 31000000.0, 1200000.0, 500000.0, 500000.0, 4350000.0, 572000.0, 300000.0, 630000.0, 60700000.0, 55000000.0, 5000000.0, 3700000.0, 120000.0, 6900000.0, 3300000.0, 935089.0, 3700000.0, 735000.0, 400000.0, 2500000.0, 734000.0, 3000000.0, 218000.0, 10000000.0, 26000000.0, 165000.0, 5000000.0, 18000000.0, 100000.0, 300000.0, 500000.0, 6000000.0, 76000000.0, 16600.0, 14700000.0, 25000000.0, 750000.0, -2.0, 150000.0, 500000.0, 1300000.0, 13999999.0, 16600.0, 25999999.0, 850000.0, 1000000.0, 250000.0, 8000000.0, 1000000.0, 22500.0, 9000000.0, 135000000.0, 1000000.0, 10000000.0, 306000.0, 180000.0, 3500000.0, 7500000.0, 5000000.0, 445000.0, 200000.0, 1000000.0, 5000000.0, 200000.0, 250000.0, -2.0, 6000000.0, 1200000.0, 470000.0, 100000.0, 200000.0, 150000.0, 500000.0, 5000000.0, 15000000.0, 43600000.0, 34000000.0, 18000000.0, 2443495.0, -2.0, 29999999.0, 1500000.0, 5000000.0, 10100000.0, 500000.0, 360000.0, 1000000.0, 1300000.0, 1400000.0, 783000.0, 1500000.0, 2000000.0, 2500000.0, 5500000.0, 7700000.0, 500000.0, 160000.0, 19000000.0, 3000000.0, 18000000.0, 6500000.0, 120000.0, 11000000.0, 120000000.0, 38200000.0, 150000.0, 5550000.0, 15000000.0, 50000.0, 800000.0, 249999.0, 2500000.0, 1000000.0, 4500000.0, 100000.0, 750000.0, 500000.0, 2999999.0, 500000.0, 6390000.0, 25000000.0, 1400000.0, 3999999.0, 1000000.0, 52000.0, 104000.0, 15000000.0, 16600.0, 1200000.0, 215000000.0, 600000.0, 500000.0, 500000.0, 80000000.0, 50000000.0, 5000000.0, 150000.0, 125000.0, 312000.0, 375000.0, 44999999.0, 6000000.0, 166000.0, 220000000.0, 2700000.0, 597000.0, 2500000.0, 700000.0, 5000000.0, 8400000.0, 2500000.0, 1000000.0, 250000.0, 300000.0, 2999999.0, 2650000.0, 100000000.0, 15000000.0, 3999999.0, 450000.0, 5000000.0, 10000000.0, 50000.0, 600000.0, 22999999.0, 16000000.0, 300000.0, 550000.0, 50999999.0, 57300000.0, 35000000.0, 2000000.0, 39000.0, 4780000.0, 15700000.0, 1500000.0, 949000.0, 4500000.0, 150000.0, 100000.0, 10000000.0, 500000.0, 200000.0, 2200000.0, 3500000.0, 350000.0, 8849998.0, 2600000.0, 167000000.0, 6000000.0, 270000000.0, 220000.0, 1000000.0, 2500000.0, 1000000.0, 10000000.0, 2000000.0, 40000.0, 735000.0, -2.0, 7000000.0, 2000000.0, 1700000.0, 4500000.0, 16000.0, 114811.0, 100000.0, 29500000.0, 1100000.0, 200000.0, -2.0, 200000000.0, 8200000.0, 600000.0, 500000.0, -2.0, 490000.0, 500000.0, 225000.0, 1000000.0, 1000000.0, 41000000.0, 16000000.0, 147000.0, 4500000.0, 2471000.0, 150000.0, 500000.0, 20000000.0, 36300000.0, 16600.0, 25000000.0, 2000000.0, 8000054.0, 68000.0, 2250000.0, 215000.0, -2.0, 1750000.0, 3500000.0, 8000000.0, 3000000.0, -2.0, 1800000.0, 4600000.0, -2.0, 250000.0, 11310000.0, 6000000.0, 15000000.0, 7000000.0, 2300000.0, 100000.0, 25999999.0, 10000000.0, 4600000.0, 100000.0, 2000000.0, 150000.0, 400000.0, 2999999.0, 100000000.0, 500000.0, 2500000.0, 600000.0, 180000.0, 15000000.0, 500000.0, 890000.0, 464000.0, 1000000.0, 4059700000.0, 700000000.0, 425000.0, 150000.0, 7500000.0, 7000000.0, 22000000.0, 500000.0, 210000000.0, 300000.0, 455000.0, 600000.0, 2000000.0, 3800000.0, 2999999.0, 100000000.0, 600000.0, 100000.0, 137000000.0, 145000.0, 2000000.0, 55000000.0, 33500000.0, 140000000.0, 50000000.0, 150000000.0, 1100000.0, 1000000.0, 518000.0, 70000.0, 11000000.0, 400000.0, 42200000.0, 200000000.0, 8600000.0, 2000000.0, 400000.0, 1100000.0, 3399999.0, 449999998.0, 115000000.0, 6200000.0, 350000.0, 22500.0, 430000.0, 580000.0, 209000.0, 250000.0, 278000.0, 4476000.0, 250000.0, 450000.0, 1999999.0, 300000.0, 1000000.0, 11500000.0, 2000000.0, 300000.0, 138995.0, 10000000.0, 75000.0, 20000000.0, 250000.0, 1500000.0, 13400000.0, 50000.0, 1050000.0, 1000000.0, 2000000.0, 2000000.0, 1000000.0, 100000.0, 3700000.0, 5500000.0, 1600000.0, 50000000.0, 5000000.0, 999999.0, 2000000.0, 10000000.0, 2500000.0, 1000000.0, 1000000.0, 150000.0, 825000.0, 2800000.0, 60000000.0, 650000.0, 1000000.0, 30000000.0, 1000000.0, 5200000.0, 100000.0, 297000000.0, 20000000.0, 8200000.0, 4500000.0, 600000.0, 1100000.0, 500000.0, 799999.0, 300000.0, 45000.0, -2.0, 134999.0, 5000000.0, 200000.0, 4500000.0, 7500000.0, 630000.0, 2000000.0, 5000000.0, 4000000.0, 1349999.0, 740000.0, 77000.0, 1000000.0, 250000.0, 191000.0, 1000000.0, 1800000.0, 3000000.0, 2500000.0, 1000000.0, 800000.0, 12000000.0, 73000.0, 40000000.0, 3100000.0, 26999999.0, 11999998.0, 1000000.0, 5000000.0, 400000.0, 2700000.0, 1500000.0, 295000.0, 23000000.0, 780000.0, 1000000.0, 3000000.0, 50000000.0, 175000000.0, 4000000.0, 700000.0, 250000.0, 250000.0, 5274999.0, 3100000.0, 15000000.0, 100000.0, 10000000.0, 17950000.0, 5000000.0, 50000000.0, 1000000.0, 500000.0, 470000.0, 89000.0, 24000000.0, 150000.0, 16000.0, 5000000.0, 150000.0, 1000000.0, 26500000.0, 20000000.0, 1500000.0, 1500000.0, 25000000.0, 9090000.0, -2.0, 1000000.0, 1800000.0, 450000.0, 250000.0, 10000000.0, 25000000.0, 2000000.0, 13500000.0, 4000000.0, 15000000.0, 155000.0, 6000000.0, 96000000.0, 700000.0, 10000000.0, 250000.0, 500000.0, 1000000.0, 750000.0, 500000.0, 5900000.0, 42000000.0, 300000.0, 5000000.0, 500000.0, 2000000.0, 4000000.0, 999999.0, 5000000.0, 500000.0, 9999999.0, 150000.0, 15000000.0, 150000.0, 14749999.0, 13000000.0, 15030000.0, 600000.0, 63000000.0, 5000000.0, 160000.0, 750000.0, 250000.0, 100000000.0, 2000000.0, 450000.0, 4250000.0, 18000000.0, 3999998.0, 15599999.0, 1500000.0, 23350000.0, 5000000.0, 5200000.0, 16600.0, 240000.0, 2199999.0, 1000000.0, 800000.0, 4200000.0, -2.0, 100000.0, 100000.0, 4000000.0, 106000.0, 3000000.0, 2000000.0, 325000.0, 16500000.0, 14999999.0, 250000.0, 5000000.0, -2.0, 154999.0, 3000000.0, 6000000.0, 260000.0, -2.0, 94000.0, 300000.0, 500000.0, 1000000.0, 2250000.0, 25999999.0, 5200000.0, 8500000.0, 1200000.0, 5800000.0, 20000000.0, 500000.0, 5000000.0, 750000.0, 400000.0, 385000.0, 4200000.0, 148000.0, 430665.0, 2800000.0, 500000.0, 200000.0, 499999.0, 500000.0, 14000000.0, 1000000.0, 441000.0, 1400000.0, 850000.0, 5000000.0, 2500000.0, 32000000.0, 230000.0, 500000.0, 100000.0, 20000000.0, 500000.0, 23300000.0, 300000.0, 9999999.0, 6000000.0, 46140.0, 80000.0, 1000000.0, 45250000.0, 3000000.0, 16000000.0, 150000.0, 156000.0, 124999.0, 6350000.0, 150000.0, 600000.0, 500000.0, 16600.0, 250000.0, 13000000.0, 150000.0, 3400000.0, 5000000.0, 1000000.0, 500000.0, 10750000.0, 44450000.0, 101700000.0, 5649999.0, 59999998.0, 231000000.0, 40000.0, 200000.0, 3000000.0, 4000000.0, -2.0, 13300000.0, 1000000.0, -2.0, 5000000.0, 44000000.0, 150000.0, 130000.0, 108000.0, 30000000.0, 1000000.0, 500000.0, 999999.0, 150000.0, 3000000.0, 15000000.0, 1100000.0, 200000.0, 8000000.0, 500000.0, 2250000.0, 6250000.0, 320000.0, 3000000.0, 4000000.0, 5000000.0, 300000.0, 2749999.0, 436000.0, 9999999.0, 50000.0, 400000.0, 5880000.0, 750000.0, -2.0, 900000.0, 10200000.0, 300000.0, 175000.0, 1500000.0, 32000000.0, 375000.0, 22500.0, 175000.0, 1499998.0, 167999.0, 4500000.0, 1000000.0, 17600000.0, 15000000.0, 190000000.0, 250000.0, 3999998.0, 18358860.0, 6000000.0, 700000.0, 60000000.0, 1200000.0, 18000.0, 2000000.0, 56000000.0, 440000.0, 30000.0, 1000000.0, 100000.0, 20000000.0, 6000000.0, 60000000.0, 150000.0, 100000.0, 15800000.0, 100000.0, 779999.0, 17000000.0, 31000000.0, 45000.0, 189599998.0, 1000000.0, 5000000.0, 1199999.0, 100000.0, 4000000.0, 75000000.0, 50000.0, 12200000.0, 6700000.0, 150000.0, 1300000.0, 7500000.0, 3000000.0, 750000.0, 39500000.0, 324000.0, 486000.0, 4249999.0, 600000.0, -2.0, 31600000.0, 2350000.0, 9299999.0, 90000000.0, 500000.0, 500000.0, 400000.0, 76199998.0, 445000.0, 1200000.0, 12600000.0, 12300000.0, -2.0, 40000.0, 15000000.0, 500000.0, 35000000.0, -2.0, 1500000.0, -2.0, 350000.0, 220000.0, 3000000.0, 1000000.0, 1500000.0, 100000.0, 3000000.0, 8200000.0, 150000.0, 550000.0, 615000.0, 11300000.0, 1000000.0, 5200000.0, 200000.0, 1000000.0, 978000.0, 3000000.0, 1600000.0, 249999.0, 2500000.0, 200000.0, 10000000.0, 1600000.0, 5300000.0, 1000000.0, 410000.0, 320000.0, 5000000.0, 499999.0, 20000000.0, 52000000.0, 21500000.0, 143000.0, 600000.0, 3000000.0, 225000.0, 300000.0, 27000000.0, 285000.0, 2500000.0, 16000000.0, 16000000.0, 47000000.0, 1000000.0, 235000.0, 600000.0, 31300000.0, 12749999.0, 3000000.0, 14000000.0, 35000000.0, 50000000.0, 4800000.0, 250000.0, 243000.0, 20000000.0, 100000.0, 40000000.0, 4150000.0, 25000.0, 1000000.0, 1000000.0, 500000.0, 1999997.0, 3000000.0, 34500000.0, 300000.0, 449999.0, 71399998.0, 872000.0, 147000.0, 168000.0, 100000.0, 1199999.0, 1000000.0, 10000000.0, 1000000.0, 10000000.0, 455000.0, 400000.0, 13500000.0, 213999999.0, 691999.0, 1100000.0, 150000.0, 285000000.0, 8000000.0, 200000.0, 19900000.0, 29000000.0, 6700000.0, 15500000.0, 984500000.0, 669699999.0, 400000000.0, 3000000.0, 150000.0, 100000.0, 6000000.0, 7499999.0, 336000.0, 450000.0, 150000.0, 770000.0, 150000.0, 450000.0, 3600000.0, 450000.0, 8300000.0, 4000000.0, 520000.0, 1000000.0, 3000000.0, 11000000.0, 199999.0, 3000000.0, 100000000.0, 350000000.0, 162000000.0, 100000000.0, 8600000.0, 2000000.0, 225000.0, 9000000.0, 30000000.0, 400000.0, 500000.0, 1400000.0, 4999999.0, -2.0, 118000.0, 4000000.0, 5600000.0, 234000.0, 18000000.0, 2500000.0, 5300000.0, 3148950000.0, 200000000.0, 499999.0, 443000.0, 1000000.0, 1000000.0, 10000000.0, 169700000.0, 40000000.0, 6100000.0, 30000.0, 148434.0, 1500000.0, 17999999.0, 745000.0, 5500000.0, 66000000.0, 38700000.0, 23000000.0, 6000000.0, 500000.0, 1790000.0, 300000.0, 1300000.0, -2.0, 147000.0, -2.0, 100000.0, 38080000.0, 82000000.0, 223608.0, 600000.0, 1000000.0, 1100000.0, 999999.0, 350000.0, 150000.0, 2000000.0, 1040000.0, 16000.0, 4000000.0, 600000.0, 700000.0, 500000.0, 1000000.0, 3000000.0, 150000.0, 5000000.0, 77000000.0, 267700000.0, 2000000.0, 26000000.0, 37500000.0, 450000.0, 8000000.0, 57000000.0, 85000000.0, 2400000.0, 200000.0, 4300000.0, 145000.0, 2200000.0, 570000.0, 6000000.0, 300000.0, 165000.0, 5600000.0, 4500000.0, 5000000.0, 50000.0, 180000.0, 500000.0, 3000000.0, 2000000.0, 550000.0, 150000.0, 520000.0, 500000.0, 37000000.0, 448000.0, 100000.0, 6537000.0, 150000.0, 250000.0, 9000000.0, 200000.0, 229999.0, 159999.0, 55000000.0, -2.0, 310000.0, 1600000.0, 230000000.0, 3300000.0, 540000.0, 300000.0, 1000000.0, 6000000.0, 4000000.0, 4000000.0, -4.0, 250000.0, 8600000.0, 751229.0, 3900000000.0, 1100000.0, 50000000.0, 4800000.0, 100000.0, 119999.0, 28999999.0, 1000000.0, 500000.0, 300000.0, 26000000.0, 2500000.0, 250000.0, 1000000.0, 250000.0, 330000.0, 50000000.0, 466000.0, 1000000.0, 2600000.0, 9200000.0, 20500000.0, -2.0, 5000000.0, 233999.0, 1400000.0, 16000000.0, 250000.0, 2000000.0, 100000.0, 10000000.0, 275000.0, 400000.0, 500000.0, 4000000.0, 4000000.0, 23270000.0, 6000000.0, 140000000.0, 100000.0, 250000.0, 21000000.0, 4100000.0, 450000.0, 12000000.0, 150000.0, 300000.0, 240000.0, 160000.0, 2000000.0, 300000.0, 2000000.0, 1500000.0, 187000.0, -2.0, 31700000.0, 5000000.0, 2999999.0, 1000000.0, 7000000.0, 200000.0, 6830000.0, 27000000.0, 1000000.0, 100000.0, 150000.0, 300000.0, 868600.0, 35000000.0, 99999999.0, 10000000.0, 36230000.0, 1800000.0, 1500000.0, 2500000.0, 7500000.0, 7000000.0, 160000.0, 23500000.0, 5000000.0, 5000000.0, 319998.0, 1800000.0, 6000000.0, 1000000.0, 160000.0, -2.0, 500000.0, 6000000.0, 3000000.0, 1500000.0, 300000.0, 4000000.0, 3600000.0, 2499999.0, 12000000.0, 5000000.0, 1000000.0, 650000.0, 1000000.0, 750000.0, 500000.0, 750000.0, -2.0, 3500000.0, 200000.0, 310000.0, 9000000.0, 10000000.0, 100000000.0, 23550000.0, 2570000.0, 500000.0, 1000000.0, 750000.0, 5000000.0, 100000000.0, 1999999.0, 40000000.0, 2000000.0, 107700000.0, 233000.0, 1070000.0, 963000.0, 5000000.0, 500000.0, 5700000.0, 44048394.0, 1200000.0, 3400000.0, 24800000.0, 448000.0, 515000.0, 900000.0, 1200000.0, 17500000.0, 35749999.0, 12250000.0, 68.0, 722000.0, 150000.0, 1240000.0, 2000000.0, 3600000.0, 47800000.0, 250000.0, 500000.0, 10000000.0, 2000000.0, -2.0, 3000000.0, 200000.0, 1000000.0, 199999.0, 175000.0, 7200000.0, 700000000.0, 200000.0, 100000.0, 22500.0, 19500000.0, 311000.0, 460000.0, 10000000.0, 300000.0, 150000.0, 1000000.0, 1000000.0, 150000.0, -2.0, 10000000.0, 550000.0, 11200000.0, 800000.0, 1000000.0, 2100000.0, 28000000.0, 5999999.0, 999998.0, 1100000.0, 2000000.0, 5000000.0, 5000000.0, -2.0, 13500000.0, 20000000.0, 14000000.0, 200000.0, 395000.0, 349999.0, 69999.0, 16000000.0, 232000.0, 354600.0, 1000000.0, 30768.0, 22500.0, 385000.0, 7500000.0, 1000000.0, 37000.0, 249999.0, 28000000.0, 1900000.0, 150000.0, 785000.0, 1500000.0, 1300000.0, 540000.0, 1000000.0, 1619999.0, 1200000.0, 270500000.0, 307600.0, 6000000.0, 149999.0, 1400000.0, 100000.0, 450000.0, 3000000.0, 1000000.0, 5000000.0, 110000000.0, 1000000.0, 7600000.0, 100000.0, 150000.0, 1930000.0, 15000000.0, 5700000.0, 23000000.0, 1000000.0, 526000.0, 500000.0, 227000.0, 7000000.0, 1000000.0, 5999999.0, 1500000.0, 1750000.0, 3000000.0, 250000.0, 825000.0, 140000.0, 100000.0, 166000.0, 500000.0, 1000000.0, 2100000.0, 1900000.0, 1000000.0, 3100000.0, -2.0, 1000000.0, 245000.0, 6000000.0, 534999.0, 210000.0, 10000000.0, 1600000.0, 315000.0, 500000.0, 240000.0, 250000.0, 200000.0, 1000000.0, 35000000.0, 2400000.0, 1000000.0, -2.0, 23500000.0, 3579998.0, 1500000.0, 450000.0, 2500000.0, 17000000.0, 1000000.0, 8000000.0, 1000000.0, 110000.0, 670000.0, 26620820.0, 2000000.0, 350000.0, 1300000.0, 400000.0, 1000000.0, 13499998.0, 400000.0, 297000.0, 3500000.0, 15000000.0, 1600000.0, 6000000.0, 18000000.0, 12000000.0, 10000000.0, 40000000.0, 3250000.0, 50000.0, 249999.0, 246000.0, 1000000.0, 373000.0, 3000000.0, 5591374.0, 370000.0, 2000000.0, 14900000.0, 595000.0, 10000000.0, 37999999.0, 600000000.0, 8650000.0, 745000.0, 5500000.0, 700000.0, 3100000.0, 800000.0, 275000.0, 21000000.0, -2.0, 235000.0, 3000000.0, 1200000.0, 500000.0, 870000000.0, 1000000.0, 16807000.0, 12499999.0, 2000000.0, 97879999.0, 15000000.0, 600000.0, 1500000.0, 5000000.0, 1399999.0, 77199999.0, -2.0, 60699999.0, 50000000.0, 3000000.0, -2.0, 2000000.0, 100000.0, 4000000.0, 27000.0, 280000.0, 1000000.0, 200000.0, 1500000.0, 650000.0, 250000.0, 55000000.0, 4000000.0, 540000.0, 15000000.0, 6000000.0, 162000.0, 100000.0, 1500000.0, 500000.0, 270000.0, 500000.0, 4700000.0, 27799000.0, 1000000.0, 500000.0, 2400000.0, 6750000.0, 315000.0, 800000.0, -2.0, 776000.0, 40000000.0, 375000.0, 50000.0, 283000000.0, 3584000.0, 500000.0, 100000.0, 1000000.0, 34000000.0, 100000.0, 1350000.0, 15000000.0, 15000000.0, 5000000.0, 5000000.0, 2000000.0, 22000000.0, 16999998.0, -2.0, 1600000.0, 1000000.0, 5199999.0, 2700000.0, 7700000.0, 440000.0, 250000.0, 375000.0, 297000.0, 2000000.0, 410000.0, 40000.0, 6000000.0, 2100000.0, 4590000.0, 120000.0, 500000.0, 1530000.0, 600000.0, 2000000.0, 3000000.0, 9890000.0, 499999.0, 649999.0, 250000.0, -2.0, 450000.0, 595000.0, 145000.0, 9600000.0, 2200000.0, 500000.0, 30000.0, 7999997.0, 5000000.0, 1000000.0, 499998.0, 400000.0, 4500000.0, 3000000.0, -3.0, 450000.0, 12500000.0, 10000000.0, 5000000.0, 3100000.0, 15400000.0, 650000.0, 88699999.0, 16000.0, 115000.0, 1000000.0, 400000.0, 1200000.0, 2999999.0, 600000.0, -2.0, 300000.0, 3000000.0, 1000000.0, 50000000.0, 15000000.0, 350000.0, 2000000.0, 3076999.0, 100000.0, 9999998.0, 500000.0, 999999.0, 7500000.0, 1000000.0, 1000000.0, 75000.0, 15200000.0, 13500000.0, 500000.0, 1360999.0, 37000000.0, 899999.0, 640000.0, 65000000.0, 500000.0, 77000.0, 6500000.0, 19900000.0, 19000000.0, 120000.0, 190000.0, 235900000.0, 2400000.0, 6000000.0, 500000.0, 3649999.0, 200000.0, 390000.0, 40000000.0, 45000000.0, 999997.0, 5000000.0, 435000000.0, 1000000.0, 24000000.0, 15999999.0, 450000.0, 10000000.0, 20000000.0, 50000000.0, 2000000.0, 650000.0, 180000.0, 250000.0, 5000000.0, 16200000.0, 6000000.0, 685000.0, 600000.0, 19350000.0, 10000000.0, 20000000.0, 625000.0, 140000.0, 30000000.0, 400000.0, 650000.0, 300000.0, 1991000.0, 500000.0, 298000.0, 80000.0, 250000.0, 3650000.0, 5000000.0, 2000000.0, 10100000.0, 500000.0, 500000.0, 30000.0, 750000.0, 12000000.0, 311200.0, 3000000.0, 500000.0, 768000.0, 300000.0, 1000000.0, 149000.0, 2300000.0, 250000.0, -2.0, 19500000.0, 1000000.0, 5900000.0, -2.0, 440000.0, 1500000.0, 100000.0, 1000000.0, 500000.0, 4000000.0, 40000.0, 200000.0, 2500000.0, 500000.0, 180000.0, 750000.0, 475000.0, 1350000.0, 31000000.0, 4000000.0, 4200000.0, 2000000.0, 650000.0, 150000.0, 650000.0, 25000000.0, 90000000.0, 3000000.0, 2400000.0, 200000.0, 1000000.0, 440000.0], \"yaxis\": \"y\"}],                        {\"legend\": {\"tracegroupgap\": 0}, \"margin\": {\"t\": 60}, \"template\": {\"data\": {\"bar\": [{\"error_x\": {\"color\": \"#2a3f5f\"}, \"error_y\": {\"color\": \"#2a3f5f\"}, \"marker\": {\"line\": {\"color\": \"#E5ECF6\", \"width\": 0.5}}, \"type\": \"bar\"}], \"barpolar\": [{\"marker\": {\"line\": {\"color\": \"#E5ECF6\", \"width\": 0.5}}, \"type\": \"barpolar\"}], \"carpet\": [{\"aaxis\": {\"endlinecolor\": \"#2a3f5f\", \"gridcolor\": \"white\", \"linecolor\": \"white\", \"minorgridcolor\": \"white\", \"startlinecolor\": \"#2a3f5f\"}, \"baxis\": {\"endlinecolor\": \"#2a3f5f\", \"gridcolor\": \"white\", \"linecolor\": \"white\", \"minorgridcolor\": \"white\", \"startlinecolor\": \"#2a3f5f\"}, \"type\": \"carpet\"}], \"choropleth\": [{\"colorbar\": {\"outlinewidth\": 0, \"ticks\": \"\"}, \"type\": \"choropleth\"}], \"contour\": [{\"colorbar\": {\"outlinewidth\": 0, \"ticks\": \"\"}, \"colorscale\": [[0.0, \"#0d0887\"], [0.1111111111111111, \"#46039f\"], [0.2222222222222222, \"#7201a8\"], [0.3333333333333333, \"#9c179e\"], [0.4444444444444444, \"#bd3786\"], [0.5555555555555556, \"#d8576b\"], [0.6666666666666666, \"#ed7953\"], [0.7777777777777778, \"#fb9f3a\"], [0.8888888888888888, \"#fdca26\"], [1.0, \"#f0f921\"]], \"type\": \"contour\"}], \"contourcarpet\": [{\"colorbar\": {\"outlinewidth\": 0, \"ticks\": \"\"}, \"type\": \"contourcarpet\"}], \"heatmap\": [{\"colorbar\": {\"outlinewidth\": 0, \"ticks\": \"\"}, \"colorscale\": [[0.0, \"#0d0887\"], [0.1111111111111111, \"#46039f\"], [0.2222222222222222, \"#7201a8\"], [0.3333333333333333, \"#9c179e\"], [0.4444444444444444, \"#bd3786\"], [0.5555555555555556, \"#d8576b\"], [0.6666666666666666, \"#ed7953\"], [0.7777777777777778, \"#fb9f3a\"], [0.8888888888888888, \"#fdca26\"], [1.0, \"#f0f921\"]], \"type\": \"heatmap\"}], \"heatmapgl\": [{\"colorbar\": {\"outlinewidth\": 0, \"ticks\": \"\"}, \"colorscale\": [[0.0, \"#0d0887\"], [0.1111111111111111, \"#46039f\"], [0.2222222222222222, \"#7201a8\"], [0.3333333333333333, \"#9c179e\"], [0.4444444444444444, \"#bd3786\"], [0.5555555555555556, \"#d8576b\"], [0.6666666666666666, \"#ed7953\"], [0.7777777777777778, \"#fb9f3a\"], [0.8888888888888888, \"#fdca26\"], [1.0, \"#f0f921\"]], \"type\": \"heatmapgl\"}], \"histogram\": [{\"marker\": {\"colorbar\": {\"outlinewidth\": 0, \"ticks\": \"\"}}, \"type\": \"histogram\"}], \"histogram2d\": [{\"colorbar\": {\"outlinewidth\": 0, \"ticks\": \"\"}, \"colorscale\": [[0.0, \"#0d0887\"], [0.1111111111111111, \"#46039f\"], [0.2222222222222222, \"#7201a8\"], [0.3333333333333333, \"#9c179e\"], [0.4444444444444444, \"#bd3786\"], [0.5555555555555556, \"#d8576b\"], [0.6666666666666666, \"#ed7953\"], [0.7777777777777778, \"#fb9f3a\"], [0.8888888888888888, \"#fdca26\"], [1.0, \"#f0f921\"]], \"type\": \"histogram2d\"}], \"histogram2dcontour\": [{\"colorbar\": {\"outlinewidth\": 0, \"ticks\": \"\"}, \"colorscale\": [[0.0, \"#0d0887\"], [0.1111111111111111, \"#46039f\"], [0.2222222222222222, \"#7201a8\"], [0.3333333333333333, \"#9c179e\"], [0.4444444444444444, \"#bd3786\"], [0.5555555555555556, \"#d8576b\"], [0.6666666666666666, \"#ed7953\"], [0.7777777777777778, \"#fb9f3a\"], [0.8888888888888888, \"#fdca26\"], [1.0, \"#f0f921\"]], \"type\": \"histogram2dcontour\"}], \"mesh3d\": [{\"colorbar\": {\"outlinewidth\": 0, \"ticks\": \"\"}, \"type\": \"mesh3d\"}], \"parcoords\": [{\"line\": {\"colorbar\": {\"outlinewidth\": 0, \"ticks\": \"\"}}, \"type\": \"parcoords\"}], \"pie\": [{\"automargin\": true, \"type\": \"pie\"}], \"scatter\": [{\"marker\": {\"colorbar\": {\"outlinewidth\": 0, \"ticks\": \"\"}}, \"type\": \"scatter\"}], \"scatter3d\": [{\"line\": {\"colorbar\": {\"outlinewidth\": 0, \"ticks\": \"\"}}, \"marker\": {\"colorbar\": {\"outlinewidth\": 0, \"ticks\": \"\"}}, \"type\": \"scatter3d\"}], \"scattercarpet\": [{\"marker\": {\"colorbar\": {\"outlinewidth\": 0, \"ticks\": \"\"}}, \"type\": \"scattercarpet\"}], \"scattergeo\": [{\"marker\": {\"colorbar\": {\"outlinewidth\": 0, \"ticks\": \"\"}}, \"type\": \"scattergeo\"}], \"scattergl\": [{\"marker\": {\"colorbar\": {\"outlinewidth\": 0, \"ticks\": \"\"}}, \"type\": \"scattergl\"}], \"scattermapbox\": [{\"marker\": {\"colorbar\": {\"outlinewidth\": 0, \"ticks\": \"\"}}, \"type\": \"scattermapbox\"}], \"scatterpolar\": [{\"marker\": {\"colorbar\": {\"outlinewidth\": 0, \"ticks\": \"\"}}, \"type\": \"scatterpolar\"}], \"scatterpolargl\": [{\"marker\": {\"colorbar\": {\"outlinewidth\": 0, \"ticks\": \"\"}}, \"type\": \"scatterpolargl\"}], \"scatterternary\": [{\"marker\": {\"colorbar\": {\"outlinewidth\": 0, \"ticks\": \"\"}}, \"type\": \"scatterternary\"}], \"surface\": [{\"colorbar\": {\"outlinewidth\": 0, \"ticks\": \"\"}, \"colorscale\": [[0.0, \"#0d0887\"], [0.1111111111111111, \"#46039f\"], [0.2222222222222222, \"#7201a8\"], [0.3333333333333333, \"#9c179e\"], [0.4444444444444444, \"#bd3786\"], [0.5555555555555556, \"#d8576b\"], [0.6666666666666666, \"#ed7953\"], [0.7777777777777778, \"#fb9f3a\"], [0.8888888888888888, \"#fdca26\"], [1.0, \"#f0f921\"]], \"type\": \"surface\"}], \"table\": [{\"cells\": {\"fill\": {\"color\": \"#EBF0F8\"}, \"line\": {\"color\": \"white\"}}, \"header\": {\"fill\": {\"color\": \"#C8D4E3\"}, \"line\": {\"color\": \"white\"}}, \"type\": \"table\"}]}, \"layout\": {\"annotationdefaults\": {\"arrowcolor\": \"#2a3f5f\", \"arrowhead\": 0, \"arrowwidth\": 1}, \"autotypenumbers\": \"strict\", \"coloraxis\": {\"colorbar\": {\"outlinewidth\": 0, \"ticks\": \"\"}}, \"colorscale\": {\"diverging\": [[0, \"#8e0152\"], [0.1, \"#c51b7d\"], [0.2, \"#de77ae\"], [0.3, \"#f1b6da\"], [0.4, \"#fde0ef\"], [0.5, \"#f7f7f7\"], [0.6, \"#e6f5d0\"], [0.7, \"#b8e186\"], [0.8, \"#7fbc41\"], [0.9, \"#4d9221\"], [1, \"#276419\"]], \"sequential\": [[0.0, \"#0d0887\"], [0.1111111111111111, \"#46039f\"], [0.2222222222222222, \"#7201a8\"], [0.3333333333333333, \"#9c179e\"], [0.4444444444444444, \"#bd3786\"], [0.5555555555555556, \"#d8576b\"], [0.6666666666666666, \"#ed7953\"], [0.7777777777777778, \"#fb9f3a\"], [0.8888888888888888, \"#fdca26\"], [1.0, \"#f0f921\"]], \"sequentialminus\": [[0.0, \"#0d0887\"], [0.1111111111111111, \"#46039f\"], [0.2222222222222222, \"#7201a8\"], [0.3333333333333333, \"#9c179e\"], [0.4444444444444444, \"#bd3786\"], [0.5555555555555556, \"#d8576b\"], [0.6666666666666666, \"#ed7953\"], [0.7777777777777778, \"#fb9f3a\"], [0.8888888888888888, \"#fdca26\"], [1.0, \"#f0f921\"]]}, \"colorway\": [\"#636efa\", \"#EF553B\", \"#00cc96\", \"#ab63fa\", \"#FFA15A\", \"#19d3f3\", \"#FF6692\", \"#B6E880\", \"#FF97FF\", \"#FECB52\"], \"font\": {\"color\": \"#2a3f5f\"}, \"geo\": {\"bgcolor\": \"white\", \"lakecolor\": \"white\", \"landcolor\": \"#E5ECF6\", \"showlakes\": true, \"showland\": true, \"subunitcolor\": \"white\"}, \"hoverlabel\": {\"align\": \"left\"}, \"hovermode\": \"closest\", \"mapbox\": {\"style\": \"light\"}, \"paper_bgcolor\": \"white\", \"plot_bgcolor\": \"#E5ECF6\", \"polar\": {\"angularaxis\": {\"gridcolor\": \"white\", \"linecolor\": \"white\", \"ticks\": \"\"}, \"bgcolor\": \"#E5ECF6\", \"radialaxis\": {\"gridcolor\": \"white\", \"linecolor\": \"white\", \"ticks\": \"\"}}, \"scene\": {\"xaxis\": {\"backgroundcolor\": \"#E5ECF6\", \"gridcolor\": \"white\", \"gridwidth\": 2, \"linecolor\": \"white\", \"showbackground\": true, \"ticks\": \"\", \"zerolinecolor\": \"white\"}, \"yaxis\": {\"backgroundcolor\": \"#E5ECF6\", \"gridcolor\": \"white\", \"gridwidth\": 2, \"linecolor\": \"white\", \"showbackground\": true, \"ticks\": \"\", \"zerolinecolor\": \"white\"}, \"zaxis\": {\"backgroundcolor\": \"#E5ECF6\", \"gridcolor\": \"white\", \"gridwidth\": 2, \"linecolor\": \"white\", \"showbackground\": true, \"ticks\": \"\", \"zerolinecolor\": \"white\"}}, \"shapedefaults\": {\"line\": {\"color\": \"#2a3f5f\"}}, \"ternary\": {\"aaxis\": {\"gridcolor\": \"white\", \"linecolor\": \"white\", \"ticks\": \"\"}, \"baxis\": {\"gridcolor\": \"white\", \"linecolor\": \"white\", \"ticks\": \"\"}, \"bgcolor\": \"#E5ECF6\", \"caxis\": {\"gridcolor\": \"white\", \"linecolor\": \"white\", \"ticks\": \"\"}}, \"title\": {\"x\": 0.05}, \"xaxis\": {\"automargin\": true, \"gridcolor\": \"white\", \"linecolor\": \"white\", \"ticks\": \"\", \"title\": {\"standoff\": 15}, \"zerolinecolor\": \"white\", \"zerolinewidth\": 2}, \"yaxis\": {\"automargin\": true, \"gridcolor\": \"white\", \"linecolor\": \"white\", \"ticks\": \"\", \"title\": {\"standoff\": 15}, \"zerolinecolor\": \"white\", \"zerolinewidth\": 2}}}, \"width\": 1000, \"xaxis\": {\"anchor\": \"y\", \"domain\": [0.0, 1.0], \"title\": {\"text\": \"index\"}}, \"yaxis\": {\"anchor\": \"x\", \"domain\": [0.0, 1.0], \"title\": {\"text\": \"Amount in USD\"}}},                        {\"responsive\": true}                    ).then(function(){\n",
       "                            \n",
       "var gd = document.getElementById('6e5e0dbc-d19a-4542-a74d-1bdfb810ee52');\n",
       "var x = new MutationObserver(function (mutations, observer) {{\n",
       "        var display = window.getComputedStyle(gd).display;\n",
       "        if (!display || display === 'none') {{\n",
       "            console.log([gd, 'removed!']);\n",
       "            Plotly.purge(gd);\n",
       "            observer.disconnect();\n",
       "        }}\n",
       "}});\n",
       "\n",
       "// Listen for the removal of the full notebook cells\n",
       "var notebookContainer = gd.closest('#notebook-container');\n",
       "if (notebookContainer) {{\n",
       "    x.observe(notebookContainer, {childList: true});\n",
       "}}\n",
       "\n",
       "// Listen for the clearing of the current output cell\n",
       "var outputEl = gd.closest('.output');\n",
       "if (outputEl) {{\n",
       "    x.observe(outputEl, {childList: true});\n",
       "}}\n",
       "\n",
       "                        })                };                });            </script>        </div>"
      ]
     },
     "metadata": {},
     "output_type": "display_data"
    }
   ],
   "source": [
    "amount_graph = px.scatter(Total_amount,y=\"Amount in USD\",color_discrete_sequence=[\"#17BECF\"],hover_name=\"Startup Name\",width=1000)\n",
    "amount_graph.show()"
   ]
  },
  {
   "cell_type": "code",
   "execution_count": 182,
   "metadata": {},
   "outputs": [
    {
     "name": "stderr",
     "output_type": "stream",
     "text": [
      "C:\\Users\\hp\\anaconda3\\lib\\site-packages\\pandas\\core\\strings.py:1954: UserWarning:\n",
      "\n",
      "This pattern has match groups. To actually get the groups, use str.extract.\n",
      "\n"
     ]
    },
    {
     "data": {
      "text/html": [
       "<div>\n",
       "<style scoped>\n",
       "    .dataframe tbody tr th:only-of-type {\n",
       "        vertical-align: middle;\n",
       "    }\n",
       "\n",
       "    .dataframe tbody tr th {\n",
       "        vertical-align: top;\n",
       "    }\n",
       "\n",
       "    .dataframe thead th {\n",
       "        text-align: right;\n",
       "    }\n",
       "</style>\n",
       "<table border=\"1\" class=\"dataframe\">\n",
       "  <thead>\n",
       "    <tr style=\"text-align: right;\">\n",
       "      <th></th>\n",
       "      <th>Sr No</th>\n",
       "      <th>Date dd/mm/yyyy</th>\n",
       "      <th>Startup Name</th>\n",
       "      <th>Industry Vertical</th>\n",
       "      <th>SubVertical</th>\n",
       "      <th>City  Location</th>\n",
       "      <th>Investors Name</th>\n",
       "      <th>InvestmentnType</th>\n",
       "      <th>Amount in USD</th>\n",
       "    </tr>\n",
       "  </thead>\n",
       "  <tbody>\n",
       "    <tr>\n",
       "      <th>192</th>\n",
       "      <td>193</td>\n",
       "      <td>05/072018</td>\n",
       "      <td>Loan Tap</td>\n",
       "      <td>Consumer Internet</td>\n",
       "      <td>Online Lending Platform For Salaried Professio...</td>\n",
       "      <td>Mumbai</td>\n",
       "      <td>Shunwei Capital, Tuscan Ventures, Ashish Goenk...</td>\n",
       "      <td>Private Equity</td>\n",
       "      <td>6250000.0</td>\n",
       "    </tr>\n",
       "    <tr>\n",
       "      <th>2571</th>\n",
       "      <td>2572</td>\n",
       "      <td>01/07/015</td>\n",
       "      <td>HandyHome</td>\n",
       "      <td>Hyperlocal Electronics repair Service</td>\n",
       "      <td>Unknown</td>\n",
       "      <td>Mumbai</td>\n",
       "      <td>Bessemer Ventures, Kae Capital</td>\n",
       "      <td>Seed Funding</td>\n",
       "      <td>630000.0</td>\n",
       "    </tr>\n",
       "    <tr>\n",
       "      <th>2606</th>\n",
       "      <td>2607</td>\n",
       "      <td>\\\\xc2\\\\xa010/7/2015</td>\n",
       "      <td>\\\\xc2\\\\xa0Infinity Assurance</td>\n",
       "      <td>\\\\xc2\\\\xa0Warranty Programs Service Administra...</td>\n",
       "      <td>Unknown</td>\n",
       "      <td>Delhi</td>\n",
       "      <td>\\\\xc2\\\\xa0Indian Angel Network</td>\n",
       "      <td>Seed Funding</td>\n",
       "      <td>600000.0</td>\n",
       "    </tr>\n",
       "    <tr>\n",
       "      <th>2775</th>\n",
       "      <td>2776</td>\n",
       "      <td>12/05.2015</td>\n",
       "      <td>Mobiefit</td>\n",
       "      <td>Mobile Fitness App</td>\n",
       "      <td>Unknown</td>\n",
       "      <td>Goa</td>\n",
       "      <td>Prototyze</td>\n",
       "      <td>Seed Funding</td>\n",
       "      <td>-1.0</td>\n",
       "    </tr>\n",
       "    <tr>\n",
       "      <th>2776</th>\n",
       "      <td>2777</td>\n",
       "      <td>12/05.2015</td>\n",
       "      <td>Plancess</td>\n",
       "      <td>Online Education Platform</td>\n",
       "      <td>Unknown</td>\n",
       "      <td>Mumbai</td>\n",
       "      <td>Rajendra Gogri,\\\\xc2\\\\xa0 Chandrakant Gogri</td>\n",
       "      <td>Seed Funding</td>\n",
       "      <td>2000000.0</td>\n",
       "    </tr>\n",
       "    <tr>\n",
       "      <th>2831</th>\n",
       "      <td>2832</td>\n",
       "      <td>13/04.2015</td>\n",
       "      <td>The Porter</td>\n",
       "      <td>Logistics Tech</td>\n",
       "      <td>Unknown</td>\n",
       "      <td>Mumbai</td>\n",
       "      <td>Kae Capital</td>\n",
       "      <td>Seed Funding</td>\n",
       "      <td>500000.0</td>\n",
       "    </tr>\n",
       "    <tr>\n",
       "      <th>3011</th>\n",
       "      <td>3012</td>\n",
       "      <td>15/01.2015</td>\n",
       "      <td>Wishberry</td>\n",
       "      <td>Unknown</td>\n",
       "      <td>Unknown</td>\n",
       "      <td>Unknown</td>\n",
       "      <td>Rajan Anandan, Shankar Mahadevan, Deep Kalra &amp;...</td>\n",
       "      <td>Seed Funding</td>\n",
       "      <td>650000.0</td>\n",
       "    </tr>\n",
       "    <tr>\n",
       "      <th>3029</th>\n",
       "      <td>3030</td>\n",
       "      <td>22/01//2015</td>\n",
       "      <td>Corporate360</td>\n",
       "      <td>Unknown</td>\n",
       "      <td>Unknown</td>\n",
       "      <td>Unknown</td>\n",
       "      <td>Group of Angel Investors</td>\n",
       "      <td>Seed Funding</td>\n",
       "      <td>200000.0</td>\n",
       "    </tr>\n",
       "  </tbody>\n",
       "</table>\n",
       "</div>"
      ],
      "text/plain": [
       "      Sr No      Date dd/mm/yyyy                  Startup Name  \\\n",
       "192     193            05/072018                      Loan Tap   \n",
       "2571   2572            01/07/015                     HandyHome   \n",
       "2606   2607  \\\\xc2\\\\xa010/7/2015  \\\\xc2\\\\xa0Infinity Assurance   \n",
       "2775   2776           12/05.2015                      Mobiefit   \n",
       "2776   2777           12/05.2015                      Plancess   \n",
       "2831   2832           13/04.2015                    The Porter   \n",
       "3011   3012           15/01.2015                     Wishberry   \n",
       "3029   3030          22/01//2015                  Corporate360   \n",
       "\n",
       "                                      Industry Vertical  \\\n",
       "192                                   Consumer Internet   \n",
       "2571              Hyperlocal Electronics repair Service   \n",
       "2606  \\\\xc2\\\\xa0Warranty Programs Service Administra...   \n",
       "2775                                 Mobile Fitness App   \n",
       "2776                          Online Education Platform   \n",
       "2831                                     Logistics Tech   \n",
       "3011                                            Unknown   \n",
       "3029                                            Unknown   \n",
       "\n",
       "                                            SubVertical City  Location  \\\n",
       "192   Online Lending Platform For Salaried Professio...         Mumbai   \n",
       "2571                                            Unknown         Mumbai   \n",
       "2606                                            Unknown          Delhi   \n",
       "2775                                            Unknown            Goa   \n",
       "2776                                            Unknown         Mumbai   \n",
       "2831                                            Unknown         Mumbai   \n",
       "3011                                            Unknown        Unknown   \n",
       "3029                                            Unknown        Unknown   \n",
       "\n",
       "                                         Investors Name InvestmentnType  \\\n",
       "192   Shunwei Capital, Tuscan Ventures, Ashish Goenk...  Private Equity   \n",
       "2571                     Bessemer Ventures, Kae Capital    Seed Funding   \n",
       "2606                     \\\\xc2\\\\xa0Indian Angel Network    Seed Funding   \n",
       "2775                                          Prototyze    Seed Funding   \n",
       "2776        Rajendra Gogri,\\\\xc2\\\\xa0 Chandrakant Gogri    Seed Funding   \n",
       "2831                                        Kae Capital    Seed Funding   \n",
       "3011  Rajan Anandan, Shankar Mahadevan, Deep Kalra &...    Seed Funding   \n",
       "3029                           Group of Angel Investors    Seed Funding   \n",
       "\n",
       "      Amount in USD  \n",
       "192       6250000.0  \n",
       "2571       630000.0  \n",
       "2606       600000.0  \n",
       "2775           -1.0  \n",
       "2776      2000000.0  \n",
       "2831       500000.0  \n",
       "3011       650000.0  \n",
       "3029       200000.0  "
      ]
     },
     "execution_count": 182,
     "metadata": {},
     "output_type": "execute_result"
    }
   ],
   "source": [
    "data[data[\"Date dd/mm/yyyy\"].str.contains('^(0?[1-9]|[12][0-9]|3[01])[\\/](0?[1-9]|1[012])[\\/]\\d{4}$')==False]"
   ]
  },
  {
   "cell_type": "code",
   "execution_count": 183,
   "metadata": {},
   "outputs": [
    {
     "name": "stderr",
     "output_type": "stream",
     "text": [
      "C:\\Users\\hp\\anaconda3\\lib\\site-packages\\pandas\\core\\indexing.py:966: SettingWithCopyWarning:\n",
      "\n",
      "\n",
      "A value is trying to be set on a copy of a slice from a DataFrame.\n",
      "Try using .loc[row_indexer,col_indexer] = value instead\n",
      "\n",
      "See the caveats in the documentation: https://pandas.pydata.org/pandas-docs/stable/user_guide/indexing.html#returning-a-view-versus-a-copy\n",
      "\n"
     ]
    }
   ],
   "source": [
    "data.loc[data[\"Date dd/mm/yyyy\"]==\"05/072018\",\"Date dd/mm/yyyy\"]=\"05/07/2018\"\n",
    "data.loc[data[\"Date dd/mm/yyyy\"]==\"01/07/015\",\"Date dd/mm/yyyy\"]=\"01/07/2015\"\n",
    "data.loc[data[\"Date dd/mm/yyyy\"]==\"\\\\\\\\xc2\\\\\\\\xa010/7/2015\",\"Date dd/mm/yyyy\"]=\"10/07/2015\"\n",
    "data.loc[data[\"Date dd/mm/yyyy\"]==\"12/05.2015\",\"Date dd/mm/yyyy\"]=\"12/05/2015\"\n",
    "data.loc[data[\"Date dd/mm/yyyy\"]==\"13/04.2015\",\"Date dd/mm/yyyy\"]=\"13/04/2015\"\n",
    "data.loc[data[\"Date dd/mm/yyyy\"]==\"15/01.2015\",\"Date dd/mm/yyyy\"]=\"15/01/2015\"\n",
    "data.loc[data[\"Date dd/mm/yyyy\"]==\"22/01//2015\",\"Date dd/mm/yyyy\"]=\"22/01/2015\"\n"
   ]
  },
  {
   "cell_type": "code",
   "execution_count": 184,
   "metadata": {},
   "outputs": [
    {
     "name": "stderr",
     "output_type": "stream",
     "text": [
      "<ipython-input-184-9312fb0c47db>:1: SettingWithCopyWarning:\n",
      "\n",
      "\n",
      "A value is trying to be set on a copy of a slice from a DataFrame.\n",
      "Try using .loc[row_indexer,col_indexer] = value instead\n",
      "\n",
      "See the caveats in the documentation: https://pandas.pydata.org/pandas-docs/stable/user_guide/indexing.html#returning-a-view-versus-a-copy\n",
      "\n"
     ]
    },
    {
     "data": {
      "text/html": [
       "<div>\n",
       "<style scoped>\n",
       "    .dataframe tbody tr th:only-of-type {\n",
       "        vertical-align: middle;\n",
       "    }\n",
       "\n",
       "    .dataframe tbody tr th {\n",
       "        vertical-align: top;\n",
       "    }\n",
       "\n",
       "    .dataframe thead th {\n",
       "        text-align: right;\n",
       "    }\n",
       "</style>\n",
       "<table border=\"1\" class=\"dataframe\">\n",
       "  <thead>\n",
       "    <tr style=\"text-align: right;\">\n",
       "      <th></th>\n",
       "      <th>Sr No</th>\n",
       "      <th>Date dd/mm/yyyy</th>\n",
       "      <th>Startup Name</th>\n",
       "      <th>Industry Vertical</th>\n",
       "      <th>SubVertical</th>\n",
       "      <th>City  Location</th>\n",
       "      <th>Investors Name</th>\n",
       "      <th>InvestmentnType</th>\n",
       "      <th>Amount in USD</th>\n",
       "      <th>monyear</th>\n",
       "    </tr>\n",
       "  </thead>\n",
       "  <tbody>\n",
       "    <tr>\n",
       "      <th>0</th>\n",
       "      <td>1</td>\n",
       "      <td>09/01/2020</td>\n",
       "      <td>BYJU’S</td>\n",
       "      <td>E-Tech</td>\n",
       "      <td>E-learning</td>\n",
       "      <td>Bengaluru</td>\n",
       "      <td>Tiger Global Management</td>\n",
       "      <td>Private Equity Round</td>\n",
       "      <td>200000000.0</td>\n",
       "      <td>202001</td>\n",
       "    </tr>\n",
       "    <tr>\n",
       "      <th>1</th>\n",
       "      <td>2</td>\n",
       "      <td>13/01/2020</td>\n",
       "      <td>Shuttl</td>\n",
       "      <td>Transportation</td>\n",
       "      <td>App based shuttle service</td>\n",
       "      <td>Gurgaon</td>\n",
       "      <td>Susquehanna Growth Equity</td>\n",
       "      <td>Series C</td>\n",
       "      <td>8048394.0</td>\n",
       "      <td>202001</td>\n",
       "    </tr>\n",
       "    <tr>\n",
       "      <th>2</th>\n",
       "      <td>3</td>\n",
       "      <td>09/01/2020</td>\n",
       "      <td>Mamaearth</td>\n",
       "      <td>E-commerce</td>\n",
       "      <td>Retailer of baby and toddler products</td>\n",
       "      <td>Bengaluru</td>\n",
       "      <td>Sequoia Capital India</td>\n",
       "      <td>Series B</td>\n",
       "      <td>18358860.0</td>\n",
       "      <td>202001</td>\n",
       "    </tr>\n",
       "    <tr>\n",
       "      <th>3</th>\n",
       "      <td>4</td>\n",
       "      <td>02/01/2020</td>\n",
       "      <td>https://www.wealthbucket.in/</td>\n",
       "      <td>FinTech</td>\n",
       "      <td>Online Investment</td>\n",
       "      <td>Delhi</td>\n",
       "      <td>Vinod Khatumal</td>\n",
       "      <td>Pre-series A</td>\n",
       "      <td>3000000.0</td>\n",
       "      <td>202001</td>\n",
       "    </tr>\n",
       "    <tr>\n",
       "      <th>4</th>\n",
       "      <td>5</td>\n",
       "      <td>02/01/2020</td>\n",
       "      <td>Fashor</td>\n",
       "      <td>Fashion and Apparel</td>\n",
       "      <td>Embroiled Clothes For Women</td>\n",
       "      <td>Mumbai</td>\n",
       "      <td>Sprout Venture Partners</td>\n",
       "      <td>Seed Round</td>\n",
       "      <td>1800000.0</td>\n",
       "      <td>202001</td>\n",
       "    </tr>\n",
       "    <tr>\n",
       "      <th>...</th>\n",
       "      <td>...</td>\n",
       "      <td>...</td>\n",
       "      <td>...</td>\n",
       "      <td>...</td>\n",
       "      <td>...</td>\n",
       "      <td>...</td>\n",
       "      <td>...</td>\n",
       "      <td>...</td>\n",
       "      <td>...</td>\n",
       "      <td>...</td>\n",
       "    </tr>\n",
       "    <tr>\n",
       "      <th>3038</th>\n",
       "      <td>3039</td>\n",
       "      <td>28/01/2015</td>\n",
       "      <td>Grabhouse.com</td>\n",
       "      <td>Unknown</td>\n",
       "      <td>Unknown</td>\n",
       "      <td>Unknown</td>\n",
       "      <td>Kalaari Capital, Sequoia Capital</td>\n",
       "      <td>Private Equity</td>\n",
       "      <td>2500000.0</td>\n",
       "      <td>201501</td>\n",
       "    </tr>\n",
       "    <tr>\n",
       "      <th>3039</th>\n",
       "      <td>3040</td>\n",
       "      <td>29/01/2015</td>\n",
       "      <td>Printvenue</td>\n",
       "      <td>Unknown</td>\n",
       "      <td>Unknown</td>\n",
       "      <td>Unknown</td>\n",
       "      <td>Asia Pacific Internet Group</td>\n",
       "      <td>Private Equity</td>\n",
       "      <td>4500000.0</td>\n",
       "      <td>201501</td>\n",
       "    </tr>\n",
       "    <tr>\n",
       "      <th>3040</th>\n",
       "      <td>3041</td>\n",
       "      <td>29/01/2015</td>\n",
       "      <td>Graphene</td>\n",
       "      <td>Unknown</td>\n",
       "      <td>Unknown</td>\n",
       "      <td>Unknown</td>\n",
       "      <td>KARSEMVEN Fund</td>\n",
       "      <td>Private Equity</td>\n",
       "      <td>825000.0</td>\n",
       "      <td>201501</td>\n",
       "    </tr>\n",
       "    <tr>\n",
       "      <th>3041</th>\n",
       "      <td>3042</td>\n",
       "      <td>30/01/2015</td>\n",
       "      <td>Mad Street Den</td>\n",
       "      <td>Unknown</td>\n",
       "      <td>Unknown</td>\n",
       "      <td>Unknown</td>\n",
       "      <td>Exfinity Fund, GrowX Ventures.</td>\n",
       "      <td>Private Equity</td>\n",
       "      <td>1500000.0</td>\n",
       "      <td>201501</td>\n",
       "    </tr>\n",
       "    <tr>\n",
       "      <th>3043</th>\n",
       "      <td>3044</td>\n",
       "      <td>31/01/2015</td>\n",
       "      <td>couponmachine.in</td>\n",
       "      <td>Unknown</td>\n",
       "      <td>Unknown</td>\n",
       "      <td>Unknown</td>\n",
       "      <td>UK based Group of Angel Investors</td>\n",
       "      <td>Seed Funding</td>\n",
       "      <td>140000.0</td>\n",
       "      <td>201501</td>\n",
       "    </tr>\n",
       "  </tbody>\n",
       "</table>\n",
       "<p>3004 rows × 10 columns</p>\n",
       "</div>"
      ],
      "text/plain": [
       "      Sr No Date dd/mm/yyyy                  Startup Name  \\\n",
       "0         1      09/01/2020                        BYJU’S   \n",
       "1         2      13/01/2020                        Shuttl   \n",
       "2         3      09/01/2020                     Mamaearth   \n",
       "3         4      02/01/2020  https://www.wealthbucket.in/   \n",
       "4         5      02/01/2020                        Fashor   \n",
       "...     ...             ...                           ...   \n",
       "3038   3039      28/01/2015                 Grabhouse.com   \n",
       "3039   3040      29/01/2015                    Printvenue   \n",
       "3040   3041      29/01/2015                      Graphene   \n",
       "3041   3042      30/01/2015                Mad Street Den   \n",
       "3043   3044      31/01/2015              couponmachine.in   \n",
       "\n",
       "        Industry Vertical                            SubVertical  \\\n",
       "0                  E-Tech                             E-learning   \n",
       "1          Transportation              App based shuttle service   \n",
       "2              E-commerce  Retailer of baby and toddler products   \n",
       "3                 FinTech                      Online Investment   \n",
       "4     Fashion and Apparel            Embroiled Clothes For Women   \n",
       "...                   ...                                    ...   \n",
       "3038              Unknown                                Unknown   \n",
       "3039              Unknown                                Unknown   \n",
       "3040              Unknown                                Unknown   \n",
       "3041              Unknown                                Unknown   \n",
       "3043              Unknown                                Unknown   \n",
       "\n",
       "     City  Location                     Investors Name       InvestmentnType  \\\n",
       "0         Bengaluru            Tiger Global Management  Private Equity Round   \n",
       "1           Gurgaon          Susquehanna Growth Equity              Series C   \n",
       "2         Bengaluru              Sequoia Capital India              Series B   \n",
       "3             Delhi                     Vinod Khatumal          Pre-series A   \n",
       "4            Mumbai            Sprout Venture Partners            Seed Round   \n",
       "...             ...                                ...                   ...   \n",
       "3038        Unknown   Kalaari Capital, Sequoia Capital        Private Equity   \n",
       "3039        Unknown        Asia Pacific Internet Group        Private Equity   \n",
       "3040        Unknown                     KARSEMVEN Fund        Private Equity   \n",
       "3041        Unknown     Exfinity Fund, GrowX Ventures.        Private Equity   \n",
       "3043        Unknown  UK based Group of Angel Investors          Seed Funding   \n",
       "\n",
       "      Amount in USD  monyear  \n",
       "0       200000000.0   202001  \n",
       "1         8048394.0   202001  \n",
       "2        18358860.0   202001  \n",
       "3         3000000.0   202001  \n",
       "4         1800000.0   202001  \n",
       "...             ...      ...  \n",
       "3038      2500000.0   201501  \n",
       "3039      4500000.0   201501  \n",
       "3040       825000.0   201501  \n",
       "3041      1500000.0   201501  \n",
       "3043       140000.0   201501  \n",
       "\n",
       "[3004 rows x 10 columns]"
      ]
     },
     "execution_count": 184,
     "metadata": {},
     "output_type": "execute_result"
    }
   ],
   "source": [
    "data[\"monyear\"] = data[\"Date dd/mm/yyyy\"].apply(lambda x : int(x[3:5])+int(x[-4:])*100)\n",
    "data"
   ]
  },
  {
   "cell_type": "code",
   "execution_count": 185,
   "metadata": {},
   "outputs": [
    {
     "data": {
      "text/html": [
       "<div>\n",
       "<style scoped>\n",
       "    .dataframe tbody tr th:only-of-type {\n",
       "        vertical-align: middle;\n",
       "    }\n",
       "\n",
       "    .dataframe tbody tr th {\n",
       "        vertical-align: top;\n",
       "    }\n",
       "\n",
       "    .dataframe thead th {\n",
       "        text-align: right;\n",
       "    }\n",
       "</style>\n",
       "<table border=\"1\" class=\"dataframe\">\n",
       "  <thead>\n",
       "    <tr style=\"text-align: right;\">\n",
       "      <th></th>\n",
       "      <th>monyear</th>\n",
       "      <th>Count</th>\n",
       "      <th>Sum</th>\n",
       "    </tr>\n",
       "  </thead>\n",
       "  <tbody>\n",
       "    <tr>\n",
       "      <th>0</th>\n",
       "      <td>01/2015</td>\n",
       "      <td>40</td>\n",
       "      <td>3.701718e+08</td>\n",
       "    </tr>\n",
       "    <tr>\n",
       "      <th>1</th>\n",
       "      <td>02/2015</td>\n",
       "      <td>42</td>\n",
       "      <td>3.942626e+08</td>\n",
       "    </tr>\n",
       "    <tr>\n",
       "      <th>2</th>\n",
       "      <td>03/2015</td>\n",
       "      <td>47</td>\n",
       "      <td>4.633270e+08</td>\n",
       "    </tr>\n",
       "    <tr>\n",
       "      <th>3</th>\n",
       "      <td>04/2015</td>\n",
       "      <td>63</td>\n",
       "      <td>9.810000e+08</td>\n",
       "    </tr>\n",
       "    <tr>\n",
       "      <th>4</th>\n",
       "      <td>05/2015</td>\n",
       "      <td>60</td>\n",
       "      <td>3.261850e+08</td>\n",
       "    </tr>\n",
       "    <tr>\n",
       "      <th>5</th>\n",
       "      <td>06/2015</td>\n",
       "      <td>86</td>\n",
       "      <td>5.369940e+08</td>\n",
       "    </tr>\n",
       "    <tr>\n",
       "      <th>6</th>\n",
       "      <td>07/2015</td>\n",
       "      <td>98</td>\n",
       "      <td>1.606657e+09</td>\n",
       "    </tr>\n",
       "    <tr>\n",
       "      <th>7</th>\n",
       "      <td>08/2015</td>\n",
       "      <td>98</td>\n",
       "      <td>1.063816e+09</td>\n",
       "    </tr>\n",
       "    <tr>\n",
       "      <th>8</th>\n",
       "      <td>09/2015</td>\n",
       "      <td>88</td>\n",
       "      <td>1.470520e+09</td>\n",
       "    </tr>\n",
       "    <tr>\n",
       "      <th>9</th>\n",
       "      <td>10/2015</td>\n",
       "      <td>93</td>\n",
       "      <td>2.549610e+08</td>\n",
       "    </tr>\n",
       "    <tr>\n",
       "      <th>10</th>\n",
       "      <td>11/2015</td>\n",
       "      <td>92</td>\n",
       "      <td>8.992750e+08</td>\n",
       "    </tr>\n",
       "    <tr>\n",
       "      <th>11</th>\n",
       "      <td>12/2015</td>\n",
       "      <td>89</td>\n",
       "      <td>3.058530e+08</td>\n",
       "    </tr>\n",
       "    <tr>\n",
       "      <th>12</th>\n",
       "      <td>01/2016</td>\n",
       "      <td>104</td>\n",
       "      <td>6.998800e+08</td>\n",
       "    </tr>\n",
       "    <tr>\n",
       "      <th>13</th>\n",
       "      <td>02/2016</td>\n",
       "      <td>100</td>\n",
       "      <td>3.315130e+08</td>\n",
       "    </tr>\n",
       "    <tr>\n",
       "      <th>14</th>\n",
       "      <td>03/2016</td>\n",
       "      <td>85</td>\n",
       "      <td>3.095616e+08</td>\n",
       "    </tr>\n",
       "    <tr>\n",
       "      <th>15</th>\n",
       "      <td>04/2016</td>\n",
       "      <td>79</td>\n",
       "      <td>2.539400e+08</td>\n",
       "    </tr>\n",
       "    <tr>\n",
       "      <th>16</th>\n",
       "      <td>05/2016</td>\n",
       "      <td>79</td>\n",
       "      <td>3.398400e+08</td>\n",
       "    </tr>\n",
       "    <tr>\n",
       "      <th>17</th>\n",
       "      <td>06/2016</td>\n",
       "      <td>98</td>\n",
       "      <td>1.996690e+08</td>\n",
       "    </tr>\n",
       "    <tr>\n",
       "      <th>18</th>\n",
       "      <td>07/2016</td>\n",
       "      <td>64</td>\n",
       "      <td>2.335470e+08</td>\n",
       "    </tr>\n",
       "    <tr>\n",
       "      <th>19</th>\n",
       "      <td>08/2016</td>\n",
       "      <td>87</td>\n",
       "      <td>5.340890e+08</td>\n",
       "    </tr>\n",
       "    <tr>\n",
       "      <th>20</th>\n",
       "      <td>09/2016</td>\n",
       "      <td>73</td>\n",
       "      <td>2.413610e+08</td>\n",
       "    </tr>\n",
       "    <tr>\n",
       "      <th>21</th>\n",
       "      <td>10/2016</td>\n",
       "      <td>80</td>\n",
       "      <td>2.374480e+08</td>\n",
       "    </tr>\n",
       "    <tr>\n",
       "      <th>22</th>\n",
       "      <td>11/2016</td>\n",
       "      <td>72</td>\n",
       "      <td>2.599970e+08</td>\n",
       "    </tr>\n",
       "    <tr>\n",
       "      <th>23</th>\n",
       "      <td>12/2016</td>\n",
       "      <td>72</td>\n",
       "      <td>1.872430e+08</td>\n",
       "    </tr>\n",
       "    <tr>\n",
       "      <th>24</th>\n",
       "      <td>01/2017</td>\n",
       "      <td>72</td>\n",
       "      <td>2.532335e+08</td>\n",
       "    </tr>\n",
       "    <tr>\n",
       "      <th>25</th>\n",
       "      <td>02/2017</td>\n",
       "      <td>48</td>\n",
       "      <td>2.949590e+08</td>\n",
       "    </tr>\n",
       "    <tr>\n",
       "      <th>26</th>\n",
       "      <td>03/2017</td>\n",
       "      <td>71</td>\n",
       "      <td>2.264281e+09</td>\n",
       "    </tr>\n",
       "    <tr>\n",
       "      <th>27</th>\n",
       "      <td>04/2017</td>\n",
       "      <td>71</td>\n",
       "      <td>7.323950e+08</td>\n",
       "    </tr>\n",
       "    <tr>\n",
       "      <th>28</th>\n",
       "      <td>05/2017</td>\n",
       "      <td>68</td>\n",
       "      <td>1.786669e+09</td>\n",
       "    </tr>\n",
       "    <tr>\n",
       "      <th>29</th>\n",
       "      <td>06/2017</td>\n",
       "      <td>65</td>\n",
       "      <td>3.448180e+08</td>\n",
       "    </tr>\n",
       "    <tr>\n",
       "      <th>30</th>\n",
       "      <td>07/2017</td>\n",
       "      <td>43</td>\n",
       "      <td>1.677040e+08</td>\n",
       "    </tr>\n",
       "    <tr>\n",
       "      <th>31</th>\n",
       "      <td>08/2017</td>\n",
       "      <td>45</td>\n",
       "      <td>2.748139e+09</td>\n",
       "    </tr>\n",
       "    <tr>\n",
       "      <th>32</th>\n",
       "      <td>09/2017</td>\n",
       "      <td>58</td>\n",
       "      <td>5.365020e+08</td>\n",
       "    </tr>\n",
       "    <tr>\n",
       "      <th>33</th>\n",
       "      <td>10/2017</td>\n",
       "      <td>53</td>\n",
       "      <td>4.003870e+08</td>\n",
       "    </tr>\n",
       "    <tr>\n",
       "      <th>34</th>\n",
       "      <td>11/2017</td>\n",
       "      <td>50</td>\n",
       "      <td>6.158022e+08</td>\n",
       "    </tr>\n",
       "    <tr>\n",
       "      <th>35</th>\n",
       "      <td>12/2017</td>\n",
       "      <td>43</td>\n",
       "      <td>2.844200e+08</td>\n",
       "    </tr>\n",
       "    <tr>\n",
       "      <th>36</th>\n",
       "      <td>01/2018</td>\n",
       "      <td>37</td>\n",
       "      <td>3.473746e+08</td>\n",
       "    </tr>\n",
       "    <tr>\n",
       "      <th>37</th>\n",
       "      <td>02/2018</td>\n",
       "      <td>42</td>\n",
       "      <td>1.211217e+09</td>\n",
       "    </tr>\n",
       "    <tr>\n",
       "      <th>38</th>\n",
       "      <td>03/2018</td>\n",
       "      <td>35</td>\n",
       "      <td>2.919530e+08</td>\n",
       "    </tr>\n",
       "    <tr>\n",
       "      <th>39</th>\n",
       "      <td>04/2018</td>\n",
       "      <td>35</td>\n",
       "      <td>1.980777e+08</td>\n",
       "    </tr>\n",
       "    <tr>\n",
       "      <th>40</th>\n",
       "      <td>05/2018</td>\n",
       "      <td>23</td>\n",
       "      <td>1.058870e+08</td>\n",
       "    </tr>\n",
       "    <tr>\n",
       "      <th>41</th>\n",
       "      <td>06/2018</td>\n",
       "      <td>32</td>\n",
       "      <td>3.914750e+08</td>\n",
       "    </tr>\n",
       "    <tr>\n",
       "      <th>42</th>\n",
       "      <td>07/2018</td>\n",
       "      <td>36</td>\n",
       "      <td>5.582280e+08</td>\n",
       "    </tr>\n",
       "    <tr>\n",
       "      <th>43</th>\n",
       "      <td>08/2018</td>\n",
       "      <td>25</td>\n",
       "      <td>8.093548e+08</td>\n",
       "    </tr>\n",
       "    <tr>\n",
       "      <th>44</th>\n",
       "      <td>09/2018</td>\n",
       "      <td>13</td>\n",
       "      <td>6.010900e+08</td>\n",
       "    </tr>\n",
       "    <tr>\n",
       "      <th>45</th>\n",
       "      <td>10/2018</td>\n",
       "      <td>7</td>\n",
       "      <td>5.288000e+07</td>\n",
       "    </tr>\n",
       "    <tr>\n",
       "      <th>46</th>\n",
       "      <td>11/2018</td>\n",
       "      <td>18</td>\n",
       "      <td>4.971160e+08</td>\n",
       "    </tr>\n",
       "    <tr>\n",
       "      <th>47</th>\n",
       "      <td>12/2018</td>\n",
       "      <td>7</td>\n",
       "      <td>5.771500e+07</td>\n",
       "    </tr>\n",
       "    <tr>\n",
       "      <th>48</th>\n",
       "      <td>01/2019</td>\n",
       "      <td>3</td>\n",
       "      <td>1.370000e+08</td>\n",
       "    </tr>\n",
       "    <tr>\n",
       "      <th>49</th>\n",
       "      <td>02/2019</td>\n",
       "      <td>3</td>\n",
       "      <td>2.266000e+08</td>\n",
       "    </tr>\n",
       "    <tr>\n",
       "      <th>50</th>\n",
       "      <td>04/2019</td>\n",
       "      <td>14</td>\n",
       "      <td>1.157934e+08</td>\n",
       "    </tr>\n",
       "    <tr>\n",
       "      <th>51</th>\n",
       "      <td>05/2019</td>\n",
       "      <td>9</td>\n",
       "      <td>4.089686e+08</td>\n",
       "    </tr>\n",
       "    <tr>\n",
       "      <th>52</th>\n",
       "      <td>06/2019</td>\n",
       "      <td>15</td>\n",
       "      <td>2.744143e+08</td>\n",
       "    </tr>\n",
       "    <tr>\n",
       "      <th>53</th>\n",
       "      <td>07/2019</td>\n",
       "      <td>13</td>\n",
       "      <td>2.967946e+08</td>\n",
       "    </tr>\n",
       "    <tr>\n",
       "      <th>54</th>\n",
       "      <td>08/2019</td>\n",
       "      <td>17</td>\n",
       "      <td>4.531770e+09</td>\n",
       "    </tr>\n",
       "    <tr>\n",
       "      <th>55</th>\n",
       "      <td>09/2019</td>\n",
       "      <td>9</td>\n",
       "      <td>5.028000e+08</td>\n",
       "    </tr>\n",
       "    <tr>\n",
       "      <th>56</th>\n",
       "      <td>10/2019</td>\n",
       "      <td>3</td>\n",
       "      <td>6.300000e+08</td>\n",
       "    </tr>\n",
       "    <tr>\n",
       "      <th>57</th>\n",
       "      <td>11/2019</td>\n",
       "      <td>15</td>\n",
       "      <td>2.062797e+09</td>\n",
       "    </tr>\n",
       "    <tr>\n",
       "      <th>58</th>\n",
       "      <td>12/2019</td>\n",
       "      <td>10</td>\n",
       "      <td>4.769000e+08</td>\n",
       "    </tr>\n",
       "    <tr>\n",
       "      <th>59</th>\n",
       "      <td>01/2020</td>\n",
       "      <td>7</td>\n",
       "      <td>3.902073e+08</td>\n",
       "    </tr>\n",
       "  </tbody>\n",
       "</table>\n",
       "</div>"
      ],
      "text/plain": [
       "    monyear  Count           Sum\n",
       "0   01/2015     40  3.701718e+08\n",
       "1   02/2015     42  3.942626e+08\n",
       "2   03/2015     47  4.633270e+08\n",
       "3   04/2015     63  9.810000e+08\n",
       "4   05/2015     60  3.261850e+08\n",
       "5   06/2015     86  5.369940e+08\n",
       "6   07/2015     98  1.606657e+09\n",
       "7   08/2015     98  1.063816e+09\n",
       "8   09/2015     88  1.470520e+09\n",
       "9   10/2015     93  2.549610e+08\n",
       "10  11/2015     92  8.992750e+08\n",
       "11  12/2015     89  3.058530e+08\n",
       "12  01/2016    104  6.998800e+08\n",
       "13  02/2016    100  3.315130e+08\n",
       "14  03/2016     85  3.095616e+08\n",
       "15  04/2016     79  2.539400e+08\n",
       "16  05/2016     79  3.398400e+08\n",
       "17  06/2016     98  1.996690e+08\n",
       "18  07/2016     64  2.335470e+08\n",
       "19  08/2016     87  5.340890e+08\n",
       "20  09/2016     73  2.413610e+08\n",
       "21  10/2016     80  2.374480e+08\n",
       "22  11/2016     72  2.599970e+08\n",
       "23  12/2016     72  1.872430e+08\n",
       "24  01/2017     72  2.532335e+08\n",
       "25  02/2017     48  2.949590e+08\n",
       "26  03/2017     71  2.264281e+09\n",
       "27  04/2017     71  7.323950e+08\n",
       "28  05/2017     68  1.786669e+09\n",
       "29  06/2017     65  3.448180e+08\n",
       "30  07/2017     43  1.677040e+08\n",
       "31  08/2017     45  2.748139e+09\n",
       "32  09/2017     58  5.365020e+08\n",
       "33  10/2017     53  4.003870e+08\n",
       "34  11/2017     50  6.158022e+08\n",
       "35  12/2017     43  2.844200e+08\n",
       "36  01/2018     37  3.473746e+08\n",
       "37  02/2018     42  1.211217e+09\n",
       "38  03/2018     35  2.919530e+08\n",
       "39  04/2018     35  1.980777e+08\n",
       "40  05/2018     23  1.058870e+08\n",
       "41  06/2018     32  3.914750e+08\n",
       "42  07/2018     36  5.582280e+08\n",
       "43  08/2018     25  8.093548e+08\n",
       "44  09/2018     13  6.010900e+08\n",
       "45  10/2018      7  5.288000e+07\n",
       "46  11/2018     18  4.971160e+08\n",
       "47  12/2018      7  5.771500e+07\n",
       "48  01/2019      3  1.370000e+08\n",
       "49  02/2019      3  2.266000e+08\n",
       "50  04/2019     14  1.157934e+08\n",
       "51  05/2019      9  4.089686e+08\n",
       "52  06/2019     15  2.744143e+08\n",
       "53  07/2019     13  2.967946e+08\n",
       "54  08/2019     17  4.531770e+09\n",
       "55  09/2019      9  5.028000e+08\n",
       "56  10/2019      3  6.300000e+08\n",
       "57  11/2019     15  2.062797e+09\n",
       "58  12/2019     10  4.769000e+08\n",
       "59  01/2020      7  3.902073e+08"
      ]
     },
     "execution_count": 185,
     "metadata": {},
     "output_type": "execute_result"
    }
   ],
   "source": [
    "group_time = data[[\"monyear\",\"Amount in USD\"]].groupby(data[\"monyear\"]).agg(Count=(\"monyear\",\"count\"),Sum=(\"Amount in USD\",\"sum\")).sort_values([\"monyear\"]).reset_index()\n",
    "group_time[\"monyear\"] = group_time[\"monyear\"].astype(str).apply(lambda x : x[-2:]+\"/\"+x[:4])\n",
    "group_time"
   ]
  },
  {
   "cell_type": "code",
   "execution_count": 186,
   "metadata": {
    "scrolled": true
   },
   "outputs": [
    {
     "data": {
      "application/vnd.plotly.v1+json": {
       "config": {
        "plotlyServerURL": "https://plot.ly"
       },
       "data": [
        {
         "hovertemplate": "monyear=%{x}<br>Count=%{y}<extra></extra>",
         "legendgroup": "",
         "line": {
          "color": "#636efa",
          "dash": "solid"
         },
         "mode": "lines",
         "name": "",
         "orientation": "v",
         "showlegend": false,
         "type": "scatter",
         "x": [
          "01/2015",
          "02/2015",
          "03/2015",
          "04/2015",
          "05/2015",
          "06/2015",
          "07/2015",
          "08/2015",
          "09/2015",
          "10/2015",
          "11/2015",
          "12/2015",
          "01/2016",
          "02/2016",
          "03/2016",
          "04/2016",
          "05/2016",
          "06/2016",
          "07/2016",
          "08/2016",
          "09/2016",
          "10/2016",
          "11/2016",
          "12/2016",
          "01/2017",
          "02/2017",
          "03/2017",
          "04/2017",
          "05/2017",
          "06/2017",
          "07/2017",
          "08/2017",
          "09/2017",
          "10/2017",
          "11/2017",
          "12/2017",
          "01/2018",
          "02/2018",
          "03/2018",
          "04/2018",
          "05/2018",
          "06/2018",
          "07/2018",
          "08/2018",
          "09/2018",
          "10/2018",
          "11/2018",
          "12/2018",
          "01/2019",
          "02/2019",
          "04/2019",
          "05/2019",
          "06/2019",
          "07/2019",
          "08/2019",
          "09/2019",
          "10/2019",
          "11/2019",
          "12/2019",
          "01/2020"
         ],
         "xaxis": "x",
         "y": [
          40,
          42,
          47,
          63,
          60,
          86,
          98,
          98,
          88,
          93,
          92,
          89,
          104,
          100,
          85,
          79,
          79,
          98,
          64,
          87,
          73,
          80,
          72,
          72,
          72,
          48,
          71,
          71,
          68,
          65,
          43,
          45,
          58,
          53,
          50,
          43,
          37,
          42,
          35,
          35,
          23,
          32,
          36,
          25,
          13,
          7,
          18,
          7,
          3,
          3,
          14,
          9,
          15,
          13,
          17,
          9,
          3,
          15,
          10,
          7
         ],
         "yaxis": "y"
        },
        {
         "hovertemplate": "monyear=%{x}<br>Count=%{y}<br>Sum=%{marker.size}<extra></extra>",
         "legendgroup": "",
         "marker": {
          "color": "#636efa",
          "size": [
           370171768,
           394262600,
           463327000,
           980999989,
           326184984,
           536993972,
           1606656972,
           1063815967,
           1470519973,
           254960966,
           899274970,
           305852965,
           699879953,
           331512957,
           309561575,
           253939959,
           339839972,
           199668957,
           233546976,
           534088969,
           241360971,
           237447970,
           259996973,
           187242969,
           253233469,
           294958987,
           2264280977,
           732394976,
           1786668971,
           344817983,
           167703982,
           2748138981,
           536501980,
           400386988,
           615802213,
           284419992,
           347374595,
           1211217215,
           291952994,
           198077731,
           105886999,
           391474993,
           558227996,
           809354810,
           601089998,
           52879999,
           497115994,
           57715000,
           137000000,
           226599999,
           115793354,
           408968598,
           274414322,
           296794605,
           4531769999,
           502800000,
           629999999,
           2062797264,
           476900000,
           390207254
          ],
          "sizemode": "area",
          "sizeref": 11329424.9975,
          "symbol": "circle"
         },
         "mode": "markers",
         "name": "",
         "orientation": "v",
         "showlegend": false,
         "type": "scatter",
         "x": [
          "01/2015",
          "02/2015",
          "03/2015",
          "04/2015",
          "05/2015",
          "06/2015",
          "07/2015",
          "08/2015",
          "09/2015",
          "10/2015",
          "11/2015",
          "12/2015",
          "01/2016",
          "02/2016",
          "03/2016",
          "04/2016",
          "05/2016",
          "06/2016",
          "07/2016",
          "08/2016",
          "09/2016",
          "10/2016",
          "11/2016",
          "12/2016",
          "01/2017",
          "02/2017",
          "03/2017",
          "04/2017",
          "05/2017",
          "06/2017",
          "07/2017",
          "08/2017",
          "09/2017",
          "10/2017",
          "11/2017",
          "12/2017",
          "01/2018",
          "02/2018",
          "03/2018",
          "04/2018",
          "05/2018",
          "06/2018",
          "07/2018",
          "08/2018",
          "09/2018",
          "10/2018",
          "11/2018",
          "12/2018",
          "01/2019",
          "02/2019",
          "04/2019",
          "05/2019",
          "06/2019",
          "07/2019",
          "08/2019",
          "09/2019",
          "10/2019",
          "11/2019",
          "12/2019",
          "01/2020"
         ],
         "xaxis": "x",
         "y": [
          40,
          42,
          47,
          63,
          60,
          86,
          98,
          98,
          88,
          93,
          92,
          89,
          104,
          100,
          85,
          79,
          79,
          98,
          64,
          87,
          73,
          80,
          72,
          72,
          72,
          48,
          71,
          71,
          68,
          65,
          43,
          45,
          58,
          53,
          50,
          43,
          37,
          42,
          35,
          35,
          23,
          32,
          36,
          25,
          13,
          7,
          18,
          7,
          3,
          3,
          14,
          9,
          15,
          13,
          17,
          9,
          3,
          15,
          10,
          7
         ],
         "yaxis": "y"
        }
       ],
       "layout": {
        "template": {
         "data": {
          "bar": [
           {
            "error_x": {
             "color": "#2a3f5f"
            },
            "error_y": {
             "color": "#2a3f5f"
            },
            "marker": {
             "line": {
              "color": "#E5ECF6",
              "width": 0.5
             }
            },
            "type": "bar"
           }
          ],
          "barpolar": [
           {
            "marker": {
             "line": {
              "color": "#E5ECF6",
              "width": 0.5
             }
            },
            "type": "barpolar"
           }
          ],
          "carpet": [
           {
            "aaxis": {
             "endlinecolor": "#2a3f5f",
             "gridcolor": "white",
             "linecolor": "white",
             "minorgridcolor": "white",
             "startlinecolor": "#2a3f5f"
            },
            "baxis": {
             "endlinecolor": "#2a3f5f",
             "gridcolor": "white",
             "linecolor": "white",
             "minorgridcolor": "white",
             "startlinecolor": "#2a3f5f"
            },
            "type": "carpet"
           }
          ],
          "choropleth": [
           {
            "colorbar": {
             "outlinewidth": 0,
             "ticks": ""
            },
            "type": "choropleth"
           }
          ],
          "contour": [
           {
            "colorbar": {
             "outlinewidth": 0,
             "ticks": ""
            },
            "colorscale": [
             [
              0,
              "#0d0887"
             ],
             [
              0.1111111111111111,
              "#46039f"
             ],
             [
              0.2222222222222222,
              "#7201a8"
             ],
             [
              0.3333333333333333,
              "#9c179e"
             ],
             [
              0.4444444444444444,
              "#bd3786"
             ],
             [
              0.5555555555555556,
              "#d8576b"
             ],
             [
              0.6666666666666666,
              "#ed7953"
             ],
             [
              0.7777777777777778,
              "#fb9f3a"
             ],
             [
              0.8888888888888888,
              "#fdca26"
             ],
             [
              1,
              "#f0f921"
             ]
            ],
            "type": "contour"
           }
          ],
          "contourcarpet": [
           {
            "colorbar": {
             "outlinewidth": 0,
             "ticks": ""
            },
            "type": "contourcarpet"
           }
          ],
          "heatmap": [
           {
            "colorbar": {
             "outlinewidth": 0,
             "ticks": ""
            },
            "colorscale": [
             [
              0,
              "#0d0887"
             ],
             [
              0.1111111111111111,
              "#46039f"
             ],
             [
              0.2222222222222222,
              "#7201a8"
             ],
             [
              0.3333333333333333,
              "#9c179e"
             ],
             [
              0.4444444444444444,
              "#bd3786"
             ],
             [
              0.5555555555555556,
              "#d8576b"
             ],
             [
              0.6666666666666666,
              "#ed7953"
             ],
             [
              0.7777777777777778,
              "#fb9f3a"
             ],
             [
              0.8888888888888888,
              "#fdca26"
             ],
             [
              1,
              "#f0f921"
             ]
            ],
            "type": "heatmap"
           }
          ],
          "heatmapgl": [
           {
            "colorbar": {
             "outlinewidth": 0,
             "ticks": ""
            },
            "colorscale": [
             [
              0,
              "#0d0887"
             ],
             [
              0.1111111111111111,
              "#46039f"
             ],
             [
              0.2222222222222222,
              "#7201a8"
             ],
             [
              0.3333333333333333,
              "#9c179e"
             ],
             [
              0.4444444444444444,
              "#bd3786"
             ],
             [
              0.5555555555555556,
              "#d8576b"
             ],
             [
              0.6666666666666666,
              "#ed7953"
             ],
             [
              0.7777777777777778,
              "#fb9f3a"
             ],
             [
              0.8888888888888888,
              "#fdca26"
             ],
             [
              1,
              "#f0f921"
             ]
            ],
            "type": "heatmapgl"
           }
          ],
          "histogram": [
           {
            "marker": {
             "colorbar": {
              "outlinewidth": 0,
              "ticks": ""
             }
            },
            "type": "histogram"
           }
          ],
          "histogram2d": [
           {
            "colorbar": {
             "outlinewidth": 0,
             "ticks": ""
            },
            "colorscale": [
             [
              0,
              "#0d0887"
             ],
             [
              0.1111111111111111,
              "#46039f"
             ],
             [
              0.2222222222222222,
              "#7201a8"
             ],
             [
              0.3333333333333333,
              "#9c179e"
             ],
             [
              0.4444444444444444,
              "#bd3786"
             ],
             [
              0.5555555555555556,
              "#d8576b"
             ],
             [
              0.6666666666666666,
              "#ed7953"
             ],
             [
              0.7777777777777778,
              "#fb9f3a"
             ],
             [
              0.8888888888888888,
              "#fdca26"
             ],
             [
              1,
              "#f0f921"
             ]
            ],
            "type": "histogram2d"
           }
          ],
          "histogram2dcontour": [
           {
            "colorbar": {
             "outlinewidth": 0,
             "ticks": ""
            },
            "colorscale": [
             [
              0,
              "#0d0887"
             ],
             [
              0.1111111111111111,
              "#46039f"
             ],
             [
              0.2222222222222222,
              "#7201a8"
             ],
             [
              0.3333333333333333,
              "#9c179e"
             ],
             [
              0.4444444444444444,
              "#bd3786"
             ],
             [
              0.5555555555555556,
              "#d8576b"
             ],
             [
              0.6666666666666666,
              "#ed7953"
             ],
             [
              0.7777777777777778,
              "#fb9f3a"
             ],
             [
              0.8888888888888888,
              "#fdca26"
             ],
             [
              1,
              "#f0f921"
             ]
            ],
            "type": "histogram2dcontour"
           }
          ],
          "mesh3d": [
           {
            "colorbar": {
             "outlinewidth": 0,
             "ticks": ""
            },
            "type": "mesh3d"
           }
          ],
          "parcoords": [
           {
            "line": {
             "colorbar": {
              "outlinewidth": 0,
              "ticks": ""
             }
            },
            "type": "parcoords"
           }
          ],
          "pie": [
           {
            "automargin": true,
            "type": "pie"
           }
          ],
          "scatter": [
           {
            "marker": {
             "colorbar": {
              "outlinewidth": 0,
              "ticks": ""
             }
            },
            "type": "scatter"
           }
          ],
          "scatter3d": [
           {
            "line": {
             "colorbar": {
              "outlinewidth": 0,
              "ticks": ""
             }
            },
            "marker": {
             "colorbar": {
              "outlinewidth": 0,
              "ticks": ""
             }
            },
            "type": "scatter3d"
           }
          ],
          "scattercarpet": [
           {
            "marker": {
             "colorbar": {
              "outlinewidth": 0,
              "ticks": ""
             }
            },
            "type": "scattercarpet"
           }
          ],
          "scattergeo": [
           {
            "marker": {
             "colorbar": {
              "outlinewidth": 0,
              "ticks": ""
             }
            },
            "type": "scattergeo"
           }
          ],
          "scattergl": [
           {
            "marker": {
             "colorbar": {
              "outlinewidth": 0,
              "ticks": ""
             }
            },
            "type": "scattergl"
           }
          ],
          "scattermapbox": [
           {
            "marker": {
             "colorbar": {
              "outlinewidth": 0,
              "ticks": ""
             }
            },
            "type": "scattermapbox"
           }
          ],
          "scatterpolar": [
           {
            "marker": {
             "colorbar": {
              "outlinewidth": 0,
              "ticks": ""
             }
            },
            "type": "scatterpolar"
           }
          ],
          "scatterpolargl": [
           {
            "marker": {
             "colorbar": {
              "outlinewidth": 0,
              "ticks": ""
             }
            },
            "type": "scatterpolargl"
           }
          ],
          "scatterternary": [
           {
            "marker": {
             "colorbar": {
              "outlinewidth": 0,
              "ticks": ""
             }
            },
            "type": "scatterternary"
           }
          ],
          "surface": [
           {
            "colorbar": {
             "outlinewidth": 0,
             "ticks": ""
            },
            "colorscale": [
             [
              0,
              "#0d0887"
             ],
             [
              0.1111111111111111,
              "#46039f"
             ],
             [
              0.2222222222222222,
              "#7201a8"
             ],
             [
              0.3333333333333333,
              "#9c179e"
             ],
             [
              0.4444444444444444,
              "#bd3786"
             ],
             [
              0.5555555555555556,
              "#d8576b"
             ],
             [
              0.6666666666666666,
              "#ed7953"
             ],
             [
              0.7777777777777778,
              "#fb9f3a"
             ],
             [
              0.8888888888888888,
              "#fdca26"
             ],
             [
              1,
              "#f0f921"
             ]
            ],
            "type": "surface"
           }
          ],
          "table": [
           {
            "cells": {
             "fill": {
              "color": "#EBF0F8"
             },
             "line": {
              "color": "white"
             }
            },
            "header": {
             "fill": {
              "color": "#C8D4E3"
             },
             "line": {
              "color": "white"
             }
            },
            "type": "table"
           }
          ]
         },
         "layout": {
          "annotationdefaults": {
           "arrowcolor": "#2a3f5f",
           "arrowhead": 0,
           "arrowwidth": 1
          },
          "autotypenumbers": "strict",
          "coloraxis": {
           "colorbar": {
            "outlinewidth": 0,
            "ticks": ""
           }
          },
          "colorscale": {
           "diverging": [
            [
             0,
             "#8e0152"
            ],
            [
             0.1,
             "#c51b7d"
            ],
            [
             0.2,
             "#de77ae"
            ],
            [
             0.3,
             "#f1b6da"
            ],
            [
             0.4,
             "#fde0ef"
            ],
            [
             0.5,
             "#f7f7f7"
            ],
            [
             0.6,
             "#e6f5d0"
            ],
            [
             0.7,
             "#b8e186"
            ],
            [
             0.8,
             "#7fbc41"
            ],
            [
             0.9,
             "#4d9221"
            ],
            [
             1,
             "#276419"
            ]
           ],
           "sequential": [
            [
             0,
             "#0d0887"
            ],
            [
             0.1111111111111111,
             "#46039f"
            ],
            [
             0.2222222222222222,
             "#7201a8"
            ],
            [
             0.3333333333333333,
             "#9c179e"
            ],
            [
             0.4444444444444444,
             "#bd3786"
            ],
            [
             0.5555555555555556,
             "#d8576b"
            ],
            [
             0.6666666666666666,
             "#ed7953"
            ],
            [
             0.7777777777777778,
             "#fb9f3a"
            ],
            [
             0.8888888888888888,
             "#fdca26"
            ],
            [
             1,
             "#f0f921"
            ]
           ],
           "sequentialminus": [
            [
             0,
             "#0d0887"
            ],
            [
             0.1111111111111111,
             "#46039f"
            ],
            [
             0.2222222222222222,
             "#7201a8"
            ],
            [
             0.3333333333333333,
             "#9c179e"
            ],
            [
             0.4444444444444444,
             "#bd3786"
            ],
            [
             0.5555555555555556,
             "#d8576b"
            ],
            [
             0.6666666666666666,
             "#ed7953"
            ],
            [
             0.7777777777777778,
             "#fb9f3a"
            ],
            [
             0.8888888888888888,
             "#fdca26"
            ],
            [
             1,
             "#f0f921"
            ]
           ]
          },
          "colorway": [
           "#636efa",
           "#EF553B",
           "#00cc96",
           "#ab63fa",
           "#FFA15A",
           "#19d3f3",
           "#FF6692",
           "#B6E880",
           "#FF97FF",
           "#FECB52"
          ],
          "font": {
           "color": "#2a3f5f"
          },
          "geo": {
           "bgcolor": "white",
           "lakecolor": "white",
           "landcolor": "#E5ECF6",
           "showlakes": true,
           "showland": true,
           "subunitcolor": "white"
          },
          "hoverlabel": {
           "align": "left"
          },
          "hovermode": "closest",
          "mapbox": {
           "style": "light"
          },
          "paper_bgcolor": "white",
          "plot_bgcolor": "#E5ECF6",
          "polar": {
           "angularaxis": {
            "gridcolor": "white",
            "linecolor": "white",
            "ticks": ""
           },
           "bgcolor": "#E5ECF6",
           "radialaxis": {
            "gridcolor": "white",
            "linecolor": "white",
            "ticks": ""
           }
          },
          "scene": {
           "xaxis": {
            "backgroundcolor": "#E5ECF6",
            "gridcolor": "white",
            "gridwidth": 2,
            "linecolor": "white",
            "showbackground": true,
            "ticks": "",
            "zerolinecolor": "white"
           },
           "yaxis": {
            "backgroundcolor": "#E5ECF6",
            "gridcolor": "white",
            "gridwidth": 2,
            "linecolor": "white",
            "showbackground": true,
            "ticks": "",
            "zerolinecolor": "white"
           },
           "zaxis": {
            "backgroundcolor": "#E5ECF6",
            "gridcolor": "white",
            "gridwidth": 2,
            "linecolor": "white",
            "showbackground": true,
            "ticks": "",
            "zerolinecolor": "white"
           }
          },
          "shapedefaults": {
           "line": {
            "color": "#2a3f5f"
           }
          },
          "ternary": {
           "aaxis": {
            "gridcolor": "white",
            "linecolor": "white",
            "ticks": ""
           },
           "baxis": {
            "gridcolor": "white",
            "linecolor": "white",
            "ticks": ""
           },
           "bgcolor": "#E5ECF6",
           "caxis": {
            "gridcolor": "white",
            "linecolor": "white",
            "ticks": ""
           }
          },
          "title": {
           "x": 0.05
          },
          "xaxis": {
           "automargin": true,
           "gridcolor": "white",
           "linecolor": "white",
           "ticks": "",
           "title": {
            "standoff": 15
           },
           "zerolinecolor": "white",
           "zerolinewidth": 2
          },
          "yaxis": {
           "automargin": true,
           "gridcolor": "white",
           "linecolor": "white",
           "ticks": "",
           "title": {
            "standoff": 15
           },
           "zerolinecolor": "white",
           "zerolinewidth": 2
          }
         }
        }
       }
      },
      "text/html": [
       "<div>                            <div id=\"e654dfe3-40f3-4f6a-b3ef-88fcab1ed7b1\" class=\"plotly-graph-div\" style=\"height:525px; width:100%;\"></div>            <script type=\"text/javascript\">                require([\"plotly\"], function(Plotly) {                    window.PLOTLYENV=window.PLOTLYENV || {};                                    if (document.getElementById(\"e654dfe3-40f3-4f6a-b3ef-88fcab1ed7b1\")) {                    Plotly.newPlot(                        \"e654dfe3-40f3-4f6a-b3ef-88fcab1ed7b1\",                        [{\"hovertemplate\": \"monyear=%{x}<br>Count=%{y}<extra></extra>\", \"legendgroup\": \"\", \"line\": {\"color\": \"#636efa\", \"dash\": \"solid\"}, \"mode\": \"lines\", \"name\": \"\", \"orientation\": \"v\", \"showlegend\": false, \"type\": \"scatter\", \"x\": [\"01/2015\", \"02/2015\", \"03/2015\", \"04/2015\", \"05/2015\", \"06/2015\", \"07/2015\", \"08/2015\", \"09/2015\", \"10/2015\", \"11/2015\", \"12/2015\", \"01/2016\", \"02/2016\", \"03/2016\", \"04/2016\", \"05/2016\", \"06/2016\", \"07/2016\", \"08/2016\", \"09/2016\", \"10/2016\", \"11/2016\", \"12/2016\", \"01/2017\", \"02/2017\", \"03/2017\", \"04/2017\", \"05/2017\", \"06/2017\", \"07/2017\", \"08/2017\", \"09/2017\", \"10/2017\", \"11/2017\", \"12/2017\", \"01/2018\", \"02/2018\", \"03/2018\", \"04/2018\", \"05/2018\", \"06/2018\", \"07/2018\", \"08/2018\", \"09/2018\", \"10/2018\", \"11/2018\", \"12/2018\", \"01/2019\", \"02/2019\", \"04/2019\", \"05/2019\", \"06/2019\", \"07/2019\", \"08/2019\", \"09/2019\", \"10/2019\", \"11/2019\", \"12/2019\", \"01/2020\"], \"xaxis\": \"x\", \"y\": [40, 42, 47, 63, 60, 86, 98, 98, 88, 93, 92, 89, 104, 100, 85, 79, 79, 98, 64, 87, 73, 80, 72, 72, 72, 48, 71, 71, 68, 65, 43, 45, 58, 53, 50, 43, 37, 42, 35, 35, 23, 32, 36, 25, 13, 7, 18, 7, 3, 3, 14, 9, 15, 13, 17, 9, 3, 15, 10, 7], \"yaxis\": \"y\"}, {\"hovertemplate\": \"monyear=%{x}<br>Count=%{y}<br>Sum=%{marker.size}<extra></extra>\", \"legendgroup\": \"\", \"marker\": {\"color\": \"#636efa\", \"size\": [370171768.0, 394262600.0, 463327000.0, 980999989.0, 326184984.0, 536993972.0, 1606656972.0, 1063815967.0, 1470519973.0, 254960966.0, 899274970.0, 305852965.0, 699879953.0, 331512957.0, 309561575.0, 253939959.0, 339839972.0, 199668957.0, 233546976.0, 534088969.0, 241360971.0, 237447970.0, 259996973.0, 187242969.0, 253233469.0, 294958987.0, 2264280977.0, 732394976.0, 1786668971.0, 344817983.0, 167703982.0, 2748138981.0, 536501980.0, 400386988.0, 615802213.0, 284419992.0, 347374595.0, 1211217215.0, 291952994.0, 198077731.0, 105886999.0, 391474993.0, 558227996.0, 809354810.0, 601089998.0, 52879999.0, 497115994.0, 57715000.0, 137000000.0, 226599999.0, 115793354.0, 408968598.0, 274414322.0, 296794605.0, 4531769999.0, 502800000.0, 629999999.0, 2062797264.0, 476900000.0, 390207254.0], \"sizemode\": \"area\", \"sizeref\": 11329424.9975, \"symbol\": \"circle\"}, \"mode\": \"markers\", \"name\": \"\", \"orientation\": \"v\", \"showlegend\": false, \"type\": \"scatter\", \"x\": [\"01/2015\", \"02/2015\", \"03/2015\", \"04/2015\", \"05/2015\", \"06/2015\", \"07/2015\", \"08/2015\", \"09/2015\", \"10/2015\", \"11/2015\", \"12/2015\", \"01/2016\", \"02/2016\", \"03/2016\", \"04/2016\", \"05/2016\", \"06/2016\", \"07/2016\", \"08/2016\", \"09/2016\", \"10/2016\", \"11/2016\", \"12/2016\", \"01/2017\", \"02/2017\", \"03/2017\", \"04/2017\", \"05/2017\", \"06/2017\", \"07/2017\", \"08/2017\", \"09/2017\", \"10/2017\", \"11/2017\", \"12/2017\", \"01/2018\", \"02/2018\", \"03/2018\", \"04/2018\", \"05/2018\", \"06/2018\", \"07/2018\", \"08/2018\", \"09/2018\", \"10/2018\", \"11/2018\", \"12/2018\", \"01/2019\", \"02/2019\", \"04/2019\", \"05/2019\", \"06/2019\", \"07/2019\", \"08/2019\", \"09/2019\", \"10/2019\", \"11/2019\", \"12/2019\", \"01/2020\"], \"xaxis\": \"x\", \"y\": [40, 42, 47, 63, 60, 86, 98, 98, 88, 93, 92, 89, 104, 100, 85, 79, 79, 98, 64, 87, 73, 80, 72, 72, 72, 48, 71, 71, 68, 65, 43, 45, 58, 53, 50, 43, 37, 42, 35, 35, 23, 32, 36, 25, 13, 7, 18, 7, 3, 3, 14, 9, 15, 13, 17, 9, 3, 15, 10, 7], \"yaxis\": \"y\"}],                        {\"template\": {\"data\": {\"bar\": [{\"error_x\": {\"color\": \"#2a3f5f\"}, \"error_y\": {\"color\": \"#2a3f5f\"}, \"marker\": {\"line\": {\"color\": \"#E5ECF6\", \"width\": 0.5}}, \"type\": \"bar\"}], \"barpolar\": [{\"marker\": {\"line\": {\"color\": \"#E5ECF6\", \"width\": 0.5}}, \"type\": \"barpolar\"}], \"carpet\": [{\"aaxis\": {\"endlinecolor\": \"#2a3f5f\", \"gridcolor\": \"white\", \"linecolor\": \"white\", \"minorgridcolor\": \"white\", \"startlinecolor\": \"#2a3f5f\"}, \"baxis\": {\"endlinecolor\": \"#2a3f5f\", \"gridcolor\": \"white\", \"linecolor\": \"white\", \"minorgridcolor\": \"white\", \"startlinecolor\": \"#2a3f5f\"}, \"type\": \"carpet\"}], \"choropleth\": [{\"colorbar\": {\"outlinewidth\": 0, \"ticks\": \"\"}, \"type\": \"choropleth\"}], \"contour\": [{\"colorbar\": {\"outlinewidth\": 0, \"ticks\": \"\"}, \"colorscale\": [[0.0, \"#0d0887\"], [0.1111111111111111, \"#46039f\"], [0.2222222222222222, \"#7201a8\"], [0.3333333333333333, \"#9c179e\"], [0.4444444444444444, \"#bd3786\"], [0.5555555555555556, \"#d8576b\"], [0.6666666666666666, \"#ed7953\"], [0.7777777777777778, \"#fb9f3a\"], [0.8888888888888888, \"#fdca26\"], [1.0, \"#f0f921\"]], \"type\": \"contour\"}], \"contourcarpet\": [{\"colorbar\": {\"outlinewidth\": 0, \"ticks\": \"\"}, \"type\": \"contourcarpet\"}], \"heatmap\": [{\"colorbar\": {\"outlinewidth\": 0, \"ticks\": \"\"}, \"colorscale\": [[0.0, \"#0d0887\"], [0.1111111111111111, \"#46039f\"], [0.2222222222222222, \"#7201a8\"], [0.3333333333333333, \"#9c179e\"], [0.4444444444444444, \"#bd3786\"], [0.5555555555555556, \"#d8576b\"], [0.6666666666666666, \"#ed7953\"], [0.7777777777777778, \"#fb9f3a\"], [0.8888888888888888, \"#fdca26\"], [1.0, \"#f0f921\"]], \"type\": \"heatmap\"}], \"heatmapgl\": [{\"colorbar\": {\"outlinewidth\": 0, \"ticks\": \"\"}, \"colorscale\": [[0.0, \"#0d0887\"], [0.1111111111111111, \"#46039f\"], [0.2222222222222222, \"#7201a8\"], [0.3333333333333333, \"#9c179e\"], [0.4444444444444444, \"#bd3786\"], [0.5555555555555556, \"#d8576b\"], [0.6666666666666666, \"#ed7953\"], [0.7777777777777778, \"#fb9f3a\"], [0.8888888888888888, \"#fdca26\"], [1.0, \"#f0f921\"]], \"type\": \"heatmapgl\"}], \"histogram\": [{\"marker\": {\"colorbar\": {\"outlinewidth\": 0, \"ticks\": \"\"}}, \"type\": \"histogram\"}], \"histogram2d\": [{\"colorbar\": {\"outlinewidth\": 0, \"ticks\": \"\"}, \"colorscale\": [[0.0, \"#0d0887\"], [0.1111111111111111, \"#46039f\"], [0.2222222222222222, \"#7201a8\"], [0.3333333333333333, \"#9c179e\"], [0.4444444444444444, \"#bd3786\"], [0.5555555555555556, \"#d8576b\"], [0.6666666666666666, \"#ed7953\"], [0.7777777777777778, \"#fb9f3a\"], [0.8888888888888888, \"#fdca26\"], [1.0, \"#f0f921\"]], \"type\": \"histogram2d\"}], \"histogram2dcontour\": [{\"colorbar\": {\"outlinewidth\": 0, \"ticks\": \"\"}, \"colorscale\": [[0.0, \"#0d0887\"], [0.1111111111111111, \"#46039f\"], [0.2222222222222222, \"#7201a8\"], [0.3333333333333333, \"#9c179e\"], [0.4444444444444444, \"#bd3786\"], [0.5555555555555556, \"#d8576b\"], [0.6666666666666666, \"#ed7953\"], [0.7777777777777778, \"#fb9f3a\"], [0.8888888888888888, \"#fdca26\"], [1.0, \"#f0f921\"]], \"type\": \"histogram2dcontour\"}], \"mesh3d\": [{\"colorbar\": {\"outlinewidth\": 0, \"ticks\": \"\"}, \"type\": \"mesh3d\"}], \"parcoords\": [{\"line\": {\"colorbar\": {\"outlinewidth\": 0, \"ticks\": \"\"}}, \"type\": \"parcoords\"}], \"pie\": [{\"automargin\": true, \"type\": \"pie\"}], \"scatter\": [{\"marker\": {\"colorbar\": {\"outlinewidth\": 0, \"ticks\": \"\"}}, \"type\": \"scatter\"}], \"scatter3d\": [{\"line\": {\"colorbar\": {\"outlinewidth\": 0, \"ticks\": \"\"}}, \"marker\": {\"colorbar\": {\"outlinewidth\": 0, \"ticks\": \"\"}}, \"type\": \"scatter3d\"}], \"scattercarpet\": [{\"marker\": {\"colorbar\": {\"outlinewidth\": 0, \"ticks\": \"\"}}, \"type\": \"scattercarpet\"}], \"scattergeo\": [{\"marker\": {\"colorbar\": {\"outlinewidth\": 0, \"ticks\": \"\"}}, \"type\": \"scattergeo\"}], \"scattergl\": [{\"marker\": {\"colorbar\": {\"outlinewidth\": 0, \"ticks\": \"\"}}, \"type\": \"scattergl\"}], \"scattermapbox\": [{\"marker\": {\"colorbar\": {\"outlinewidth\": 0, \"ticks\": \"\"}}, \"type\": \"scattermapbox\"}], \"scatterpolar\": [{\"marker\": {\"colorbar\": {\"outlinewidth\": 0, \"ticks\": \"\"}}, \"type\": \"scatterpolar\"}], \"scatterpolargl\": [{\"marker\": {\"colorbar\": {\"outlinewidth\": 0, \"ticks\": \"\"}}, \"type\": \"scatterpolargl\"}], \"scatterternary\": [{\"marker\": {\"colorbar\": {\"outlinewidth\": 0, \"ticks\": \"\"}}, \"type\": \"scatterternary\"}], \"surface\": [{\"colorbar\": {\"outlinewidth\": 0, \"ticks\": \"\"}, \"colorscale\": [[0.0, \"#0d0887\"], [0.1111111111111111, \"#46039f\"], [0.2222222222222222, \"#7201a8\"], [0.3333333333333333, \"#9c179e\"], [0.4444444444444444, \"#bd3786\"], [0.5555555555555556, \"#d8576b\"], [0.6666666666666666, \"#ed7953\"], [0.7777777777777778, \"#fb9f3a\"], [0.8888888888888888, \"#fdca26\"], [1.0, \"#f0f921\"]], \"type\": \"surface\"}], \"table\": [{\"cells\": {\"fill\": {\"color\": \"#EBF0F8\"}, \"line\": {\"color\": \"white\"}}, \"header\": {\"fill\": {\"color\": \"#C8D4E3\"}, \"line\": {\"color\": \"white\"}}, \"type\": \"table\"}]}, \"layout\": {\"annotationdefaults\": {\"arrowcolor\": \"#2a3f5f\", \"arrowhead\": 0, \"arrowwidth\": 1}, \"autotypenumbers\": \"strict\", \"coloraxis\": {\"colorbar\": {\"outlinewidth\": 0, \"ticks\": \"\"}}, \"colorscale\": {\"diverging\": [[0, \"#8e0152\"], [0.1, \"#c51b7d\"], [0.2, \"#de77ae\"], [0.3, \"#f1b6da\"], [0.4, \"#fde0ef\"], [0.5, \"#f7f7f7\"], [0.6, \"#e6f5d0\"], [0.7, \"#b8e186\"], [0.8, \"#7fbc41\"], [0.9, \"#4d9221\"], [1, \"#276419\"]], \"sequential\": [[0.0, \"#0d0887\"], [0.1111111111111111, \"#46039f\"], [0.2222222222222222, \"#7201a8\"], [0.3333333333333333, \"#9c179e\"], [0.4444444444444444, \"#bd3786\"], [0.5555555555555556, \"#d8576b\"], [0.6666666666666666, \"#ed7953\"], [0.7777777777777778, \"#fb9f3a\"], [0.8888888888888888, \"#fdca26\"], [1.0, \"#f0f921\"]], \"sequentialminus\": [[0.0, \"#0d0887\"], [0.1111111111111111, \"#46039f\"], [0.2222222222222222, \"#7201a8\"], [0.3333333333333333, \"#9c179e\"], [0.4444444444444444, \"#bd3786\"], [0.5555555555555556, \"#d8576b\"], [0.6666666666666666, \"#ed7953\"], [0.7777777777777778, \"#fb9f3a\"], [0.8888888888888888, \"#fdca26\"], [1.0, \"#f0f921\"]]}, \"colorway\": [\"#636efa\", \"#EF553B\", \"#00cc96\", \"#ab63fa\", \"#FFA15A\", \"#19d3f3\", \"#FF6692\", \"#B6E880\", \"#FF97FF\", \"#FECB52\"], \"font\": {\"color\": \"#2a3f5f\"}, \"geo\": {\"bgcolor\": \"white\", \"lakecolor\": \"white\", \"landcolor\": \"#E5ECF6\", \"showlakes\": true, \"showland\": true, \"subunitcolor\": \"white\"}, \"hoverlabel\": {\"align\": \"left\"}, \"hovermode\": \"closest\", \"mapbox\": {\"style\": \"light\"}, \"paper_bgcolor\": \"white\", \"plot_bgcolor\": \"#E5ECF6\", \"polar\": {\"angularaxis\": {\"gridcolor\": \"white\", \"linecolor\": \"white\", \"ticks\": \"\"}, \"bgcolor\": \"#E5ECF6\", \"radialaxis\": {\"gridcolor\": \"white\", \"linecolor\": \"white\", \"ticks\": \"\"}}, \"scene\": {\"xaxis\": {\"backgroundcolor\": \"#E5ECF6\", \"gridcolor\": \"white\", \"gridwidth\": 2, \"linecolor\": \"white\", \"showbackground\": true, \"ticks\": \"\", \"zerolinecolor\": \"white\"}, \"yaxis\": {\"backgroundcolor\": \"#E5ECF6\", \"gridcolor\": \"white\", \"gridwidth\": 2, \"linecolor\": \"white\", \"showbackground\": true, \"ticks\": \"\", \"zerolinecolor\": \"white\"}, \"zaxis\": {\"backgroundcolor\": \"#E5ECF6\", \"gridcolor\": \"white\", \"gridwidth\": 2, \"linecolor\": \"white\", \"showbackground\": true, \"ticks\": \"\", \"zerolinecolor\": \"white\"}}, \"shapedefaults\": {\"line\": {\"color\": \"#2a3f5f\"}}, \"ternary\": {\"aaxis\": {\"gridcolor\": \"white\", \"linecolor\": \"white\", \"ticks\": \"\"}, \"baxis\": {\"gridcolor\": \"white\", \"linecolor\": \"white\", \"ticks\": \"\"}, \"bgcolor\": \"#E5ECF6\", \"caxis\": {\"gridcolor\": \"white\", \"linecolor\": \"white\", \"ticks\": \"\"}}, \"title\": {\"x\": 0.05}, \"xaxis\": {\"automargin\": true, \"gridcolor\": \"white\", \"linecolor\": \"white\", \"ticks\": \"\", \"title\": {\"standoff\": 15}, \"zerolinecolor\": \"white\", \"zerolinewidth\": 2}, \"yaxis\": {\"automargin\": true, \"gridcolor\": \"white\", \"linecolor\": \"white\", \"ticks\": \"\", \"title\": {\"standoff\": 15}, \"zerolinecolor\": \"white\", \"zerolinewidth\": 2}}}},                        {\"responsive\": true}                    ).then(function(){\n",
       "                            \n",
       "var gd = document.getElementById('e654dfe3-40f3-4f6a-b3ef-88fcab1ed7b1');\n",
       "var x = new MutationObserver(function (mutations, observer) {{\n",
       "        var display = window.getComputedStyle(gd).display;\n",
       "        if (!display || display === 'none') {{\n",
       "            console.log([gd, 'removed!']);\n",
       "            Plotly.purge(gd);\n",
       "            observer.disconnect();\n",
       "        }}\n",
       "}});\n",
       "\n",
       "// Listen for the removal of the full notebook cells\n",
       "var notebookContainer = gd.closest('#notebook-container');\n",
       "if (notebookContainer) {{\n",
       "    x.observe(notebookContainer, {childList: true});\n",
       "}}\n",
       "\n",
       "// Listen for the clearing of the current output cell\n",
       "var outputEl = gd.closest('.output');\n",
       "if (outputEl) {{\n",
       "    x.observe(outputEl, {childList: true});\n",
       "}}\n",
       "\n",
       "                        })                };                });            </script>        </div>"
      ]
     },
     "metadata": {},
     "output_type": "display_data"
    }
   ],
   "source": [
    "import plotly.graph_objects as go\n",
    "line_graph = px.line(group_time,x=\"monyear\",y=\"Count\")\n",
    "scatter_plot = px.scatter(group_time,x=\"monyear\",y=\"Count\",size=\"Sum\")\n",
    "investment_time_graph = go.Figure(line_graph.data+scatter_plot.data)\n",
    "investment_time_graph.show()"
   ]
  },
  {
   "cell_type": "code",
   "execution_count": 187,
   "metadata": {},
   "outputs": [
    {
     "data": {
      "text/plain": [
       "array(['Bengaluru', 'Gurgaon', 'Delhi', 'Mumbai', 'Chennai', 'Pune',\n",
       "       'Noida', 'Faridabad', 'Francisco', 'Unknown', 'Amritsar',\n",
       "       'Kormangala', 'Tulangan', 'Hyderabad', 'Burnsville', 'Park',\n",
       "       'Gurugram', 'Alto', 'Monica', 'Singapore', 'Taramani', 'Andheri',\n",
       "       'Chembur', 'Nairobi', 'Haryana', 'York', 'Karnataka', 'Bhopal',\n",
       "       'Jaipur', 'US', 'Nagpur', 'Indore', 'California', 'India',\n",
       "       'Ahemadabad', 'Rourkela', 'Srinagar', 'Bhubneswar', 'Chandigarh',\n",
       "       'Cambridge', 'Kolkatta', 'Kolkata', 'Coimbatore', 'Bangalore',\n",
       "       'Udaipur', 'Ahemdabad', 'Bhubaneswar', 'Ahmedabad', 'Surat', 'Goa',\n",
       "       'Pradesh', 'Gaya', 'Vadodara', 'Trivandrum', 'Missourie', 'Panaji',\n",
       "       'Gwalior', 'Karur', 'Udupi', 'Kochi', 'Agra', 'Bangkok', 'Hubli',\n",
       "       'Kerala', 'Kozhikode', 'Siliguri', 'USA', 'Lucknow', 'Kanpur',\n",
       "       'London', 'Seattle', 'Dubai', 'SFO', 'Varanasi', 'UK', 'Jodhpur',\n",
       "       'Boston', 'NY', 'Belgaum', 'Mateo', 'Houston', 'Global'],\n",
       "      dtype=object)"
      ]
     },
     "execution_count": 187,
     "metadata": {},
     "output_type": "execute_result"
    }
   ],
   "source": [
    "data[\"City  Location\"].unique()"
   ]
  },
  {
   "cell_type": "code",
   "execution_count": 188,
   "metadata": {},
   "outputs": [
    {
     "name": "stderr",
     "output_type": "stream",
     "text": [
      "C:\\Users\\hp\\anaconda3\\lib\\site-packages\\pandas\\core\\indexing.py:966: SettingWithCopyWarning:\n",
      "\n",
      "\n",
      "A value is trying to be set on a copy of a slice from a DataFrame.\n",
      "Try using .loc[row_indexer,col_indexer] = value instead\n",
      "\n",
      "See the caveats in the documentation: https://pandas.pydata.org/pandas-docs/stable/user_guide/indexing.html#returning-a-view-versus-a-copy\n",
      "\n"
     ]
    }
   ],
   "source": [
    "data.loc[data[\"City  Location\"]==\"Francisco\",\"City  Location\"]=\"San Francisco\"\n",
    "data.loc[data[\"City  Location\"]==\"Tulangan\",\"City  Location\"]=\"Telangana\"\n",
    "data.loc[data[\"City  Location\"]==\"Alto\",\"City  Location\"]=\"Alton\"\n",
    "data.loc[data[\"City  Location\"]==\"Monica\",\"City  Location\"]=\"Santa Monica\"\n",
    "data.loc[data[\"City  Location\"]==\"York\",\"City  Location\"]=\"NY\"\n",
    "data.loc[data[\"City  Location\"]==\"US\",\"City  Location\"]=\"USA\"\n",
    "data.loc[data[\"City  Location\"]==\"Ahemadabad\",\"City  Location\"]=\"Ahemdabad\"\n",
    "data.loc[data[\"City  Location\"]==\"Mateo\",\"City  Location\"]=\"San Mateo\"\n",
    "data.loc[data[\"City  Location\"]==\"Ahmedabad\",\"City  Location\"]=\"Ahemdabad\"\n",
    "data.loc[data[\"City  Location\"]==\"SFO\",\"City  Location\"]=\"San Francisco\""
   ]
  },
  {
   "cell_type": "code",
   "execution_count": 189,
   "metadata": {},
   "outputs": [],
   "source": [
    "# city_group = data[[\"City  Location\",\"Amount in USD\"]].groupby(data[\"City  Location\"]).agg(Count=(\"City  Location\",\"count\"),Sum=(\"Amount in USD\",\"sum\")).reset_index()\n",
    "# city_group"
   ]
  },
  {
   "cell_type": "code",
   "execution_count": 190,
   "metadata": {
    "scrolled": true
   },
   "outputs": [],
   "source": [
    "# from geopy.geocoders import Nominatim\n",
    "# geolocator = Nominatim(user_agent=\"geoapiExercises\")\n",
    "# long = []\n",
    "# lat = []\n",
    "# for i in city_group[\"City  Location\"]:\n",
    "#     geolocator = Nominatim(user_agent=\"your_app_name\")\n",
    "#     if geolocator.geocode(i)!=None:\n",
    "#         location = geolocator.geocode(i)\n",
    "#         lat.append(location.latitude)\n",
    "#         long.append(location.longitude)\n",
    "#     else :\n",
    "#         name = city_group[city_group[\"City  Location\"]==i].index\n",
    "#         city_group.drop(name, inplace=True)\n",
    "# city_group[\"Latitude\"]=lat\n",
    "# city_group[\"Longitude\"]=long\n",
    "# city_group"
   ]
  },
  {
   "cell_type": "code",
   "execution_count": 191,
   "metadata": {},
   "outputs": [],
   "source": [
    "# city_group.to_csv(\"Cities_lat_long.csv\")"
   ]
  },
  {
   "cell_type": "code",
   "execution_count": 192,
   "metadata": {},
   "outputs": [],
   "source": [
    "city_group = pd.read_csv(\"Cities_lat_long.csv\")"
   ]
  },
  {
   "cell_type": "code",
   "execution_count": 234,
   "metadata": {},
   "outputs": [
    {
     "data": {
      "application/vnd.plotly.v1+json": {
       "config": {
        "plotlyServerURL": "https://plot.ly"
       },
       "data": [
        {
         "geo": "geo",
         "hovertemplate": "<b>%{hovertext}</b><br><br>Count=%{marker.size}<br>Latitude=%{lat}<br>Longitude=%{lon}<br>Sum=%{marker.color}<extra></extra>",
         "hovertext": [
          "Agra",
          "Alton",
          "Amritsar",
          "Andheri",
          "Bangalore",
          "Bangkok",
          "Belgaum",
          "Bengaluru",
          "Bhopal",
          "Bhubaneswar",
          "Boston",
          "Burnsville",
          "California",
          "Cambridge",
          "Chandigarh",
          "Chembur",
          "Chennai",
          "Coimbatore",
          "Delhi",
          "Dubai",
          "Faridabad",
          "Gaya",
          "Global",
          "Goa",
          "Gurgaon",
          "Gurugram",
          "Gwalior",
          "Haryana",
          "Houston",
          "Hubli",
          "Hyderabad",
          "India",
          "Indore",
          "Jaipur",
          "Jodhpur",
          "Kanpur",
          "Karnataka",
          "Karur",
          "Kerala",
          "Kochi",
          "Kolkata",
          "Kolkatta",
          "Kormangala",
          "Kozhikode",
          "London",
          "Lucknow",
          "Missourie",
          "Mumbai",
          "NY",
          "Nagpur",
          "Nairobi",
          "Noida",
          "Panaji",
          "Park",
          "Pradesh",
          "Pune",
          "Rourkela",
          "San Francisco",
          "San Mateo",
          "Santa Monica",
          "Seattle",
          "Siliguri",
          "Singapore",
          "Srinagar",
          "Surat",
          "Taramani",
          "Telangana",
          "Trivandrum",
          "UK",
          "USA",
          "Udaipur",
          "Udupi",
          "Unknown",
          "Vadodara",
          "Varanasi"
         ],
         "lat": [
          27.1752554,
          38.8908583,
          31.634308299999997,
          19.119697600000002,
          12.979119800000001,
          13.754423800000001,
          15.857266599999999,
          12.979119800000001,
          23.258485699999998,
          20.2667774,
          42.3602534,
          44.767056700000005,
          36.7014631,
          52.2034823,
          30.733442100000005,
          19.0626319,
          13.0836939,
          11.0018115,
          28.6517178,
          25.07428235,
          28.4029786,
          24.7964355,
          43.7283874,
          15.3004543,
          28.42826235,
          28.4646148,
          26.2037247,
          29,
          29.7589382,
          15.3518378,
          17.360589,
          22.3511148,
          22.7203616,
          26.9154576,
          26.2967719,
          26.4609135,
          14.520389600000001,
          10.9301522,
          10.352874400000001,
          9.931308,
          22.5414185,
          35.6349626,
          12.935468,
          11.2586082,
          51.5073219,
          26.8381,
          38.7604815,
          19.075989899999996,
          43.1561681,
          21.1498134,
          -1.30316895,
          28.5707841,
          15.4989946,
          30.3308401,
          27.1303344,
          18.521428,
          22.2539994,
          37.779026200000004,
          37.496904,
          34.019470399999996,
          47.6038321,
          26.7164127,
          1.357107,
          34.07474439999999,
          45.9383,
          12.9849067,
          17.8495919,
          8.576970549999999,
          54.702354500000006,
          39.7837304,
          24.578720999999998,
          13.3419169,
          25.029422,
          22.2973142,
          25.3356491
         ],
         "legendgroup": "",
         "lon": [
          78.0098161,
          -90.1843091,
          74.8736788,
          72.8464205,
          77.5912997,
          100.49303990000001,
          74.5069343,
          77.5912997,
          77.401989,
          85.8435592,
          -71.0582912,
          -93.2773887,
          -118.755997,
          0.1235817,
          76.7797143,
          72.9011399,
          80.270186,
          76.96284250000001,
          77.22193879999999,
          55.188538654307024,
          77.3103837,
          85.0079563,
          -79.34914879325002,
          74.08551340000001,
          77.00270014657752,
          77.0299194,
          78.1573628,
          76,
          -95.36769740000001,
          75.1379848,
          78.4740613,
          78.6677428,
          75.8681996,
          75.81898170000001,
          73.0351433,
          80.3217588,
          75.7223521,
          78.08485454572889,
          76.5120396,
          76.2674136,
          88.35769124388872,
          139.6133245,
          77.6172102,
          75.7788735,
          -0.1276474,
          80.9346001,
          -92.5617875,
          72.8773928,
          -75.84499459999999,
          79.0820556,
          36.826061224105075,
          77.3271074,
          73.8282141,
          71.247499,
          80.859666,
          73.8544541,
          84.8577520139704,
          -122.41990600000001,
          -122.33305729999998,
          -118.4912273,
          -122.3300624,
          88.4309916,
          103.81949920000001,
          74.82044429999999,
          3.2553,
          80.2404069,
          79.1151663,
          77.05012463730725,
          -3.2765752999999997,
          -100.4458825,
          73.6862571,
          74.74732320000001,
          -77.36195598496681,
          73.1942567,
          83.0076292
         ],
         "marker": {
          "color": [
           -2,
           52000000,
           300000,
           5750000,
           11380487863,
           9900000,
           500000,
           7091269240,
           2330665,
           -1,
           3000000,
           18000000,
           299999999,
           1700000,
           47099995,
           319605,
           718766978,
           3957599,
           3302171324,
           1000000,
           251999999,
           6000000,
           11000000,
           4979997,
           3006091122,
           868932516,
           900000,
           15500000,
           -1,
           -1,
           402076202,
           64550000,
           4671992,
           152734984,
           160000,
           219998,
           3584000,
           -1,
           27000,
           -2,
           15982989,
           -1,
           284000000,
           -1,
           -1,
           1000000,
           350000,
           4940534849,
           52200000,
           142998,
           68,
           1282863963,
           825000,
           450000000,
           -1,
           633081966,
           2500000,
           203500000,
           8000000,
           110000000,
           15000000,
           -2,
           308649996,
           -1,
           36229999,
           38080000,
           200000000,
           99999,
           40000,
           222599998,
           499999,
           11999999,
           1406863863,
           6773996,
           52000
          ],
          "coloraxis": "coloraxis",
          "size": [
           2,
           2,
           1,
           1,
           703,
           2,
           1,
           144,
           3,
           1,
           1,
           1,
           2,
           1,
           11,
           1,
           97,
           5,
           459,
           1,
           3,
           1,
           1,
           10,
           291,
           51,
           2,
           1,
           1,
           1,
           101,
           4,
           13,
           30,
           1,
           4,
           1,
           1,
           1,
           2,
           21,
           1,
           2,
           1,
           1,
           1,
           1,
           568,
           2,
           3,
           1,
           93,
           1,
           1,
           1,
           105,
           1,
           5,
           1,
           1,
           1,
           2,
           12,
           1,
           2,
           1,
           1,
           2,
           1,
           13,
           2,
           2,
           141,
           10,
           1
          ],
          "sizemode": "area",
          "sizeref": 0.19527777777777777,
          "symbol": "circle"
         },
         "mode": "markers",
         "name": "",
         "showlegend": false,
         "type": "scattergeo"
        }
       ],
       "layout": {
        "coloraxis": {
         "colorbar": {
          "title": {
           "text": "Sum"
          }
         },
         "colorscale": [
          [
           0,
           "#0d0887"
          ],
          [
           0.1111111111111111,
           "#46039f"
          ],
          [
           0.2222222222222222,
           "#7201a8"
          ],
          [
           0.3333333333333333,
           "#9c179e"
          ],
          [
           0.4444444444444444,
           "#bd3786"
          ],
          [
           0.5555555555555556,
           "#d8576b"
          ],
          [
           0.6666666666666666,
           "#ed7953"
          ],
          [
           0.7777777777777778,
           "#fb9f3a"
          ],
          [
           0.8888888888888888,
           "#fdca26"
          ],
          [
           1,
           "#f0f921"
          ]
         ]
        },
        "geo": {
         "center": {},
         "domain": {
          "x": [
           0,
           1
          ],
          "y": [
           0,
           1
          ]
         },
         "projection": {
          "type": "natural earth"
         }
        },
        "height": 600,
        "legend": {
         "itemsizing": "constant",
         "tracegroupgap": 0
        },
        "margin": {
         "t": 60
        },
        "template": {
         "data": {
          "bar": [
           {
            "error_x": {
             "color": "#2a3f5f"
            },
            "error_y": {
             "color": "#2a3f5f"
            },
            "marker": {
             "line": {
              "color": "#E5ECF6",
              "width": 0.5
             }
            },
            "type": "bar"
           }
          ],
          "barpolar": [
           {
            "marker": {
             "line": {
              "color": "#E5ECF6",
              "width": 0.5
             }
            },
            "type": "barpolar"
           }
          ],
          "carpet": [
           {
            "aaxis": {
             "endlinecolor": "#2a3f5f",
             "gridcolor": "white",
             "linecolor": "white",
             "minorgridcolor": "white",
             "startlinecolor": "#2a3f5f"
            },
            "baxis": {
             "endlinecolor": "#2a3f5f",
             "gridcolor": "white",
             "linecolor": "white",
             "minorgridcolor": "white",
             "startlinecolor": "#2a3f5f"
            },
            "type": "carpet"
           }
          ],
          "choropleth": [
           {
            "colorbar": {
             "outlinewidth": 0,
             "ticks": ""
            },
            "type": "choropleth"
           }
          ],
          "contour": [
           {
            "colorbar": {
             "outlinewidth": 0,
             "ticks": ""
            },
            "colorscale": [
             [
              0,
              "#0d0887"
             ],
             [
              0.1111111111111111,
              "#46039f"
             ],
             [
              0.2222222222222222,
              "#7201a8"
             ],
             [
              0.3333333333333333,
              "#9c179e"
             ],
             [
              0.4444444444444444,
              "#bd3786"
             ],
             [
              0.5555555555555556,
              "#d8576b"
             ],
             [
              0.6666666666666666,
              "#ed7953"
             ],
             [
              0.7777777777777778,
              "#fb9f3a"
             ],
             [
              0.8888888888888888,
              "#fdca26"
             ],
             [
              1,
              "#f0f921"
             ]
            ],
            "type": "contour"
           }
          ],
          "contourcarpet": [
           {
            "colorbar": {
             "outlinewidth": 0,
             "ticks": ""
            },
            "type": "contourcarpet"
           }
          ],
          "heatmap": [
           {
            "colorbar": {
             "outlinewidth": 0,
             "ticks": ""
            },
            "colorscale": [
             [
              0,
              "#0d0887"
             ],
             [
              0.1111111111111111,
              "#46039f"
             ],
             [
              0.2222222222222222,
              "#7201a8"
             ],
             [
              0.3333333333333333,
              "#9c179e"
             ],
             [
              0.4444444444444444,
              "#bd3786"
             ],
             [
              0.5555555555555556,
              "#d8576b"
             ],
             [
              0.6666666666666666,
              "#ed7953"
             ],
             [
              0.7777777777777778,
              "#fb9f3a"
             ],
             [
              0.8888888888888888,
              "#fdca26"
             ],
             [
              1,
              "#f0f921"
             ]
            ],
            "type": "heatmap"
           }
          ],
          "heatmapgl": [
           {
            "colorbar": {
             "outlinewidth": 0,
             "ticks": ""
            },
            "colorscale": [
             [
              0,
              "#0d0887"
             ],
             [
              0.1111111111111111,
              "#46039f"
             ],
             [
              0.2222222222222222,
              "#7201a8"
             ],
             [
              0.3333333333333333,
              "#9c179e"
             ],
             [
              0.4444444444444444,
              "#bd3786"
             ],
             [
              0.5555555555555556,
              "#d8576b"
             ],
             [
              0.6666666666666666,
              "#ed7953"
             ],
             [
              0.7777777777777778,
              "#fb9f3a"
             ],
             [
              0.8888888888888888,
              "#fdca26"
             ],
             [
              1,
              "#f0f921"
             ]
            ],
            "type": "heatmapgl"
           }
          ],
          "histogram": [
           {
            "marker": {
             "colorbar": {
              "outlinewidth": 0,
              "ticks": ""
             }
            },
            "type": "histogram"
           }
          ],
          "histogram2d": [
           {
            "colorbar": {
             "outlinewidth": 0,
             "ticks": ""
            },
            "colorscale": [
             [
              0,
              "#0d0887"
             ],
             [
              0.1111111111111111,
              "#46039f"
             ],
             [
              0.2222222222222222,
              "#7201a8"
             ],
             [
              0.3333333333333333,
              "#9c179e"
             ],
             [
              0.4444444444444444,
              "#bd3786"
             ],
             [
              0.5555555555555556,
              "#d8576b"
             ],
             [
              0.6666666666666666,
              "#ed7953"
             ],
             [
              0.7777777777777778,
              "#fb9f3a"
             ],
             [
              0.8888888888888888,
              "#fdca26"
             ],
             [
              1,
              "#f0f921"
             ]
            ],
            "type": "histogram2d"
           }
          ],
          "histogram2dcontour": [
           {
            "colorbar": {
             "outlinewidth": 0,
             "ticks": ""
            },
            "colorscale": [
             [
              0,
              "#0d0887"
             ],
             [
              0.1111111111111111,
              "#46039f"
             ],
             [
              0.2222222222222222,
              "#7201a8"
             ],
             [
              0.3333333333333333,
              "#9c179e"
             ],
             [
              0.4444444444444444,
              "#bd3786"
             ],
             [
              0.5555555555555556,
              "#d8576b"
             ],
             [
              0.6666666666666666,
              "#ed7953"
             ],
             [
              0.7777777777777778,
              "#fb9f3a"
             ],
             [
              0.8888888888888888,
              "#fdca26"
             ],
             [
              1,
              "#f0f921"
             ]
            ],
            "type": "histogram2dcontour"
           }
          ],
          "mesh3d": [
           {
            "colorbar": {
             "outlinewidth": 0,
             "ticks": ""
            },
            "type": "mesh3d"
           }
          ],
          "parcoords": [
           {
            "line": {
             "colorbar": {
              "outlinewidth": 0,
              "ticks": ""
             }
            },
            "type": "parcoords"
           }
          ],
          "pie": [
           {
            "automargin": true,
            "type": "pie"
           }
          ],
          "scatter": [
           {
            "marker": {
             "colorbar": {
              "outlinewidth": 0,
              "ticks": ""
             }
            },
            "type": "scatter"
           }
          ],
          "scatter3d": [
           {
            "line": {
             "colorbar": {
              "outlinewidth": 0,
              "ticks": ""
             }
            },
            "marker": {
             "colorbar": {
              "outlinewidth": 0,
              "ticks": ""
             }
            },
            "type": "scatter3d"
           }
          ],
          "scattercarpet": [
           {
            "marker": {
             "colorbar": {
              "outlinewidth": 0,
              "ticks": ""
             }
            },
            "type": "scattercarpet"
           }
          ],
          "scattergeo": [
           {
            "marker": {
             "colorbar": {
              "outlinewidth": 0,
              "ticks": ""
             }
            },
            "type": "scattergeo"
           }
          ],
          "scattergl": [
           {
            "marker": {
             "colorbar": {
              "outlinewidth": 0,
              "ticks": ""
             }
            },
            "type": "scattergl"
           }
          ],
          "scattermapbox": [
           {
            "marker": {
             "colorbar": {
              "outlinewidth": 0,
              "ticks": ""
             }
            },
            "type": "scattermapbox"
           }
          ],
          "scatterpolar": [
           {
            "marker": {
             "colorbar": {
              "outlinewidth": 0,
              "ticks": ""
             }
            },
            "type": "scatterpolar"
           }
          ],
          "scatterpolargl": [
           {
            "marker": {
             "colorbar": {
              "outlinewidth": 0,
              "ticks": ""
             }
            },
            "type": "scatterpolargl"
           }
          ],
          "scatterternary": [
           {
            "marker": {
             "colorbar": {
              "outlinewidth": 0,
              "ticks": ""
             }
            },
            "type": "scatterternary"
           }
          ],
          "surface": [
           {
            "colorbar": {
             "outlinewidth": 0,
             "ticks": ""
            },
            "colorscale": [
             [
              0,
              "#0d0887"
             ],
             [
              0.1111111111111111,
              "#46039f"
             ],
             [
              0.2222222222222222,
              "#7201a8"
             ],
             [
              0.3333333333333333,
              "#9c179e"
             ],
             [
              0.4444444444444444,
              "#bd3786"
             ],
             [
              0.5555555555555556,
              "#d8576b"
             ],
             [
              0.6666666666666666,
              "#ed7953"
             ],
             [
              0.7777777777777778,
              "#fb9f3a"
             ],
             [
              0.8888888888888888,
              "#fdca26"
             ],
             [
              1,
              "#f0f921"
             ]
            ],
            "type": "surface"
           }
          ],
          "table": [
           {
            "cells": {
             "fill": {
              "color": "#EBF0F8"
             },
             "line": {
              "color": "white"
             }
            },
            "header": {
             "fill": {
              "color": "#C8D4E3"
             },
             "line": {
              "color": "white"
             }
            },
            "type": "table"
           }
          ]
         },
         "layout": {
          "annotationdefaults": {
           "arrowcolor": "#2a3f5f",
           "arrowhead": 0,
           "arrowwidth": 1
          },
          "autotypenumbers": "strict",
          "coloraxis": {
           "colorbar": {
            "outlinewidth": 0,
            "ticks": ""
           }
          },
          "colorscale": {
           "diverging": [
            [
             0,
             "#8e0152"
            ],
            [
             0.1,
             "#c51b7d"
            ],
            [
             0.2,
             "#de77ae"
            ],
            [
             0.3,
             "#f1b6da"
            ],
            [
             0.4,
             "#fde0ef"
            ],
            [
             0.5,
             "#f7f7f7"
            ],
            [
             0.6,
             "#e6f5d0"
            ],
            [
             0.7,
             "#b8e186"
            ],
            [
             0.8,
             "#7fbc41"
            ],
            [
             0.9,
             "#4d9221"
            ],
            [
             1,
             "#276419"
            ]
           ],
           "sequential": [
            [
             0,
             "#0d0887"
            ],
            [
             0.1111111111111111,
             "#46039f"
            ],
            [
             0.2222222222222222,
             "#7201a8"
            ],
            [
             0.3333333333333333,
             "#9c179e"
            ],
            [
             0.4444444444444444,
             "#bd3786"
            ],
            [
             0.5555555555555556,
             "#d8576b"
            ],
            [
             0.6666666666666666,
             "#ed7953"
            ],
            [
             0.7777777777777778,
             "#fb9f3a"
            ],
            [
             0.8888888888888888,
             "#fdca26"
            ],
            [
             1,
             "#f0f921"
            ]
           ],
           "sequentialminus": [
            [
             0,
             "#0d0887"
            ],
            [
             0.1111111111111111,
             "#46039f"
            ],
            [
             0.2222222222222222,
             "#7201a8"
            ],
            [
             0.3333333333333333,
             "#9c179e"
            ],
            [
             0.4444444444444444,
             "#bd3786"
            ],
            [
             0.5555555555555556,
             "#d8576b"
            ],
            [
             0.6666666666666666,
             "#ed7953"
            ],
            [
             0.7777777777777778,
             "#fb9f3a"
            ],
            [
             0.8888888888888888,
             "#fdca26"
            ],
            [
             1,
             "#f0f921"
            ]
           ]
          },
          "colorway": [
           "#636efa",
           "#EF553B",
           "#00cc96",
           "#ab63fa",
           "#FFA15A",
           "#19d3f3",
           "#FF6692",
           "#B6E880",
           "#FF97FF",
           "#FECB52"
          ],
          "font": {
           "color": "#2a3f5f"
          },
          "geo": {
           "bgcolor": "white",
           "lakecolor": "white",
           "landcolor": "#E5ECF6",
           "showlakes": true,
           "showland": true,
           "subunitcolor": "white"
          },
          "hoverlabel": {
           "align": "left"
          },
          "hovermode": "closest",
          "mapbox": {
           "style": "light"
          },
          "paper_bgcolor": "white",
          "plot_bgcolor": "#E5ECF6",
          "polar": {
           "angularaxis": {
            "gridcolor": "white",
            "linecolor": "white",
            "ticks": ""
           },
           "bgcolor": "#E5ECF6",
           "radialaxis": {
            "gridcolor": "white",
            "linecolor": "white",
            "ticks": ""
           }
          },
          "scene": {
           "xaxis": {
            "backgroundcolor": "#E5ECF6",
            "gridcolor": "white",
            "gridwidth": 2,
            "linecolor": "white",
            "showbackground": true,
            "ticks": "",
            "zerolinecolor": "white"
           },
           "yaxis": {
            "backgroundcolor": "#E5ECF6",
            "gridcolor": "white",
            "gridwidth": 2,
            "linecolor": "white",
            "showbackground": true,
            "ticks": "",
            "zerolinecolor": "white"
           },
           "zaxis": {
            "backgroundcolor": "#E5ECF6",
            "gridcolor": "white",
            "gridwidth": 2,
            "linecolor": "white",
            "showbackground": true,
            "ticks": "",
            "zerolinecolor": "white"
           }
          },
          "shapedefaults": {
           "line": {
            "color": "#2a3f5f"
           }
          },
          "ternary": {
           "aaxis": {
            "gridcolor": "white",
            "linecolor": "white",
            "ticks": ""
           },
           "baxis": {
            "gridcolor": "white",
            "linecolor": "white",
            "ticks": ""
           },
           "bgcolor": "#E5ECF6",
           "caxis": {
            "gridcolor": "white",
            "linecolor": "white",
            "ticks": ""
           }
          },
          "title": {
           "x": 0.05
          },
          "xaxis": {
           "automargin": true,
           "gridcolor": "white",
           "linecolor": "white",
           "ticks": "",
           "title": {
            "standoff": 15
           },
           "zerolinecolor": "white",
           "zerolinewidth": 2
          },
          "yaxis": {
           "automargin": true,
           "gridcolor": "white",
           "linecolor": "white",
           "ticks": "",
           "title": {
            "standoff": 15
           },
           "zerolinecolor": "white",
           "zerolinewidth": 2
          }
         }
        },
        "width": 1000
       }
      },
      "text/html": [
       "<div>                            <div id=\"c344fe40-37f8-4758-a8e9-4593666ada32\" class=\"plotly-graph-div\" style=\"height:600px; width:1000px;\"></div>            <script type=\"text/javascript\">                require([\"plotly\"], function(Plotly) {                    window.PLOTLYENV=window.PLOTLYENV || {};                                    if (document.getElementById(\"c344fe40-37f8-4758-a8e9-4593666ada32\")) {                    Plotly.newPlot(                        \"c344fe40-37f8-4758-a8e9-4593666ada32\",                        [{\"geo\": \"geo\", \"hovertemplate\": \"<b>%{hovertext}</b><br><br>Count=%{marker.size}<br>Latitude=%{lat}<br>Longitude=%{lon}<br>Sum=%{marker.color}<extra></extra>\", \"hovertext\": [\"Agra\", \"Alton\", \"Amritsar\", \"Andheri\", \"Bangalore\", \"Bangkok\", \"Belgaum\", \"Bengaluru\", \"Bhopal\", \"Bhubaneswar\", \"Boston\", \"Burnsville\", \"California\", \"Cambridge\", \"Chandigarh\", \"Chembur\", \"Chennai\", \"Coimbatore\", \"Delhi\", \"Dubai\", \"Faridabad\", \"Gaya\", \"Global\", \"Goa\", \"Gurgaon\", \"Gurugram\", \"Gwalior\", \"Haryana\", \"Houston\", \"Hubli\", \"Hyderabad\", \"India\", \"Indore\", \"Jaipur\", \"Jodhpur\", \"Kanpur\", \"Karnataka\", \"Karur\", \"Kerala\", \"Kochi\", \"Kolkata\", \"Kolkatta\", \"Kormangala\", \"Kozhikode\", \"London\", \"Lucknow\", \"Missourie\", \"Mumbai\", \"NY\", \"Nagpur\", \"Nairobi\", \"Noida\", \"Panaji\", \"Park\", \"Pradesh\", \"Pune\", \"Rourkela\", \"San Francisco\", \"San Mateo\", \"Santa Monica\", \"Seattle\", \"Siliguri\", \"Singapore\", \"Srinagar\", \"Surat\", \"Taramani\", \"Telangana\", \"Trivandrum\", \"UK\", \"USA\", \"Udaipur\", \"Udupi\", \"Unknown\", \"Vadodara\", \"Varanasi\"], \"lat\": [27.1752554, 38.8908583, 31.634308299999997, 19.119697600000002, 12.979119800000001, 13.754423800000001, 15.857266599999999, 12.979119800000001, 23.258485699999998, 20.2667774, 42.3602534, 44.767056700000005, 36.7014631, 52.2034823, 30.733442100000005, 19.0626319, 13.0836939, 11.0018115, 28.6517178, 25.07428235, 28.4029786, 24.7964355, 43.7283874, 15.3004543, 28.42826235, 28.4646148, 26.2037247, 29.0, 29.7589382, 15.3518378, 17.360589, 22.3511148, 22.7203616, 26.9154576, 26.2967719, 26.4609135, 14.520389600000001, 10.9301522, 10.352874400000001, 9.931308, 22.5414185, 35.6349626, 12.935468, 11.2586082, 51.5073219, 26.8381, 38.7604815, 19.075989899999996, 43.1561681, 21.1498134, -1.30316895, 28.5707841, 15.4989946, 30.3308401, 27.1303344, 18.521428, 22.2539994, 37.779026200000004, 37.496904, 34.019470399999996, 47.6038321, 26.7164127, 1.357107, 34.07474439999999, 45.9383, 12.9849067, 17.8495919, 8.576970549999999, 54.702354500000006, 39.7837304, 24.578720999999998, 13.3419169, 25.029422, 22.2973142, 25.3356491], \"legendgroup\": \"\", \"lon\": [78.0098161, -90.1843091, 74.8736788, 72.8464205, 77.5912997, 100.49303990000001, 74.5069343, 77.5912997, 77.401989, 85.8435592, -71.0582912, -93.2773887, -118.755997, 0.1235817, 76.7797143, 72.9011399, 80.270186, 76.96284250000001, 77.22193879999999, 55.188538654307024, 77.3103837, 85.0079563, -79.34914879325002, 74.08551340000001, 77.00270014657752, 77.0299194, 78.1573628, 76.0, -95.36769740000001, 75.1379848, 78.4740613, 78.6677428, 75.8681996, 75.81898170000001, 73.0351433, 80.3217588, 75.7223521, 78.08485454572889, 76.5120396, 76.2674136, 88.35769124388872, 139.6133245, 77.6172102, 75.7788735, -0.1276474, 80.9346001, -92.5617875, 72.8773928, -75.84499459999999, 79.0820556, 36.826061224105075, 77.3271074, 73.8282141, 71.247499, 80.859666, 73.8544541, 84.8577520139704, -122.41990600000001, -122.33305729999998, -118.4912273, -122.3300624, 88.4309916, 103.81949920000001, 74.82044429999999, 3.2553, 80.2404069, 79.1151663, 77.05012463730725, -3.2765752999999997, -100.4458825, 73.6862571, 74.74732320000001, -77.36195598496681, 73.1942567, 83.0076292], \"marker\": {\"color\": [-2.0, 52000000.0, 300000.0, 5750000.0, 11380487863.0, 9900000.0, 500000.0, 7091269240.0, 2330665.0, -1.0, 3000000.0, 18000000.0, 299999999.0, 1700000.0, 47099995.0, 319605.0, 718766978.0, 3957599.0, 3302171324.0, 1000000.0, 251999999.0, 6000000.0, 11000000.0, 4979997.0, 3006091122.0, 868932516.0, 900000.0, 15500000.0, -1.0, -1.0, 402076202.0, 64550000.0, 4671992.0, 152734984.0, 160000.0, 219998.0, 3584000.0, -1.0, 27000.0, -2.0, 15982989.0, -1.0, 284000000.0, -1.0, -1.0, 1000000.0, 350000.0, 4940534849.0, 52200000.0, 142998.0, 68.0, 1282863963.0, 825000.0, 450000000.0, -1.0, 633081966.0, 2500000.0, 203500000.0, 8000000.0, 110000000.0, 15000000.0, -2.0, 308649996.0, -1.0, 36229999.0, 38080000.0, 200000000.0, 99999.0, 40000.0, 222599998.0, 499999.0, 11999999.0, 1406863863.0, 6773996.0, 52000.0], \"coloraxis\": \"coloraxis\", \"size\": [2, 2, 1, 1, 703, 2, 1, 144, 3, 1, 1, 1, 2, 1, 11, 1, 97, 5, 459, 1, 3, 1, 1, 10, 291, 51, 2, 1, 1, 1, 101, 4, 13, 30, 1, 4, 1, 1, 1, 2, 21, 1, 2, 1, 1, 1, 1, 568, 2, 3, 1, 93, 1, 1, 1, 105, 1, 5, 1, 1, 1, 2, 12, 1, 2, 1, 1, 2, 1, 13, 2, 2, 141, 10, 1], \"sizemode\": \"area\", \"sizeref\": 0.19527777777777777, \"symbol\": \"circle\"}, \"mode\": \"markers\", \"name\": \"\", \"showlegend\": false, \"type\": \"scattergeo\"}],                        {\"coloraxis\": {\"colorbar\": {\"title\": {\"text\": \"Sum\"}}, \"colorscale\": [[0.0, \"#0d0887\"], [0.1111111111111111, \"#46039f\"], [0.2222222222222222, \"#7201a8\"], [0.3333333333333333, \"#9c179e\"], [0.4444444444444444, \"#bd3786\"], [0.5555555555555556, \"#d8576b\"], [0.6666666666666666, \"#ed7953\"], [0.7777777777777778, \"#fb9f3a\"], [0.8888888888888888, \"#fdca26\"], [1.0, \"#f0f921\"]]}, \"geo\": {\"center\": {}, \"domain\": {\"x\": [0.0, 1.0], \"y\": [0.0, 1.0]}, \"projection\": {\"type\": \"natural earth\"}}, \"height\": 600, \"legend\": {\"itemsizing\": \"constant\", \"tracegroupgap\": 0}, \"margin\": {\"t\": 60}, \"template\": {\"data\": {\"bar\": [{\"error_x\": {\"color\": \"#2a3f5f\"}, \"error_y\": {\"color\": \"#2a3f5f\"}, \"marker\": {\"line\": {\"color\": \"#E5ECF6\", \"width\": 0.5}}, \"type\": \"bar\"}], \"barpolar\": [{\"marker\": {\"line\": {\"color\": \"#E5ECF6\", \"width\": 0.5}}, \"type\": \"barpolar\"}], \"carpet\": [{\"aaxis\": {\"endlinecolor\": \"#2a3f5f\", \"gridcolor\": \"white\", \"linecolor\": \"white\", \"minorgridcolor\": \"white\", \"startlinecolor\": \"#2a3f5f\"}, \"baxis\": {\"endlinecolor\": \"#2a3f5f\", \"gridcolor\": \"white\", \"linecolor\": \"white\", \"minorgridcolor\": \"white\", \"startlinecolor\": \"#2a3f5f\"}, \"type\": \"carpet\"}], \"choropleth\": [{\"colorbar\": {\"outlinewidth\": 0, \"ticks\": \"\"}, \"type\": \"choropleth\"}], \"contour\": [{\"colorbar\": {\"outlinewidth\": 0, \"ticks\": \"\"}, \"colorscale\": [[0.0, \"#0d0887\"], [0.1111111111111111, \"#46039f\"], [0.2222222222222222, \"#7201a8\"], [0.3333333333333333, \"#9c179e\"], [0.4444444444444444, \"#bd3786\"], [0.5555555555555556, \"#d8576b\"], [0.6666666666666666, \"#ed7953\"], [0.7777777777777778, \"#fb9f3a\"], [0.8888888888888888, \"#fdca26\"], [1.0, \"#f0f921\"]], \"type\": \"contour\"}], \"contourcarpet\": [{\"colorbar\": {\"outlinewidth\": 0, \"ticks\": \"\"}, \"type\": \"contourcarpet\"}], \"heatmap\": [{\"colorbar\": {\"outlinewidth\": 0, \"ticks\": \"\"}, \"colorscale\": [[0.0, \"#0d0887\"], [0.1111111111111111, \"#46039f\"], [0.2222222222222222, \"#7201a8\"], [0.3333333333333333, \"#9c179e\"], [0.4444444444444444, \"#bd3786\"], [0.5555555555555556, \"#d8576b\"], [0.6666666666666666, \"#ed7953\"], [0.7777777777777778, \"#fb9f3a\"], [0.8888888888888888, \"#fdca26\"], [1.0, \"#f0f921\"]], \"type\": \"heatmap\"}], \"heatmapgl\": [{\"colorbar\": {\"outlinewidth\": 0, \"ticks\": \"\"}, \"colorscale\": [[0.0, \"#0d0887\"], [0.1111111111111111, \"#46039f\"], [0.2222222222222222, \"#7201a8\"], [0.3333333333333333, \"#9c179e\"], [0.4444444444444444, \"#bd3786\"], [0.5555555555555556, \"#d8576b\"], [0.6666666666666666, \"#ed7953\"], [0.7777777777777778, \"#fb9f3a\"], [0.8888888888888888, \"#fdca26\"], [1.0, \"#f0f921\"]], \"type\": \"heatmapgl\"}], \"histogram\": [{\"marker\": {\"colorbar\": {\"outlinewidth\": 0, \"ticks\": \"\"}}, \"type\": \"histogram\"}], \"histogram2d\": [{\"colorbar\": {\"outlinewidth\": 0, \"ticks\": \"\"}, \"colorscale\": [[0.0, \"#0d0887\"], [0.1111111111111111, \"#46039f\"], [0.2222222222222222, \"#7201a8\"], [0.3333333333333333, \"#9c179e\"], [0.4444444444444444, \"#bd3786\"], [0.5555555555555556, \"#d8576b\"], [0.6666666666666666, \"#ed7953\"], [0.7777777777777778, \"#fb9f3a\"], [0.8888888888888888, \"#fdca26\"], [1.0, \"#f0f921\"]], \"type\": \"histogram2d\"}], \"histogram2dcontour\": [{\"colorbar\": {\"outlinewidth\": 0, \"ticks\": \"\"}, \"colorscale\": [[0.0, \"#0d0887\"], [0.1111111111111111, \"#46039f\"], [0.2222222222222222, \"#7201a8\"], [0.3333333333333333, \"#9c179e\"], [0.4444444444444444, \"#bd3786\"], [0.5555555555555556, \"#d8576b\"], [0.6666666666666666, \"#ed7953\"], [0.7777777777777778, \"#fb9f3a\"], [0.8888888888888888, \"#fdca26\"], [1.0, \"#f0f921\"]], \"type\": \"histogram2dcontour\"}], \"mesh3d\": [{\"colorbar\": {\"outlinewidth\": 0, \"ticks\": \"\"}, \"type\": \"mesh3d\"}], \"parcoords\": [{\"line\": {\"colorbar\": {\"outlinewidth\": 0, \"ticks\": \"\"}}, \"type\": \"parcoords\"}], \"pie\": [{\"automargin\": true, \"type\": \"pie\"}], \"scatter\": [{\"marker\": {\"colorbar\": {\"outlinewidth\": 0, \"ticks\": \"\"}}, \"type\": \"scatter\"}], \"scatter3d\": [{\"line\": {\"colorbar\": {\"outlinewidth\": 0, \"ticks\": \"\"}}, \"marker\": {\"colorbar\": {\"outlinewidth\": 0, \"ticks\": \"\"}}, \"type\": \"scatter3d\"}], \"scattercarpet\": [{\"marker\": {\"colorbar\": {\"outlinewidth\": 0, \"ticks\": \"\"}}, \"type\": \"scattercarpet\"}], \"scattergeo\": [{\"marker\": {\"colorbar\": {\"outlinewidth\": 0, \"ticks\": \"\"}}, \"type\": \"scattergeo\"}], \"scattergl\": [{\"marker\": {\"colorbar\": {\"outlinewidth\": 0, \"ticks\": \"\"}}, \"type\": \"scattergl\"}], \"scattermapbox\": [{\"marker\": {\"colorbar\": {\"outlinewidth\": 0, \"ticks\": \"\"}}, \"type\": \"scattermapbox\"}], \"scatterpolar\": [{\"marker\": {\"colorbar\": {\"outlinewidth\": 0, \"ticks\": \"\"}}, \"type\": \"scatterpolar\"}], \"scatterpolargl\": [{\"marker\": {\"colorbar\": {\"outlinewidth\": 0, \"ticks\": \"\"}}, \"type\": \"scatterpolargl\"}], \"scatterternary\": [{\"marker\": {\"colorbar\": {\"outlinewidth\": 0, \"ticks\": \"\"}}, \"type\": \"scatterternary\"}], \"surface\": [{\"colorbar\": {\"outlinewidth\": 0, \"ticks\": \"\"}, \"colorscale\": [[0.0, \"#0d0887\"], [0.1111111111111111, \"#46039f\"], [0.2222222222222222, \"#7201a8\"], [0.3333333333333333, \"#9c179e\"], [0.4444444444444444, \"#bd3786\"], [0.5555555555555556, \"#d8576b\"], [0.6666666666666666, \"#ed7953\"], [0.7777777777777778, \"#fb9f3a\"], [0.8888888888888888, \"#fdca26\"], [1.0, \"#f0f921\"]], \"type\": \"surface\"}], \"table\": [{\"cells\": {\"fill\": {\"color\": \"#EBF0F8\"}, \"line\": {\"color\": \"white\"}}, \"header\": {\"fill\": {\"color\": \"#C8D4E3\"}, \"line\": {\"color\": \"white\"}}, \"type\": \"table\"}]}, \"layout\": {\"annotationdefaults\": {\"arrowcolor\": \"#2a3f5f\", \"arrowhead\": 0, \"arrowwidth\": 1}, \"autotypenumbers\": \"strict\", \"coloraxis\": {\"colorbar\": {\"outlinewidth\": 0, \"ticks\": \"\"}}, \"colorscale\": {\"diverging\": [[0, \"#8e0152\"], [0.1, \"#c51b7d\"], [0.2, \"#de77ae\"], [0.3, \"#f1b6da\"], [0.4, \"#fde0ef\"], [0.5, \"#f7f7f7\"], [0.6, \"#e6f5d0\"], [0.7, \"#b8e186\"], [0.8, \"#7fbc41\"], [0.9, \"#4d9221\"], [1, \"#276419\"]], \"sequential\": [[0.0, \"#0d0887\"], [0.1111111111111111, \"#46039f\"], [0.2222222222222222, \"#7201a8\"], [0.3333333333333333, \"#9c179e\"], [0.4444444444444444, \"#bd3786\"], [0.5555555555555556, \"#d8576b\"], [0.6666666666666666, \"#ed7953\"], [0.7777777777777778, \"#fb9f3a\"], [0.8888888888888888, \"#fdca26\"], [1.0, \"#f0f921\"]], \"sequentialminus\": [[0.0, \"#0d0887\"], [0.1111111111111111, \"#46039f\"], [0.2222222222222222, \"#7201a8\"], [0.3333333333333333, \"#9c179e\"], [0.4444444444444444, \"#bd3786\"], [0.5555555555555556, \"#d8576b\"], [0.6666666666666666, \"#ed7953\"], [0.7777777777777778, \"#fb9f3a\"], [0.8888888888888888, \"#fdca26\"], [1.0, \"#f0f921\"]]}, \"colorway\": [\"#636efa\", \"#EF553B\", \"#00cc96\", \"#ab63fa\", \"#FFA15A\", \"#19d3f3\", \"#FF6692\", \"#B6E880\", \"#FF97FF\", \"#FECB52\"], \"font\": {\"color\": \"#2a3f5f\"}, \"geo\": {\"bgcolor\": \"white\", \"lakecolor\": \"white\", \"landcolor\": \"#E5ECF6\", \"showlakes\": true, \"showland\": true, \"subunitcolor\": \"white\"}, \"hoverlabel\": {\"align\": \"left\"}, \"hovermode\": \"closest\", \"mapbox\": {\"style\": \"light\"}, \"paper_bgcolor\": \"white\", \"plot_bgcolor\": \"#E5ECF6\", \"polar\": {\"angularaxis\": {\"gridcolor\": \"white\", \"linecolor\": \"white\", \"ticks\": \"\"}, \"bgcolor\": \"#E5ECF6\", \"radialaxis\": {\"gridcolor\": \"white\", \"linecolor\": \"white\", \"ticks\": \"\"}}, \"scene\": {\"xaxis\": {\"backgroundcolor\": \"#E5ECF6\", \"gridcolor\": \"white\", \"gridwidth\": 2, \"linecolor\": \"white\", \"showbackground\": true, \"ticks\": \"\", \"zerolinecolor\": \"white\"}, \"yaxis\": {\"backgroundcolor\": \"#E5ECF6\", \"gridcolor\": \"white\", \"gridwidth\": 2, \"linecolor\": \"white\", \"showbackground\": true, \"ticks\": \"\", \"zerolinecolor\": \"white\"}, \"zaxis\": {\"backgroundcolor\": \"#E5ECF6\", \"gridcolor\": \"white\", \"gridwidth\": 2, \"linecolor\": \"white\", \"showbackground\": true, \"ticks\": \"\", \"zerolinecolor\": \"white\"}}, \"shapedefaults\": {\"line\": {\"color\": \"#2a3f5f\"}}, \"ternary\": {\"aaxis\": {\"gridcolor\": \"white\", \"linecolor\": \"white\", \"ticks\": \"\"}, \"baxis\": {\"gridcolor\": \"white\", \"linecolor\": \"white\", \"ticks\": \"\"}, \"bgcolor\": \"#E5ECF6\", \"caxis\": {\"gridcolor\": \"white\", \"linecolor\": \"white\", \"ticks\": \"\"}}, \"title\": {\"x\": 0.05}, \"xaxis\": {\"automargin\": true, \"gridcolor\": \"white\", \"linecolor\": \"white\", \"ticks\": \"\", \"title\": {\"standoff\": 15}, \"zerolinecolor\": \"white\", \"zerolinewidth\": 2}, \"yaxis\": {\"automargin\": true, \"gridcolor\": \"white\", \"linecolor\": \"white\", \"ticks\": \"\", \"title\": {\"standoff\": 15}, \"zerolinecolor\": \"white\", \"zerolinewidth\": 2}}}, \"width\": 1000},                        {\"responsive\": true}                    ).then(function(){\n",
       "                            \n",
       "var gd = document.getElementById('c344fe40-37f8-4758-a8e9-4593666ada32');\n",
       "var x = new MutationObserver(function (mutations, observer) {{\n",
       "        var display = window.getComputedStyle(gd).display;\n",
       "        if (!display || display === 'none') {{\n",
       "            console.log([gd, 'removed!']);\n",
       "            Plotly.purge(gd);\n",
       "            observer.disconnect();\n",
       "        }}\n",
       "}});\n",
       "\n",
       "// Listen for the removal of the full notebook cells\n",
       "var notebookContainer = gd.closest('#notebook-container');\n",
       "if (notebookContainer) {{\n",
       "    x.observe(notebookContainer, {childList: true});\n",
       "}}\n",
       "\n",
       "// Listen for the clearing of the current output cell\n",
       "var outputEl = gd.closest('.output');\n",
       "if (outputEl) {{\n",
       "    x.observe(outputEl, {childList: true});\n",
       "}}\n",
       "\n",
       "                        })                };                });            </script>        </div>"
      ]
     },
     "metadata": {},
     "output_type": "display_data"
    }
   ],
   "source": [
    "fig = px.scatter_geo(city_group, lat=\"Latitude\", lon=\"Longitude\",size=\"Count\",\n",
    "                     hover_name=\"City  Location\", color=\"Sum\",size_max=60,\n",
    "                     projection=\"natural earth\",width=1000,height=600)\n",
    "fig.show()"
   ]
  },
  {
   "cell_type": "code",
   "execution_count": 194,
   "metadata": {},
   "outputs": [
    {
     "name": "stderr",
     "output_type": "stream",
     "text": [
      "<ipython-input-194-374f80b1677d>:1: SettingWithCopyWarning:\n",
      "\n",
      "\n",
      "A value is trying to be set on a copy of a slice from a DataFrame.\n",
      "Try using .loc[row_indexer,col_indexer] = value instead\n",
      "\n",
      "See the caveats in the documentation: https://pandas.pydata.org/pandas-docs/stable/user_guide/indexing.html#returning-a-view-versus-a-copy\n",
      "\n"
     ]
    },
    {
     "data": {
      "text/plain": [
       "array(['PRIVATE EQUITY ROUND', 'SERIES C', 'SERIES B', 'PRE-SERIES A',\n",
       "       'SEED ROUND', 'SERIES A', 'SERIES D', 'SEED', 'SERIES F',\n",
       "       'SERIES E', 'DEBT FUNDING', 'SERIES G', 'SERIES H', 'VENTURE',\n",
       "       'SEED FUNDING', 'UNKNOWN', 'FUNDING ROUND', 'CORPORATE ROUND',\n",
       "       'MAIDEN ROUND', 'SEED FUNDING ROUND', 'SINGLE VENTURE',\n",
       "       'VENTURE ROUND', 'ANGEL', 'SERIES J', 'ANGEL ROUND',\n",
       "       'VENTURE - SERIES UNKNOWN', 'BRIDGE ROUND', 'PRIVATE EQUITY',\n",
       "       'DEBT AND PREFERENCE CAPITAL', 'INHOUSE FUNDING',\n",
       "       'SEED/ ANGEL FUNDING', 'DEBT', 'PRE SERIES A', 'EQUITY',\n",
       "       'DEBT-FUNDING', 'MEZZANINE', 'SERIES B (EXTENSION)',\n",
       "       'EQUITY BASED FUNDING', 'PRIVATE FUNDING', 'SEED / ANGEL FUNDING',\n",
       "       'SEED/ANGEL FUNDING', 'SEED / ANGLE FUNDING',\n",
       "       'ANGEL / SEED FUNDING', 'PRIVATE', 'STRUCTURED DEBT', 'TERM LOAN',\n",
       "       'PRIVATEEQUITY', 'ANGEL FUNDING', 'SEED\\\\\\\\NFUNDING',\n",
       "       'PRIVATE\\\\\\\\NEQUITY', 'CROWD FUNDING'], dtype=object)"
      ]
     },
     "execution_count": 194,
     "metadata": {},
     "output_type": "execute_result"
    }
   ],
   "source": [
    "data[\"InvestmentnType\"] = data[\"InvestmentnType\"].str.upper()\n",
    "data[\"InvestmentnType\"].unique()"
   ]
  },
  {
   "cell_type": "code",
   "execution_count": 195,
   "metadata": {},
   "outputs": [
    {
     "data": {
      "application/vnd.plotly.v1+json": {
       "config": {
        "plotlyServerURL": "https://plot.ly"
       },
       "data": [
        {
         "alignmentgroup": "True",
         "hovertemplate": "index=%{x}<br>y=%{y}<extra></extra>",
         "legendgroup": "",
         "marker": {
          "color": "#636efa"
         },
         "name": "",
         "offsetgroup": "",
         "orientation": "v",
         "showlegend": false,
         "textposition": "auto",
         "type": "bar",
         "x": [
          "SEED FUNDING",
          "PRIVATE EQUITY",
          "SEED/ANGEL FUNDING",
          "DEBT FUNDING",
          "SERIES A",
          "SERIES B",
          "SERIES C",
          "SERIES D",
          "PRE-SERIES A",
          "SEED ROUND",
          "SEED",
          "PRIVATE EQUITY ROUND",
          "UNKNOWN",
          "CORPORATE ROUND",
          "CROWD FUNDING",
          "EQUITY",
          "SERIES E",
          "SERIES F",
          "VENTURE ROUND",
          "SEED FUNDING ROUND",
          "PRE SERIES A",
          "DEBT-FUNDING",
          "SERIES J",
          "STRUCTURED DEBT",
          "INHOUSE FUNDING",
          "SINGLE VENTURE",
          "ANGEL",
          "MEZZANINE",
          "VENTURE",
          "PRIVATE",
          "SERIES B (EXTENSION)",
          "VENTURE - SERIES UNKNOWN",
          "PRIVATE FUNDING",
          "ANGEL FUNDING",
          "DEBT AND PREFERENCE CAPITAL",
          "FUNDING ROUND",
          "MAIDEN ROUND",
          "BRIDGE ROUND",
          "SERIES G",
          "DEBT",
          "PRIVATEEQUITY",
          "TERM LOAN",
          "EQUITY BASED FUNDING",
          "SERIES H",
          "ANGEL ROUND"
         ],
         "xaxis": "x",
         "y": [
          1363,
          1340,
          141,
          25,
          24,
          20,
          14,
          12,
          8,
          7,
          4,
          4,
          4,
          2,
          2,
          2,
          2,
          2,
          2,
          1,
          1,
          1,
          1,
          1,
          1,
          1,
          1,
          1,
          1,
          1,
          1,
          1,
          1,
          1,
          1,
          1,
          1,
          1,
          1,
          1,
          1,
          1,
          1,
          1,
          1
         ],
         "yaxis": "y"
        }
       ],
       "layout": {
        "barmode": "relative",
        "legend": {
         "tracegroupgap": 0
        },
        "margin": {
         "t": 60
        },
        "template": {
         "data": {
          "bar": [
           {
            "error_x": {
             "color": "#2a3f5f"
            },
            "error_y": {
             "color": "#2a3f5f"
            },
            "marker": {
             "line": {
              "color": "#E5ECF6",
              "width": 0.5
             }
            },
            "type": "bar"
           }
          ],
          "barpolar": [
           {
            "marker": {
             "line": {
              "color": "#E5ECF6",
              "width": 0.5
             }
            },
            "type": "barpolar"
           }
          ],
          "carpet": [
           {
            "aaxis": {
             "endlinecolor": "#2a3f5f",
             "gridcolor": "white",
             "linecolor": "white",
             "minorgridcolor": "white",
             "startlinecolor": "#2a3f5f"
            },
            "baxis": {
             "endlinecolor": "#2a3f5f",
             "gridcolor": "white",
             "linecolor": "white",
             "minorgridcolor": "white",
             "startlinecolor": "#2a3f5f"
            },
            "type": "carpet"
           }
          ],
          "choropleth": [
           {
            "colorbar": {
             "outlinewidth": 0,
             "ticks": ""
            },
            "type": "choropleth"
           }
          ],
          "contour": [
           {
            "colorbar": {
             "outlinewidth": 0,
             "ticks": ""
            },
            "colorscale": [
             [
              0,
              "#0d0887"
             ],
             [
              0.1111111111111111,
              "#46039f"
             ],
             [
              0.2222222222222222,
              "#7201a8"
             ],
             [
              0.3333333333333333,
              "#9c179e"
             ],
             [
              0.4444444444444444,
              "#bd3786"
             ],
             [
              0.5555555555555556,
              "#d8576b"
             ],
             [
              0.6666666666666666,
              "#ed7953"
             ],
             [
              0.7777777777777778,
              "#fb9f3a"
             ],
             [
              0.8888888888888888,
              "#fdca26"
             ],
             [
              1,
              "#f0f921"
             ]
            ],
            "type": "contour"
           }
          ],
          "contourcarpet": [
           {
            "colorbar": {
             "outlinewidth": 0,
             "ticks": ""
            },
            "type": "contourcarpet"
           }
          ],
          "heatmap": [
           {
            "colorbar": {
             "outlinewidth": 0,
             "ticks": ""
            },
            "colorscale": [
             [
              0,
              "#0d0887"
             ],
             [
              0.1111111111111111,
              "#46039f"
             ],
             [
              0.2222222222222222,
              "#7201a8"
             ],
             [
              0.3333333333333333,
              "#9c179e"
             ],
             [
              0.4444444444444444,
              "#bd3786"
             ],
             [
              0.5555555555555556,
              "#d8576b"
             ],
             [
              0.6666666666666666,
              "#ed7953"
             ],
             [
              0.7777777777777778,
              "#fb9f3a"
             ],
             [
              0.8888888888888888,
              "#fdca26"
             ],
             [
              1,
              "#f0f921"
             ]
            ],
            "type": "heatmap"
           }
          ],
          "heatmapgl": [
           {
            "colorbar": {
             "outlinewidth": 0,
             "ticks": ""
            },
            "colorscale": [
             [
              0,
              "#0d0887"
             ],
             [
              0.1111111111111111,
              "#46039f"
             ],
             [
              0.2222222222222222,
              "#7201a8"
             ],
             [
              0.3333333333333333,
              "#9c179e"
             ],
             [
              0.4444444444444444,
              "#bd3786"
             ],
             [
              0.5555555555555556,
              "#d8576b"
             ],
             [
              0.6666666666666666,
              "#ed7953"
             ],
             [
              0.7777777777777778,
              "#fb9f3a"
             ],
             [
              0.8888888888888888,
              "#fdca26"
             ],
             [
              1,
              "#f0f921"
             ]
            ],
            "type": "heatmapgl"
           }
          ],
          "histogram": [
           {
            "marker": {
             "colorbar": {
              "outlinewidth": 0,
              "ticks": ""
             }
            },
            "type": "histogram"
           }
          ],
          "histogram2d": [
           {
            "colorbar": {
             "outlinewidth": 0,
             "ticks": ""
            },
            "colorscale": [
             [
              0,
              "#0d0887"
             ],
             [
              0.1111111111111111,
              "#46039f"
             ],
             [
              0.2222222222222222,
              "#7201a8"
             ],
             [
              0.3333333333333333,
              "#9c179e"
             ],
             [
              0.4444444444444444,
              "#bd3786"
             ],
             [
              0.5555555555555556,
              "#d8576b"
             ],
             [
              0.6666666666666666,
              "#ed7953"
             ],
             [
              0.7777777777777778,
              "#fb9f3a"
             ],
             [
              0.8888888888888888,
              "#fdca26"
             ],
             [
              1,
              "#f0f921"
             ]
            ],
            "type": "histogram2d"
           }
          ],
          "histogram2dcontour": [
           {
            "colorbar": {
             "outlinewidth": 0,
             "ticks": ""
            },
            "colorscale": [
             [
              0,
              "#0d0887"
             ],
             [
              0.1111111111111111,
              "#46039f"
             ],
             [
              0.2222222222222222,
              "#7201a8"
             ],
             [
              0.3333333333333333,
              "#9c179e"
             ],
             [
              0.4444444444444444,
              "#bd3786"
             ],
             [
              0.5555555555555556,
              "#d8576b"
             ],
             [
              0.6666666666666666,
              "#ed7953"
             ],
             [
              0.7777777777777778,
              "#fb9f3a"
             ],
             [
              0.8888888888888888,
              "#fdca26"
             ],
             [
              1,
              "#f0f921"
             ]
            ],
            "type": "histogram2dcontour"
           }
          ],
          "mesh3d": [
           {
            "colorbar": {
             "outlinewidth": 0,
             "ticks": ""
            },
            "type": "mesh3d"
           }
          ],
          "parcoords": [
           {
            "line": {
             "colorbar": {
              "outlinewidth": 0,
              "ticks": ""
             }
            },
            "type": "parcoords"
           }
          ],
          "pie": [
           {
            "automargin": true,
            "type": "pie"
           }
          ],
          "scatter": [
           {
            "marker": {
             "colorbar": {
              "outlinewidth": 0,
              "ticks": ""
             }
            },
            "type": "scatter"
           }
          ],
          "scatter3d": [
           {
            "line": {
             "colorbar": {
              "outlinewidth": 0,
              "ticks": ""
             }
            },
            "marker": {
             "colorbar": {
              "outlinewidth": 0,
              "ticks": ""
             }
            },
            "type": "scatter3d"
           }
          ],
          "scattercarpet": [
           {
            "marker": {
             "colorbar": {
              "outlinewidth": 0,
              "ticks": ""
             }
            },
            "type": "scattercarpet"
           }
          ],
          "scattergeo": [
           {
            "marker": {
             "colorbar": {
              "outlinewidth": 0,
              "ticks": ""
             }
            },
            "type": "scattergeo"
           }
          ],
          "scattergl": [
           {
            "marker": {
             "colorbar": {
              "outlinewidth": 0,
              "ticks": ""
             }
            },
            "type": "scattergl"
           }
          ],
          "scattermapbox": [
           {
            "marker": {
             "colorbar": {
              "outlinewidth": 0,
              "ticks": ""
             }
            },
            "type": "scattermapbox"
           }
          ],
          "scatterpolar": [
           {
            "marker": {
             "colorbar": {
              "outlinewidth": 0,
              "ticks": ""
             }
            },
            "type": "scatterpolar"
           }
          ],
          "scatterpolargl": [
           {
            "marker": {
             "colorbar": {
              "outlinewidth": 0,
              "ticks": ""
             }
            },
            "type": "scatterpolargl"
           }
          ],
          "scatterternary": [
           {
            "marker": {
             "colorbar": {
              "outlinewidth": 0,
              "ticks": ""
             }
            },
            "type": "scatterternary"
           }
          ],
          "surface": [
           {
            "colorbar": {
             "outlinewidth": 0,
             "ticks": ""
            },
            "colorscale": [
             [
              0,
              "#0d0887"
             ],
             [
              0.1111111111111111,
              "#46039f"
             ],
             [
              0.2222222222222222,
              "#7201a8"
             ],
             [
              0.3333333333333333,
              "#9c179e"
             ],
             [
              0.4444444444444444,
              "#bd3786"
             ],
             [
              0.5555555555555556,
              "#d8576b"
             ],
             [
              0.6666666666666666,
              "#ed7953"
             ],
             [
              0.7777777777777778,
              "#fb9f3a"
             ],
             [
              0.8888888888888888,
              "#fdca26"
             ],
             [
              1,
              "#f0f921"
             ]
            ],
            "type": "surface"
           }
          ],
          "table": [
           {
            "cells": {
             "fill": {
              "color": "#EBF0F8"
             },
             "line": {
              "color": "white"
             }
            },
            "header": {
             "fill": {
              "color": "#C8D4E3"
             },
             "line": {
              "color": "white"
             }
            },
            "type": "table"
           }
          ]
         },
         "layout": {
          "annotationdefaults": {
           "arrowcolor": "#2a3f5f",
           "arrowhead": 0,
           "arrowwidth": 1
          },
          "autotypenumbers": "strict",
          "coloraxis": {
           "colorbar": {
            "outlinewidth": 0,
            "ticks": ""
           }
          },
          "colorscale": {
           "diverging": [
            [
             0,
             "#8e0152"
            ],
            [
             0.1,
             "#c51b7d"
            ],
            [
             0.2,
             "#de77ae"
            ],
            [
             0.3,
             "#f1b6da"
            ],
            [
             0.4,
             "#fde0ef"
            ],
            [
             0.5,
             "#f7f7f7"
            ],
            [
             0.6,
             "#e6f5d0"
            ],
            [
             0.7,
             "#b8e186"
            ],
            [
             0.8,
             "#7fbc41"
            ],
            [
             0.9,
             "#4d9221"
            ],
            [
             1,
             "#276419"
            ]
           ],
           "sequential": [
            [
             0,
             "#0d0887"
            ],
            [
             0.1111111111111111,
             "#46039f"
            ],
            [
             0.2222222222222222,
             "#7201a8"
            ],
            [
             0.3333333333333333,
             "#9c179e"
            ],
            [
             0.4444444444444444,
             "#bd3786"
            ],
            [
             0.5555555555555556,
             "#d8576b"
            ],
            [
             0.6666666666666666,
             "#ed7953"
            ],
            [
             0.7777777777777778,
             "#fb9f3a"
            ],
            [
             0.8888888888888888,
             "#fdca26"
            ],
            [
             1,
             "#f0f921"
            ]
           ],
           "sequentialminus": [
            [
             0,
             "#0d0887"
            ],
            [
             0.1111111111111111,
             "#46039f"
            ],
            [
             0.2222222222222222,
             "#7201a8"
            ],
            [
             0.3333333333333333,
             "#9c179e"
            ],
            [
             0.4444444444444444,
             "#bd3786"
            ],
            [
             0.5555555555555556,
             "#d8576b"
            ],
            [
             0.6666666666666666,
             "#ed7953"
            ],
            [
             0.7777777777777778,
             "#fb9f3a"
            ],
            [
             0.8888888888888888,
             "#fdca26"
            ],
            [
             1,
             "#f0f921"
            ]
           ]
          },
          "colorway": [
           "#636efa",
           "#EF553B",
           "#00cc96",
           "#ab63fa",
           "#FFA15A",
           "#19d3f3",
           "#FF6692",
           "#B6E880",
           "#FF97FF",
           "#FECB52"
          ],
          "font": {
           "color": "#2a3f5f"
          },
          "geo": {
           "bgcolor": "white",
           "lakecolor": "white",
           "landcolor": "#E5ECF6",
           "showlakes": true,
           "showland": true,
           "subunitcolor": "white"
          },
          "hoverlabel": {
           "align": "left"
          },
          "hovermode": "closest",
          "mapbox": {
           "style": "light"
          },
          "paper_bgcolor": "white",
          "plot_bgcolor": "#E5ECF6",
          "polar": {
           "angularaxis": {
            "gridcolor": "white",
            "linecolor": "white",
            "ticks": ""
           },
           "bgcolor": "#E5ECF6",
           "radialaxis": {
            "gridcolor": "white",
            "linecolor": "white",
            "ticks": ""
           }
          },
          "scene": {
           "xaxis": {
            "backgroundcolor": "#E5ECF6",
            "gridcolor": "white",
            "gridwidth": 2,
            "linecolor": "white",
            "showbackground": true,
            "ticks": "",
            "zerolinecolor": "white"
           },
           "yaxis": {
            "backgroundcolor": "#E5ECF6",
            "gridcolor": "white",
            "gridwidth": 2,
            "linecolor": "white",
            "showbackground": true,
            "ticks": "",
            "zerolinecolor": "white"
           },
           "zaxis": {
            "backgroundcolor": "#E5ECF6",
            "gridcolor": "white",
            "gridwidth": 2,
            "linecolor": "white",
            "showbackground": true,
            "ticks": "",
            "zerolinecolor": "white"
           }
          },
          "shapedefaults": {
           "line": {
            "color": "#2a3f5f"
           }
          },
          "ternary": {
           "aaxis": {
            "gridcolor": "white",
            "linecolor": "white",
            "ticks": ""
           },
           "baxis": {
            "gridcolor": "white",
            "linecolor": "white",
            "ticks": ""
           },
           "bgcolor": "#E5ECF6",
           "caxis": {
            "gridcolor": "white",
            "linecolor": "white",
            "ticks": ""
           }
          },
          "title": {
           "x": 0.05
          },
          "xaxis": {
           "automargin": true,
           "gridcolor": "white",
           "linecolor": "white",
           "ticks": "",
           "title": {
            "standoff": 15
           },
           "zerolinecolor": "white",
           "zerolinewidth": 2
          },
          "yaxis": {
           "automargin": true,
           "gridcolor": "white",
           "linecolor": "white",
           "ticks": "",
           "title": {
            "standoff": 15
           },
           "zerolinecolor": "white",
           "zerolinewidth": 2
          }
         }
        },
        "xaxis": {
         "anchor": "y",
         "domain": [
          0,
          1
         ],
         "title": {
          "text": "index"
         }
        },
        "yaxis": {
         "anchor": "x",
         "domain": [
          0,
          1
         ],
         "title": {
          "text": "y"
         }
        }
       }
      },
      "text/html": [
       "<div>                            <div id=\"621d2f8e-56c1-41e0-a42a-95b893099024\" class=\"plotly-graph-div\" style=\"height:525px; width:100%;\"></div>            <script type=\"text/javascript\">                require([\"plotly\"], function(Plotly) {                    window.PLOTLYENV=window.PLOTLYENV || {};                                    if (document.getElementById(\"621d2f8e-56c1-41e0-a42a-95b893099024\")) {                    Plotly.newPlot(                        \"621d2f8e-56c1-41e0-a42a-95b893099024\",                        [{\"alignmentgroup\": \"True\", \"hovertemplate\": \"index=%{x}<br>y=%{y}<extra></extra>\", \"legendgroup\": \"\", \"marker\": {\"color\": \"#636efa\"}, \"name\": \"\", \"offsetgroup\": \"\", \"orientation\": \"v\", \"showlegend\": false, \"textposition\": \"auto\", \"type\": \"bar\", \"x\": [\"SEED FUNDING\", \"PRIVATE EQUITY\", \"SEED/ANGEL FUNDING\", \"DEBT FUNDING\", \"SERIES A\", \"SERIES B\", \"SERIES C\", \"SERIES D\", \"PRE-SERIES A\", \"SEED ROUND\", \"SEED\", \"PRIVATE EQUITY ROUND\", \"UNKNOWN\", \"CORPORATE ROUND\", \"CROWD FUNDING\", \"EQUITY\", \"SERIES E\", \"SERIES F\", \"VENTURE ROUND\", \"SEED FUNDING ROUND\", \"PRE SERIES A\", \"DEBT-FUNDING\", \"SERIES J\", \"STRUCTURED DEBT\", \"INHOUSE FUNDING\", \"SINGLE VENTURE\", \"ANGEL\", \"MEZZANINE\", \"VENTURE\", \"PRIVATE\", \"SERIES B (EXTENSION)\", \"VENTURE - SERIES UNKNOWN\", \"PRIVATE FUNDING\", \"ANGEL FUNDING\", \"DEBT AND PREFERENCE CAPITAL\", \"FUNDING ROUND\", \"MAIDEN ROUND\", \"BRIDGE ROUND\", \"SERIES G\", \"DEBT\", \"PRIVATEEQUITY\", \"TERM LOAN\", \"EQUITY BASED FUNDING\", \"SERIES H\", \"ANGEL ROUND\"], \"xaxis\": \"x\", \"y\": [1363, 1340, 141, 25, 24, 20, 14, 12, 8, 7, 4, 4, 4, 2, 2, 2, 2, 2, 2, 1, 1, 1, 1, 1, 1, 1, 1, 1, 1, 1, 1, 1, 1, 1, 1, 1, 1, 1, 1, 1, 1, 1, 1, 1, 1], \"yaxis\": \"y\"}],                        {\"barmode\": \"relative\", \"legend\": {\"tracegroupgap\": 0}, \"margin\": {\"t\": 60}, \"template\": {\"data\": {\"bar\": [{\"error_x\": {\"color\": \"#2a3f5f\"}, \"error_y\": {\"color\": \"#2a3f5f\"}, \"marker\": {\"line\": {\"color\": \"#E5ECF6\", \"width\": 0.5}}, \"type\": \"bar\"}], \"barpolar\": [{\"marker\": {\"line\": {\"color\": \"#E5ECF6\", \"width\": 0.5}}, \"type\": \"barpolar\"}], \"carpet\": [{\"aaxis\": {\"endlinecolor\": \"#2a3f5f\", \"gridcolor\": \"white\", \"linecolor\": \"white\", \"minorgridcolor\": \"white\", \"startlinecolor\": \"#2a3f5f\"}, \"baxis\": {\"endlinecolor\": \"#2a3f5f\", \"gridcolor\": \"white\", \"linecolor\": \"white\", \"minorgridcolor\": \"white\", \"startlinecolor\": \"#2a3f5f\"}, \"type\": \"carpet\"}], \"choropleth\": [{\"colorbar\": {\"outlinewidth\": 0, \"ticks\": \"\"}, \"type\": \"choropleth\"}], \"contour\": [{\"colorbar\": {\"outlinewidth\": 0, \"ticks\": \"\"}, \"colorscale\": [[0.0, \"#0d0887\"], [0.1111111111111111, \"#46039f\"], [0.2222222222222222, \"#7201a8\"], [0.3333333333333333, \"#9c179e\"], [0.4444444444444444, \"#bd3786\"], [0.5555555555555556, \"#d8576b\"], [0.6666666666666666, \"#ed7953\"], [0.7777777777777778, \"#fb9f3a\"], [0.8888888888888888, \"#fdca26\"], [1.0, \"#f0f921\"]], \"type\": \"contour\"}], \"contourcarpet\": [{\"colorbar\": {\"outlinewidth\": 0, \"ticks\": \"\"}, \"type\": \"contourcarpet\"}], \"heatmap\": [{\"colorbar\": {\"outlinewidth\": 0, \"ticks\": \"\"}, \"colorscale\": [[0.0, \"#0d0887\"], [0.1111111111111111, \"#46039f\"], [0.2222222222222222, \"#7201a8\"], [0.3333333333333333, \"#9c179e\"], [0.4444444444444444, \"#bd3786\"], [0.5555555555555556, \"#d8576b\"], [0.6666666666666666, \"#ed7953\"], [0.7777777777777778, \"#fb9f3a\"], [0.8888888888888888, \"#fdca26\"], [1.0, \"#f0f921\"]], \"type\": \"heatmap\"}], \"heatmapgl\": [{\"colorbar\": {\"outlinewidth\": 0, \"ticks\": \"\"}, \"colorscale\": [[0.0, \"#0d0887\"], [0.1111111111111111, \"#46039f\"], [0.2222222222222222, \"#7201a8\"], [0.3333333333333333, \"#9c179e\"], [0.4444444444444444, \"#bd3786\"], [0.5555555555555556, \"#d8576b\"], [0.6666666666666666, \"#ed7953\"], [0.7777777777777778, \"#fb9f3a\"], [0.8888888888888888, \"#fdca26\"], [1.0, \"#f0f921\"]], \"type\": \"heatmapgl\"}], \"histogram\": [{\"marker\": {\"colorbar\": {\"outlinewidth\": 0, \"ticks\": \"\"}}, \"type\": \"histogram\"}], \"histogram2d\": [{\"colorbar\": {\"outlinewidth\": 0, \"ticks\": \"\"}, \"colorscale\": [[0.0, \"#0d0887\"], [0.1111111111111111, \"#46039f\"], [0.2222222222222222, \"#7201a8\"], [0.3333333333333333, \"#9c179e\"], [0.4444444444444444, \"#bd3786\"], [0.5555555555555556, \"#d8576b\"], [0.6666666666666666, \"#ed7953\"], [0.7777777777777778, \"#fb9f3a\"], [0.8888888888888888, \"#fdca26\"], [1.0, \"#f0f921\"]], \"type\": \"histogram2d\"}], \"histogram2dcontour\": [{\"colorbar\": {\"outlinewidth\": 0, \"ticks\": \"\"}, \"colorscale\": [[0.0, \"#0d0887\"], [0.1111111111111111, \"#46039f\"], [0.2222222222222222, \"#7201a8\"], [0.3333333333333333, \"#9c179e\"], [0.4444444444444444, \"#bd3786\"], [0.5555555555555556, \"#d8576b\"], [0.6666666666666666, \"#ed7953\"], [0.7777777777777778, \"#fb9f3a\"], [0.8888888888888888, \"#fdca26\"], [1.0, \"#f0f921\"]], \"type\": \"histogram2dcontour\"}], \"mesh3d\": [{\"colorbar\": {\"outlinewidth\": 0, \"ticks\": \"\"}, \"type\": \"mesh3d\"}], \"parcoords\": [{\"line\": {\"colorbar\": {\"outlinewidth\": 0, \"ticks\": \"\"}}, \"type\": \"parcoords\"}], \"pie\": [{\"automargin\": true, \"type\": \"pie\"}], \"scatter\": [{\"marker\": {\"colorbar\": {\"outlinewidth\": 0, \"ticks\": \"\"}}, \"type\": \"scatter\"}], \"scatter3d\": [{\"line\": {\"colorbar\": {\"outlinewidth\": 0, \"ticks\": \"\"}}, \"marker\": {\"colorbar\": {\"outlinewidth\": 0, \"ticks\": \"\"}}, \"type\": \"scatter3d\"}], \"scattercarpet\": [{\"marker\": {\"colorbar\": {\"outlinewidth\": 0, \"ticks\": \"\"}}, \"type\": \"scattercarpet\"}], \"scattergeo\": [{\"marker\": {\"colorbar\": {\"outlinewidth\": 0, \"ticks\": \"\"}}, \"type\": \"scattergeo\"}], \"scattergl\": [{\"marker\": {\"colorbar\": {\"outlinewidth\": 0, \"ticks\": \"\"}}, \"type\": \"scattergl\"}], \"scattermapbox\": [{\"marker\": {\"colorbar\": {\"outlinewidth\": 0, \"ticks\": \"\"}}, \"type\": \"scattermapbox\"}], \"scatterpolar\": [{\"marker\": {\"colorbar\": {\"outlinewidth\": 0, \"ticks\": \"\"}}, \"type\": \"scatterpolar\"}], \"scatterpolargl\": [{\"marker\": {\"colorbar\": {\"outlinewidth\": 0, \"ticks\": \"\"}}, \"type\": \"scatterpolargl\"}], \"scatterternary\": [{\"marker\": {\"colorbar\": {\"outlinewidth\": 0, \"ticks\": \"\"}}, \"type\": \"scatterternary\"}], \"surface\": [{\"colorbar\": {\"outlinewidth\": 0, \"ticks\": \"\"}, \"colorscale\": [[0.0, \"#0d0887\"], [0.1111111111111111, \"#46039f\"], [0.2222222222222222, \"#7201a8\"], [0.3333333333333333, \"#9c179e\"], [0.4444444444444444, \"#bd3786\"], [0.5555555555555556, \"#d8576b\"], [0.6666666666666666, \"#ed7953\"], [0.7777777777777778, \"#fb9f3a\"], [0.8888888888888888, \"#fdca26\"], [1.0, \"#f0f921\"]], \"type\": \"surface\"}], \"table\": [{\"cells\": {\"fill\": {\"color\": \"#EBF0F8\"}, \"line\": {\"color\": \"white\"}}, \"header\": {\"fill\": {\"color\": \"#C8D4E3\"}, \"line\": {\"color\": \"white\"}}, \"type\": \"table\"}]}, \"layout\": {\"annotationdefaults\": {\"arrowcolor\": \"#2a3f5f\", \"arrowhead\": 0, \"arrowwidth\": 1}, \"autotypenumbers\": \"strict\", \"coloraxis\": {\"colorbar\": {\"outlinewidth\": 0, \"ticks\": \"\"}}, \"colorscale\": {\"diverging\": [[0, \"#8e0152\"], [0.1, \"#c51b7d\"], [0.2, \"#de77ae\"], [0.3, \"#f1b6da\"], [0.4, \"#fde0ef\"], [0.5, \"#f7f7f7\"], [0.6, \"#e6f5d0\"], [0.7, \"#b8e186\"], [0.8, \"#7fbc41\"], [0.9, \"#4d9221\"], [1, \"#276419\"]], \"sequential\": [[0.0, \"#0d0887\"], [0.1111111111111111, \"#46039f\"], [0.2222222222222222, \"#7201a8\"], [0.3333333333333333, \"#9c179e\"], [0.4444444444444444, \"#bd3786\"], [0.5555555555555556, \"#d8576b\"], [0.6666666666666666, \"#ed7953\"], [0.7777777777777778, \"#fb9f3a\"], [0.8888888888888888, \"#fdca26\"], [1.0, \"#f0f921\"]], \"sequentialminus\": [[0.0, \"#0d0887\"], [0.1111111111111111, \"#46039f\"], [0.2222222222222222, \"#7201a8\"], [0.3333333333333333, \"#9c179e\"], [0.4444444444444444, \"#bd3786\"], [0.5555555555555556, \"#d8576b\"], [0.6666666666666666, \"#ed7953\"], [0.7777777777777778, \"#fb9f3a\"], [0.8888888888888888, \"#fdca26\"], [1.0, \"#f0f921\"]]}, \"colorway\": [\"#636efa\", \"#EF553B\", \"#00cc96\", \"#ab63fa\", \"#FFA15A\", \"#19d3f3\", \"#FF6692\", \"#B6E880\", \"#FF97FF\", \"#FECB52\"], \"font\": {\"color\": \"#2a3f5f\"}, \"geo\": {\"bgcolor\": \"white\", \"lakecolor\": \"white\", \"landcolor\": \"#E5ECF6\", \"showlakes\": true, \"showland\": true, \"subunitcolor\": \"white\"}, \"hoverlabel\": {\"align\": \"left\"}, \"hovermode\": \"closest\", \"mapbox\": {\"style\": \"light\"}, \"paper_bgcolor\": \"white\", \"plot_bgcolor\": \"#E5ECF6\", \"polar\": {\"angularaxis\": {\"gridcolor\": \"white\", \"linecolor\": \"white\", \"ticks\": \"\"}, \"bgcolor\": \"#E5ECF6\", \"radialaxis\": {\"gridcolor\": \"white\", \"linecolor\": \"white\", \"ticks\": \"\"}}, \"scene\": {\"xaxis\": {\"backgroundcolor\": \"#E5ECF6\", \"gridcolor\": \"white\", \"gridwidth\": 2, \"linecolor\": \"white\", \"showbackground\": true, \"ticks\": \"\", \"zerolinecolor\": \"white\"}, \"yaxis\": {\"backgroundcolor\": \"#E5ECF6\", \"gridcolor\": \"white\", \"gridwidth\": 2, \"linecolor\": \"white\", \"showbackground\": true, \"ticks\": \"\", \"zerolinecolor\": \"white\"}, \"zaxis\": {\"backgroundcolor\": \"#E5ECF6\", \"gridcolor\": \"white\", \"gridwidth\": 2, \"linecolor\": \"white\", \"showbackground\": true, \"ticks\": \"\", \"zerolinecolor\": \"white\"}}, \"shapedefaults\": {\"line\": {\"color\": \"#2a3f5f\"}}, \"ternary\": {\"aaxis\": {\"gridcolor\": \"white\", \"linecolor\": \"white\", \"ticks\": \"\"}, \"baxis\": {\"gridcolor\": \"white\", \"linecolor\": \"white\", \"ticks\": \"\"}, \"bgcolor\": \"#E5ECF6\", \"caxis\": {\"gridcolor\": \"white\", \"linecolor\": \"white\", \"ticks\": \"\"}}, \"title\": {\"x\": 0.05}, \"xaxis\": {\"automargin\": true, \"gridcolor\": \"white\", \"linecolor\": \"white\", \"ticks\": \"\", \"title\": {\"standoff\": 15}, \"zerolinecolor\": \"white\", \"zerolinewidth\": 2}, \"yaxis\": {\"automargin\": true, \"gridcolor\": \"white\", \"linecolor\": \"white\", \"ticks\": \"\", \"title\": {\"standoff\": 15}, \"zerolinecolor\": \"white\", \"zerolinewidth\": 2}}}, \"xaxis\": {\"anchor\": \"y\", \"domain\": [0.0, 1.0], \"title\": {\"text\": \"index\"}}, \"yaxis\": {\"anchor\": \"x\", \"domain\": [0.0, 1.0], \"title\": {\"text\": \"y\"}}},                        {\"responsive\": true}                    ).then(function(){\n",
       "                            \n",
       "var gd = document.getElementById('621d2f8e-56c1-41e0-a42a-95b893099024');\n",
       "var x = new MutationObserver(function (mutations, observer) {{\n",
       "        var display = window.getComputedStyle(gd).display;\n",
       "        if (!display || display === 'none') {{\n",
       "            console.log([gd, 'removed!']);\n",
       "            Plotly.purge(gd);\n",
       "            observer.disconnect();\n",
       "        }}\n",
       "}});\n",
       "\n",
       "// Listen for the removal of the full notebook cells\n",
       "var notebookContainer = gd.closest('#notebook-container');\n",
       "if (notebookContainer) {{\n",
       "    x.observe(notebookContainer, {childList: true});\n",
       "}}\n",
       "\n",
       "// Listen for the clearing of the current output cell\n",
       "var outputEl = gd.closest('.output');\n",
       "if (outputEl) {{\n",
       "    x.observe(outputEl, {childList: true});\n",
       "}}\n",
       "\n",
       "                        })                };                });            </script>        </div>"
      ]
     },
     "metadata": {},
     "output_type": "display_data"
    }
   ],
   "source": [
    "data.loc[data[\"InvestmentnType\"]==\"SEED/ ANGEL FUNDING\",\"InvestmentnType\"]=\"SEED/ANGEL FUNDING\"\n",
    "data.loc[data[\"InvestmentnType\"]==\"SEED / ANGEL FUNDING\",\"InvestmentnType\"]=\"SEED/ANGEL FUNDING\"\n",
    "data.loc[data[\"InvestmentnType\"]==\"SEED / ANGLE FUNDING\",\"InvestmentnType\"]=\"SEED/ANGEL FUNDING\"\n",
    "data.loc[data[\"InvestmentnType\"]==\"ANGEL / SEED FUNDING\",\"InvestmentnType\"]=\"SEED/ANGEL FUNDING\"\n",
    "data.loc[data[\"InvestmentnType\"]==\"SEED\\\\\\\\NFUNDING\",\"InvestmentnType\"]=\"SEED FUNDING\"\n",
    "data.loc[data[\"InvestmentnType\"]==\"PRIVATE\\\\\\\\NEQUITY\",\"InvestmentnType\"]=\"PRIVATE EQUITY\"\n",
    "count_investmenttype = data[\"InvestmentnType\"].value_counts()\n",
    "investmenttype_graph = px.bar(count_investmenttype,x=count_investmenttype.index, y=count_investmenttype.values)\n",
    "investmenttype_graph.show()"
   ]
  },
  {
   "cell_type": "code",
   "execution_count": 196,
   "metadata": {},
   "outputs": [
    {
     "data": {
      "text/html": [
       "<div>\n",
       "<style scoped>\n",
       "    .dataframe tbody tr th:only-of-type {\n",
       "        vertical-align: middle;\n",
       "    }\n",
       "\n",
       "    .dataframe tbody tr th {\n",
       "        vertical-align: top;\n",
       "    }\n",
       "\n",
       "    .dataframe thead th {\n",
       "        text-align: right;\n",
       "    }\n",
       "</style>\n",
       "<table border=\"1\" class=\"dataframe\">\n",
       "  <thead>\n",
       "    <tr style=\"text-align: right;\">\n",
       "      <th></th>\n",
       "      <th>Startup Name</th>\n",
       "      <th>InvestmentnType</th>\n",
       "      <th>Amount in USD</th>\n",
       "    </tr>\n",
       "  </thead>\n",
       "  <tbody>\n",
       "    <tr>\n",
       "      <th>0</th>\n",
       "      <td>Flipkart</td>\n",
       "      <td>PRIVATE EQUITY</td>\n",
       "      <td>4.059700e+09</td>\n",
       "    </tr>\n",
       "    <tr>\n",
       "      <th>1</th>\n",
       "      <td>Ola</td>\n",
       "      <td>PRIVATE EQUITY</td>\n",
       "      <td>9.845000e+08</td>\n",
       "    </tr>\n",
       "    <tr>\n",
       "      <th>2</th>\n",
       "      <td>Paytm</td>\n",
       "      <td>FUNDING ROUND</td>\n",
       "      <td>1.000000e+09</td>\n",
       "    </tr>\n",
       "    <tr>\n",
       "      <th>3</th>\n",
       "      <td>Paytm</td>\n",
       "      <td>PRIVATE EQUITY</td>\n",
       "      <td>2.148950e+09</td>\n",
       "    </tr>\n",
       "    <tr>\n",
       "      <th>4</th>\n",
       "      <td>Rapido Bike Taxi</td>\n",
       "      <td>SERIES B</td>\n",
       "      <td>3.900000e+09</td>\n",
       "    </tr>\n",
       "    <tr>\n",
       "      <th>5</th>\n",
       "      <td>Udaan</td>\n",
       "      <td>PRIVATE EQUITY</td>\n",
       "      <td>2.850000e+08</td>\n",
       "    </tr>\n",
       "    <tr>\n",
       "      <th>6</th>\n",
       "      <td>Udaan</td>\n",
       "      <td>SERIES D</td>\n",
       "      <td>5.850000e+08</td>\n",
       "    </tr>\n",
       "  </tbody>\n",
       "</table>\n",
       "</div>"
      ],
      "text/plain": [
       "       Startup Name InvestmentnType  Amount in USD\n",
       "0          Flipkart  PRIVATE EQUITY   4.059700e+09\n",
       "1               Ola  PRIVATE EQUITY   9.845000e+08\n",
       "2             Paytm   FUNDING ROUND   1.000000e+09\n",
       "3             Paytm  PRIVATE EQUITY   2.148950e+09\n",
       "4  Rapido Bike Taxi        SERIES B   3.900000e+09\n",
       "5             Udaan  PRIVATE EQUITY   2.850000e+08\n",
       "6             Udaan        SERIES D   5.850000e+08"
      ]
     },
     "execution_count": 196,
     "metadata": {},
     "output_type": "execute_result"
    }
   ],
   "source": [
    "MaxInv_Startups = Total_amount.nlargest(5,\"Amount in USD\")[\"Startup Name\"].tolist()\n",
    "data2 = pd.DataFrame()\n",
    "data2 = data[data[\"Startup Name\"].isin(MaxInv_Startups)][[\"Startup Name\",\"InvestmentnType\",\"Amount in USD\"]]\n",
    "MaxInv_group = pd.DataFrame(data2.groupby([\"Startup Name\",\"InvestmentnType\"])[\"Amount in USD\"].sum()).reset_index()\n",
    "MaxInv_group"
   ]
  },
  {
   "cell_type": "code",
   "execution_count": 197,
   "metadata": {},
   "outputs": [
    {
     "data": {
      "application/vnd.plotly.v1+json": {
       "config": {
        "plotlyServerURL": "https://plot.ly"
       },
       "data": [
        {
         "branchvalues": "total",
         "domain": {
          "x": [
           0,
           1
          ],
          "y": [
           0,
           1
          ]
         },
         "hovertemplate": "labels=%{label}<br>Amount in USD=%{value}<br>parent=%{parent}<br>id=%{id}<extra></extra>",
         "ids": [
          "Paytm/FUNDING ROUND",
          "Flipkart/PRIVATE EQUITY",
          "Ola/PRIVATE EQUITY",
          "Paytm/PRIVATE EQUITY",
          "Udaan/PRIVATE EQUITY",
          "Rapido Bike Taxi/SERIES B",
          "Udaan/SERIES D",
          "Flipkart",
          "Ola",
          "Paytm",
          "Rapido Bike Taxi",
          "Udaan"
         ],
         "labels": [
          "FUNDING ROUND",
          "PRIVATE EQUITY",
          "PRIVATE EQUITY",
          "PRIVATE EQUITY",
          "PRIVATE EQUITY",
          "SERIES B",
          "SERIES D",
          "Flipkart",
          "Ola",
          "Paytm",
          "Rapido Bike Taxi",
          "Udaan"
         ],
         "name": "",
         "parents": [
          "Paytm",
          "Flipkart",
          "Ola",
          "Paytm",
          "Udaan",
          "Rapido Bike Taxi",
          "Udaan",
          "",
          "",
          "",
          "",
          ""
         ],
         "textinfo": "label+percent parent",
         "type": "sunburst",
         "values": [
          1000000000,
          4059700000,
          984500000,
          2148950000,
          285000000,
          3900000000,
          585000000,
          4059700000,
          984500000,
          3148950000,
          3900000000,
          870000000
         ]
        }
       ],
       "layout": {
        "legend": {
         "tracegroupgap": 0
        },
        "sunburstcolorway": [
         "rgb(36, 86, 104)",
         "rgb(15, 114, 121)",
         "rgb(13, 143, 129)",
         "rgb(57, 171, 126)",
         "rgb(110, 197, 116)",
         "rgb(169, 220, 103)",
         "rgb(237, 239, 93)"
        ],
        "template": {
         "data": {
          "bar": [
           {
            "error_x": {
             "color": "#2a3f5f"
            },
            "error_y": {
             "color": "#2a3f5f"
            },
            "marker": {
             "line": {
              "color": "#E5ECF6",
              "width": 0.5
             }
            },
            "type": "bar"
           }
          ],
          "barpolar": [
           {
            "marker": {
             "line": {
              "color": "#E5ECF6",
              "width": 0.5
             }
            },
            "type": "barpolar"
           }
          ],
          "carpet": [
           {
            "aaxis": {
             "endlinecolor": "#2a3f5f",
             "gridcolor": "white",
             "linecolor": "white",
             "minorgridcolor": "white",
             "startlinecolor": "#2a3f5f"
            },
            "baxis": {
             "endlinecolor": "#2a3f5f",
             "gridcolor": "white",
             "linecolor": "white",
             "minorgridcolor": "white",
             "startlinecolor": "#2a3f5f"
            },
            "type": "carpet"
           }
          ],
          "choropleth": [
           {
            "colorbar": {
             "outlinewidth": 0,
             "ticks": ""
            },
            "type": "choropleth"
           }
          ],
          "contour": [
           {
            "colorbar": {
             "outlinewidth": 0,
             "ticks": ""
            },
            "colorscale": [
             [
              0,
              "#0d0887"
             ],
             [
              0.1111111111111111,
              "#46039f"
             ],
             [
              0.2222222222222222,
              "#7201a8"
             ],
             [
              0.3333333333333333,
              "#9c179e"
             ],
             [
              0.4444444444444444,
              "#bd3786"
             ],
             [
              0.5555555555555556,
              "#d8576b"
             ],
             [
              0.6666666666666666,
              "#ed7953"
             ],
             [
              0.7777777777777778,
              "#fb9f3a"
             ],
             [
              0.8888888888888888,
              "#fdca26"
             ],
             [
              1,
              "#f0f921"
             ]
            ],
            "type": "contour"
           }
          ],
          "contourcarpet": [
           {
            "colorbar": {
             "outlinewidth": 0,
             "ticks": ""
            },
            "type": "contourcarpet"
           }
          ],
          "heatmap": [
           {
            "colorbar": {
             "outlinewidth": 0,
             "ticks": ""
            },
            "colorscale": [
             [
              0,
              "#0d0887"
             ],
             [
              0.1111111111111111,
              "#46039f"
             ],
             [
              0.2222222222222222,
              "#7201a8"
             ],
             [
              0.3333333333333333,
              "#9c179e"
             ],
             [
              0.4444444444444444,
              "#bd3786"
             ],
             [
              0.5555555555555556,
              "#d8576b"
             ],
             [
              0.6666666666666666,
              "#ed7953"
             ],
             [
              0.7777777777777778,
              "#fb9f3a"
             ],
             [
              0.8888888888888888,
              "#fdca26"
             ],
             [
              1,
              "#f0f921"
             ]
            ],
            "type": "heatmap"
           }
          ],
          "heatmapgl": [
           {
            "colorbar": {
             "outlinewidth": 0,
             "ticks": ""
            },
            "colorscale": [
             [
              0,
              "#0d0887"
             ],
             [
              0.1111111111111111,
              "#46039f"
             ],
             [
              0.2222222222222222,
              "#7201a8"
             ],
             [
              0.3333333333333333,
              "#9c179e"
             ],
             [
              0.4444444444444444,
              "#bd3786"
             ],
             [
              0.5555555555555556,
              "#d8576b"
             ],
             [
              0.6666666666666666,
              "#ed7953"
             ],
             [
              0.7777777777777778,
              "#fb9f3a"
             ],
             [
              0.8888888888888888,
              "#fdca26"
             ],
             [
              1,
              "#f0f921"
             ]
            ],
            "type": "heatmapgl"
           }
          ],
          "histogram": [
           {
            "marker": {
             "colorbar": {
              "outlinewidth": 0,
              "ticks": ""
             }
            },
            "type": "histogram"
           }
          ],
          "histogram2d": [
           {
            "colorbar": {
             "outlinewidth": 0,
             "ticks": ""
            },
            "colorscale": [
             [
              0,
              "#0d0887"
             ],
             [
              0.1111111111111111,
              "#46039f"
             ],
             [
              0.2222222222222222,
              "#7201a8"
             ],
             [
              0.3333333333333333,
              "#9c179e"
             ],
             [
              0.4444444444444444,
              "#bd3786"
             ],
             [
              0.5555555555555556,
              "#d8576b"
             ],
             [
              0.6666666666666666,
              "#ed7953"
             ],
             [
              0.7777777777777778,
              "#fb9f3a"
             ],
             [
              0.8888888888888888,
              "#fdca26"
             ],
             [
              1,
              "#f0f921"
             ]
            ],
            "type": "histogram2d"
           }
          ],
          "histogram2dcontour": [
           {
            "colorbar": {
             "outlinewidth": 0,
             "ticks": ""
            },
            "colorscale": [
             [
              0,
              "#0d0887"
             ],
             [
              0.1111111111111111,
              "#46039f"
             ],
             [
              0.2222222222222222,
              "#7201a8"
             ],
             [
              0.3333333333333333,
              "#9c179e"
             ],
             [
              0.4444444444444444,
              "#bd3786"
             ],
             [
              0.5555555555555556,
              "#d8576b"
             ],
             [
              0.6666666666666666,
              "#ed7953"
             ],
             [
              0.7777777777777778,
              "#fb9f3a"
             ],
             [
              0.8888888888888888,
              "#fdca26"
             ],
             [
              1,
              "#f0f921"
             ]
            ],
            "type": "histogram2dcontour"
           }
          ],
          "mesh3d": [
           {
            "colorbar": {
             "outlinewidth": 0,
             "ticks": ""
            },
            "type": "mesh3d"
           }
          ],
          "parcoords": [
           {
            "line": {
             "colorbar": {
              "outlinewidth": 0,
              "ticks": ""
             }
            },
            "type": "parcoords"
           }
          ],
          "pie": [
           {
            "automargin": true,
            "type": "pie"
           }
          ],
          "scatter": [
           {
            "marker": {
             "colorbar": {
              "outlinewidth": 0,
              "ticks": ""
             }
            },
            "type": "scatter"
           }
          ],
          "scatter3d": [
           {
            "line": {
             "colorbar": {
              "outlinewidth": 0,
              "ticks": ""
             }
            },
            "marker": {
             "colorbar": {
              "outlinewidth": 0,
              "ticks": ""
             }
            },
            "type": "scatter3d"
           }
          ],
          "scattercarpet": [
           {
            "marker": {
             "colorbar": {
              "outlinewidth": 0,
              "ticks": ""
             }
            },
            "type": "scattercarpet"
           }
          ],
          "scattergeo": [
           {
            "marker": {
             "colorbar": {
              "outlinewidth": 0,
              "ticks": ""
             }
            },
            "type": "scattergeo"
           }
          ],
          "scattergl": [
           {
            "marker": {
             "colorbar": {
              "outlinewidth": 0,
              "ticks": ""
             }
            },
            "type": "scattergl"
           }
          ],
          "scattermapbox": [
           {
            "marker": {
             "colorbar": {
              "outlinewidth": 0,
              "ticks": ""
             }
            },
            "type": "scattermapbox"
           }
          ],
          "scatterpolar": [
           {
            "marker": {
             "colorbar": {
              "outlinewidth": 0,
              "ticks": ""
             }
            },
            "type": "scatterpolar"
           }
          ],
          "scatterpolargl": [
           {
            "marker": {
             "colorbar": {
              "outlinewidth": 0,
              "ticks": ""
             }
            },
            "type": "scatterpolargl"
           }
          ],
          "scatterternary": [
           {
            "marker": {
             "colorbar": {
              "outlinewidth": 0,
              "ticks": ""
             }
            },
            "type": "scatterternary"
           }
          ],
          "surface": [
           {
            "colorbar": {
             "outlinewidth": 0,
             "ticks": ""
            },
            "colorscale": [
             [
              0,
              "#0d0887"
             ],
             [
              0.1111111111111111,
              "#46039f"
             ],
             [
              0.2222222222222222,
              "#7201a8"
             ],
             [
              0.3333333333333333,
              "#9c179e"
             ],
             [
              0.4444444444444444,
              "#bd3786"
             ],
             [
              0.5555555555555556,
              "#d8576b"
             ],
             [
              0.6666666666666666,
              "#ed7953"
             ],
             [
              0.7777777777777778,
              "#fb9f3a"
             ],
             [
              0.8888888888888888,
              "#fdca26"
             ],
             [
              1,
              "#f0f921"
             ]
            ],
            "type": "surface"
           }
          ],
          "table": [
           {
            "cells": {
             "fill": {
              "color": "#EBF0F8"
             },
             "line": {
              "color": "white"
             }
            },
            "header": {
             "fill": {
              "color": "#C8D4E3"
             },
             "line": {
              "color": "white"
             }
            },
            "type": "table"
           }
          ]
         },
         "layout": {
          "annotationdefaults": {
           "arrowcolor": "#2a3f5f",
           "arrowhead": 0,
           "arrowwidth": 1
          },
          "autotypenumbers": "strict",
          "coloraxis": {
           "colorbar": {
            "outlinewidth": 0,
            "ticks": ""
           }
          },
          "colorscale": {
           "diverging": [
            [
             0,
             "#8e0152"
            ],
            [
             0.1,
             "#c51b7d"
            ],
            [
             0.2,
             "#de77ae"
            ],
            [
             0.3,
             "#f1b6da"
            ],
            [
             0.4,
             "#fde0ef"
            ],
            [
             0.5,
             "#f7f7f7"
            ],
            [
             0.6,
             "#e6f5d0"
            ],
            [
             0.7,
             "#b8e186"
            ],
            [
             0.8,
             "#7fbc41"
            ],
            [
             0.9,
             "#4d9221"
            ],
            [
             1,
             "#276419"
            ]
           ],
           "sequential": [
            [
             0,
             "#0d0887"
            ],
            [
             0.1111111111111111,
             "#46039f"
            ],
            [
             0.2222222222222222,
             "#7201a8"
            ],
            [
             0.3333333333333333,
             "#9c179e"
            ],
            [
             0.4444444444444444,
             "#bd3786"
            ],
            [
             0.5555555555555556,
             "#d8576b"
            ],
            [
             0.6666666666666666,
             "#ed7953"
            ],
            [
             0.7777777777777778,
             "#fb9f3a"
            ],
            [
             0.8888888888888888,
             "#fdca26"
            ],
            [
             1,
             "#f0f921"
            ]
           ],
           "sequentialminus": [
            [
             0,
             "#0d0887"
            ],
            [
             0.1111111111111111,
             "#46039f"
            ],
            [
             0.2222222222222222,
             "#7201a8"
            ],
            [
             0.3333333333333333,
             "#9c179e"
            ],
            [
             0.4444444444444444,
             "#bd3786"
            ],
            [
             0.5555555555555556,
             "#d8576b"
            ],
            [
             0.6666666666666666,
             "#ed7953"
            ],
            [
             0.7777777777777778,
             "#fb9f3a"
            ],
            [
             0.8888888888888888,
             "#fdca26"
            ],
            [
             1,
             "#f0f921"
            ]
           ]
          },
          "colorway": [
           "#636efa",
           "#EF553B",
           "#00cc96",
           "#ab63fa",
           "#FFA15A",
           "#19d3f3",
           "#FF6692",
           "#B6E880",
           "#FF97FF",
           "#FECB52"
          ],
          "font": {
           "color": "#2a3f5f"
          },
          "geo": {
           "bgcolor": "white",
           "lakecolor": "white",
           "landcolor": "#E5ECF6",
           "showlakes": true,
           "showland": true,
           "subunitcolor": "white"
          },
          "hoverlabel": {
           "align": "left"
          },
          "hovermode": "closest",
          "mapbox": {
           "style": "light"
          },
          "paper_bgcolor": "white",
          "plot_bgcolor": "#E5ECF6",
          "polar": {
           "angularaxis": {
            "gridcolor": "white",
            "linecolor": "white",
            "ticks": ""
           },
           "bgcolor": "#E5ECF6",
           "radialaxis": {
            "gridcolor": "white",
            "linecolor": "white",
            "ticks": ""
           }
          },
          "scene": {
           "xaxis": {
            "backgroundcolor": "#E5ECF6",
            "gridcolor": "white",
            "gridwidth": 2,
            "linecolor": "white",
            "showbackground": true,
            "ticks": "",
            "zerolinecolor": "white"
           },
           "yaxis": {
            "backgroundcolor": "#E5ECF6",
            "gridcolor": "white",
            "gridwidth": 2,
            "linecolor": "white",
            "showbackground": true,
            "ticks": "",
            "zerolinecolor": "white"
           },
           "zaxis": {
            "backgroundcolor": "#E5ECF6",
            "gridcolor": "white",
            "gridwidth": 2,
            "linecolor": "white",
            "showbackground": true,
            "ticks": "",
            "zerolinecolor": "white"
           }
          },
          "shapedefaults": {
           "line": {
            "color": "#2a3f5f"
           }
          },
          "ternary": {
           "aaxis": {
            "gridcolor": "white",
            "linecolor": "white",
            "ticks": ""
           },
           "baxis": {
            "gridcolor": "white",
            "linecolor": "white",
            "ticks": ""
           },
           "bgcolor": "#E5ECF6",
           "caxis": {
            "gridcolor": "white",
            "linecolor": "white",
            "ticks": ""
           }
          },
          "title": {
           "x": 0.05
          },
          "xaxis": {
           "automargin": true,
           "gridcolor": "white",
           "linecolor": "white",
           "ticks": "",
           "title": {
            "standoff": 15
           },
           "zerolinecolor": "white",
           "zerolinewidth": 2
          },
          "yaxis": {
           "automargin": true,
           "gridcolor": "white",
           "linecolor": "white",
           "ticks": "",
           "title": {
            "standoff": 15
           },
           "zerolinecolor": "white",
           "zerolinewidth": 2
          }
         }
        },
        "title": {
         "text": "InvestmentnType Distribution in Top-5 Startups with Maximum Investment"
        }
       }
      },
      "text/html": [
       "<div>                            <div id=\"defcd73c-c21f-4061-bdb5-b45c8fe158f6\" class=\"plotly-graph-div\" style=\"height:525px; width:100%;\"></div>            <script type=\"text/javascript\">                require([\"plotly\"], function(Plotly) {                    window.PLOTLYENV=window.PLOTLYENV || {};                                    if (document.getElementById(\"defcd73c-c21f-4061-bdb5-b45c8fe158f6\")) {                    Plotly.newPlot(                        \"defcd73c-c21f-4061-bdb5-b45c8fe158f6\",                        [{\"branchvalues\": \"total\", \"domain\": {\"x\": [0.0, 1.0], \"y\": [0.0, 1.0]}, \"hovertemplate\": \"labels=%{label}<br>Amount in USD=%{value}<br>parent=%{parent}<br>id=%{id}<extra></extra>\", \"ids\": [\"Paytm/FUNDING ROUND\", \"Flipkart/PRIVATE EQUITY\", \"Ola/PRIVATE EQUITY\", \"Paytm/PRIVATE EQUITY\", \"Udaan/PRIVATE EQUITY\", \"Rapido Bike Taxi/SERIES B\", \"Udaan/SERIES D\", \"Flipkart\", \"Ola\", \"Paytm\", \"Rapido Bike Taxi\", \"Udaan\"], \"labels\": [\"FUNDING ROUND\", \"PRIVATE EQUITY\", \"PRIVATE EQUITY\", \"PRIVATE EQUITY\", \"PRIVATE EQUITY\", \"SERIES B\", \"SERIES D\", \"Flipkart\", \"Ola\", \"Paytm\", \"Rapido Bike Taxi\", \"Udaan\"], \"name\": \"\", \"parents\": [\"Paytm\", \"Flipkart\", \"Ola\", \"Paytm\", \"Udaan\", \"Rapido Bike Taxi\", \"Udaan\", \"\", \"\", \"\", \"\", \"\"], \"textinfo\": \"label+percent parent\", \"type\": \"sunburst\", \"values\": [1000000000.0, 4059700000.0, 984500000.0, 2148950000.0, 285000000.0, 3900000000.0, 585000000.0, 4059700000.0, 984500000.0, 3148950000.0, 3900000000.0, 870000000.0]}],                        {\"legend\": {\"tracegroupgap\": 0}, \"sunburstcolorway\": [\"rgb(36, 86, 104)\", \"rgb(15, 114, 121)\", \"rgb(13, 143, 129)\", \"rgb(57, 171, 126)\", \"rgb(110, 197, 116)\", \"rgb(169, 220, 103)\", \"rgb(237, 239, 93)\"], \"template\": {\"data\": {\"bar\": [{\"error_x\": {\"color\": \"#2a3f5f\"}, \"error_y\": {\"color\": \"#2a3f5f\"}, \"marker\": {\"line\": {\"color\": \"#E5ECF6\", \"width\": 0.5}}, \"type\": \"bar\"}], \"barpolar\": [{\"marker\": {\"line\": {\"color\": \"#E5ECF6\", \"width\": 0.5}}, \"type\": \"barpolar\"}], \"carpet\": [{\"aaxis\": {\"endlinecolor\": \"#2a3f5f\", \"gridcolor\": \"white\", \"linecolor\": \"white\", \"minorgridcolor\": \"white\", \"startlinecolor\": \"#2a3f5f\"}, \"baxis\": {\"endlinecolor\": \"#2a3f5f\", \"gridcolor\": \"white\", \"linecolor\": \"white\", \"minorgridcolor\": \"white\", \"startlinecolor\": \"#2a3f5f\"}, \"type\": \"carpet\"}], \"choropleth\": [{\"colorbar\": {\"outlinewidth\": 0, \"ticks\": \"\"}, \"type\": \"choropleth\"}], \"contour\": [{\"colorbar\": {\"outlinewidth\": 0, \"ticks\": \"\"}, \"colorscale\": [[0.0, \"#0d0887\"], [0.1111111111111111, \"#46039f\"], [0.2222222222222222, \"#7201a8\"], [0.3333333333333333, \"#9c179e\"], [0.4444444444444444, \"#bd3786\"], [0.5555555555555556, \"#d8576b\"], [0.6666666666666666, \"#ed7953\"], [0.7777777777777778, \"#fb9f3a\"], [0.8888888888888888, \"#fdca26\"], [1.0, \"#f0f921\"]], \"type\": \"contour\"}], \"contourcarpet\": [{\"colorbar\": {\"outlinewidth\": 0, \"ticks\": \"\"}, \"type\": \"contourcarpet\"}], \"heatmap\": [{\"colorbar\": {\"outlinewidth\": 0, \"ticks\": \"\"}, \"colorscale\": [[0.0, \"#0d0887\"], [0.1111111111111111, \"#46039f\"], [0.2222222222222222, \"#7201a8\"], [0.3333333333333333, \"#9c179e\"], [0.4444444444444444, \"#bd3786\"], [0.5555555555555556, \"#d8576b\"], [0.6666666666666666, \"#ed7953\"], [0.7777777777777778, \"#fb9f3a\"], [0.8888888888888888, \"#fdca26\"], [1.0, \"#f0f921\"]], \"type\": \"heatmap\"}], \"heatmapgl\": [{\"colorbar\": {\"outlinewidth\": 0, \"ticks\": \"\"}, \"colorscale\": [[0.0, \"#0d0887\"], [0.1111111111111111, \"#46039f\"], [0.2222222222222222, \"#7201a8\"], [0.3333333333333333, \"#9c179e\"], [0.4444444444444444, \"#bd3786\"], [0.5555555555555556, \"#d8576b\"], [0.6666666666666666, \"#ed7953\"], [0.7777777777777778, \"#fb9f3a\"], [0.8888888888888888, \"#fdca26\"], [1.0, \"#f0f921\"]], \"type\": \"heatmapgl\"}], \"histogram\": [{\"marker\": {\"colorbar\": {\"outlinewidth\": 0, \"ticks\": \"\"}}, \"type\": \"histogram\"}], \"histogram2d\": [{\"colorbar\": {\"outlinewidth\": 0, \"ticks\": \"\"}, \"colorscale\": [[0.0, \"#0d0887\"], [0.1111111111111111, \"#46039f\"], [0.2222222222222222, \"#7201a8\"], [0.3333333333333333, \"#9c179e\"], [0.4444444444444444, \"#bd3786\"], [0.5555555555555556, \"#d8576b\"], [0.6666666666666666, \"#ed7953\"], [0.7777777777777778, \"#fb9f3a\"], [0.8888888888888888, \"#fdca26\"], [1.0, \"#f0f921\"]], \"type\": \"histogram2d\"}], \"histogram2dcontour\": [{\"colorbar\": {\"outlinewidth\": 0, \"ticks\": \"\"}, \"colorscale\": [[0.0, \"#0d0887\"], [0.1111111111111111, \"#46039f\"], [0.2222222222222222, \"#7201a8\"], [0.3333333333333333, \"#9c179e\"], [0.4444444444444444, \"#bd3786\"], [0.5555555555555556, \"#d8576b\"], [0.6666666666666666, \"#ed7953\"], [0.7777777777777778, \"#fb9f3a\"], [0.8888888888888888, \"#fdca26\"], [1.0, \"#f0f921\"]], \"type\": \"histogram2dcontour\"}], \"mesh3d\": [{\"colorbar\": {\"outlinewidth\": 0, \"ticks\": \"\"}, \"type\": \"mesh3d\"}], \"parcoords\": [{\"line\": {\"colorbar\": {\"outlinewidth\": 0, \"ticks\": \"\"}}, \"type\": \"parcoords\"}], \"pie\": [{\"automargin\": true, \"type\": \"pie\"}], \"scatter\": [{\"marker\": {\"colorbar\": {\"outlinewidth\": 0, \"ticks\": \"\"}}, \"type\": \"scatter\"}], \"scatter3d\": [{\"line\": {\"colorbar\": {\"outlinewidth\": 0, \"ticks\": \"\"}}, \"marker\": {\"colorbar\": {\"outlinewidth\": 0, \"ticks\": \"\"}}, \"type\": \"scatter3d\"}], \"scattercarpet\": [{\"marker\": {\"colorbar\": {\"outlinewidth\": 0, \"ticks\": \"\"}}, \"type\": \"scattercarpet\"}], \"scattergeo\": [{\"marker\": {\"colorbar\": {\"outlinewidth\": 0, \"ticks\": \"\"}}, \"type\": \"scattergeo\"}], \"scattergl\": [{\"marker\": {\"colorbar\": {\"outlinewidth\": 0, \"ticks\": \"\"}}, \"type\": \"scattergl\"}], \"scattermapbox\": [{\"marker\": {\"colorbar\": {\"outlinewidth\": 0, \"ticks\": \"\"}}, \"type\": \"scattermapbox\"}], \"scatterpolar\": [{\"marker\": {\"colorbar\": {\"outlinewidth\": 0, \"ticks\": \"\"}}, \"type\": \"scatterpolar\"}], \"scatterpolargl\": [{\"marker\": {\"colorbar\": {\"outlinewidth\": 0, \"ticks\": \"\"}}, \"type\": \"scatterpolargl\"}], \"scatterternary\": [{\"marker\": {\"colorbar\": {\"outlinewidth\": 0, \"ticks\": \"\"}}, \"type\": \"scatterternary\"}], \"surface\": [{\"colorbar\": {\"outlinewidth\": 0, \"ticks\": \"\"}, \"colorscale\": [[0.0, \"#0d0887\"], [0.1111111111111111, \"#46039f\"], [0.2222222222222222, \"#7201a8\"], [0.3333333333333333, \"#9c179e\"], [0.4444444444444444, \"#bd3786\"], [0.5555555555555556, \"#d8576b\"], [0.6666666666666666, \"#ed7953\"], [0.7777777777777778, \"#fb9f3a\"], [0.8888888888888888, \"#fdca26\"], [1.0, \"#f0f921\"]], \"type\": \"surface\"}], \"table\": [{\"cells\": {\"fill\": {\"color\": \"#EBF0F8\"}, \"line\": {\"color\": \"white\"}}, \"header\": {\"fill\": {\"color\": \"#C8D4E3\"}, \"line\": {\"color\": \"white\"}}, \"type\": \"table\"}]}, \"layout\": {\"annotationdefaults\": {\"arrowcolor\": \"#2a3f5f\", \"arrowhead\": 0, \"arrowwidth\": 1}, \"autotypenumbers\": \"strict\", \"coloraxis\": {\"colorbar\": {\"outlinewidth\": 0, \"ticks\": \"\"}}, \"colorscale\": {\"diverging\": [[0, \"#8e0152\"], [0.1, \"#c51b7d\"], [0.2, \"#de77ae\"], [0.3, \"#f1b6da\"], [0.4, \"#fde0ef\"], [0.5, \"#f7f7f7\"], [0.6, \"#e6f5d0\"], [0.7, \"#b8e186\"], [0.8, \"#7fbc41\"], [0.9, \"#4d9221\"], [1, \"#276419\"]], \"sequential\": [[0.0, \"#0d0887\"], [0.1111111111111111, \"#46039f\"], [0.2222222222222222, \"#7201a8\"], [0.3333333333333333, \"#9c179e\"], [0.4444444444444444, \"#bd3786\"], [0.5555555555555556, \"#d8576b\"], [0.6666666666666666, \"#ed7953\"], [0.7777777777777778, \"#fb9f3a\"], [0.8888888888888888, \"#fdca26\"], [1.0, \"#f0f921\"]], \"sequentialminus\": [[0.0, \"#0d0887\"], [0.1111111111111111, \"#46039f\"], [0.2222222222222222, \"#7201a8\"], [0.3333333333333333, \"#9c179e\"], [0.4444444444444444, \"#bd3786\"], [0.5555555555555556, \"#d8576b\"], [0.6666666666666666, \"#ed7953\"], [0.7777777777777778, \"#fb9f3a\"], [0.8888888888888888, \"#fdca26\"], [1.0, \"#f0f921\"]]}, \"colorway\": [\"#636efa\", \"#EF553B\", \"#00cc96\", \"#ab63fa\", \"#FFA15A\", \"#19d3f3\", \"#FF6692\", \"#B6E880\", \"#FF97FF\", \"#FECB52\"], \"font\": {\"color\": \"#2a3f5f\"}, \"geo\": {\"bgcolor\": \"white\", \"lakecolor\": \"white\", \"landcolor\": \"#E5ECF6\", \"showlakes\": true, \"showland\": true, \"subunitcolor\": \"white\"}, \"hoverlabel\": {\"align\": \"left\"}, \"hovermode\": \"closest\", \"mapbox\": {\"style\": \"light\"}, \"paper_bgcolor\": \"white\", \"plot_bgcolor\": \"#E5ECF6\", \"polar\": {\"angularaxis\": {\"gridcolor\": \"white\", \"linecolor\": \"white\", \"ticks\": \"\"}, \"bgcolor\": \"#E5ECF6\", \"radialaxis\": {\"gridcolor\": \"white\", \"linecolor\": \"white\", \"ticks\": \"\"}}, \"scene\": {\"xaxis\": {\"backgroundcolor\": \"#E5ECF6\", \"gridcolor\": \"white\", \"gridwidth\": 2, \"linecolor\": \"white\", \"showbackground\": true, \"ticks\": \"\", \"zerolinecolor\": \"white\"}, \"yaxis\": {\"backgroundcolor\": \"#E5ECF6\", \"gridcolor\": \"white\", \"gridwidth\": 2, \"linecolor\": \"white\", \"showbackground\": true, \"ticks\": \"\", \"zerolinecolor\": \"white\"}, \"zaxis\": {\"backgroundcolor\": \"#E5ECF6\", \"gridcolor\": \"white\", \"gridwidth\": 2, \"linecolor\": \"white\", \"showbackground\": true, \"ticks\": \"\", \"zerolinecolor\": \"white\"}}, \"shapedefaults\": {\"line\": {\"color\": \"#2a3f5f\"}}, \"ternary\": {\"aaxis\": {\"gridcolor\": \"white\", \"linecolor\": \"white\", \"ticks\": \"\"}, \"baxis\": {\"gridcolor\": \"white\", \"linecolor\": \"white\", \"ticks\": \"\"}, \"bgcolor\": \"#E5ECF6\", \"caxis\": {\"gridcolor\": \"white\", \"linecolor\": \"white\", \"ticks\": \"\"}}, \"title\": {\"x\": 0.05}, \"xaxis\": {\"automargin\": true, \"gridcolor\": \"white\", \"linecolor\": \"white\", \"ticks\": \"\", \"title\": {\"standoff\": 15}, \"zerolinecolor\": \"white\", \"zerolinewidth\": 2}, \"yaxis\": {\"automargin\": true, \"gridcolor\": \"white\", \"linecolor\": \"white\", \"ticks\": \"\", \"title\": {\"standoff\": 15}, \"zerolinecolor\": \"white\", \"zerolinewidth\": 2}}}, \"title\": {\"text\": \"InvestmentnType Distribution in Top-5 Startups with Maximum Investment\"}},                        {\"responsive\": true}                    ).then(function(){\n",
       "                            \n",
       "var gd = document.getElementById('defcd73c-c21f-4061-bdb5-b45c8fe158f6');\n",
       "var x = new MutationObserver(function (mutations, observer) {{\n",
       "        var display = window.getComputedStyle(gd).display;\n",
       "        if (!display || display === 'none') {{\n",
       "            console.log([gd, 'removed!']);\n",
       "            Plotly.purge(gd);\n",
       "            observer.disconnect();\n",
       "        }}\n",
       "}});\n",
       "\n",
       "// Listen for the removal of the full notebook cells\n",
       "var notebookContainer = gd.closest('#notebook-container');\n",
       "if (notebookContainer) {{\n",
       "    x.observe(notebookContainer, {childList: true});\n",
       "}}\n",
       "\n",
       "// Listen for the clearing of the current output cell\n",
       "var outputEl = gd.closest('.output');\n",
       "if (outputEl) {{\n",
       "    x.observe(outputEl, {childList: true});\n",
       "}}\n",
       "\n",
       "                        })                };                });            </script>        </div>"
      ]
     },
     "metadata": {},
     "output_type": "display_data"
    }
   ],
   "source": [
    "MaxInv_chart = px.sunburst(MaxInv_group,path=[\"Startup Name\",\"InvestmentnType\"],values=\"Amount in USD\",title=\"InvestmentnType Distribution in Top-5 Startups with Maximum Investment\",color_discrete_sequence=px.colors.sequential.Aggrnyl,)\n",
    "MaxInv_chart.update_traces(textinfo=\"label+percent parent\")\n",
    "MaxInv_chart.show()"
   ]
  },
  {
   "cell_type": "code",
   "execution_count": 225,
   "metadata": {},
   "outputs": [
    {
     "name": "stderr",
     "output_type": "stream",
     "text": [
      "<ipython-input-225-2a745f0fcee7>:1: SettingWithCopyWarning:\n",
      "\n",
      "\n",
      "A value is trying to be set on a copy of a slice from a DataFrame.\n",
      "Try using .loc[row_indexer,col_indexer] = value instead\n",
      "\n",
      "See the caveats in the documentation: https://pandas.pydata.org/pandas-docs/stable/user_guide/indexing.html#returning-a-view-versus-a-copy\n",
      "\n",
      "<ipython-input-225-2a745f0fcee7>:2: SettingWithCopyWarning:\n",
      "\n",
      "\n",
      "A value is trying to be set on a copy of a slice from a DataFrame.\n",
      "Try using .loc[row_indexer,col_indexer] = value instead\n",
      "\n",
      "See the caveats in the documentation: https://pandas.pydata.org/pandas-docs/stable/user_guide/indexing.html#returning-a-view-versus-a-copy\n",
      "\n"
     ]
    }
   ],
   "source": [
    "data[\"Industry Vertical\"]=data[\"Industry Vertical\"].str.upper()\n",
    "data[\"SubVertical\"]=data[\"SubVertical\"].str.upper()\n",
    "\n"
   ]
  },
  {
   "cell_type": "code",
   "execution_count": null,
   "metadata": {},
   "outputs": [],
   "source": []
  },
  {
   "cell_type": "code",
   "execution_count": 239,
   "metadata": {},
   "outputs": [
    {
     "data": {
      "application/vnd.jupyter.widget-view+json": {
       "model_id": "2822332c645a4b14919f6dbca44d73a7",
       "version_major": 2,
       "version_minor": 0
      },
      "text/plain": [
       "interactive(children=(Dropdown(description='cols', options=('Industry Vertical', 'SubVertical'), value='Indust…"
      ]
     },
     "metadata": {},
     "output_type": "display_data"
    }
   ],
   "source": [
    "@interact_manual\n",
    "def top10(cols = [\"Industry Vertical\",\"SubVertical\"]):\n",
    "    data3  = data[data[cols]!=\"UNKNOWN\"]\n",
    "    vertical = data3[cols].value_counts().head(10)\n",
    "    vertical_graph = sns.barplot(y=vertical.index,x=vertical.values,orient='h')\n",
    "    plt.show()\n",
    "    \n"
   ]
  },
  {
   "cell_type": "code",
   "execution_count": null,
   "metadata": {
    "scrolled": true
   },
   "outputs": [],
   "source": []
  },
  {
   "cell_type": "code",
   "execution_count": null,
   "metadata": {},
   "outputs": [],
   "source": []
  }
 ],
 "metadata": {
  "kernelspec": {
   "display_name": "Python 3",
   "language": "python",
   "name": "python3"
  },
  "language_info": {
   "codemirror_mode": {
    "name": "ipython",
    "version": 3
   },
   "file_extension": ".py",
   "mimetype": "text/x-python",
   "name": "python",
   "nbconvert_exporter": "python",
   "pygments_lexer": "ipython3",
   "version": "3.8.3"
  },
  "latex_envs": {
   "LaTeX_envs_menu_present": true,
   "autoclose": false,
   "autocomplete": true,
   "bibliofile": "biblio.bib",
   "cite_by": "apalike",
   "current_citInitial": 1,
   "eqLabelWithNumbers": true,
   "eqNumInitial": 1,
   "hotkeys": {
    "equation": "Ctrl-E",
    "itemize": "Ctrl-I"
   },
   "labels_anchors": false,
   "latex_user_defs": false,
   "report_style_numbering": false,
   "user_envs_cfg": false
  },
  "toc": {
   "base_numbering": 1,
   "nav_menu": {},
   "number_sections": true,
   "sideBar": true,
   "skip_h1_title": false,
   "title_cell": "Table of Contents",
   "title_sidebar": "Contents",
   "toc_cell": true,
   "toc_position": {},
   "toc_section_display": true,
   "toc_window_display": false
  }
 },
 "nbformat": 4,
 "nbformat_minor": 4
}
