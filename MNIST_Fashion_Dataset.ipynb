{
  "nbformat": 4,
  "nbformat_minor": 0,
  "metadata": {
    "colab": {
      "name": "MNIST_Fashion_Dataset.ipynb",
      "provenance": []
    },
    "kernelspec": {
      "name": "python3",
      "display_name": "Python 3"
    }
  },
  "cells": [
    {
      "cell_type": "code",
      "metadata": {
        "id": "A4mp5poK95My"
      },
      "source": [
        "import tensorflow as tf\r\n",
        "from tensorflow import keras"
      ],
      "execution_count": 1,
      "outputs": []
    },
    {
      "cell_type": "code",
      "metadata": {
        "id": "t8SybXpzZ6yR"
      },
      "source": [
        "import numpy as np\r\n",
        "import matplotlib.pyplot as plt "
      ],
      "execution_count": 2,
      "outputs": []
    },
    {
      "cell_type": "code",
      "metadata": {
        "id": "ev1a1V3oaFA6",
        "colab": {
          "base_uri": "https://localhost:8080/"
        },
        "outputId": "61105dae-0268-4169-d00e-446adf0c74fd"
      },
      "source": [
        "fashion_ds=keras.datasets.fashion_mnist\r\n",
        "(train_images,train_labels),(test_images,test_labels)=fashion_ds.load_data()#splitting data into test and train sets"
      ],
      "execution_count": 3,
      "outputs": [
        {
          "output_type": "stream",
          "text": [
            "Downloading data from https://storage.googleapis.com/tensorflow/tf-keras-datasets/train-labels-idx1-ubyte.gz\n",
            "32768/29515 [=================================] - 0s 0us/step\n",
            "Downloading data from https://storage.googleapis.com/tensorflow/tf-keras-datasets/train-images-idx3-ubyte.gz\n",
            "26427392/26421880 [==============================] - 0s 0us/step\n",
            "Downloading data from https://storage.googleapis.com/tensorflow/tf-keras-datasets/t10k-labels-idx1-ubyte.gz\n",
            "8192/5148 [===============================================] - 0s 0us/step\n",
            "Downloading data from https://storage.googleapis.com/tensorflow/tf-keras-datasets/t10k-images-idx3-ubyte.gz\n",
            "4423680/4422102 [==============================] - 0s 0us/step\n"
          ],
          "name": "stdout"
        }
      ]
    },
    {
      "cell_type": "code",
      "metadata": {
        "colab": {
          "base_uri": "https://localhost:8080/"
        },
        "id": "HG0Wjpv_axQT",
        "outputId": "5bb15e10-8262-4869-aed1-f42782c3f8dd"
      },
      "source": [
        "train_images.shape #60000 images , 28x28 pixels per image"
      ],
      "execution_count": 4,
      "outputs": [
        {
          "output_type": "execute_result",
          "data": {
            "text/plain": [
              "(60000, 28, 28)"
            ]
          },
          "metadata": {
            "tags": []
          },
          "execution_count": 4
        }
      ]
    },
    {
      "cell_type": "code",
      "metadata": {
        "colab": {
          "base_uri": "https://localhost:8080/"
        },
        "id": "JVW5gvk-bGCB",
        "outputId": "5b41a140-2a17-4764-cfa9-b4d648008f6b"
      },
      "source": [
        "train_images[0,24,24] # 24th row ,24th column pixel value of zeroth picture "
      ],
      "execution_count": 5,
      "outputs": [
        {
          "output_type": "execute_result",
          "data": {
            "text/plain": [
              "99"
            ]
          },
          "metadata": {
            "tags": []
          },
          "execution_count": 5
        }
      ]
    },
    {
      "cell_type": "code",
      "metadata": {
        "colab": {
          "base_uri": "https://localhost:8080/"
        },
        "id": "HPNRKHOtb7O5",
        "outputId": "6eb14a7d-bd0e-4606-bfdc-cc752d92d0cc"
      },
      "source": [
        "train_labels[0:5]"
      ],
      "execution_count": 6,
      "outputs": [
        {
          "output_type": "execute_result",
          "data": {
            "text/plain": [
              "array([9, 0, 0, 3, 0], dtype=uint8)"
            ]
          },
          "metadata": {
            "tags": []
          },
          "execution_count": 6
        }
      ]
    },
    {
      "cell_type": "code",
      "metadata": {
        "id": "OcHREawtfSuI"
      },
      "source": [
        "class_names = ['T-shirt/top', 'Trouser', 'Pullover', 'Dress', 'Coat',\r\n",
        "               'Sandal', 'Shirt', 'Sneaker', 'Bag', 'Ankle boot']"
      ],
      "execution_count": 7,
      "outputs": []
    },
    {
      "cell_type": "code",
      "metadata": {
        "colab": {
          "base_uri": "https://localhost:8080/",
          "height": 265
        },
        "id": "1ybPyT3Ihtd0",
        "outputId": "d45b191c-6f39-4025-9938-7616148a1eca"
      },
      "source": [
        "plt.figure()\r\n",
        "plt.imshow(train_images[9])\r\n",
        "plt.show()"
      ],
      "execution_count": 8,
      "outputs": [
        {
          "output_type": "display_data",
          "data": {
            "image/png": "[encoded data removed]",
            "text/plain": [
              "<Figure size 432x288 with 1 Axes>"
            ]
          },
          "metadata": {
            "tags": [],
            "needs_background": "light"
          }
        }
      ]
    },
    {
      "cell_type": "code",
      "metadata": {
        "id": "9WDycW1QiG7-"
      },
      "source": [
        "#scaling image pixels to increase speed of ANN model\r\n",
        "train_images = train_images / 255.0\r\n",
        "\r\n",
        "test_images = test_images / 255.0"
      ],
      "execution_count": 9,
      "outputs": []
    },
    {
      "cell_type": "code",
      "metadata": {
        "id": "ZUSO2lTfjEBe"
      },
      "source": [
        "model = keras.Sequential([\r\n",
        "    keras.layers.Flatten(input_shape=(28, 28)),  # input layer (1)\r\n",
        "    keras.layers.Dense(128, activation='relu'),  # hidden layer (2)\r\n",
        "    keras.layers.Dense(10, activation='softmax') # output layer (3)\r\n",
        "])"
      ],
      "execution_count": 10,
      "outputs": []
    },
    {
      "cell_type": "code",
      "metadata": {
        "id": "V-h2uL2OmC3x"
      },
      "source": [
        "model.compile(optimizer='Adam',\r\n",
        "              loss='sparse_categorical_crossentropy',\r\n",
        "              metrics=['accuracy'])"
      ],
      "execution_count": 11,
      "outputs": []
    },
    {
      "cell_type": "code",
      "metadata": {
        "colab": {
          "base_uri": "https://localhost:8080/"
        },
        "id": "L-mrHJE-oXSy",
        "outputId": "94e4387e-16d9-4081-affc-69365884b62c"
      },
      "source": [
        "model.fit(train_images,train_labels,epochs=3)"
      ],
      "execution_count": 12,
      "outputs": [
        {
          "output_type": "stream",
          "text": [
            "Epoch 1/3\n",
            "1875/1875 [==============================] - 4s 2ms/step - loss: 0.6356 - accuracy: 0.7782\n",
            "Epoch 2/3\n",
            "1875/1875 [==============================] - 4s 2ms/step - loss: 0.3962 - accuracy: 0.8586\n",
            "Epoch 3/3\n",
            "1875/1875 [==============================] - 4s 2ms/step - loss: 0.3402 - accuracy: 0.8758\n"
          ],
          "name": "stdout"
        },
        {
          "output_type": "execute_result",
          "data": {
            "text/plain": [
              "<tensorflow.python.keras.callbacks.History at 0x7f8cbaef4810>"
            ]
          },
          "metadata": {
            "tags": []
          },
          "execution_count": 12
        }
      ]
    },
    {
      "cell_type": "code",
      "metadata": {
        "colab": {
          "base_uri": "https://localhost:8080/"
        },
        "id": "w3Sg9KXxo4lN",
        "outputId": "f468e2f7-0434-4c5c-a076-7f8c39a2f90b"
      },
      "source": [
        "test_loss,test_acc=model.evaluate(test_images,test_labels,verbose=1)\r\n",
        "print(\"accuracy : \",test_acc)"
      ],
      "execution_count": 13,
      "outputs": [
        {
          "output_type": "stream",
          "text": [
            "313/313 [==============================] - 1s 1ms/step - loss: 0.3618 - accuracy: 0.8725\n",
            "accuracy :  0.8725000023841858\n"
          ],
          "name": "stdout"
        }
      ]
    },
    {
      "cell_type": "code",
      "metadata": {
        "id": "AYaPGfTlpRqT"
      },
      "source": [
        "predictions = model.predict(test_images)"
      ],
      "execution_count": 14,
      "outputs": []
    },
    {
      "cell_type": "code",
      "metadata": {
        "colab": {
          "base_uri": "https://localhost:8080/"
        },
        "id": "33Xy4qSxrFeK",
        "outputId": "f54538b6-8bda-4a36-cbc6-b5a6c29fd931"
      },
      "source": [
        "predictions[0] #probabilities of each class label"
      ],
      "execution_count": 15,
      "outputs": [
        {
          "output_type": "execute_result",
          "data": {
            "text/plain": [
              "array([2.9441796e-04, 4.7532894e-06, 2.3234804e-06, 1.1585669e-07,\n",
              "       1.7291554e-06, 1.9222811e-02, 1.1229774e-05, 5.1340491e-02,\n",
              "       2.5491466e-04, 9.2886722e-01], dtype=float32)"
            ]
          },
          "metadata": {
            "tags": []
          },
          "execution_count": 15
        }
      ]
    },
    {
      "cell_type": "code",
      "metadata": {
        "colab": {
          "base_uri": "https://localhost:8080/"
        },
        "id": "391-ffk5txfa",
        "outputId": "4b0ce869-2132-4559-86b3-babb110459ff"
      },
      "source": [
        "np.argmax(predictions[0]) #max probability is of class label at index 9"
      ],
      "execution_count": 16,
      "outputs": [
        {
          "output_type": "execute_result",
          "data": {
            "text/plain": [
              "9"
            ]
          },
          "metadata": {
            "tags": []
          },
          "execution_count": 16
        }
      ]
    },
    {
      "cell_type": "code",
      "metadata": {
        "colab": {
          "base_uri": "https://localhost:8080/",
          "height": 300
        },
        "id": "uVCcufnSrIDY",
        "outputId": "59088779-7fe6-42a1-ce9d-249f72046426"
      },
      "source": [
        "print(\"Predicted Label : \"+class_names[np.argmax(predictions[0])])#answer --> first image\r\n",
        "plt.figure()\r\n",
        "plt.imshow(test_images[0])\r\n",
        "plt.show()\r\n",
        "print(\"Actual label : \"+class_names[test_labels[0]])"
      ],
      "execution_count": 19,
      "outputs": [
        {
          "output_type": "stream",
          "text": [
            "Predicted Label : Ankle boot\n"
          ],
          "name": "stdout"
        },
        {
          "output_type": "display_data",
          "data": {
            "image/png": "[encoded data removed]",
            "text/plain": [
              "<Figure size 432x288 with 1 Axes>"
            ]
          },
          "metadata": {
            "tags": [],
            "needs_background": "light"
          }
        },
        {
          "output_type": "stream",
          "text": [
            "Actual label : Ankle boot\n"
          ],
          "name": "stdout"
        }
      ]
    },
    {
      "cell_type": "code",
      "metadata": {
        "colab": {
          "base_uri": "https://localhost:8080/"
        },
        "id": "__lSEaP-6U4f",
        "outputId": "11f0a73c-3cbc-43b9-d028-87f8f2ccc590"
      },
      "source": [
        "test_images.shape"
      ],
      "execution_count": 20,
      "outputs": [
        {
          "output_type": "execute_result",
          "data": {
            "text/plain": [
              "(10000, 28, 28)"
            ]
          },
          "metadata": {
            "tags": []
          },
          "execution_count": 20
        }
      ]
    },
    {
      "cell_type": "code",
      "metadata": {
        "colab": {
          "base_uri": "https://localhost:8080/",
          "height": 756
        },
        "id": "03uXfTMv6NEm",
        "outputId": "483d4505-5445-44a5-b9e5-b8c41612162c"
      },
      "source": [
        "ans =1\r\n",
        "while(ans!=0):\r\n",
        "   print(\"Enter a number in interval of [0,10000) : \")\r\n",
        "   n = int(input())\r\n",
        "   print(\"Predicted Label : \"+class_names[np.argmax(predictions[n])])#answer --> first image\r\n",
        "   plt.figure()\r\n",
        "   plt.imshow(test_images[n])\r\n",
        "   plt.show()\r\n",
        "   print(\"Actual label : \"+class_names[test_labels[n]])\r\n",
        "   if((class_names[np.argmax(predictions[n])])==(class_names[test_labels[n]])):\r\n",
        "       print(\"Accurate Prediction\")\r\n",
        "   else:\r\n",
        "       print(\"Inaccurate Prediction\")\r\n",
        "   print(\"Would you like to continue ? enter '0'  to exit\")\r\n",
        "   ans = int(input())"
      ],
      "execution_count": 21,
      "outputs": [
        {
          "output_type": "stream",
          "text": [
            "Enter a number in interval of [0,10000) : \n",
            "3\n",
            "Predicted Label : Trouser\n"
          ],
          "name": "stdout"
        },
        {
          "output_type": "display_data",
          "data": {
            "image/png": "[encoded data removed]",
            "text/plain": [
              "<Figure size 432x288 with 1 Axes>"
            ]
          },
          "metadata": {
            "tags": [],
            "needs_background": "light"
          }
        },
        {
          "output_type": "stream",
          "text": [
            "Actual label : Trouser\n",
            "Accurate Prediction\n",
            "Would you like to continue ? enter '0'  to exit\n",
            "1\n",
            "Enter a number in interval of [0,10000) : \n",
            "8\n",
            "Predicted Label : Sandal\n"
          ],
          "name": "stdout"
        },
        {
          "output_type": "display_data",
          "data": {
            "image/png": "[encoded data removed]",
            "text/plain": [
              "<Figure size 432x288 with 1 Axes>"
            ]
          },
          "metadata": {
            "tags": [],
            "needs_background": "light"
          }
        },
        {
          "output_type": "stream",
          "text": [
            "Actual label : Sandal\n",
            "Accurate Prediction\n",
            "Would you like to continue ? enter '0'  to exit\n",
            "0\n"
          ],
          "name": "stdout"
        }
      ]
    },
    {
      "cell_type": "code",
      "metadata": {
        "id": "BIjVToeUwLeZ"
      },
      "source": [
        ""
      ],
      "execution_count": null,
      "outputs": []
    }
  ]
}